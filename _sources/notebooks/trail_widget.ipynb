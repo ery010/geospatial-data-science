{
 "cells": [
  {
   "cell_type": "markdown",
   "metadata": {},
   "source": [
    "# Widget Trial"
   ]
  },
  {
   "cell_type": "code",
   "execution_count": 6,
   "metadata": {},
   "outputs": [
    {
     "data": {
      "text/plain": [
       "[<Item title:\"Copy of LA Parks and Trails Scene (unstyled) by Emilio Weber\" type:Web Scene owner:ejweber_wesleyan>,\n",
       " <Item title:\"Mizzy Lake Trails Scene\" type:Web Scene owner:zaslavsd_McMaster>,\n",
       " <Item title:\"Garibaldi Lake Trail\" type:Web Scene owner:j-Louis>,\n",
       " <Item title:\"Senderos La Sagra\" type:Web Scene owner:chartadigital>,\n",
       " <Item title:\"LA Trails and Trailheads\" type:Web Scene owner:esri_devlabs>,\n",
       " <Item title:\"Pirate Lanes and Ship Trails\" type:Web Scene owner:DUppal_IBI>,\n",
       " <Item title:\"Laurel_Falls_Scene_Closeup_map\" type:Web Scene owner:welkerpd>,\n",
       " <Item title:\"LA Parks and Trails Scene (styled)\" type:Web Scene owner:esri_devlabs>,\n",
       " <Item title:\"Copia de LA Parks and Trails Scene (unstyled) de esri_devlabs\" type:Web Scene owner:viviana.rojas>,\n",
       " <Item title:\"树木\" type:Web Scene owner:wuzhongyuan>]"
      ]
     },
     "execution_count": 6,
     "metadata": {},
     "output_type": "execute_result"
    }
   ],
   "source": [
    "from arcgis.gis import GIS\n",
    "\n",
    "#Create a map widget like you have done many times before\n",
    "gis = GIS()\n",
    "\n",
    "webscene_search = gis.content.search(query=\"LA Trails *\", item_type=\"Web Scene\")\n",
    "webscene_search"
   ]
  },
  {
   "cell_type": "code",
   "execution_count": 7,
   "metadata": {},
   "outputs": [
    {
     "data": {
      "text/html": [
       "<div class=\"item_container\" style=\"height: auto; overflow: hidden; border: 1px solid #cfcfcf; border-radius: 2px; background: #f6fafa; line-height: 1.21429em; padding: 10px;\">\n",
       "                    <div class=\"item_left\" style=\"width: 210px; float: left;\">\n",
       "                       <a href='https://www.arcgis.com/home/item.html?id=855778cea58c4a14957a35ff1028d68c' target='_blank'>\n",
       "                        <img src='https://www.arcgis.com/sharing/rest//content/items/855778cea58c4a14957a35ff1028d68c/info/thumbnail/thumbnail.jpeg' class=\"itemThumbnail\">\n",
       "                       </a>\n",
       "                    </div>\n",
       "\n",
       "                    <div class=\"item_right\"     style=\"float: none; width: auto; overflow: hidden;\">\n",
       "                        <a href='https://www.arcgis.com/home/item.html?id=855778cea58c4a14957a35ff1028d68c' target='_blank'><b>Garibaldi Lake Trail</b>\n",
       "                        </a>\n",
       "                        <br/><img src='https://www.arcgis.com/home/js/jsapi/esri/css/images/item_type_icons/websceneglobal16.png' style=\"vertical-align:middle;\">Web Scene by j-Louis\n",
       "                        <br/>Last Modified: December 10, 2018\n",
       "                        <br/>0 comments, 300 views\n",
       "                    </div>\n",
       "                </div>\n",
       "                "
      ],
      "text/plain": [
       "<Item title:\"Garibaldi Lake Trail\" type:Web Scene owner:j-Louis>"
      ]
     },
     "execution_count": 7,
     "metadata": {},
     "output_type": "execute_result"
    }
   ],
   "source": [
    "webscene_item = webscene_search[2]\n",
    "webscene_item"
   ]
  },
  {
   "cell_type": "code",
   "execution_count": 8,
   "metadata": {},
   "outputs": [
    {
     "data": {
      "application/vnd.jupyter.widget-view+json": {
       "model_id": "9fbf9c7877fa4754b73586e07d24f58e",
       "version_major": 2,
       "version_minor": 0
      },
      "text/plain": [
       "MapView(hide_mode_switch=True, layout=Layout(height='400px', width='100%'), mode='3D')"
      ]
     },
     "metadata": {},
     "output_type": "display_data"
    },
    {
     "data": {
      "text/html": [
       "<div class=\"map-static-img-preview-891663d5-acd8-480e-8076-5ceb53891303\"><img src=\"\"></img></div>"
      ],
      "text/plain": [
       "<IPython.core.display.HTML object>"
      ]
     },
     "metadata": {},
     "output_type": "display_data"
    }
   ],
   "source": [
    "from arcgis.mapping import WebScene\n",
    "la_trails = WebScene(webscene_item)\n",
    "la_trails"
   ]
  },
  {
   "cell_type": "code",
   "execution_count": null,
   "metadata": {},
   "outputs": [],
   "source": []
  },
  {
   "cell_type": "code",
   "execution_count": null,
   "metadata": {},
   "outputs": [],
   "source": []
  },
  {
   "cell_type": "code",
   "execution_count": null,
   "metadata": {},
   "outputs": [],
   "source": []
  }
 ],
 "metadata": {
  "kernelspec": {
   "display_name": "Python 3",
   "language": "python",
   "name": "python3"
  },
  "language_info": {
   "codemirror_mode": {
    "name": "ipython",
    "version": 3
   },
   "file_extension": ".py",
   "mimetype": "text/x-python",
   "name": "python",
   "nbconvert_exporter": "python",
   "pygments_lexer": "ipython3",
   "version": "3.7.3"
  },
  "widgets": {
   "application/vnd.jupyter.widget-state+json": {
    "state": {
     "01d50042f4954355b85f61bc0680eee7": {
      "model_module": "@jupyter-widgets/base",
      "model_module_version": "1.2.0",
      "model_name": "LayoutModel",
      "state": {
       "height": "400px",
       "width": "100%"
      }
     },
     "0a4ee91d543e4032bb4c5609dc543208": {
      "model_module": "@jupyter-widgets/base",
      "model_module_version": "1.2.0",
      "model_name": "LayoutModel",
      "state": {
       "height": "400px",
       "width": "100%"
      }
     },
     "17905d1b6f684a6c8ae6d092cef419de": {
      "model_module": "@jupyter-widgets/base",
      "model_module_version": "1.2.0",
      "model_name": "LayoutModel",
      "state": {
       "height": "400px",
       "width": "100%"
      }
     },
     "202cefdcf87e43089e36940d46d9e56a": {
      "model_module": "arcgis-map-ipywidget",
      "model_module_version": "1.8.2",
      "model_name": "ArcGISMapIPyWidgetModel",
      "state": {
       "_auth_mode": "anonymous",
       "_basemap": "base",
       "_draw_these_graphics_on_widget_load": [],
       "_draw_these_notype_layers_on_widget_load": [],
       "_extent": {
        "spatialReference": {
         "wkid": 4326
        },
        "xmax": -118.7681,
        "xmin": -118.8446,
        "ymax": 34.0709,
        "ymin": 33.9879
       },
       "_gallery_basemaps": {
        "base": {
         "baseMapLayers": [
          {
           "id": "World_Hillshade_8157",
           "itemId": "1b243539f4514b6ba35e7d995890db1d",
           "layerType": "ArcGISTiledMapServiceLayer",
           "opacity": 1,
           "showLegend": true,
           "title": "World Hillshade",
           "url": "https://services.arcgisonline.com/arcgis/rest/services/Elevation/World_Hillshade/MapServer",
           "visibility": true
          },
          {
           "id": "VectorTile_1579",
           "itemId": "86d5ed4b6dc741de9dad5f0fbe09ae95",
           "layerType": "VectorTileLayer",
           "opacity": 1,
           "styleUrl": "https://www.arcgis.com/sharing/rest/content/items/86d5ed4b6dc741de9dad5f0fbe09ae95/resources/styles/root.json",
           "title": "World Topographic Map",
           "type": "VectorTileLayer",
           "visibility": true
          }
         ],
         "title": "World Topographic Map"
        },
        "default": {
         "baseMapLayers": [
          {
           "layerType": "ArcGISTiledMapServiceLayer",
           "opacity": 1,
           "resourceInfo": {
            "capabilities": "Map,Tilemap,Query,Data",
            "copyrightText": "Sources: Esri, HERE, DeLorme, Intermap, increment P Corp., GEBCO, USGS, FAO, NPS, NRCAN, GeoBase, IGN, Kadaster NL, Ordnance Survey, Esri Japan, METI, Esri China (Hong Kong), swisstopo, MapmyIndia, © OpenStreetMap contributors, and the GIS User Community",
            "currentVersion": 10.3,
            "description": "This map is designed to be used as a basemap by GIS professionals and as a reference map by anyone. The map includes administrative boundaries, cities, water features, physiographic features, parks, landmarks, highways, roads, railways, and airports overlaid on land cover and shaded relief imagery for added context. The map provides coverage for the world down to a scale of ~1:72k. Coverage is provided down to ~1:4k for the following areas: Australia and New Zealand; India; Europe; Canada; Mexico; the continental United States and Hawaii; South America and Central America; Africa; and most of the Middle East. Coverage down to ~1:1k and ~1:2k is available in select urban areas. This basemap was compiled from a variety of best available sources from several data providers, including the U.S. Geological Survey (USGS), U.S. Environmental Protection Agency (EPA), U.S. National Park Service (NPS), Food and Agriculture Organization of the United Nations (FAO), Department of Natural Resources Canada (NRCAN), GeoBase, Agriculture and Agri-Food Canada, DeLorme, HERE, Esri, OpenStreetMap contributors, and the GIS User Community. For more information on this map, including our terms of use, visit us online at http://goto.arcgisonline.com/maps/World_Topo_Map",
            "documentInfo": {
             "AntialiasingMode": "None",
             "Author": "Esri",
             "Category": "imageryBaseMapsEarthCover (Imagery, basemaps, and land cover)",
             "Comments": "",
             "Keywords": "World,Global,Europe,North America,South America,Southern Africa,Australia,New Zealand,India",
             "Subject": "topographic, topography, administrative boundaries, cities, water features, physiographic features, parks, landmarks, highways, roads, railways, airports, land cover, shaded relief imagery",
             "TextAntialiasingMode": "Force",
             "Title": "World Topographic Map"
            },
            "exportTilesAllowed": false,
            "fullExtent": {
             "spatialReference": {
              "latestWkid": 3857,
              "wkid": 102100
             },
             "xmax": 20037507.067161843,
             "xmin": -20037507.067161843,
             "ymax": 19971868.88040863,
             "ymin": -19971868.880408604
            },
            "initialExtent": {
             "spatialReference": {
              "latestWkid": 3857,
              "wkid": 102100
             },
             "xmax": 28848255.049479112,
             "xmin": -28848255.049479112,
             "ymax": 16430757.376790084,
             "ymin": -2077452.082122866
            },
            "layers": [
             {
              "defaultVisibility": false,
              "id": 0,
              "maxScale": 0,
              "minScale": 0,
              "name": "Citations",
              "parentLayerId": -1,
              "subLayerIds": null
             }
            ],
            "mapName": "Layers",
            "maxImageHeight": 4096,
            "maxImageWidth": 4096,
            "maxRecordCount": 100,
            "maxScale": 70.5310735,
            "minScale": 591657527.591555,
            "serviceDescription": "This map is designed to be used as a basemap by GIS professionals and as a reference map by anyone. The map includes administrative boundaries, cities, water features, physiographic features, parks, landmarks, highways, roads, railways, and airports overlaid on land cover and shaded relief imagery for added context. The map provides coverage for the world down to a scale of ~1:72k. Coverage is provided down to ~1:4k for the following areas: Australia and New Zealand; India; Europe; Canada; Mexico; the continental United States and Hawaii; South America and Central America; Africa; and most of the Middle East. Coverage down to ~1:1k and ~1:2k is available in select urban areas. This basemap was compiled from a variety of best available sources from several data providers, including the U.S. Geological Survey (USGS), U.S. Environmental Protection Agency (EPA), U.S. National Park Service (NPS), Food and Agriculture Organization of the United Nations (FAO), Department of Natural Resources Canada (NRCAN), GeoBase, Agriculture and Agri-Food Canada, DeLorme, HERE, Esri, OpenStreetMap contributors, and the GIS User Community. For more information on this map, including the terms of use, visit us <a href=\"http://goto.arcgisonline.com/maps/World_Topo_Map \" target=\"_new\" >online</a>.",
            "singleFusedMapCache": true,
            "spatialReference": {
             "latestWkid": 3857,
             "wkid": 102100
            },
            "supportedExtensions": "KmlServer",
            "supportedImageFormatTypes": "PNG32,PNG24,PNG,JPG,DIB,TIFF,EMF,PS,PDF,GIF,SVG,SVGZ,BMP",
            "supportedQueryFormats": "JSON, AMF",
            "supportsDynamicLayers": false,
            "tables": [],
            "tileInfo": {
             "cols": 256,
             "compressionQuality": 90,
             "dpi": 96,
             "format": "JPEG",
             "lods": [
              {
               "level": 0,
               "resolution": 156543.03392800014,
               "scale": 591657527.591555
              },
              {
               "level": 1,
               "resolution": 78271.51696399994,
               "scale": 295828763.795777
              },
              {
               "level": 2,
               "resolution": 39135.75848200009,
               "scale": 147914381.897889
              },
              {
               "level": 3,
               "resolution": 19567.87924099992,
               "scale": 73957190.948944
              },
              {
               "level": 4,
               "resolution": 9783.93962049996,
               "scale": 36978595.474472
              },
              {
               "level": 5,
               "resolution": 4891.96981024998,
               "scale": 18489297.737236
              },
              {
               "level": 6,
               "resolution": 2445.98490512499,
               "scale": 9244648.868618
              },
              {
               "level": 7,
               "resolution": 1222.992452562495,
               "scale": 4622324.434309
              },
              {
               "level": 8,
               "resolution": 611.4962262813797,
               "scale": 2311162.217155
              },
              {
               "level": 9,
               "resolution": 305.74811314055756,
               "scale": 1155581.108577
              },
              {
               "level": 10,
               "resolution": 152.87405657041106,
               "scale": 577790.554289
              },
              {
               "level": 11,
               "resolution": 76.43702828507324,
               "scale": 288895.277144
              },
              {
               "level": 12,
               "resolution": 38.21851414253662,
               "scale": 144447.638572
              },
              {
               "level": 13,
               "resolution": 19.10925707126831,
               "scale": 72223.819286
              },
              {
               "level": 14,
               "resolution": 9.554628535634155,
               "scale": 36111.909643
              },
              {
               "level": 15,
               "resolution": 4.77731426794937,
               "scale": 18055.954822
              },
              {
               "level": 16,
               "resolution": 2.388657133974685,
               "scale": 9027.977411
              },
              {
               "level": 17,
               "resolution": 1.1943285668550503,
               "scale": 4513.988705
              },
              {
               "level": 18,
               "resolution": 0.5971642835598172,
               "scale": 2256.994353
              },
              {
               "level": 19,
               "resolution": 0.29858214164761665,
               "scale": 1128.497176
              },
              {
               "level": 20,
               "resolution": 0.14929107082380833,
               "scale": 564.248588
              },
              {
               "level": 21,
               "resolution": 0.07464553541190416,
               "scale": 282.124294
              },
              {
               "level": 22,
               "resolution": 0.03732276770595208,
               "scale": 141.062147
              },
              {
               "level": 23,
               "resolution": 0.01866138385297604,
               "scale": 70.5310735
              }
             ],
             "origin": {
              "x": -20037508.342787,
              "y": 20037508.342787
             },
             "rows": 256,
             "spatialReference": {
              "latestWkid": 3857,
              "wkid": 102100
             }
            },
            "units": "esriMeters"
           },
           "url": "https://services.arcgisonline.com/ArcGIS/rest/services/World_Topo_Map/MapServer",
           "visibility": true
          },
          {
           "id": "Streetmap_MMI_8695",
           "layerType": "ArcGISTiledMapServiceLayer",
           "maxScale": 1128,
           "minScale": 288895,
           "opacity": 1,
           "resourceInfo": {
            "access": "SECURE",
            "capabilities": "Map,TilesOnly",
            "copyrightText": "Sources: Esri, MapmyIndia, DeLorme, METI/NASA",
            "currentVersion": 10.31,
            "description": "<span style='color: rgb(0, 0, 0); font-family: Verdana, sans-serif; line-height: 17.33333396911621px; background-color: rgb(255, 255, 255);'>This India topographic map overlay presents physical features and street-level data for India. This comprehensive topographic map includes highways, major roads, minor roads, one-way arrow indicators, railways, water features, administrative boundaries, cities, parks, landmarks, physical feature labels, spot elevations, and contours overlaid on shaded relief imagery for added context. The map also includes building footprints for selected areas. Coverage is provided down to ~1:4k country-wide with ~1:1k and ~1:2k data available in select urban areas. The street map was developed by Esri using MapmyIndia data layers, including administrative boundaries, from CE Info Systems. Additional data sources from DeLorme basemap layers, and METI/NASA data for shaded relief.</span>",
            "documentInfo": {
             "AntialiasingMode": "Fast",
             "Author": "",
             "Category": "",
             "Comments": "",
             "Keywords": "",
             "Subject": "",
             "TextAntialiasingMode": "Force",
             "Title": "",
             "author": "Esri_Content",
             "category": "",
             "comments": "",
             "credits": "Sources: Esri, MapmyIndia, DeLorme, METI/NASA",
             "keywords": "India, Topomap, highways, roads, transportation, landmarks, parks, basemap, community, community basemap, map, MapmyIndia",
             "subject": "This topographic map overlay presents physical features and street-level data from MapmyIndia for India.",
             "title": "World_Topomap_MMI"
            },
            "exportTilesAllowed": false,
            "fullExtent": {
             "spatialReference": {
              "wkid": 102100,
              "wkt": null
             },
             "xmax": 12523442.714243297,
             "xmin": 7514065.628545973,
             "ymax": 5009377.085753329,
             "ymin": 7.450580596923828e-09
            },
            "id": "94ef359ef51f7205",
            "initialExtent": {
             "spatialReference": {
              "wkid": 102100,
              "wkt": null
             },
             "xmax": 12523442.714243297,
             "xmin": 7514065.628545973,
             "ymax": 5009377.085753329,
             "ymin": 7.450580596923828e-09
            },
            "layers": [
             {
              "defaultVisibility": false,
              "id": 0,
              "maxScale": 0,
              "minScale": 0,
              "name": "world",
              "parentLayerId": -1,
              "subLayerIds": null
             }
            ],
            "mapName": "Layers",
            "maxExportTilesCount": 100000,
            "maxScale": 1128.497176,
            "minScale": 288895.277144,
            "name": "World_Topomap_MMI",
            "resampling": false,
            "server": "P3ePLMYs2RVChkJx",
            "serviceDescription": "",
            "singleFusedMapCache": true,
            "spatialReference": {
             "wkid": 102100,
             "wkt": null
            },
            "status": "created",
            "supportedImageFormatTypes": "JPEG",
            "tables": [],
            "tileInfo": {
             "cols": 256,
             "compressionQuality": 90,
             "dpi": 96,
             "format": "JPEG",
             "lods": [
              {
               "level": 0,
               "resolution": 156543.03392800014,
               "scale": 591657527.591555
              },
              {
               "level": 1,
               "resolution": 78271.51696399994,
               "scale": 295828763.795777
              },
              {
               "level": 2,
               "resolution": 39135.75848200009,
               "scale": 147914381.897889
              },
              {
               "level": 3,
               "resolution": 19567.87924099992,
               "scale": 73957190.948944
              },
              {
               "level": 4,
               "resolution": 9783.93962049996,
               "scale": 36978595.474472
              },
              {
               "level": 5,
               "resolution": 4891.96981024998,
               "scale": 18489297.737236
              },
              {
               "level": 6,
               "resolution": 2445.98490512499,
               "scale": 9244648.868618
              },
              {
               "level": 7,
               "resolution": 1222.992452562495,
               "scale": 4622324.434309
              },
              {
               "level": 8,
               "resolution": 611.4962262813797,
               "scale": 2311162.217155
              },
              {
               "level": 9,
               "resolution": 305.74811314055756,
               "scale": 1155581.108577
              },
              {
               "level": 10,
               "resolution": 152.87405657041106,
               "scale": 577790.554289
              },
              {
               "level": 11,
               "resolution": 76.43702828507324,
               "scale": 288895.277144
              },
              {
               "level": 12,
               "resolution": 38.21851414253662,
               "scale": 144447.638572
              },
              {
               "level": 13,
               "resolution": 19.10925707126831,
               "scale": 72223.819286
              },
              {
               "level": 14,
               "resolution": 9.554628535634155,
               "scale": 36111.909643
              },
              {
               "level": 15,
               "resolution": 4.77731426794937,
               "scale": 18055.954822
              },
              {
               "level": 16,
               "resolution": 2.388657133974685,
               "scale": 9027.977411
              },
              {
               "level": 17,
               "resolution": 1.1943285668550503,
               "scale": 4513.988705
              },
              {
               "level": 18,
               "resolution": 0.5971642835598172,
               "scale": 2256.994353
              },
              {
               "level": 19,
               "resolution": 0.29858214164761665,
               "scale": 1128.497176
              }
             ],
             "origin": {
              "x": -20037508.342787,
              "y": 20037508.342787
             },
             "rows": 256,
             "spatialReference": {
              "wkid": 102100,
              "wkt": "PROJCS[\"WGS_1984_Web_Mercator_Auxiliary_Sphere\",GEOGCS[\"GCS_WGS_1984\",DATUM[\"D_WGS_1984\",SPHEROID[\"WGS_1984\",6378137.0,298.257223563]],PRIMEM[\"Greenwich\",0.0],UNIT[\"Degree\",0.0174532925199433]],PROJECTION[\"Mercator_Auxiliary_Sphere\"],PARAMETER[\"False_Easting\",0.0],PARAMETER[\"False_Northing\",0.0],PARAMETER[\"Central_Meridian\",0.0],PARAMETER[\"Standard_Parallel_1\",0.0],PARAMETER[\"Auxiliary_Sphere_Type\",0.0],UNIT[\"Meter\",1.0],AUTHORITY[\"EPSG\",3857]]"
             },
             "storageFormat": "esriMapCacheStorageModeCompact"
            },
            "tileServers": [
             "http://tiles1.arcgis.com/tiles/P3ePLMYs2RVChkJx/arcgis/rest/services/World_Topomap_MMI/MapServer",
             "http://tiles2.arcgis.com/tiles/P3ePLMYs2RVChkJx/arcgis/rest/services/World_Topomap_MMI/MapServer",
             "http://tiles3.arcgis.com/tiles/P3ePLMYs2RVChkJx/arcgis/rest/services/World_Topomap_MMI/MapServer",
             "http://tiles4.arcgis.com/tiles/P3ePLMYs2RVChkJx/arcgis/rest/services/World_Topomap_MMI/MapServer"
            ],
            "type": "MapServer",
            "units": "esriMeters"
           },
           "url": "https://tiles.arcgis.com/tiles/P3ePLMYs2RVChkJx/arcgis/rest/services/World_Topomap_MMI/MapServer",
           "visibility": true
          },
          {
           "id": "India_Bnd_G_5793",
           "isReference": true,
           "layerType": "ArcGISTiledMapServiceLayer",
           "opacity": 1,
           "resourceInfo": {
            "access": "SECURE",
            "capabilities": "Map",
            "copyrightText": "Mxd assembled by Corey LaMar",
            "created": null,
            "currentVersion": 10.1,
            "description": "This mxd contains the political boundaries used in StreetMap 5.1 as  political boundaries overlay  Currency: 73m to 577k (StreetMap 4.1 (5.0) 288k to 72k (StreetMap 5.1) Delorme 36k to 1k (StreetMap 5.1 ) Navteq",
            "documentInfo": {
             "AntialiasingMode": "Best",
             "Author": "AGOL Teams Members",
             "Category": "",
             "Comments": "This mxd contains the political boundaries used in StreetMap 5.1 as a starting point for Esri India to create their own political boundaries overlay\n\nCurrency:\n73m to 577k (StreetMap 4.1 (5.0)\n288k to 72k (StreetMap 5.1) Delorme\n36k to 1k (StreetMap 5.1 ) Navteq",
             "Keywords": "Inda Disputed International Boundaries",
             "Subject": "Create 2/2/13 Copies of StMap Int Bnd 73m to1k caching levels",
             "TextAntialiasingMode": "Force",
             "Title": "Int_Bnd_for_Esri_India_Work",
             "author": "cimmy68",
             "category": "",
             "comments": "",
             "credits": "Mxd assembled by Corey LaMar",
             "keywords": "Inda International Boundaries",
             "subject": "Create 2/2/13 Copies of StMap Int Bnd 73m to1k caching levels",
             "title": "India_Bnd_G"
            },
            "fullExtent": {
             "spatialReference": {
              "wkid": 102100
             },
             "xmax": 10843895.843899999,
             "xmin": 7508245.0923000015,
             "ymax": 4451373.3320999965,
             "ymin": 753623.2256000005
            },
            "id": "bc7c3277ec65f602",
            "initialExtent": {
             "spatialReference": {
              "wkid": 102100
             },
             "xmax": 13053038.616388625,
             "xmin": 5299102.319811376,
             "ymax": 4636260.837424996,
             "ymin": 2675256.394233431
            },
            "layers": [
             {
              "defaultVisibility": true,
              "id": 0,
              "maxScale": 0,
              "minScale": 0,
              "name": "India",
              "parentLayerId": -1,
              "subLayerIds": null
             }
            ],
            "mapName": "India Basemap",
            "maxScale": 577790.554289,
            "minScale": 73957190.948944,
            "modified": null,
            "name": "India_Bnd_G",
            "server": "gHHix49exJauUOEM",
            "serviceDescription": "",
            "singleFusedMapCache": true,
            "spatialReference": {
             "wkid": 102100
            },
            "status": "created",
            "supportedImageFormatTypes": "PNG",
            "tables": [],
            "tileInfo": {
             "cols": 256,
             "compressionQuality": 0,
             "dpi": 96,
             "format": "PNG",
             "lods": [
              {
               "level": 0,
               "resolution": 156543.03392800014,
               "scale": 591657527.591555
              },
              {
               "level": 1,
               "resolution": 78271.51696399994,
               "scale": 295828763.795777
              },
              {
               "level": 2,
               "resolution": 39135.75848200009,
               "scale": 147914381.897889
              },
              {
               "level": 3,
               "resolution": 19567.87924099992,
               "scale": 73957190.948944
              },
              {
               "level": 4,
               "resolution": 9783.93962049996,
               "scale": 36978595.474472
              },
              {
               "level": 5,
               "resolution": 4891.96981024998,
               "scale": 18489297.737236
              },
              {
               "level": 6,
               "resolution": 2445.98490512499,
               "scale": 9244648.868618
              },
              {
               "level": 7,
               "resolution": 1222.992452562495,
               "scale": 4622324.434309
              },
              {
               "level": 8,
               "resolution": 611.4962262813797,
               "scale": 2311162.217155
              },
              {
               "level": 9,
               "resolution": 305.74811314055756,
               "scale": 1155581.108577
              },
              {
               "level": 10,
               "resolution": 152.87405657041106,
               "scale": 577790.554289
              },
              {
               "level": 11,
               "resolution": 76.43702828507324,
               "scale": 288895.277144
              },
              {
               "level": 12,
               "resolution": 38.21851414253662,
               "scale": 144447.638572
              },
              {
               "level": 13,
               "resolution": 19.10925707126831,
               "scale": 72223.819286
              },
              {
               "level": 14,
               "resolution": 9.554628535634155,
               "scale": 36111.909643
              },
              {
               "level": 15,
               "resolution": 4.77731426794937,
               "scale": 18055.954822
              },
              {
               "level": 16,
               "resolution": 2.388657133974685,
               "scale": 9027.977411
              },
              {
               "level": 17,
               "resolution": 1.1943285668550503,
               "scale": 4513.988705
              },
              {
               "level": 18,
               "resolution": 0.5971642835598172,
               "scale": 2256.994353
              },
              {
               "level": 19,
               "resolution": 0.29858214164761665,
               "scale": 1128.497176
              }
             ],
             "origin": {
              "x": -20037508.342787,
              "y": 20037508.342787
             },
             "rows": 256,
             "spatialReference": {
              "wkid": 102100,
              "wkt": "PROJCS[\"WGS_1984_Web_Mercator_Auxiliary_Sphere\",GEOGCS[\"GCS_WGS_1984\",DATUM[\"D_WGS_1984\",SPHEROID[\"WGS_1984\",6378137.0,298.257223563]],PRIMEM[\"Greenwich\",0.0],UNIT[\"Degree\",0.0174532925199433]],PROJECTION[\"Mercator_Auxiliary_Sphere\"],PARAMETER[\"False_Easting\",0.0],PARAMETER[\"False_Northing\",0.0],PARAMETER[\"Central_Meridian\",0.0],PARAMETER[\"Standard_Parallel_1\",0.0],PARAMETER[\"Auxiliary_Sphere_Type\",0.0],UNIT[\"Meter\",1.0],AUTHORITY[\"EPSG\",3857]]"
             }
            },
            "tileServers": [
             "https://tiles1.arcgis.com/tiles/gHHix49exJauUOEM/arcgis/rest/services/India_Bnd_G/MapServer",
             "https://tiles2.arcgis.com/tiles/gHHix49exJauUOEM/arcgis/rest/services/India_Bnd_G/MapServer",
             "https://tiles3.arcgis.com/tiles/gHHix49exJauUOEM/arcgis/rest/services/India_Bnd_G/MapServer",
             "https://tiles4.arcgis.com/tiles/gHHix49exJauUOEM/arcgis/rest/services/India_Bnd_G/MapServer"
            ],
            "type": "MapServer",
            "units": "esriMeters"
           },
           "url": "https://tiles.arcgis.com/tiles/gHHix49exJauUOEM/arcgis/rest/services/India_Bnd_G/MapServer",
           "visibility": true
          }
         ],
         "title": "Topographic"
        }
       },
       "_overlay_these_images_on_widget_load": [],
       "_portal_sharing_rest_url": "https://www.arcgis.com/sharing/rest/",
       "_portal_url": "https://www.arcgis.com",
       "_readonly_webmap_from_js": {
        "basemap": {
         "baseMapLayers": [
          {
           "id": "World_Hillshade_8157",
           "itemId": "1b243539f4514b6ba35e7d995890db1d",
           "layerType": "ArcGISTiledMapServiceLayer",
           "opacity": 1,
           "showLegend": true,
           "title": "World Hillshade",
           "url": "https://services.arcgisonline.com/arcgis/rest/services/Elevation/World_Hillshade/MapServer",
           "visibility": true
          },
          {
           "id": "VectorTile_1579",
           "itemId": "86d5ed4b6dc741de9dad5f0fbe09ae95",
           "layerType": "VectorTileLayer",
           "opacity": 1,
           "styleUrl": "https://www.arcgis.com/sharing/rest/content/items/86d5ed4b6dc741de9dad5f0fbe09ae95/resources/styles/root.json",
           "title": "World Topographic Map",
           "type": "VectorTileLayer",
           "visibility": true
          }
         ],
         "title": "World Topographic Map"
        },
        "ground": {
         "layers": [
          {
           "id": "worldElevation",
           "layerType": "ArcGISTiledElevationServiceLayer",
           "listMode": "show",
           "title": "Terrain3D",
           "url": "https://elevation3d.arcgis.com/arcgis/rest/services/WorldElevation3D/Terrain3D/ImageServer",
           "visibility": true
          }
         ],
         "transparency": 0
        },
        "layers": []
       },
       "_username": "None",
       "_uuid": "70b7e69a-84e3-4865-930e-f3e532765e02",
       "_webmap": {
        "portalItem": {
         "id": "41281c51f9de45edaf1c8ed44bb10e30"
        }
       },
       "hide_mode_switch": true,
       "jupyter_target": "notebook",
       "layout": "IPY_MODEL_f0ac318b15f1473ca8b847f81e715f56",
       "print_service_url": "",
       "tilt": 0
      }
     },
     "2213e3ae50b24228bc53edaf754b5d44": {
      "model_module": "@jupyter-widgets/base",
      "model_module_version": "1.2.0",
      "model_name": "LayoutModel",
      "state": {
       "height": "400px",
       "width": "100%"
      }
     },
     "231c290abcd24114acc4ed7a174b7e26": {
      "model_module": "@jupyter-widgets/base",
      "model_module_version": "1.2.0",
      "model_name": "LayoutModel",
      "state": {
       "height": "400px",
       "width": "100%"
      }
     },
     "2c5c6ebfe6c449b1b93b220fc765cdb9": {
      "model_module": "@jupyter-widgets/base",
      "model_module_version": "1.2.0",
      "model_name": "LayoutModel",
      "state": {
       "height": "400px",
       "width": "100%"
      }
     },
     "30dffbc91eb34ba09722fb0dae8d5c18": {
      "model_module": "arcgis-map-ipywidget",
      "model_module_version": "1.8.2",
      "model_name": "ArcGISMapIPyWidgetModel",
      "state": {
       "_auth_mode": "anonymous",
       "_basemap": "default",
       "_draw_these_graphics_on_widget_load": [],
       "_draw_these_notype_layers_on_widget_load": [],
       "_gallery_basemaps": {
        "default": {
         "baseMapLayers": [
          {
           "layerType": "ArcGISTiledMapServiceLayer",
           "opacity": 1,
           "resourceInfo": {
            "capabilities": "Map,Tilemap,Query,Data",
            "copyrightText": "Sources: Esri, HERE, DeLorme, Intermap, increment P Corp., GEBCO, USGS, FAO, NPS, NRCAN, GeoBase, IGN, Kadaster NL, Ordnance Survey, Esri Japan, METI, Esri China (Hong Kong), swisstopo, MapmyIndia, © OpenStreetMap contributors, and the GIS User Community",
            "currentVersion": 10.3,
            "description": "This map is designed to be used as a basemap by GIS professionals and as a reference map by anyone. The map includes administrative boundaries, cities, water features, physiographic features, parks, landmarks, highways, roads, railways, and airports overlaid on land cover and shaded relief imagery for added context. The map provides coverage for the world down to a scale of ~1:72k. Coverage is provided down to ~1:4k for the following areas: Australia and New Zealand; India; Europe; Canada; Mexico; the continental United States and Hawaii; South America and Central America; Africa; and most of the Middle East. Coverage down to ~1:1k and ~1:2k is available in select urban areas. This basemap was compiled from a variety of best available sources from several data providers, including the U.S. Geological Survey (USGS), U.S. Environmental Protection Agency (EPA), U.S. National Park Service (NPS), Food and Agriculture Organization of the United Nations (FAO), Department of Natural Resources Canada (NRCAN), GeoBase, Agriculture and Agri-Food Canada, DeLorme, HERE, Esri, OpenStreetMap contributors, and the GIS User Community. For more information on this map, including our terms of use, visit us online at http://goto.arcgisonline.com/maps/World_Topo_Map",
            "documentInfo": {
             "AntialiasingMode": "None",
             "Author": "Esri",
             "Category": "imageryBaseMapsEarthCover (Imagery, basemaps, and land cover)",
             "Comments": "",
             "Keywords": "World,Global,Europe,North America,South America,Southern Africa,Australia,New Zealand,India",
             "Subject": "topographic, topography, administrative boundaries, cities, water features, physiographic features, parks, landmarks, highways, roads, railways, airports, land cover, shaded relief imagery",
             "TextAntialiasingMode": "Force",
             "Title": "World Topographic Map"
            },
            "exportTilesAllowed": false,
            "fullExtent": {
             "spatialReference": {
              "latestWkid": 3857,
              "wkid": 102100
             },
             "xmax": 20037507.067161843,
             "xmin": -20037507.067161843,
             "ymax": 19971868.88040863,
             "ymin": -19971868.880408604
            },
            "initialExtent": {
             "spatialReference": {
              "latestWkid": 3857,
              "wkid": 102100
             },
             "xmax": 28848255.049479112,
             "xmin": -28848255.049479112,
             "ymax": 16430757.376790084,
             "ymin": -2077452.082122866
            },
            "layers": [
             {
              "defaultVisibility": false,
              "id": 0,
              "maxScale": 0,
              "minScale": 0,
              "name": "Citations",
              "parentLayerId": -1,
              "subLayerIds": null
             }
            ],
            "mapName": "Layers",
            "maxImageHeight": 4096,
            "maxImageWidth": 4096,
            "maxRecordCount": 100,
            "maxScale": 70.5310735,
            "minScale": 591657527.591555,
            "serviceDescription": "This map is designed to be used as a basemap by GIS professionals and as a reference map by anyone. The map includes administrative boundaries, cities, water features, physiographic features, parks, landmarks, highways, roads, railways, and airports overlaid on land cover and shaded relief imagery for added context. The map provides coverage for the world down to a scale of ~1:72k. Coverage is provided down to ~1:4k for the following areas: Australia and New Zealand; India; Europe; Canada; Mexico; the continental United States and Hawaii; South America and Central America; Africa; and most of the Middle East. Coverage down to ~1:1k and ~1:2k is available in select urban areas. This basemap was compiled from a variety of best available sources from several data providers, including the U.S. Geological Survey (USGS), U.S. Environmental Protection Agency (EPA), U.S. National Park Service (NPS), Food and Agriculture Organization of the United Nations (FAO), Department of Natural Resources Canada (NRCAN), GeoBase, Agriculture and Agri-Food Canada, DeLorme, HERE, Esri, OpenStreetMap contributors, and the GIS User Community. For more information on this map, including the terms of use, visit us <a href=\"http://goto.arcgisonline.com/maps/World_Topo_Map \" target=\"_new\" >online</a>.",
            "singleFusedMapCache": true,
            "spatialReference": {
             "latestWkid": 3857,
             "wkid": 102100
            },
            "supportedExtensions": "KmlServer",
            "supportedImageFormatTypes": "PNG32,PNG24,PNG,JPG,DIB,TIFF,EMF,PS,PDF,GIF,SVG,SVGZ,BMP",
            "supportedQueryFormats": "JSON, AMF",
            "supportsDynamicLayers": false,
            "tables": [],
            "tileInfo": {
             "cols": 256,
             "compressionQuality": 90,
             "dpi": 96,
             "format": "JPEG",
             "lods": [
              {
               "level": 0,
               "resolution": 156543.03392800014,
               "scale": 591657527.591555
              },
              {
               "level": 1,
               "resolution": 78271.51696399994,
               "scale": 295828763.795777
              },
              {
               "level": 2,
               "resolution": 39135.75848200009,
               "scale": 147914381.897889
              },
              {
               "level": 3,
               "resolution": 19567.87924099992,
               "scale": 73957190.948944
              },
              {
               "level": 4,
               "resolution": 9783.93962049996,
               "scale": 36978595.474472
              },
              {
               "level": 5,
               "resolution": 4891.96981024998,
               "scale": 18489297.737236
              },
              {
               "level": 6,
               "resolution": 2445.98490512499,
               "scale": 9244648.868618
              },
              {
               "level": 7,
               "resolution": 1222.992452562495,
               "scale": 4622324.434309
              },
              {
               "level": 8,
               "resolution": 611.4962262813797,
               "scale": 2311162.217155
              },
              {
               "level": 9,
               "resolution": 305.74811314055756,
               "scale": 1155581.108577
              },
              {
               "level": 10,
               "resolution": 152.87405657041106,
               "scale": 577790.554289
              },
              {
               "level": 11,
               "resolution": 76.43702828507324,
               "scale": 288895.277144
              },
              {
               "level": 12,
               "resolution": 38.21851414253662,
               "scale": 144447.638572
              },
              {
               "level": 13,
               "resolution": 19.10925707126831,
               "scale": 72223.819286
              },
              {
               "level": 14,
               "resolution": 9.554628535634155,
               "scale": 36111.909643
              },
              {
               "level": 15,
               "resolution": 4.77731426794937,
               "scale": 18055.954822
              },
              {
               "level": 16,
               "resolution": 2.388657133974685,
               "scale": 9027.977411
              },
              {
               "level": 17,
               "resolution": 1.1943285668550503,
               "scale": 4513.988705
              },
              {
               "level": 18,
               "resolution": 0.5971642835598172,
               "scale": 2256.994353
              },
              {
               "level": 19,
               "resolution": 0.29858214164761665,
               "scale": 1128.497176
              },
              {
               "level": 20,
               "resolution": 0.14929107082380833,
               "scale": 564.248588
              },
              {
               "level": 21,
               "resolution": 0.07464553541190416,
               "scale": 282.124294
              },
              {
               "level": 22,
               "resolution": 0.03732276770595208,
               "scale": 141.062147
              },
              {
               "level": 23,
               "resolution": 0.01866138385297604,
               "scale": 70.5310735
              }
             ],
             "origin": {
              "x": -20037508.342787,
              "y": 20037508.342787
             },
             "rows": 256,
             "spatialReference": {
              "latestWkid": 3857,
              "wkid": 102100
             }
            },
            "units": "esriMeters"
           },
           "url": "https://services.arcgisonline.com/ArcGIS/rest/services/World_Topo_Map/MapServer",
           "visibility": true
          },
          {
           "id": "Streetmap_MMI_8695",
           "layerType": "ArcGISTiledMapServiceLayer",
           "maxScale": 1128,
           "minScale": 288895,
           "opacity": 1,
           "resourceInfo": {
            "access": "SECURE",
            "capabilities": "Map,TilesOnly",
            "copyrightText": "Sources: Esri, MapmyIndia, DeLorme, METI/NASA",
            "currentVersion": 10.31,
            "description": "<span style='color: rgb(0, 0, 0); font-family: Verdana, sans-serif; line-height: 17.33333396911621px; background-color: rgb(255, 255, 255);'>This India topographic map overlay presents physical features and street-level data for India. This comprehensive topographic map includes highways, major roads, minor roads, one-way arrow indicators, railways, water features, administrative boundaries, cities, parks, landmarks, physical feature labels, spot elevations, and contours overlaid on shaded relief imagery for added context. The map also includes building footprints for selected areas. Coverage is provided down to ~1:4k country-wide with ~1:1k and ~1:2k data available in select urban areas. The street map was developed by Esri using MapmyIndia data layers, including administrative boundaries, from CE Info Systems. Additional data sources from DeLorme basemap layers, and METI/NASA data for shaded relief.</span>",
            "documentInfo": {
             "AntialiasingMode": "Fast",
             "Author": "",
             "Category": "",
             "Comments": "",
             "Keywords": "",
             "Subject": "",
             "TextAntialiasingMode": "Force",
             "Title": "",
             "author": "Esri_Content",
             "category": "",
             "comments": "",
             "credits": "Sources: Esri, MapmyIndia, DeLorme, METI/NASA",
             "keywords": "India, Topomap, highways, roads, transportation, landmarks, parks, basemap, community, community basemap, map, MapmyIndia",
             "subject": "This topographic map overlay presents physical features and street-level data from MapmyIndia for India.",
             "title": "World_Topomap_MMI"
            },
            "exportTilesAllowed": false,
            "fullExtent": {
             "spatialReference": {
              "wkid": 102100,
              "wkt": null
             },
             "xmax": 12523442.714243297,
             "xmin": 7514065.628545973,
             "ymax": 5009377.085753329,
             "ymin": 7.450580596923828e-09
            },
            "id": "94ef359ef51f7205",
            "initialExtent": {
             "spatialReference": {
              "wkid": 102100,
              "wkt": null
             },
             "xmax": 12523442.714243297,
             "xmin": 7514065.628545973,
             "ymax": 5009377.085753329,
             "ymin": 7.450580596923828e-09
            },
            "layers": [
             {
              "defaultVisibility": false,
              "id": 0,
              "maxScale": 0,
              "minScale": 0,
              "name": "world",
              "parentLayerId": -1,
              "subLayerIds": null
             }
            ],
            "mapName": "Layers",
            "maxExportTilesCount": 100000,
            "maxScale": 1128.497176,
            "minScale": 288895.277144,
            "name": "World_Topomap_MMI",
            "resampling": false,
            "server": "P3ePLMYs2RVChkJx",
            "serviceDescription": "",
            "singleFusedMapCache": true,
            "spatialReference": {
             "wkid": 102100,
             "wkt": null
            },
            "status": "created",
            "supportedImageFormatTypes": "JPEG",
            "tables": [],
            "tileInfo": {
             "cols": 256,
             "compressionQuality": 90,
             "dpi": 96,
             "format": "JPEG",
             "lods": [
              {
               "level": 0,
               "resolution": 156543.03392800014,
               "scale": 591657527.591555
              },
              {
               "level": 1,
               "resolution": 78271.51696399994,
               "scale": 295828763.795777
              },
              {
               "level": 2,
               "resolution": 39135.75848200009,
               "scale": 147914381.897889
              },
              {
               "level": 3,
               "resolution": 19567.87924099992,
               "scale": 73957190.948944
              },
              {
               "level": 4,
               "resolution": 9783.93962049996,
               "scale": 36978595.474472
              },
              {
               "level": 5,
               "resolution": 4891.96981024998,
               "scale": 18489297.737236
              },
              {
               "level": 6,
               "resolution": 2445.98490512499,
               "scale": 9244648.868618
              },
              {
               "level": 7,
               "resolution": 1222.992452562495,
               "scale": 4622324.434309
              },
              {
               "level": 8,
               "resolution": 611.4962262813797,
               "scale": 2311162.217155
              },
              {
               "level": 9,
               "resolution": 305.74811314055756,
               "scale": 1155581.108577
              },
              {
               "level": 10,
               "resolution": 152.87405657041106,
               "scale": 577790.554289
              },
              {
               "level": 11,
               "resolution": 76.43702828507324,
               "scale": 288895.277144
              },
              {
               "level": 12,
               "resolution": 38.21851414253662,
               "scale": 144447.638572
              },
              {
               "level": 13,
               "resolution": 19.10925707126831,
               "scale": 72223.819286
              },
              {
               "level": 14,
               "resolution": 9.554628535634155,
               "scale": 36111.909643
              },
              {
               "level": 15,
               "resolution": 4.77731426794937,
               "scale": 18055.954822
              },
              {
               "level": 16,
               "resolution": 2.388657133974685,
               "scale": 9027.977411
              },
              {
               "level": 17,
               "resolution": 1.1943285668550503,
               "scale": 4513.988705
              },
              {
               "level": 18,
               "resolution": 0.5971642835598172,
               "scale": 2256.994353
              },
              {
               "level": 19,
               "resolution": 0.29858214164761665,
               "scale": 1128.497176
              }
             ],
             "origin": {
              "x": -20037508.342787,
              "y": 20037508.342787
             },
             "rows": 256,
             "spatialReference": {
              "wkid": 102100,
              "wkt": "PROJCS[\"WGS_1984_Web_Mercator_Auxiliary_Sphere\",GEOGCS[\"GCS_WGS_1984\",DATUM[\"D_WGS_1984\",SPHEROID[\"WGS_1984\",6378137.0,298.257223563]],PRIMEM[\"Greenwich\",0.0],UNIT[\"Degree\",0.0174532925199433]],PROJECTION[\"Mercator_Auxiliary_Sphere\"],PARAMETER[\"False_Easting\",0.0],PARAMETER[\"False_Northing\",0.0],PARAMETER[\"Central_Meridian\",0.0],PARAMETER[\"Standard_Parallel_1\",0.0],PARAMETER[\"Auxiliary_Sphere_Type\",0.0],UNIT[\"Meter\",1.0],AUTHORITY[\"EPSG\",3857]]"
             },
             "storageFormat": "esriMapCacheStorageModeCompact"
            },
            "tileServers": [
             "http://tiles1.arcgis.com/tiles/P3ePLMYs2RVChkJx/arcgis/rest/services/World_Topomap_MMI/MapServer",
             "http://tiles2.arcgis.com/tiles/P3ePLMYs2RVChkJx/arcgis/rest/services/World_Topomap_MMI/MapServer",
             "http://tiles3.arcgis.com/tiles/P3ePLMYs2RVChkJx/arcgis/rest/services/World_Topomap_MMI/MapServer",
             "http://tiles4.arcgis.com/tiles/P3ePLMYs2RVChkJx/arcgis/rest/services/World_Topomap_MMI/MapServer"
            ],
            "type": "MapServer",
            "units": "esriMeters"
           },
           "url": "https://tiles.arcgis.com/tiles/P3ePLMYs2RVChkJx/arcgis/rest/services/World_Topomap_MMI/MapServer",
           "visibility": true
          },
          {
           "id": "India_Bnd_G_5793",
           "isReference": true,
           "layerType": "ArcGISTiledMapServiceLayer",
           "opacity": 1,
           "resourceInfo": {
            "access": "SECURE",
            "capabilities": "Map",
            "copyrightText": "Mxd assembled by Corey LaMar",
            "created": null,
            "currentVersion": 10.1,
            "description": "This mxd contains the political boundaries used in StreetMap 5.1 as  political boundaries overlay  Currency: 73m to 577k (StreetMap 4.1 (5.0) 288k to 72k (StreetMap 5.1) Delorme 36k to 1k (StreetMap 5.1 ) Navteq",
            "documentInfo": {
             "AntialiasingMode": "Best",
             "Author": "AGOL Teams Members",
             "Category": "",
             "Comments": "This mxd contains the political boundaries used in StreetMap 5.1 as a starting point for Esri India to create their own political boundaries overlay\n\nCurrency:\n73m to 577k (StreetMap 4.1 (5.0)\n288k to 72k (StreetMap 5.1) Delorme\n36k to 1k (StreetMap 5.1 ) Navteq",
             "Keywords": "Inda Disputed International Boundaries",
             "Subject": "Create 2/2/13 Copies of StMap Int Bnd 73m to1k caching levels",
             "TextAntialiasingMode": "Force",
             "Title": "Int_Bnd_for_Esri_India_Work",
             "author": "cimmy68",
             "category": "",
             "comments": "",
             "credits": "Mxd assembled by Corey LaMar",
             "keywords": "Inda International Boundaries",
             "subject": "Create 2/2/13 Copies of StMap Int Bnd 73m to1k caching levels",
             "title": "India_Bnd_G"
            },
            "fullExtent": {
             "spatialReference": {
              "wkid": 102100
             },
             "xmax": 10843895.843899999,
             "xmin": 7508245.0923000015,
             "ymax": 4451373.3320999965,
             "ymin": 753623.2256000005
            },
            "id": "bc7c3277ec65f602",
            "initialExtent": {
             "spatialReference": {
              "wkid": 102100
             },
             "xmax": 13053038.616388625,
             "xmin": 5299102.319811376,
             "ymax": 4636260.837424996,
             "ymin": 2675256.394233431
            },
            "layers": [
             {
              "defaultVisibility": true,
              "id": 0,
              "maxScale": 0,
              "minScale": 0,
              "name": "India",
              "parentLayerId": -1,
              "subLayerIds": null
             }
            ],
            "mapName": "India Basemap",
            "maxScale": 577790.554289,
            "minScale": 73957190.948944,
            "modified": null,
            "name": "India_Bnd_G",
            "server": "gHHix49exJauUOEM",
            "serviceDescription": "",
            "singleFusedMapCache": true,
            "spatialReference": {
             "wkid": 102100
            },
            "status": "created",
            "supportedImageFormatTypes": "PNG",
            "tables": [],
            "tileInfo": {
             "cols": 256,
             "compressionQuality": 0,
             "dpi": 96,
             "format": "PNG",
             "lods": [
              {
               "level": 0,
               "resolution": 156543.03392800014,
               "scale": 591657527.591555
              },
              {
               "level": 1,
               "resolution": 78271.51696399994,
               "scale": 295828763.795777
              },
              {
               "level": 2,
               "resolution": 39135.75848200009,
               "scale": 147914381.897889
              },
              {
               "level": 3,
               "resolution": 19567.87924099992,
               "scale": 73957190.948944
              },
              {
               "level": 4,
               "resolution": 9783.93962049996,
               "scale": 36978595.474472
              },
              {
               "level": 5,
               "resolution": 4891.96981024998,
               "scale": 18489297.737236
              },
              {
               "level": 6,
               "resolution": 2445.98490512499,
               "scale": 9244648.868618
              },
              {
               "level": 7,
               "resolution": 1222.992452562495,
               "scale": 4622324.434309
              },
              {
               "level": 8,
               "resolution": 611.4962262813797,
               "scale": 2311162.217155
              },
              {
               "level": 9,
               "resolution": 305.74811314055756,
               "scale": 1155581.108577
              },
              {
               "level": 10,
               "resolution": 152.87405657041106,
               "scale": 577790.554289
              },
              {
               "level": 11,
               "resolution": 76.43702828507324,
               "scale": 288895.277144
              },
              {
               "level": 12,
               "resolution": 38.21851414253662,
               "scale": 144447.638572
              },
              {
               "level": 13,
               "resolution": 19.10925707126831,
               "scale": 72223.819286
              },
              {
               "level": 14,
               "resolution": 9.554628535634155,
               "scale": 36111.909643
              },
              {
               "level": 15,
               "resolution": 4.77731426794937,
               "scale": 18055.954822
              },
              {
               "level": 16,
               "resolution": 2.388657133974685,
               "scale": 9027.977411
              },
              {
               "level": 17,
               "resolution": 1.1943285668550503,
               "scale": 4513.988705
              },
              {
               "level": 18,
               "resolution": 0.5971642835598172,
               "scale": 2256.994353
              },
              {
               "level": 19,
               "resolution": 0.29858214164761665,
               "scale": 1128.497176
              }
             ],
             "origin": {
              "x": -20037508.342787,
              "y": 20037508.342787
             },
             "rows": 256,
             "spatialReference": {
              "wkid": 102100,
              "wkt": "PROJCS[\"WGS_1984_Web_Mercator_Auxiliary_Sphere\",GEOGCS[\"GCS_WGS_1984\",DATUM[\"D_WGS_1984\",SPHEROID[\"WGS_1984\",6378137.0,298.257223563]],PRIMEM[\"Greenwich\",0.0],UNIT[\"Degree\",0.0174532925199433]],PROJECTION[\"Mercator_Auxiliary_Sphere\"],PARAMETER[\"False_Easting\",0.0],PARAMETER[\"False_Northing\",0.0],PARAMETER[\"Central_Meridian\",0.0],PARAMETER[\"Standard_Parallel_1\",0.0],PARAMETER[\"Auxiliary_Sphere_Type\",0.0],UNIT[\"Meter\",1.0],AUTHORITY[\"EPSG\",3857]]"
             }
            },
            "tileServers": [
             "https://tiles1.arcgis.com/tiles/gHHix49exJauUOEM/arcgis/rest/services/India_Bnd_G/MapServer",
             "https://tiles2.arcgis.com/tiles/gHHix49exJauUOEM/arcgis/rest/services/India_Bnd_G/MapServer",
             "https://tiles3.arcgis.com/tiles/gHHix49exJauUOEM/arcgis/rest/services/India_Bnd_G/MapServer",
             "https://tiles4.arcgis.com/tiles/gHHix49exJauUOEM/arcgis/rest/services/India_Bnd_G/MapServer"
            ],
            "type": "MapServer",
            "units": "esriMeters"
           },
           "url": "https://tiles.arcgis.com/tiles/gHHix49exJauUOEM/arcgis/rest/services/India_Bnd_G/MapServer",
           "visibility": true
          }
         ],
         "title": "Topographic"
        }
       },
       "_overlay_these_images_on_widget_load": [],
       "_portal_sharing_rest_url": "https://www.arcgis.com/sharing/rest/",
       "_portal_url": "https://www.arcgis.com",
       "_readonly_webmap_from_js": {
        "basemap": {
         "baseMapLayers": [
          {
           "layerType": "ArcGISTiledMapServiceLayer",
           "opacity": 1,
           "resourceInfo": {
            "capabilities": "Map,Tilemap,Query,Data",
            "copyrightText": "Sources: Esri, HERE, DeLorme, Intermap, increment P Corp., GEBCO, USGS, FAO, NPS, NRCAN, GeoBase, IGN, Kadaster NL, Ordnance Survey, Esri Japan, METI, Esri China (Hong Kong), swisstopo, MapmyIndia, © OpenStreetMap contributors, and the GIS User Community",
            "currentVersion": 10.3,
            "description": "This map is designed to be used as a basemap by GIS professionals and as a reference map by anyone. The map includes administrative boundaries, cities, water features, physiographic features, parks, landmarks, highways, roads, railways, and airports overlaid on land cover and shaded relief imagery for added context. The map provides coverage for the world down to a scale of ~1:72k. Coverage is provided down to ~1:4k for the following areas: Australia and New Zealand; India; Europe; Canada; Mexico; the continental United States and Hawaii; South America and Central America; Africa; and most of the Middle East. Coverage down to ~1:1k and ~1:2k is available in select urban areas. This basemap was compiled from a variety of best available sources from several data providers, including the U.S. Geological Survey (USGS), U.S. Environmental Protection Agency (EPA), U.S. National Park Service (NPS), Food and Agriculture Organization of the United Nations (FAO), Department of Natural Resources Canada (NRCAN), GeoBase, Agriculture and Agri-Food Canada, DeLorme, HERE, Esri, OpenStreetMap contributors, and the GIS User Community. For more information on this map, including our terms of use, visit us online at http://goto.arcgisonline.com/maps/World_Topo_Map",
            "documentInfo": {
             "AntialiasingMode": "None",
             "Author": "Esri",
             "Category": "imageryBaseMapsEarthCover (Imagery, basemaps, and land cover)",
             "Comments": "",
             "Keywords": "World,Global,Europe,North America,South America,Southern Africa,Australia,New Zealand,India",
             "Subject": "topographic, topography, administrative boundaries, cities, water features, physiographic features, parks, landmarks, highways, roads, railways, airports, land cover, shaded relief imagery",
             "TextAntialiasingMode": "Force",
             "Title": "World Topographic Map"
            },
            "exportTilesAllowed": false,
            "fullExtent": {
             "spatialReference": {
              "latestWkid": 3857,
              "wkid": 102100
             },
             "xmax": 20037507.067161843,
             "xmin": -20037507.067161843,
             "ymax": 19971868.88040863,
             "ymin": -19971868.880408604
            },
            "initialExtent": {
             "spatialReference": {
              "latestWkid": 3857,
              "wkid": 102100
             },
             "xmax": 28848255.049479112,
             "xmin": -28848255.049479112,
             "ymax": 16430757.376790084,
             "ymin": -2077452.082122866
            },
            "layers": [
             {
              "defaultVisibility": false,
              "id": 0,
              "maxScale": 0,
              "minScale": 0,
              "name": "Citations",
              "parentLayerId": -1,
              "subLayerIds": null
             }
            ],
            "mapName": "Layers",
            "maxImageHeight": 4096,
            "maxImageWidth": 4096,
            "maxRecordCount": 100,
            "maxScale": 70.5310735,
            "minScale": 591657527.591555,
            "serviceDescription": "This map is designed to be used as a basemap by GIS professionals and as a reference map by anyone. The map includes administrative boundaries, cities, water features, physiographic features, parks, landmarks, highways, roads, railways, and airports overlaid on land cover and shaded relief imagery for added context. The map provides coverage for the world down to a scale of ~1:72k. Coverage is provided down to ~1:4k for the following areas: Australia and New Zealand; India; Europe; Canada; Mexico; the continental United States and Hawaii; South America and Central America; Africa; and most of the Middle East. Coverage down to ~1:1k and ~1:2k is available in select urban areas. This basemap was compiled from a variety of best available sources from several data providers, including the U.S. Geological Survey (USGS), U.S. Environmental Protection Agency (EPA), U.S. National Park Service (NPS), Food and Agriculture Organization of the United Nations (FAO), Department of Natural Resources Canada (NRCAN), GeoBase, Agriculture and Agri-Food Canada, DeLorme, HERE, Esri, OpenStreetMap contributors, and the GIS User Community. For more information on this map, including the terms of use, visit us <a href=\"http://goto.arcgisonline.com/maps/World_Topo_Map \" target=\"_new\" >online</a>.",
            "singleFusedMapCache": true,
            "spatialReference": {
             "latestWkid": 3857,
             "wkid": 102100
            },
            "supportedExtensions": "KmlServer",
            "supportedImageFormatTypes": "PNG32,PNG24,PNG,JPG,DIB,TIFF,EMF,PS,PDF,GIF,SVG,SVGZ,BMP",
            "supportedQueryFormats": "JSON, AMF",
            "supportsDynamicLayers": false,
            "tables": [],
            "tileInfo": {
             "cols": 256,
             "compressionQuality": 90,
             "dpi": 96,
             "format": "JPEG",
             "lods": [
              {
               "level": 0,
               "resolution": 156543.03392800014,
               "scale": 591657527.591555
              },
              {
               "level": 1,
               "resolution": 78271.51696399994,
               "scale": 295828763.795777
              },
              {
               "level": 2,
               "resolution": 39135.75848200009,
               "scale": 147914381.897889
              },
              {
               "level": 3,
               "resolution": 19567.87924099992,
               "scale": 73957190.948944
              },
              {
               "level": 4,
               "resolution": 9783.93962049996,
               "scale": 36978595.474472
              },
              {
               "level": 5,
               "resolution": 4891.96981024998,
               "scale": 18489297.737236
              },
              {
               "level": 6,
               "resolution": 2445.98490512499,
               "scale": 9244648.868618
              },
              {
               "level": 7,
               "resolution": 1222.992452562495,
               "scale": 4622324.434309
              },
              {
               "level": 8,
               "resolution": 611.4962262813797,
               "scale": 2311162.217155
              },
              {
               "level": 9,
               "resolution": 305.74811314055756,
               "scale": 1155581.108577
              },
              {
               "level": 10,
               "resolution": 152.87405657041106,
               "scale": 577790.554289
              },
              {
               "level": 11,
               "resolution": 76.43702828507324,
               "scale": 288895.277144
              },
              {
               "level": 12,
               "resolution": 38.21851414253662,
               "scale": 144447.638572
              },
              {
               "level": 13,
               "resolution": 19.10925707126831,
               "scale": 72223.819286
              },
              {
               "level": 14,
               "resolution": 9.554628535634155,
               "scale": 36111.909643
              },
              {
               "level": 15,
               "resolution": 4.77731426794937,
               "scale": 18055.954822
              },
              {
               "level": 16,
               "resolution": 2.388657133974685,
               "scale": 9027.977411
              },
              {
               "level": 17,
               "resolution": 1.1943285668550503,
               "scale": 4513.988705
              },
              {
               "level": 18,
               "resolution": 0.5971642835598172,
               "scale": 2256.994353
              },
              {
               "level": 19,
               "resolution": 0.29858214164761665,
               "scale": 1128.497176
              },
              {
               "level": 20,
               "resolution": 0.14929107082380833,
               "scale": 564.248588
              },
              {
               "level": 21,
               "resolution": 0.07464553541190416,
               "scale": 282.124294
              },
              {
               "level": 22,
               "resolution": 0.03732276770595208,
               "scale": 141.062147
              },
              {
               "level": 23,
               "resolution": 0.01866138385297604,
               "scale": 70.5310735
              }
             ],
             "origin": {
              "x": -20037508.342787,
              "y": 20037508.342787
             },
             "rows": 256,
             "spatialReference": {
              "latestWkid": 3857,
              "wkid": 102100
             }
            },
            "units": "esriMeters"
           },
           "url": "https://services.arcgisonline.com/ArcGIS/rest/services/World_Topo_Map/MapServer",
           "visibility": true
          },
          {
           "id": "Streetmap_MMI_8695",
           "layerType": "ArcGISTiledMapServiceLayer",
           "maxScale": 1128,
           "minScale": 288895,
           "opacity": 1,
           "resourceInfo": {
            "access": "SECURE",
            "capabilities": "Map,TilesOnly",
            "copyrightText": "Sources: Esri, MapmyIndia, DeLorme, METI/NASA",
            "currentVersion": 10.31,
            "description": "<span style='color: rgb(0, 0, 0); font-family: Verdana, sans-serif; line-height: 17.33333396911621px; background-color: rgb(255, 255, 255);'>This India topographic map overlay presents physical features and street-level data for India. This comprehensive topographic map includes highways, major roads, minor roads, one-way arrow indicators, railways, water features, administrative boundaries, cities, parks, landmarks, physical feature labels, spot elevations, and contours overlaid on shaded relief imagery for added context. The map also includes building footprints for selected areas. Coverage is provided down to ~1:4k country-wide with ~1:1k and ~1:2k data available in select urban areas. The street map was developed by Esri using MapmyIndia data layers, including administrative boundaries, from CE Info Systems. Additional data sources from DeLorme basemap layers, and METI/NASA data for shaded relief.</span>",
            "documentInfo": {
             "AntialiasingMode": "Fast",
             "Author": "",
             "Category": "",
             "Comments": "",
             "Keywords": "",
             "Subject": "",
             "TextAntialiasingMode": "Force",
             "Title": "",
             "author": "Esri_Content",
             "category": "",
             "comments": "",
             "credits": "Sources: Esri, MapmyIndia, DeLorme, METI/NASA",
             "keywords": "India, Topomap, highways, roads, transportation, landmarks, parks, basemap, community, community basemap, map, MapmyIndia",
             "subject": "This topographic map overlay presents physical features and street-level data from MapmyIndia for India.",
             "title": "World_Topomap_MMI"
            },
            "exportTilesAllowed": false,
            "fullExtent": {
             "spatialReference": {
              "wkid": 102100,
              "wkt": null
             },
             "xmax": 12523442.714243297,
             "xmin": 7514065.628545973,
             "ymax": 5009377.085753329,
             "ymin": 7.450580596923828e-09
            },
            "id": "94ef359ef51f7205",
            "initialExtent": {
             "spatialReference": {
              "wkid": 102100,
              "wkt": null
             },
             "xmax": 12523442.714243297,
             "xmin": 7514065.628545973,
             "ymax": 5009377.085753329,
             "ymin": 7.450580596923828e-09
            },
            "layers": [
             {
              "defaultVisibility": false,
              "id": 0,
              "maxScale": 0,
              "minScale": 0,
              "name": "world",
              "parentLayerId": -1,
              "subLayerIds": null
             }
            ],
            "mapName": "Layers",
            "maxExportTilesCount": 100000,
            "maxScale": 1128.497176,
            "minScale": 288895.277144,
            "name": "World_Topomap_MMI",
            "resampling": false,
            "server": "P3ePLMYs2RVChkJx",
            "serviceDescription": "",
            "singleFusedMapCache": true,
            "spatialReference": {
             "wkid": 102100,
             "wkt": null
            },
            "status": "created",
            "supportedImageFormatTypes": "JPEG",
            "tables": [],
            "tileInfo": {
             "cols": 256,
             "compressionQuality": 90,
             "dpi": 96,
             "format": "JPEG",
             "lods": [
              {
               "level": 0,
               "resolution": 156543.03392800014,
               "scale": 591657527.591555
              },
              {
               "level": 1,
               "resolution": 78271.51696399994,
               "scale": 295828763.795777
              },
              {
               "level": 2,
               "resolution": 39135.75848200009,
               "scale": 147914381.897889
              },
              {
               "level": 3,
               "resolution": 19567.87924099992,
               "scale": 73957190.948944
              },
              {
               "level": 4,
               "resolution": 9783.93962049996,
               "scale": 36978595.474472
              },
              {
               "level": 5,
               "resolution": 4891.96981024998,
               "scale": 18489297.737236
              },
              {
               "level": 6,
               "resolution": 2445.98490512499,
               "scale": 9244648.868618
              },
              {
               "level": 7,
               "resolution": 1222.992452562495,
               "scale": 4622324.434309
              },
              {
               "level": 8,
               "resolution": 611.4962262813797,
               "scale": 2311162.217155
              },
              {
               "level": 9,
               "resolution": 305.74811314055756,
               "scale": 1155581.108577
              },
              {
               "level": 10,
               "resolution": 152.87405657041106,
               "scale": 577790.554289
              },
              {
               "level": 11,
               "resolution": 76.43702828507324,
               "scale": 288895.277144
              },
              {
               "level": 12,
               "resolution": 38.21851414253662,
               "scale": 144447.638572
              },
              {
               "level": 13,
               "resolution": 19.10925707126831,
               "scale": 72223.819286
              },
              {
               "level": 14,
               "resolution": 9.554628535634155,
               "scale": 36111.909643
              },
              {
               "level": 15,
               "resolution": 4.77731426794937,
               "scale": 18055.954822
              },
              {
               "level": 16,
               "resolution": 2.388657133974685,
               "scale": 9027.977411
              },
              {
               "level": 17,
               "resolution": 1.1943285668550503,
               "scale": 4513.988705
              },
              {
               "level": 18,
               "resolution": 0.5971642835598172,
               "scale": 2256.994353
              },
              {
               "level": 19,
               "resolution": 0.29858214164761665,
               "scale": 1128.497176
              }
             ],
             "origin": {
              "x": -20037508.342787,
              "y": 20037508.342787
             },
             "rows": 256,
             "spatialReference": {
              "wkid": 102100,
              "wkt": "PROJCS[\"WGS_1984_Web_Mercator_Auxiliary_Sphere\",GEOGCS[\"GCS_WGS_1984\",DATUM[\"D_WGS_1984\",SPHEROID[\"WGS_1984\",6378137.0,298.257223563]],PRIMEM[\"Greenwich\",0.0],UNIT[\"Degree\",0.0174532925199433]],PROJECTION[\"Mercator_Auxiliary_Sphere\"],PARAMETER[\"False_Easting\",0.0],PARAMETER[\"False_Northing\",0.0],PARAMETER[\"Central_Meridian\",0.0],PARAMETER[\"Standard_Parallel_1\",0.0],PARAMETER[\"Auxiliary_Sphere_Type\",0.0],UNIT[\"Meter\",1.0],AUTHORITY[\"EPSG\",3857]]"
             },
             "storageFormat": "esriMapCacheStorageModeCompact"
            },
            "tileServers": [
             "http://tiles1.arcgis.com/tiles/P3ePLMYs2RVChkJx/arcgis/rest/services/World_Topomap_MMI/MapServer",
             "http://tiles2.arcgis.com/tiles/P3ePLMYs2RVChkJx/arcgis/rest/services/World_Topomap_MMI/MapServer",
             "http://tiles3.arcgis.com/tiles/P3ePLMYs2RVChkJx/arcgis/rest/services/World_Topomap_MMI/MapServer",
             "http://tiles4.arcgis.com/tiles/P3ePLMYs2RVChkJx/arcgis/rest/services/World_Topomap_MMI/MapServer"
            ],
            "type": "MapServer",
            "units": "esriMeters"
           },
           "url": "https://tiles.arcgis.com/tiles/P3ePLMYs2RVChkJx/arcgis/rest/services/World_Topomap_MMI/MapServer",
           "visibility": true
          },
          {
           "id": "India_Bnd_G_5793",
           "isReference": true,
           "layerType": "ArcGISTiledMapServiceLayer",
           "opacity": 1,
           "resourceInfo": {
            "access": "SECURE",
            "capabilities": "Map",
            "copyrightText": "Mxd assembled by Corey LaMar",
            "created": null,
            "currentVersion": 10.1,
            "description": "This mxd contains the political boundaries used in StreetMap 5.1 as  political boundaries overlay  Currency: 73m to 577k (StreetMap 4.1 (5.0) 288k to 72k (StreetMap 5.1) Delorme 36k to 1k (StreetMap 5.1 ) Navteq",
            "documentInfo": {
             "AntialiasingMode": "Best",
             "Author": "AGOL Teams Members",
             "Category": "",
             "Comments": "This mxd contains the political boundaries used in StreetMap 5.1 as a starting point for Esri India to create their own political boundaries overlay\n\nCurrency:\n73m to 577k (StreetMap 4.1 (5.0)\n288k to 72k (StreetMap 5.1) Delorme\n36k to 1k (StreetMap 5.1 ) Navteq",
             "Keywords": "Inda Disputed International Boundaries",
             "Subject": "Create 2/2/13 Copies of StMap Int Bnd 73m to1k caching levels",
             "TextAntialiasingMode": "Force",
             "Title": "Int_Bnd_for_Esri_India_Work",
             "author": "cimmy68",
             "category": "",
             "comments": "",
             "credits": "Mxd assembled by Corey LaMar",
             "keywords": "Inda International Boundaries",
             "subject": "Create 2/2/13 Copies of StMap Int Bnd 73m to1k caching levels",
             "title": "India_Bnd_G"
            },
            "fullExtent": {
             "spatialReference": {
              "wkid": 102100
             },
             "xmax": 10843895.843899999,
             "xmin": 7508245.0923000015,
             "ymax": 4451373.3320999965,
             "ymin": 753623.2256000005
            },
            "id": "bc7c3277ec65f602",
            "initialExtent": {
             "spatialReference": {
              "wkid": 102100
             },
             "xmax": 13053038.616388625,
             "xmin": 5299102.319811376,
             "ymax": 4636260.837424996,
             "ymin": 2675256.394233431
            },
            "layers": [
             {
              "defaultVisibility": true,
              "id": 0,
              "maxScale": 0,
              "minScale": 0,
              "name": "India",
              "parentLayerId": -1,
              "subLayerIds": null
             }
            ],
            "mapName": "India Basemap",
            "maxScale": 577790.554289,
            "minScale": 73957190.948944,
            "modified": null,
            "name": "India_Bnd_G",
            "server": "gHHix49exJauUOEM",
            "serviceDescription": "",
            "singleFusedMapCache": true,
            "spatialReference": {
             "wkid": 102100
            },
            "status": "created",
            "supportedImageFormatTypes": "PNG",
            "tables": [],
            "tileInfo": {
             "cols": 256,
             "compressionQuality": 0,
             "dpi": 96,
             "format": "PNG",
             "lods": [
              {
               "level": 0,
               "resolution": 156543.03392800014,
               "scale": 591657527.591555
              },
              {
               "level": 1,
               "resolution": 78271.51696399994,
               "scale": 295828763.795777
              },
              {
               "level": 2,
               "resolution": 39135.75848200009,
               "scale": 147914381.897889
              },
              {
               "level": 3,
               "resolution": 19567.87924099992,
               "scale": 73957190.948944
              },
              {
               "level": 4,
               "resolution": 9783.93962049996,
               "scale": 36978595.474472
              },
              {
               "level": 5,
               "resolution": 4891.96981024998,
               "scale": 18489297.737236
              },
              {
               "level": 6,
               "resolution": 2445.98490512499,
               "scale": 9244648.868618
              },
              {
               "level": 7,
               "resolution": 1222.992452562495,
               "scale": 4622324.434309
              },
              {
               "level": 8,
               "resolution": 611.4962262813797,
               "scale": 2311162.217155
              },
              {
               "level": 9,
               "resolution": 305.74811314055756,
               "scale": 1155581.108577
              },
              {
               "level": 10,
               "resolution": 152.87405657041106,
               "scale": 577790.554289
              },
              {
               "level": 11,
               "resolution": 76.43702828507324,
               "scale": 288895.277144
              },
              {
               "level": 12,
               "resolution": 38.21851414253662,
               "scale": 144447.638572
              },
              {
               "level": 13,
               "resolution": 19.10925707126831,
               "scale": 72223.819286
              },
              {
               "level": 14,
               "resolution": 9.554628535634155,
               "scale": 36111.909643
              },
              {
               "level": 15,
               "resolution": 4.77731426794937,
               "scale": 18055.954822
              },
              {
               "level": 16,
               "resolution": 2.388657133974685,
               "scale": 9027.977411
              },
              {
               "level": 17,
               "resolution": 1.1943285668550503,
               "scale": 4513.988705
              },
              {
               "level": 18,
               "resolution": 0.5971642835598172,
               "scale": 2256.994353
              },
              {
               "level": 19,
               "resolution": 0.29858214164761665,
               "scale": 1128.497176
              }
             ],
             "origin": {
              "x": -20037508.342787,
              "y": 20037508.342787
             },
             "rows": 256,
             "spatialReference": {
              "wkid": 102100,
              "wkt": "PROJCS[\"WGS_1984_Web_Mercator_Auxiliary_Sphere\",GEOGCS[\"GCS_WGS_1984\",DATUM[\"D_WGS_1984\",SPHEROID[\"WGS_1984\",6378137.0,298.257223563]],PRIMEM[\"Greenwich\",0.0],UNIT[\"Degree\",0.0174532925199433]],PROJECTION[\"Mercator_Auxiliary_Sphere\"],PARAMETER[\"False_Easting\",0.0],PARAMETER[\"False_Northing\",0.0],PARAMETER[\"Central_Meridian\",0.0],PARAMETER[\"Standard_Parallel_1\",0.0],PARAMETER[\"Auxiliary_Sphere_Type\",0.0],UNIT[\"Meter\",1.0],AUTHORITY[\"EPSG\",3857]]"
             }
            },
            "tileServers": [
             "https://tiles1.arcgis.com/tiles/gHHix49exJauUOEM/arcgis/rest/services/India_Bnd_G/MapServer",
             "https://tiles2.arcgis.com/tiles/gHHix49exJauUOEM/arcgis/rest/services/India_Bnd_G/MapServer",
             "https://tiles3.arcgis.com/tiles/gHHix49exJauUOEM/arcgis/rest/services/India_Bnd_G/MapServer",
             "https://tiles4.arcgis.com/tiles/gHHix49exJauUOEM/arcgis/rest/services/India_Bnd_G/MapServer"
            ],
            "type": "MapServer",
            "units": "esriMeters"
           },
           "url": "https://tiles.arcgis.com/tiles/gHHix49exJauUOEM/arcgis/rest/services/India_Bnd_G/MapServer",
           "visibility": true
          }
         ],
         "title": "Topographic"
        },
        "ground": {
         "layers": [
          {
           "id": "worldElevation",
           "layerType": "ArcGISTiledElevationServiceLayer",
           "listMode": "show",
           "title": "Terrain3D",
           "url": "https://elevation3d.arcgis.com/arcgis/rest/services/WorldElevation3D/Terrain3D/ImageServer",
           "visibility": true
          }
         ],
         "transparency": 0
        },
        "layers": []
       },
       "_username": "None",
       "_uuid": "22bd5187-b9e4-46db-a79d-e91c761b66b3",
       "_webscene": {
        "portalItem": {
         "id": "7c7dc6068f4e49aaaa462d54e48aa1fa"
        }
       },
       "hide_mode_switch": true,
       "jupyter_target": "notebook",
       "layout": "IPY_MODEL_bf2e83fbdcb84bfe9fca639032fe3efd",
       "mode": "3D",
       "print_service_url": ""
      }
     },
     "352b937869f14226a10a7bbc4a6b2376": {
      "model_module": "arcgis-map-ipywidget",
      "model_module_version": "1.8.2",
      "model_name": "ArcGISMapIPyWidgetModel",
      "state": {
       "_auth_mode": "anonymous",
       "_basemap": "default",
       "_draw_these_graphics_on_widget_load": [],
       "_draw_these_notype_layers_on_widget_load": [],
       "_gallery_basemaps": {
        "default": {
         "baseMapLayers": [
          {
           "layerType": "ArcGISTiledMapServiceLayer",
           "opacity": 1,
           "resourceInfo": {
            "capabilities": "Map,Tilemap,Query,Data",
            "copyrightText": "Sources: Esri, HERE, DeLorme, Intermap, increment P Corp., GEBCO, USGS, FAO, NPS, NRCAN, GeoBase, IGN, Kadaster NL, Ordnance Survey, Esri Japan, METI, Esri China (Hong Kong), swisstopo, MapmyIndia, © OpenStreetMap contributors, and the GIS User Community",
            "currentVersion": 10.3,
            "description": "This map is designed to be used as a basemap by GIS professionals and as a reference map by anyone. The map includes administrative boundaries, cities, water features, physiographic features, parks, landmarks, highways, roads, railways, and airports overlaid on land cover and shaded relief imagery for added context. The map provides coverage for the world down to a scale of ~1:72k. Coverage is provided down to ~1:4k for the following areas: Australia and New Zealand; India; Europe; Canada; Mexico; the continental United States and Hawaii; South America and Central America; Africa; and most of the Middle East. Coverage down to ~1:1k and ~1:2k is available in select urban areas. This basemap was compiled from a variety of best available sources from several data providers, including the U.S. Geological Survey (USGS), U.S. Environmental Protection Agency (EPA), U.S. National Park Service (NPS), Food and Agriculture Organization of the United Nations (FAO), Department of Natural Resources Canada (NRCAN), GeoBase, Agriculture and Agri-Food Canada, DeLorme, HERE, Esri, OpenStreetMap contributors, and the GIS User Community. For more information on this map, including our terms of use, visit us online at http://goto.arcgisonline.com/maps/World_Topo_Map",
            "documentInfo": {
             "AntialiasingMode": "None",
             "Author": "Esri",
             "Category": "imageryBaseMapsEarthCover (Imagery, basemaps, and land cover)",
             "Comments": "",
             "Keywords": "World,Global,Europe,North America,South America,Southern Africa,Australia,New Zealand,India",
             "Subject": "topographic, topography, administrative boundaries, cities, water features, physiographic features, parks, landmarks, highways, roads, railways, airports, land cover, shaded relief imagery",
             "TextAntialiasingMode": "Force",
             "Title": "World Topographic Map"
            },
            "exportTilesAllowed": false,
            "fullExtent": {
             "spatialReference": {
              "latestWkid": 3857,
              "wkid": 102100
             },
             "xmax": 20037507.067161843,
             "xmin": -20037507.067161843,
             "ymax": 19971868.88040863,
             "ymin": -19971868.880408604
            },
            "initialExtent": {
             "spatialReference": {
              "latestWkid": 3857,
              "wkid": 102100
             },
             "xmax": 28848255.049479112,
             "xmin": -28848255.049479112,
             "ymax": 16430757.376790084,
             "ymin": -2077452.082122866
            },
            "layers": [
             {
              "defaultVisibility": false,
              "id": 0,
              "maxScale": 0,
              "minScale": 0,
              "name": "Citations",
              "parentLayerId": -1,
              "subLayerIds": null
             }
            ],
            "mapName": "Layers",
            "maxImageHeight": 4096,
            "maxImageWidth": 4096,
            "maxRecordCount": 100,
            "maxScale": 70.5310735,
            "minScale": 591657527.591555,
            "serviceDescription": "This map is designed to be used as a basemap by GIS professionals and as a reference map by anyone. The map includes administrative boundaries, cities, water features, physiographic features, parks, landmarks, highways, roads, railways, and airports overlaid on land cover and shaded relief imagery for added context. The map provides coverage for the world down to a scale of ~1:72k. Coverage is provided down to ~1:4k for the following areas: Australia and New Zealand; India; Europe; Canada; Mexico; the continental United States and Hawaii; South America and Central America; Africa; and most of the Middle East. Coverage down to ~1:1k and ~1:2k is available in select urban areas. This basemap was compiled from a variety of best available sources from several data providers, including the U.S. Geological Survey (USGS), U.S. Environmental Protection Agency (EPA), U.S. National Park Service (NPS), Food and Agriculture Organization of the United Nations (FAO), Department of Natural Resources Canada (NRCAN), GeoBase, Agriculture and Agri-Food Canada, DeLorme, HERE, Esri, OpenStreetMap contributors, and the GIS User Community. For more information on this map, including the terms of use, visit us <a href=\"http://goto.arcgisonline.com/maps/World_Topo_Map \" target=\"_new\" >online</a>.",
            "singleFusedMapCache": true,
            "spatialReference": {
             "latestWkid": 3857,
             "wkid": 102100
            },
            "supportedExtensions": "KmlServer",
            "supportedImageFormatTypes": "PNG32,PNG24,PNG,JPG,DIB,TIFF,EMF,PS,PDF,GIF,SVG,SVGZ,BMP",
            "supportedQueryFormats": "JSON, AMF",
            "supportsDynamicLayers": false,
            "tables": [],
            "tileInfo": {
             "cols": 256,
             "compressionQuality": 90,
             "dpi": 96,
             "format": "JPEG",
             "lods": [
              {
               "level": 0,
               "resolution": 156543.03392800014,
               "scale": 591657527.591555
              },
              {
               "level": 1,
               "resolution": 78271.51696399994,
               "scale": 295828763.795777
              },
              {
               "level": 2,
               "resolution": 39135.75848200009,
               "scale": 147914381.897889
              },
              {
               "level": 3,
               "resolution": 19567.87924099992,
               "scale": 73957190.948944
              },
              {
               "level": 4,
               "resolution": 9783.93962049996,
               "scale": 36978595.474472
              },
              {
               "level": 5,
               "resolution": 4891.96981024998,
               "scale": 18489297.737236
              },
              {
               "level": 6,
               "resolution": 2445.98490512499,
               "scale": 9244648.868618
              },
              {
               "level": 7,
               "resolution": 1222.992452562495,
               "scale": 4622324.434309
              },
              {
               "level": 8,
               "resolution": 611.4962262813797,
               "scale": 2311162.217155
              },
              {
               "level": 9,
               "resolution": 305.74811314055756,
               "scale": 1155581.108577
              },
              {
               "level": 10,
               "resolution": 152.87405657041106,
               "scale": 577790.554289
              },
              {
               "level": 11,
               "resolution": 76.43702828507324,
               "scale": 288895.277144
              },
              {
               "level": 12,
               "resolution": 38.21851414253662,
               "scale": 144447.638572
              },
              {
               "level": 13,
               "resolution": 19.10925707126831,
               "scale": 72223.819286
              },
              {
               "level": 14,
               "resolution": 9.554628535634155,
               "scale": 36111.909643
              },
              {
               "level": 15,
               "resolution": 4.77731426794937,
               "scale": 18055.954822
              },
              {
               "level": 16,
               "resolution": 2.388657133974685,
               "scale": 9027.977411
              },
              {
               "level": 17,
               "resolution": 1.1943285668550503,
               "scale": 4513.988705
              },
              {
               "level": 18,
               "resolution": 0.5971642835598172,
               "scale": 2256.994353
              },
              {
               "level": 19,
               "resolution": 0.29858214164761665,
               "scale": 1128.497176
              },
              {
               "level": 20,
               "resolution": 0.14929107082380833,
               "scale": 564.248588
              },
              {
               "level": 21,
               "resolution": 0.07464553541190416,
               "scale": 282.124294
              },
              {
               "level": 22,
               "resolution": 0.03732276770595208,
               "scale": 141.062147
              },
              {
               "level": 23,
               "resolution": 0.01866138385297604,
               "scale": 70.5310735
              }
             ],
             "origin": {
              "x": -20037508.342787,
              "y": 20037508.342787
             },
             "rows": 256,
             "spatialReference": {
              "latestWkid": 3857,
              "wkid": 102100
             }
            },
            "units": "esriMeters"
           },
           "url": "https://services.arcgisonline.com/ArcGIS/rest/services/World_Topo_Map/MapServer",
           "visibility": true
          },
          {
           "id": "Streetmap_MMI_8695",
           "layerType": "ArcGISTiledMapServiceLayer",
           "maxScale": 1128,
           "minScale": 288895,
           "opacity": 1,
           "resourceInfo": {
            "access": "SECURE",
            "capabilities": "Map,TilesOnly",
            "copyrightText": "Sources: Esri, MapmyIndia, DeLorme, METI/NASA",
            "currentVersion": 10.31,
            "description": "<span style='color: rgb(0, 0, 0); font-family: Verdana, sans-serif; line-height: 17.33333396911621px; background-color: rgb(255, 255, 255);'>This India topographic map overlay presents physical features and street-level data for India. This comprehensive topographic map includes highways, major roads, minor roads, one-way arrow indicators, railways, water features, administrative boundaries, cities, parks, landmarks, physical feature labels, spot elevations, and contours overlaid on shaded relief imagery for added context. The map also includes building footprints for selected areas. Coverage is provided down to ~1:4k country-wide with ~1:1k and ~1:2k data available in select urban areas. The street map was developed by Esri using MapmyIndia data layers, including administrative boundaries, from CE Info Systems. Additional data sources from DeLorme basemap layers, and METI/NASA data for shaded relief.</span>",
            "documentInfo": {
             "AntialiasingMode": "Fast",
             "Author": "",
             "Category": "",
             "Comments": "",
             "Keywords": "",
             "Subject": "",
             "TextAntialiasingMode": "Force",
             "Title": "",
             "author": "Esri_Content",
             "category": "",
             "comments": "",
             "credits": "Sources: Esri, MapmyIndia, DeLorme, METI/NASA",
             "keywords": "India, Topomap, highways, roads, transportation, landmarks, parks, basemap, community, community basemap, map, MapmyIndia",
             "subject": "This topographic map overlay presents physical features and street-level data from MapmyIndia for India.",
             "title": "World_Topomap_MMI"
            },
            "exportTilesAllowed": false,
            "fullExtent": {
             "spatialReference": {
              "wkid": 102100,
              "wkt": null
             },
             "xmax": 12523442.714243297,
             "xmin": 7514065.628545973,
             "ymax": 5009377.085753329,
             "ymin": 7.450580596923828e-09
            },
            "id": "94ef359ef51f7205",
            "initialExtent": {
             "spatialReference": {
              "wkid": 102100,
              "wkt": null
             },
             "xmax": 12523442.714243297,
             "xmin": 7514065.628545973,
             "ymax": 5009377.085753329,
             "ymin": 7.450580596923828e-09
            },
            "layers": [
             {
              "defaultVisibility": false,
              "id": 0,
              "maxScale": 0,
              "minScale": 0,
              "name": "world",
              "parentLayerId": -1,
              "subLayerIds": null
             }
            ],
            "mapName": "Layers",
            "maxExportTilesCount": 100000,
            "maxScale": 1128.497176,
            "minScale": 288895.277144,
            "name": "World_Topomap_MMI",
            "resampling": false,
            "server": "P3ePLMYs2RVChkJx",
            "serviceDescription": "",
            "singleFusedMapCache": true,
            "spatialReference": {
             "wkid": 102100,
             "wkt": null
            },
            "status": "created",
            "supportedImageFormatTypes": "JPEG",
            "tables": [],
            "tileInfo": {
             "cols": 256,
             "compressionQuality": 90,
             "dpi": 96,
             "format": "JPEG",
             "lods": [
              {
               "level": 0,
               "resolution": 156543.03392800014,
               "scale": 591657527.591555
              },
              {
               "level": 1,
               "resolution": 78271.51696399994,
               "scale": 295828763.795777
              },
              {
               "level": 2,
               "resolution": 39135.75848200009,
               "scale": 147914381.897889
              },
              {
               "level": 3,
               "resolution": 19567.87924099992,
               "scale": 73957190.948944
              },
              {
               "level": 4,
               "resolution": 9783.93962049996,
               "scale": 36978595.474472
              },
              {
               "level": 5,
               "resolution": 4891.96981024998,
               "scale": 18489297.737236
              },
              {
               "level": 6,
               "resolution": 2445.98490512499,
               "scale": 9244648.868618
              },
              {
               "level": 7,
               "resolution": 1222.992452562495,
               "scale": 4622324.434309
              },
              {
               "level": 8,
               "resolution": 611.4962262813797,
               "scale": 2311162.217155
              },
              {
               "level": 9,
               "resolution": 305.74811314055756,
               "scale": 1155581.108577
              },
              {
               "level": 10,
               "resolution": 152.87405657041106,
               "scale": 577790.554289
              },
              {
               "level": 11,
               "resolution": 76.43702828507324,
               "scale": 288895.277144
              },
              {
               "level": 12,
               "resolution": 38.21851414253662,
               "scale": 144447.638572
              },
              {
               "level": 13,
               "resolution": 19.10925707126831,
               "scale": 72223.819286
              },
              {
               "level": 14,
               "resolution": 9.554628535634155,
               "scale": 36111.909643
              },
              {
               "level": 15,
               "resolution": 4.77731426794937,
               "scale": 18055.954822
              },
              {
               "level": 16,
               "resolution": 2.388657133974685,
               "scale": 9027.977411
              },
              {
               "level": 17,
               "resolution": 1.1943285668550503,
               "scale": 4513.988705
              },
              {
               "level": 18,
               "resolution": 0.5971642835598172,
               "scale": 2256.994353
              },
              {
               "level": 19,
               "resolution": 0.29858214164761665,
               "scale": 1128.497176
              }
             ],
             "origin": {
              "x": -20037508.342787,
              "y": 20037508.342787
             },
             "rows": 256,
             "spatialReference": {
              "wkid": 102100,
              "wkt": "PROJCS[\"WGS_1984_Web_Mercator_Auxiliary_Sphere\",GEOGCS[\"GCS_WGS_1984\",DATUM[\"D_WGS_1984\",SPHEROID[\"WGS_1984\",6378137.0,298.257223563]],PRIMEM[\"Greenwich\",0.0],UNIT[\"Degree\",0.0174532925199433]],PROJECTION[\"Mercator_Auxiliary_Sphere\"],PARAMETER[\"False_Easting\",0.0],PARAMETER[\"False_Northing\",0.0],PARAMETER[\"Central_Meridian\",0.0],PARAMETER[\"Standard_Parallel_1\",0.0],PARAMETER[\"Auxiliary_Sphere_Type\",0.0],UNIT[\"Meter\",1.0],AUTHORITY[\"EPSG\",3857]]"
             },
             "storageFormat": "esriMapCacheStorageModeCompact"
            },
            "tileServers": [
             "http://tiles1.arcgis.com/tiles/P3ePLMYs2RVChkJx/arcgis/rest/services/World_Topomap_MMI/MapServer",
             "http://tiles2.arcgis.com/tiles/P3ePLMYs2RVChkJx/arcgis/rest/services/World_Topomap_MMI/MapServer",
             "http://tiles3.arcgis.com/tiles/P3ePLMYs2RVChkJx/arcgis/rest/services/World_Topomap_MMI/MapServer",
             "http://tiles4.arcgis.com/tiles/P3ePLMYs2RVChkJx/arcgis/rest/services/World_Topomap_MMI/MapServer"
            ],
            "type": "MapServer",
            "units": "esriMeters"
           },
           "url": "https://tiles.arcgis.com/tiles/P3ePLMYs2RVChkJx/arcgis/rest/services/World_Topomap_MMI/MapServer",
           "visibility": true
          },
          {
           "id": "India_Bnd_G_5793",
           "isReference": true,
           "layerType": "ArcGISTiledMapServiceLayer",
           "opacity": 1,
           "resourceInfo": {
            "access": "SECURE",
            "capabilities": "Map",
            "copyrightText": "Mxd assembled by Corey LaMar",
            "created": null,
            "currentVersion": 10.1,
            "description": "This mxd contains the political boundaries used in StreetMap 5.1 as  political boundaries overlay  Currency: 73m to 577k (StreetMap 4.1 (5.0) 288k to 72k (StreetMap 5.1) Delorme 36k to 1k (StreetMap 5.1 ) Navteq",
            "documentInfo": {
             "AntialiasingMode": "Best",
             "Author": "AGOL Teams Members",
             "Category": "",
             "Comments": "This mxd contains the political boundaries used in StreetMap 5.1 as a starting point for Esri India to create their own political boundaries overlay\n\nCurrency:\n73m to 577k (StreetMap 4.1 (5.0)\n288k to 72k (StreetMap 5.1) Delorme\n36k to 1k (StreetMap 5.1 ) Navteq",
             "Keywords": "Inda Disputed International Boundaries",
             "Subject": "Create 2/2/13 Copies of StMap Int Bnd 73m to1k caching levels",
             "TextAntialiasingMode": "Force",
             "Title": "Int_Bnd_for_Esri_India_Work",
             "author": "cimmy68",
             "category": "",
             "comments": "",
             "credits": "Mxd assembled by Corey LaMar",
             "keywords": "Inda International Boundaries",
             "subject": "Create 2/2/13 Copies of StMap Int Bnd 73m to1k caching levels",
             "title": "India_Bnd_G"
            },
            "fullExtent": {
             "spatialReference": {
              "wkid": 102100
             },
             "xmax": 10843895.843899999,
             "xmin": 7508245.0923000015,
             "ymax": 4451373.3320999965,
             "ymin": 753623.2256000005
            },
            "id": "bc7c3277ec65f602",
            "initialExtent": {
             "spatialReference": {
              "wkid": 102100
             },
             "xmax": 13053038.616388625,
             "xmin": 5299102.319811376,
             "ymax": 4636260.837424996,
             "ymin": 2675256.394233431
            },
            "layers": [
             {
              "defaultVisibility": true,
              "id": 0,
              "maxScale": 0,
              "minScale": 0,
              "name": "India",
              "parentLayerId": -1,
              "subLayerIds": null
             }
            ],
            "mapName": "India Basemap",
            "maxScale": 577790.554289,
            "minScale": 73957190.948944,
            "modified": null,
            "name": "India_Bnd_G",
            "server": "gHHix49exJauUOEM",
            "serviceDescription": "",
            "singleFusedMapCache": true,
            "spatialReference": {
             "wkid": 102100
            },
            "status": "created",
            "supportedImageFormatTypes": "PNG",
            "tables": [],
            "tileInfo": {
             "cols": 256,
             "compressionQuality": 0,
             "dpi": 96,
             "format": "PNG",
             "lods": [
              {
               "level": 0,
               "resolution": 156543.03392800014,
               "scale": 591657527.591555
              },
              {
               "level": 1,
               "resolution": 78271.51696399994,
               "scale": 295828763.795777
              },
              {
               "level": 2,
               "resolution": 39135.75848200009,
               "scale": 147914381.897889
              },
              {
               "level": 3,
               "resolution": 19567.87924099992,
               "scale": 73957190.948944
              },
              {
               "level": 4,
               "resolution": 9783.93962049996,
               "scale": 36978595.474472
              },
              {
               "level": 5,
               "resolution": 4891.96981024998,
               "scale": 18489297.737236
              },
              {
               "level": 6,
               "resolution": 2445.98490512499,
               "scale": 9244648.868618
              },
              {
               "level": 7,
               "resolution": 1222.992452562495,
               "scale": 4622324.434309
              },
              {
               "level": 8,
               "resolution": 611.4962262813797,
               "scale": 2311162.217155
              },
              {
               "level": 9,
               "resolution": 305.74811314055756,
               "scale": 1155581.108577
              },
              {
               "level": 10,
               "resolution": 152.87405657041106,
               "scale": 577790.554289
              },
              {
               "level": 11,
               "resolution": 76.43702828507324,
               "scale": 288895.277144
              },
              {
               "level": 12,
               "resolution": 38.21851414253662,
               "scale": 144447.638572
              },
              {
               "level": 13,
               "resolution": 19.10925707126831,
               "scale": 72223.819286
              },
              {
               "level": 14,
               "resolution": 9.554628535634155,
               "scale": 36111.909643
              },
              {
               "level": 15,
               "resolution": 4.77731426794937,
               "scale": 18055.954822
              },
              {
               "level": 16,
               "resolution": 2.388657133974685,
               "scale": 9027.977411
              },
              {
               "level": 17,
               "resolution": 1.1943285668550503,
               "scale": 4513.988705
              },
              {
               "level": 18,
               "resolution": 0.5971642835598172,
               "scale": 2256.994353
              },
              {
               "level": 19,
               "resolution": 0.29858214164761665,
               "scale": 1128.497176
              }
             ],
             "origin": {
              "x": -20037508.342787,
              "y": 20037508.342787
             },
             "rows": 256,
             "spatialReference": {
              "wkid": 102100,
              "wkt": "PROJCS[\"WGS_1984_Web_Mercator_Auxiliary_Sphere\",GEOGCS[\"GCS_WGS_1984\",DATUM[\"D_WGS_1984\",SPHEROID[\"WGS_1984\",6378137.0,298.257223563]],PRIMEM[\"Greenwich\",0.0],UNIT[\"Degree\",0.0174532925199433]],PROJECTION[\"Mercator_Auxiliary_Sphere\"],PARAMETER[\"False_Easting\",0.0],PARAMETER[\"False_Northing\",0.0],PARAMETER[\"Central_Meridian\",0.0],PARAMETER[\"Standard_Parallel_1\",0.0],PARAMETER[\"Auxiliary_Sphere_Type\",0.0],UNIT[\"Meter\",1.0],AUTHORITY[\"EPSG\",3857]]"
             }
            },
            "tileServers": [
             "https://tiles1.arcgis.com/tiles/gHHix49exJauUOEM/arcgis/rest/services/India_Bnd_G/MapServer",
             "https://tiles2.arcgis.com/tiles/gHHix49exJauUOEM/arcgis/rest/services/India_Bnd_G/MapServer",
             "https://tiles3.arcgis.com/tiles/gHHix49exJauUOEM/arcgis/rest/services/India_Bnd_G/MapServer",
             "https://tiles4.arcgis.com/tiles/gHHix49exJauUOEM/arcgis/rest/services/India_Bnd_G/MapServer"
            ],
            "type": "MapServer",
            "units": "esriMeters"
           },
           "url": "https://tiles.arcgis.com/tiles/gHHix49exJauUOEM/arcgis/rest/services/India_Bnd_G/MapServer",
           "visibility": true
          }
         ],
         "title": "Topographic"
        }
       },
       "_overlay_these_images_on_widget_load": [],
       "_portal_sharing_rest_url": "https://www.arcgis.com/sharing/rest/",
       "_portal_url": "https://www.arcgis.com",
       "_readonly_webmap_from_js": {
        "basemap": {
         "baseMapLayers": [
          {
           "layerType": "ArcGISTiledMapServiceLayer",
           "opacity": 1,
           "resourceInfo": {
            "capabilities": "Map,Tilemap,Query,Data",
            "copyrightText": "Sources: Esri, HERE, DeLorme, Intermap, increment P Corp., GEBCO, USGS, FAO, NPS, NRCAN, GeoBase, IGN, Kadaster NL, Ordnance Survey, Esri Japan, METI, Esri China (Hong Kong), swisstopo, MapmyIndia, © OpenStreetMap contributors, and the GIS User Community",
            "currentVersion": 10.3,
            "description": "This map is designed to be used as a basemap by GIS professionals and as a reference map by anyone. The map includes administrative boundaries, cities, water features, physiographic features, parks, landmarks, highways, roads, railways, and airports overlaid on land cover and shaded relief imagery for added context. The map provides coverage for the world down to a scale of ~1:72k. Coverage is provided down to ~1:4k for the following areas: Australia and New Zealand; India; Europe; Canada; Mexico; the continental United States and Hawaii; South America and Central America; Africa; and most of the Middle East. Coverage down to ~1:1k and ~1:2k is available in select urban areas. This basemap was compiled from a variety of best available sources from several data providers, including the U.S. Geological Survey (USGS), U.S. Environmental Protection Agency (EPA), U.S. National Park Service (NPS), Food and Agriculture Organization of the United Nations (FAO), Department of Natural Resources Canada (NRCAN), GeoBase, Agriculture and Agri-Food Canada, DeLorme, HERE, Esri, OpenStreetMap contributors, and the GIS User Community. For more information on this map, including our terms of use, visit us online at http://goto.arcgisonline.com/maps/World_Topo_Map",
            "documentInfo": {
             "AntialiasingMode": "None",
             "Author": "Esri",
             "Category": "imageryBaseMapsEarthCover (Imagery, basemaps, and land cover)",
             "Comments": "",
             "Keywords": "World,Global,Europe,North America,South America,Southern Africa,Australia,New Zealand,India",
             "Subject": "topographic, topography, administrative boundaries, cities, water features, physiographic features, parks, landmarks, highways, roads, railways, airports, land cover, shaded relief imagery",
             "TextAntialiasingMode": "Force",
             "Title": "World Topographic Map"
            },
            "exportTilesAllowed": false,
            "fullExtent": {
             "spatialReference": {
              "latestWkid": 3857,
              "wkid": 102100
             },
             "xmax": 20037507.067161843,
             "xmin": -20037507.067161843,
             "ymax": 19971868.88040863,
             "ymin": -19971868.880408604
            },
            "initialExtent": {
             "spatialReference": {
              "latestWkid": 3857,
              "wkid": 102100
             },
             "xmax": 28848255.049479112,
             "xmin": -28848255.049479112,
             "ymax": 16430757.376790084,
             "ymin": -2077452.082122866
            },
            "layers": [
             {
              "defaultVisibility": false,
              "id": 0,
              "maxScale": 0,
              "minScale": 0,
              "name": "Citations",
              "parentLayerId": -1,
              "subLayerIds": null
             }
            ],
            "mapName": "Layers",
            "maxImageHeight": 4096,
            "maxImageWidth": 4096,
            "maxRecordCount": 100,
            "maxScale": 70.5310735,
            "minScale": 591657527.591555,
            "serviceDescription": "This map is designed to be used as a basemap by GIS professionals and as a reference map by anyone. The map includes administrative boundaries, cities, water features, physiographic features, parks, landmarks, highways, roads, railways, and airports overlaid on land cover and shaded relief imagery for added context. The map provides coverage for the world down to a scale of ~1:72k. Coverage is provided down to ~1:4k for the following areas: Australia and New Zealand; India; Europe; Canada; Mexico; the continental United States and Hawaii; South America and Central America; Africa; and most of the Middle East. Coverage down to ~1:1k and ~1:2k is available in select urban areas. This basemap was compiled from a variety of best available sources from several data providers, including the U.S. Geological Survey (USGS), U.S. Environmental Protection Agency (EPA), U.S. National Park Service (NPS), Food and Agriculture Organization of the United Nations (FAO), Department of Natural Resources Canada (NRCAN), GeoBase, Agriculture and Agri-Food Canada, DeLorme, HERE, Esri, OpenStreetMap contributors, and the GIS User Community. For more information on this map, including the terms of use, visit us <a href=\"http://goto.arcgisonline.com/maps/World_Topo_Map \" target=\"_new\" >online</a>.",
            "singleFusedMapCache": true,
            "spatialReference": {
             "latestWkid": 3857,
             "wkid": 102100
            },
            "supportedExtensions": "KmlServer",
            "supportedImageFormatTypes": "PNG32,PNG24,PNG,JPG,DIB,TIFF,EMF,PS,PDF,GIF,SVG,SVGZ,BMP",
            "supportedQueryFormats": "JSON, AMF",
            "supportsDynamicLayers": false,
            "tables": [],
            "tileInfo": {
             "cols": 256,
             "compressionQuality": 90,
             "dpi": 96,
             "format": "JPEG",
             "lods": [
              {
               "level": 0,
               "resolution": 156543.03392800014,
               "scale": 591657527.591555
              },
              {
               "level": 1,
               "resolution": 78271.51696399994,
               "scale": 295828763.795777
              },
              {
               "level": 2,
               "resolution": 39135.75848200009,
               "scale": 147914381.897889
              },
              {
               "level": 3,
               "resolution": 19567.87924099992,
               "scale": 73957190.948944
              },
              {
               "level": 4,
               "resolution": 9783.93962049996,
               "scale": 36978595.474472
              },
              {
               "level": 5,
               "resolution": 4891.96981024998,
               "scale": 18489297.737236
              },
              {
               "level": 6,
               "resolution": 2445.98490512499,
               "scale": 9244648.868618
              },
              {
               "level": 7,
               "resolution": 1222.992452562495,
               "scale": 4622324.434309
              },
              {
               "level": 8,
               "resolution": 611.4962262813797,
               "scale": 2311162.217155
              },
              {
               "level": 9,
               "resolution": 305.74811314055756,
               "scale": 1155581.108577
              },
              {
               "level": 10,
               "resolution": 152.87405657041106,
               "scale": 577790.554289
              },
              {
               "level": 11,
               "resolution": 76.43702828507324,
               "scale": 288895.277144
              },
              {
               "level": 12,
               "resolution": 38.21851414253662,
               "scale": 144447.638572
              },
              {
               "level": 13,
               "resolution": 19.10925707126831,
               "scale": 72223.819286
              },
              {
               "level": 14,
               "resolution": 9.554628535634155,
               "scale": 36111.909643
              },
              {
               "level": 15,
               "resolution": 4.77731426794937,
               "scale": 18055.954822
              },
              {
               "level": 16,
               "resolution": 2.388657133974685,
               "scale": 9027.977411
              },
              {
               "level": 17,
               "resolution": 1.1943285668550503,
               "scale": 4513.988705
              },
              {
               "level": 18,
               "resolution": 0.5971642835598172,
               "scale": 2256.994353
              },
              {
               "level": 19,
               "resolution": 0.29858214164761665,
               "scale": 1128.497176
              },
              {
               "level": 20,
               "resolution": 0.14929107082380833,
               "scale": 564.248588
              },
              {
               "level": 21,
               "resolution": 0.07464553541190416,
               "scale": 282.124294
              },
              {
               "level": 22,
               "resolution": 0.03732276770595208,
               "scale": 141.062147
              },
              {
               "level": 23,
               "resolution": 0.01866138385297604,
               "scale": 70.5310735
              }
             ],
             "origin": {
              "x": -20037508.342787,
              "y": 20037508.342787
             },
             "rows": 256,
             "spatialReference": {
              "latestWkid": 3857,
              "wkid": 102100
             }
            },
            "units": "esriMeters"
           },
           "url": "https://services.arcgisonline.com/ArcGIS/rest/services/World_Topo_Map/MapServer",
           "visibility": true
          },
          {
           "id": "Streetmap_MMI_8695",
           "layerType": "ArcGISTiledMapServiceLayer",
           "maxScale": 1128,
           "minScale": 288895,
           "opacity": 1,
           "resourceInfo": {
            "access": "SECURE",
            "capabilities": "Map,TilesOnly",
            "copyrightText": "Sources: Esri, MapmyIndia, DeLorme, METI/NASA",
            "currentVersion": 10.31,
            "description": "<span style='color: rgb(0, 0, 0); font-family: Verdana, sans-serif; line-height: 17.33333396911621px; background-color: rgb(255, 255, 255);'>This India topographic map overlay presents physical features and street-level data for India. This comprehensive topographic map includes highways, major roads, minor roads, one-way arrow indicators, railways, water features, administrative boundaries, cities, parks, landmarks, physical feature labels, spot elevations, and contours overlaid on shaded relief imagery for added context. The map also includes building footprints for selected areas. Coverage is provided down to ~1:4k country-wide with ~1:1k and ~1:2k data available in select urban areas. The street map was developed by Esri using MapmyIndia data layers, including administrative boundaries, from CE Info Systems. Additional data sources from DeLorme basemap layers, and METI/NASA data for shaded relief.</span>",
            "documentInfo": {
             "AntialiasingMode": "Fast",
             "Author": "",
             "Category": "",
             "Comments": "",
             "Keywords": "",
             "Subject": "",
             "TextAntialiasingMode": "Force",
             "Title": "",
             "author": "Esri_Content",
             "category": "",
             "comments": "",
             "credits": "Sources: Esri, MapmyIndia, DeLorme, METI/NASA",
             "keywords": "India, Topomap, highways, roads, transportation, landmarks, parks, basemap, community, community basemap, map, MapmyIndia",
             "subject": "This topographic map overlay presents physical features and street-level data from MapmyIndia for India.",
             "title": "World_Topomap_MMI"
            },
            "exportTilesAllowed": false,
            "fullExtent": {
             "spatialReference": {
              "wkid": 102100,
              "wkt": null
             },
             "xmax": 12523442.714243297,
             "xmin": 7514065.628545973,
             "ymax": 5009377.085753329,
             "ymin": 7.450580596923828e-09
            },
            "id": "94ef359ef51f7205",
            "initialExtent": {
             "spatialReference": {
              "wkid": 102100,
              "wkt": null
             },
             "xmax": 12523442.714243297,
             "xmin": 7514065.628545973,
             "ymax": 5009377.085753329,
             "ymin": 7.450580596923828e-09
            },
            "layers": [
             {
              "defaultVisibility": false,
              "id": 0,
              "maxScale": 0,
              "minScale": 0,
              "name": "world",
              "parentLayerId": -1,
              "subLayerIds": null
             }
            ],
            "mapName": "Layers",
            "maxExportTilesCount": 100000,
            "maxScale": 1128.497176,
            "minScale": 288895.277144,
            "name": "World_Topomap_MMI",
            "resampling": false,
            "server": "P3ePLMYs2RVChkJx",
            "serviceDescription": "",
            "singleFusedMapCache": true,
            "spatialReference": {
             "wkid": 102100,
             "wkt": null
            },
            "status": "created",
            "supportedImageFormatTypes": "JPEG",
            "tables": [],
            "tileInfo": {
             "cols": 256,
             "compressionQuality": 90,
             "dpi": 96,
             "format": "JPEG",
             "lods": [
              {
               "level": 0,
               "resolution": 156543.03392800014,
               "scale": 591657527.591555
              },
              {
               "level": 1,
               "resolution": 78271.51696399994,
               "scale": 295828763.795777
              },
              {
               "level": 2,
               "resolution": 39135.75848200009,
               "scale": 147914381.897889
              },
              {
               "level": 3,
               "resolution": 19567.87924099992,
               "scale": 73957190.948944
              },
              {
               "level": 4,
               "resolution": 9783.93962049996,
               "scale": 36978595.474472
              },
              {
               "level": 5,
               "resolution": 4891.96981024998,
               "scale": 18489297.737236
              },
              {
               "level": 6,
               "resolution": 2445.98490512499,
               "scale": 9244648.868618
              },
              {
               "level": 7,
               "resolution": 1222.992452562495,
               "scale": 4622324.434309
              },
              {
               "level": 8,
               "resolution": 611.4962262813797,
               "scale": 2311162.217155
              },
              {
               "level": 9,
               "resolution": 305.74811314055756,
               "scale": 1155581.108577
              },
              {
               "level": 10,
               "resolution": 152.87405657041106,
               "scale": 577790.554289
              },
              {
               "level": 11,
               "resolution": 76.43702828507324,
               "scale": 288895.277144
              },
              {
               "level": 12,
               "resolution": 38.21851414253662,
               "scale": 144447.638572
              },
              {
               "level": 13,
               "resolution": 19.10925707126831,
               "scale": 72223.819286
              },
              {
               "level": 14,
               "resolution": 9.554628535634155,
               "scale": 36111.909643
              },
              {
               "level": 15,
               "resolution": 4.77731426794937,
               "scale": 18055.954822
              },
              {
               "level": 16,
               "resolution": 2.388657133974685,
               "scale": 9027.977411
              },
              {
               "level": 17,
               "resolution": 1.1943285668550503,
               "scale": 4513.988705
              },
              {
               "level": 18,
               "resolution": 0.5971642835598172,
               "scale": 2256.994353
              },
              {
               "level": 19,
               "resolution": 0.29858214164761665,
               "scale": 1128.497176
              }
             ],
             "origin": {
              "x": -20037508.342787,
              "y": 20037508.342787
             },
             "rows": 256,
             "spatialReference": {
              "wkid": 102100,
              "wkt": "PROJCS[\"WGS_1984_Web_Mercator_Auxiliary_Sphere\",GEOGCS[\"GCS_WGS_1984\",DATUM[\"D_WGS_1984\",SPHEROID[\"WGS_1984\",6378137.0,298.257223563]],PRIMEM[\"Greenwich\",0.0],UNIT[\"Degree\",0.0174532925199433]],PROJECTION[\"Mercator_Auxiliary_Sphere\"],PARAMETER[\"False_Easting\",0.0],PARAMETER[\"False_Northing\",0.0],PARAMETER[\"Central_Meridian\",0.0],PARAMETER[\"Standard_Parallel_1\",0.0],PARAMETER[\"Auxiliary_Sphere_Type\",0.0],UNIT[\"Meter\",1.0],AUTHORITY[\"EPSG\",3857]]"
             },
             "storageFormat": "esriMapCacheStorageModeCompact"
            },
            "tileServers": [
             "http://tiles1.arcgis.com/tiles/P3ePLMYs2RVChkJx/arcgis/rest/services/World_Topomap_MMI/MapServer",
             "http://tiles2.arcgis.com/tiles/P3ePLMYs2RVChkJx/arcgis/rest/services/World_Topomap_MMI/MapServer",
             "http://tiles3.arcgis.com/tiles/P3ePLMYs2RVChkJx/arcgis/rest/services/World_Topomap_MMI/MapServer",
             "http://tiles4.arcgis.com/tiles/P3ePLMYs2RVChkJx/arcgis/rest/services/World_Topomap_MMI/MapServer"
            ],
            "type": "MapServer",
            "units": "esriMeters"
           },
           "url": "https://tiles.arcgis.com/tiles/P3ePLMYs2RVChkJx/arcgis/rest/services/World_Topomap_MMI/MapServer",
           "visibility": true
          },
          {
           "id": "India_Bnd_G_5793",
           "isReference": true,
           "layerType": "ArcGISTiledMapServiceLayer",
           "opacity": 1,
           "resourceInfo": {
            "access": "SECURE",
            "capabilities": "Map",
            "copyrightText": "Mxd assembled by Corey LaMar",
            "created": null,
            "currentVersion": 10.1,
            "description": "This mxd contains the political boundaries used in StreetMap 5.1 as  political boundaries overlay  Currency: 73m to 577k (StreetMap 4.1 (5.0) 288k to 72k (StreetMap 5.1) Delorme 36k to 1k (StreetMap 5.1 ) Navteq",
            "documentInfo": {
             "AntialiasingMode": "Best",
             "Author": "AGOL Teams Members",
             "Category": "",
             "Comments": "This mxd contains the political boundaries used in StreetMap 5.1 as a starting point for Esri India to create their own political boundaries overlay\n\nCurrency:\n73m to 577k (StreetMap 4.1 (5.0)\n288k to 72k (StreetMap 5.1) Delorme\n36k to 1k (StreetMap 5.1 ) Navteq",
             "Keywords": "Inda Disputed International Boundaries",
             "Subject": "Create 2/2/13 Copies of StMap Int Bnd 73m to1k caching levels",
             "TextAntialiasingMode": "Force",
             "Title": "Int_Bnd_for_Esri_India_Work",
             "author": "cimmy68",
             "category": "",
             "comments": "",
             "credits": "Mxd assembled by Corey LaMar",
             "keywords": "Inda International Boundaries",
             "subject": "Create 2/2/13 Copies of StMap Int Bnd 73m to1k caching levels",
             "title": "India_Bnd_G"
            },
            "fullExtent": {
             "spatialReference": {
              "wkid": 102100
             },
             "xmax": 10843895.843899999,
             "xmin": 7508245.0923000015,
             "ymax": 4451373.3320999965,
             "ymin": 753623.2256000005
            },
            "id": "bc7c3277ec65f602",
            "initialExtent": {
             "spatialReference": {
              "wkid": 102100
             },
             "xmax": 13053038.616388625,
             "xmin": 5299102.319811376,
             "ymax": 4636260.837424996,
             "ymin": 2675256.394233431
            },
            "layers": [
             {
              "defaultVisibility": true,
              "id": 0,
              "maxScale": 0,
              "minScale": 0,
              "name": "India",
              "parentLayerId": -1,
              "subLayerIds": null
             }
            ],
            "mapName": "India Basemap",
            "maxScale": 577790.554289,
            "minScale": 73957190.948944,
            "modified": null,
            "name": "India_Bnd_G",
            "server": "gHHix49exJauUOEM",
            "serviceDescription": "",
            "singleFusedMapCache": true,
            "spatialReference": {
             "wkid": 102100
            },
            "status": "created",
            "supportedImageFormatTypes": "PNG",
            "tables": [],
            "tileInfo": {
             "cols": 256,
             "compressionQuality": 0,
             "dpi": 96,
             "format": "PNG",
             "lods": [
              {
               "level": 0,
               "resolution": 156543.03392800014,
               "scale": 591657527.591555
              },
              {
               "level": 1,
               "resolution": 78271.51696399994,
               "scale": 295828763.795777
              },
              {
               "level": 2,
               "resolution": 39135.75848200009,
               "scale": 147914381.897889
              },
              {
               "level": 3,
               "resolution": 19567.87924099992,
               "scale": 73957190.948944
              },
              {
               "level": 4,
               "resolution": 9783.93962049996,
               "scale": 36978595.474472
              },
              {
               "level": 5,
               "resolution": 4891.96981024998,
               "scale": 18489297.737236
              },
              {
               "level": 6,
               "resolution": 2445.98490512499,
               "scale": 9244648.868618
              },
              {
               "level": 7,
               "resolution": 1222.992452562495,
               "scale": 4622324.434309
              },
              {
               "level": 8,
               "resolution": 611.4962262813797,
               "scale": 2311162.217155
              },
              {
               "level": 9,
               "resolution": 305.74811314055756,
               "scale": 1155581.108577
              },
              {
               "level": 10,
               "resolution": 152.87405657041106,
               "scale": 577790.554289
              },
              {
               "level": 11,
               "resolution": 76.43702828507324,
               "scale": 288895.277144
              },
              {
               "level": 12,
               "resolution": 38.21851414253662,
               "scale": 144447.638572
              },
              {
               "level": 13,
               "resolution": 19.10925707126831,
               "scale": 72223.819286
              },
              {
               "level": 14,
               "resolution": 9.554628535634155,
               "scale": 36111.909643
              },
              {
               "level": 15,
               "resolution": 4.77731426794937,
               "scale": 18055.954822
              },
              {
               "level": 16,
               "resolution": 2.388657133974685,
               "scale": 9027.977411
              },
              {
               "level": 17,
               "resolution": 1.1943285668550503,
               "scale": 4513.988705
              },
              {
               "level": 18,
               "resolution": 0.5971642835598172,
               "scale": 2256.994353
              },
              {
               "level": 19,
               "resolution": 0.29858214164761665,
               "scale": 1128.497176
              }
             ],
             "origin": {
              "x": -20037508.342787,
              "y": 20037508.342787
             },
             "rows": 256,
             "spatialReference": {
              "wkid": 102100,
              "wkt": "PROJCS[\"WGS_1984_Web_Mercator_Auxiliary_Sphere\",GEOGCS[\"GCS_WGS_1984\",DATUM[\"D_WGS_1984\",SPHEROID[\"WGS_1984\",6378137.0,298.257223563]],PRIMEM[\"Greenwich\",0.0],UNIT[\"Degree\",0.0174532925199433]],PROJECTION[\"Mercator_Auxiliary_Sphere\"],PARAMETER[\"False_Easting\",0.0],PARAMETER[\"False_Northing\",0.0],PARAMETER[\"Central_Meridian\",0.0],PARAMETER[\"Standard_Parallel_1\",0.0],PARAMETER[\"Auxiliary_Sphere_Type\",0.0],UNIT[\"Meter\",1.0],AUTHORITY[\"EPSG\",3857]]"
             }
            },
            "tileServers": [
             "https://tiles1.arcgis.com/tiles/gHHix49exJauUOEM/arcgis/rest/services/India_Bnd_G/MapServer",
             "https://tiles2.arcgis.com/tiles/gHHix49exJauUOEM/arcgis/rest/services/India_Bnd_G/MapServer",
             "https://tiles3.arcgis.com/tiles/gHHix49exJauUOEM/arcgis/rest/services/India_Bnd_G/MapServer",
             "https://tiles4.arcgis.com/tiles/gHHix49exJauUOEM/arcgis/rest/services/India_Bnd_G/MapServer"
            ],
            "type": "MapServer",
            "units": "esriMeters"
           },
           "url": "https://tiles.arcgis.com/tiles/gHHix49exJauUOEM/arcgis/rest/services/India_Bnd_G/MapServer",
           "visibility": true
          }
         ],
         "title": "Topographic"
        },
        "ground": {
         "layers": [
          {
           "id": "worldElevation",
           "layerType": "ArcGISTiledElevationServiceLayer",
           "listMode": "show",
           "title": "Terrain3D",
           "url": "https://elevation3d.arcgis.com/arcgis/rest/services/WorldElevation3D/Terrain3D/ImageServer",
           "visibility": true
          }
         ],
         "transparency": 0
        },
        "layers": []
       },
       "_username": "None",
       "_uuid": "3838fd26-cee8-40f7-a69c-e990f75d2a2a",
       "jupyter_target": "notebook",
       "layout": "IPY_MODEL_2c5c6ebfe6c449b1b93b220fc765cdb9",
       "print_service_url": "",
       "tilt": 0
      }
     },
     "38637ea5b6b54d06a18f2bd63d8006fd": {
      "model_module": "arcgis-map-ipywidget",
      "model_module_version": "1.8.2",
      "model_name": "ArcGISMapIPyWidgetModel",
      "state": {
       "_auth_mode": "anonymous",
       "_basemap": "default",
       "_draw_these_graphics_on_widget_load": [],
       "_draw_these_notype_layers_on_widget_load": [],
       "_gallery_basemaps": {
        "default": {
         "baseMapLayers": [
          {
           "layerType": "ArcGISTiledMapServiceLayer",
           "opacity": 1,
           "resourceInfo": {
            "capabilities": "Map,Tilemap,Query,Data",
            "copyrightText": "Sources: Esri, HERE, DeLorme, Intermap, increment P Corp., GEBCO, USGS, FAO, NPS, NRCAN, GeoBase, IGN, Kadaster NL, Ordnance Survey, Esri Japan, METI, Esri China (Hong Kong), swisstopo, MapmyIndia, © OpenStreetMap contributors, and the GIS User Community",
            "currentVersion": 10.3,
            "description": "This map is designed to be used as a basemap by GIS professionals and as a reference map by anyone. The map includes administrative boundaries, cities, water features, physiographic features, parks, landmarks, highways, roads, railways, and airports overlaid on land cover and shaded relief imagery for added context. The map provides coverage for the world down to a scale of ~1:72k. Coverage is provided down to ~1:4k for the following areas: Australia and New Zealand; India; Europe; Canada; Mexico; the continental United States and Hawaii; South America and Central America; Africa; and most of the Middle East. Coverage down to ~1:1k and ~1:2k is available in select urban areas. This basemap was compiled from a variety of best available sources from several data providers, including the U.S. Geological Survey (USGS), U.S. Environmental Protection Agency (EPA), U.S. National Park Service (NPS), Food and Agriculture Organization of the United Nations (FAO), Department of Natural Resources Canada (NRCAN), GeoBase, Agriculture and Agri-Food Canada, DeLorme, HERE, Esri, OpenStreetMap contributors, and the GIS User Community. For more information on this map, including our terms of use, visit us online at http://goto.arcgisonline.com/maps/World_Topo_Map",
            "documentInfo": {
             "AntialiasingMode": "None",
             "Author": "Esri",
             "Category": "imageryBaseMapsEarthCover (Imagery, basemaps, and land cover)",
             "Comments": "",
             "Keywords": "World,Global,Europe,North America,South America,Southern Africa,Australia,New Zealand,India",
             "Subject": "topographic, topography, administrative boundaries, cities, water features, physiographic features, parks, landmarks, highways, roads, railways, airports, land cover, shaded relief imagery",
             "TextAntialiasingMode": "Force",
             "Title": "World Topographic Map"
            },
            "exportTilesAllowed": false,
            "fullExtent": {
             "spatialReference": {
              "latestWkid": 3857,
              "wkid": 102100
             },
             "xmax": 20037507.067161843,
             "xmin": -20037507.067161843,
             "ymax": 19971868.88040863,
             "ymin": -19971868.880408604
            },
            "initialExtent": {
             "spatialReference": {
              "latestWkid": 3857,
              "wkid": 102100
             },
             "xmax": 28848255.049479112,
             "xmin": -28848255.049479112,
             "ymax": 16430757.376790084,
             "ymin": -2077452.082122866
            },
            "layers": [
             {
              "defaultVisibility": false,
              "id": 0,
              "maxScale": 0,
              "minScale": 0,
              "name": "Citations",
              "parentLayerId": -1,
              "subLayerIds": null
             }
            ],
            "mapName": "Layers",
            "maxImageHeight": 4096,
            "maxImageWidth": 4096,
            "maxRecordCount": 100,
            "maxScale": 70.5310735,
            "minScale": 591657527.591555,
            "serviceDescription": "This map is designed to be used as a basemap by GIS professionals and as a reference map by anyone. The map includes administrative boundaries, cities, water features, physiographic features, parks, landmarks, highways, roads, railways, and airports overlaid on land cover and shaded relief imagery for added context. The map provides coverage for the world down to a scale of ~1:72k. Coverage is provided down to ~1:4k for the following areas: Australia and New Zealand; India; Europe; Canada; Mexico; the continental United States and Hawaii; South America and Central America; Africa; and most of the Middle East. Coverage down to ~1:1k and ~1:2k is available in select urban areas. This basemap was compiled from a variety of best available sources from several data providers, including the U.S. Geological Survey (USGS), U.S. Environmental Protection Agency (EPA), U.S. National Park Service (NPS), Food and Agriculture Organization of the United Nations (FAO), Department of Natural Resources Canada (NRCAN), GeoBase, Agriculture and Agri-Food Canada, DeLorme, HERE, Esri, OpenStreetMap contributors, and the GIS User Community. For more information on this map, including the terms of use, visit us <a href=\"http://goto.arcgisonline.com/maps/World_Topo_Map \" target=\"_new\" >online</a>.",
            "singleFusedMapCache": true,
            "spatialReference": {
             "latestWkid": 3857,
             "wkid": 102100
            },
            "supportedExtensions": "KmlServer",
            "supportedImageFormatTypes": "PNG32,PNG24,PNG,JPG,DIB,TIFF,EMF,PS,PDF,GIF,SVG,SVGZ,BMP",
            "supportedQueryFormats": "JSON, AMF",
            "supportsDynamicLayers": false,
            "tables": [],
            "tileInfo": {
             "cols": 256,
             "compressionQuality": 90,
             "dpi": 96,
             "format": "JPEG",
             "lods": [
              {
               "level": 0,
               "resolution": 156543.03392800014,
               "scale": 591657527.591555
              },
              {
               "level": 1,
               "resolution": 78271.51696399994,
               "scale": 295828763.795777
              },
              {
               "level": 2,
               "resolution": 39135.75848200009,
               "scale": 147914381.897889
              },
              {
               "level": 3,
               "resolution": 19567.87924099992,
               "scale": 73957190.948944
              },
              {
               "level": 4,
               "resolution": 9783.93962049996,
               "scale": 36978595.474472
              },
              {
               "level": 5,
               "resolution": 4891.96981024998,
               "scale": 18489297.737236
              },
              {
               "level": 6,
               "resolution": 2445.98490512499,
               "scale": 9244648.868618
              },
              {
               "level": 7,
               "resolution": 1222.992452562495,
               "scale": 4622324.434309
              },
              {
               "level": 8,
               "resolution": 611.4962262813797,
               "scale": 2311162.217155
              },
              {
               "level": 9,
               "resolution": 305.74811314055756,
               "scale": 1155581.108577
              },
              {
               "level": 10,
               "resolution": 152.87405657041106,
               "scale": 577790.554289
              },
              {
               "level": 11,
               "resolution": 76.43702828507324,
               "scale": 288895.277144
              },
              {
               "level": 12,
               "resolution": 38.21851414253662,
               "scale": 144447.638572
              },
              {
               "level": 13,
               "resolution": 19.10925707126831,
               "scale": 72223.819286
              },
              {
               "level": 14,
               "resolution": 9.554628535634155,
               "scale": 36111.909643
              },
              {
               "level": 15,
               "resolution": 4.77731426794937,
               "scale": 18055.954822
              },
              {
               "level": 16,
               "resolution": 2.388657133974685,
               "scale": 9027.977411
              },
              {
               "level": 17,
               "resolution": 1.1943285668550503,
               "scale": 4513.988705
              },
              {
               "level": 18,
               "resolution": 0.5971642835598172,
               "scale": 2256.994353
              },
              {
               "level": 19,
               "resolution": 0.29858214164761665,
               "scale": 1128.497176
              },
              {
               "level": 20,
               "resolution": 0.14929107082380833,
               "scale": 564.248588
              },
              {
               "level": 21,
               "resolution": 0.07464553541190416,
               "scale": 282.124294
              },
              {
               "level": 22,
               "resolution": 0.03732276770595208,
               "scale": 141.062147
              },
              {
               "level": 23,
               "resolution": 0.01866138385297604,
               "scale": 70.5310735
              }
             ],
             "origin": {
              "x": -20037508.342787,
              "y": 20037508.342787
             },
             "rows": 256,
             "spatialReference": {
              "latestWkid": 3857,
              "wkid": 102100
             }
            },
            "units": "esriMeters"
           },
           "url": "https://services.arcgisonline.com/ArcGIS/rest/services/World_Topo_Map/MapServer",
           "visibility": true
          },
          {
           "id": "Streetmap_MMI_8695",
           "layerType": "ArcGISTiledMapServiceLayer",
           "maxScale": 1128,
           "minScale": 288895,
           "opacity": 1,
           "resourceInfo": {
            "access": "SECURE",
            "capabilities": "Map,TilesOnly",
            "copyrightText": "Sources: Esri, MapmyIndia, DeLorme, METI/NASA",
            "currentVersion": 10.31,
            "description": "<span style='color: rgb(0, 0, 0); font-family: Verdana, sans-serif; line-height: 17.33333396911621px; background-color: rgb(255, 255, 255);'>This India topographic map overlay presents physical features and street-level data for India. This comprehensive topographic map includes highways, major roads, minor roads, one-way arrow indicators, railways, water features, administrative boundaries, cities, parks, landmarks, physical feature labels, spot elevations, and contours overlaid on shaded relief imagery for added context. The map also includes building footprints for selected areas. Coverage is provided down to ~1:4k country-wide with ~1:1k and ~1:2k data available in select urban areas. The street map was developed by Esri using MapmyIndia data layers, including administrative boundaries, from CE Info Systems. Additional data sources from DeLorme basemap layers, and METI/NASA data for shaded relief.</span>",
            "documentInfo": {
             "AntialiasingMode": "Fast",
             "Author": "",
             "Category": "",
             "Comments": "",
             "Keywords": "",
             "Subject": "",
             "TextAntialiasingMode": "Force",
             "Title": "",
             "author": "Esri_Content",
             "category": "",
             "comments": "",
             "credits": "Sources: Esri, MapmyIndia, DeLorme, METI/NASA",
             "keywords": "India, Topomap, highways, roads, transportation, landmarks, parks, basemap, community, community basemap, map, MapmyIndia",
             "subject": "This topographic map overlay presents physical features and street-level data from MapmyIndia for India.",
             "title": "World_Topomap_MMI"
            },
            "exportTilesAllowed": false,
            "fullExtent": {
             "spatialReference": {
              "wkid": 102100,
              "wkt": null
             },
             "xmax": 12523442.714243297,
             "xmin": 7514065.628545973,
             "ymax": 5009377.085753329,
             "ymin": 7.450580596923828e-09
            },
            "id": "94ef359ef51f7205",
            "initialExtent": {
             "spatialReference": {
              "wkid": 102100,
              "wkt": null
             },
             "xmax": 12523442.714243297,
             "xmin": 7514065.628545973,
             "ymax": 5009377.085753329,
             "ymin": 7.450580596923828e-09
            },
            "layers": [
             {
              "defaultVisibility": false,
              "id": 0,
              "maxScale": 0,
              "minScale": 0,
              "name": "world",
              "parentLayerId": -1,
              "subLayerIds": null
             }
            ],
            "mapName": "Layers",
            "maxExportTilesCount": 100000,
            "maxScale": 1128.497176,
            "minScale": 288895.277144,
            "name": "World_Topomap_MMI",
            "resampling": false,
            "server": "P3ePLMYs2RVChkJx",
            "serviceDescription": "",
            "singleFusedMapCache": true,
            "spatialReference": {
             "wkid": 102100,
             "wkt": null
            },
            "status": "created",
            "supportedImageFormatTypes": "JPEG",
            "tables": [],
            "tileInfo": {
             "cols": 256,
             "compressionQuality": 90,
             "dpi": 96,
             "format": "JPEG",
             "lods": [
              {
               "level": 0,
               "resolution": 156543.03392800014,
               "scale": 591657527.591555
              },
              {
               "level": 1,
               "resolution": 78271.51696399994,
               "scale": 295828763.795777
              },
              {
               "level": 2,
               "resolution": 39135.75848200009,
               "scale": 147914381.897889
              },
              {
               "level": 3,
               "resolution": 19567.87924099992,
               "scale": 73957190.948944
              },
              {
               "level": 4,
               "resolution": 9783.93962049996,
               "scale": 36978595.474472
              },
              {
               "level": 5,
               "resolution": 4891.96981024998,
               "scale": 18489297.737236
              },
              {
               "level": 6,
               "resolution": 2445.98490512499,
               "scale": 9244648.868618
              },
              {
               "level": 7,
               "resolution": 1222.992452562495,
               "scale": 4622324.434309
              },
              {
               "level": 8,
               "resolution": 611.4962262813797,
               "scale": 2311162.217155
              },
              {
               "level": 9,
               "resolution": 305.74811314055756,
               "scale": 1155581.108577
              },
              {
               "level": 10,
               "resolution": 152.87405657041106,
               "scale": 577790.554289
              },
              {
               "level": 11,
               "resolution": 76.43702828507324,
               "scale": 288895.277144
              },
              {
               "level": 12,
               "resolution": 38.21851414253662,
               "scale": 144447.638572
              },
              {
               "level": 13,
               "resolution": 19.10925707126831,
               "scale": 72223.819286
              },
              {
               "level": 14,
               "resolution": 9.554628535634155,
               "scale": 36111.909643
              },
              {
               "level": 15,
               "resolution": 4.77731426794937,
               "scale": 18055.954822
              },
              {
               "level": 16,
               "resolution": 2.388657133974685,
               "scale": 9027.977411
              },
              {
               "level": 17,
               "resolution": 1.1943285668550503,
               "scale": 4513.988705
              },
              {
               "level": 18,
               "resolution": 0.5971642835598172,
               "scale": 2256.994353
              },
              {
               "level": 19,
               "resolution": 0.29858214164761665,
               "scale": 1128.497176
              }
             ],
             "origin": {
              "x": -20037508.342787,
              "y": 20037508.342787
             },
             "rows": 256,
             "spatialReference": {
              "wkid": 102100,
              "wkt": "PROJCS[\"WGS_1984_Web_Mercator_Auxiliary_Sphere\",GEOGCS[\"GCS_WGS_1984\",DATUM[\"D_WGS_1984\",SPHEROID[\"WGS_1984\",6378137.0,298.257223563]],PRIMEM[\"Greenwich\",0.0],UNIT[\"Degree\",0.0174532925199433]],PROJECTION[\"Mercator_Auxiliary_Sphere\"],PARAMETER[\"False_Easting\",0.0],PARAMETER[\"False_Northing\",0.0],PARAMETER[\"Central_Meridian\",0.0],PARAMETER[\"Standard_Parallel_1\",0.0],PARAMETER[\"Auxiliary_Sphere_Type\",0.0],UNIT[\"Meter\",1.0],AUTHORITY[\"EPSG\",3857]]"
             },
             "storageFormat": "esriMapCacheStorageModeCompact"
            },
            "tileServers": [
             "http://tiles1.arcgis.com/tiles/P3ePLMYs2RVChkJx/arcgis/rest/services/World_Topomap_MMI/MapServer",
             "http://tiles2.arcgis.com/tiles/P3ePLMYs2RVChkJx/arcgis/rest/services/World_Topomap_MMI/MapServer",
             "http://tiles3.arcgis.com/tiles/P3ePLMYs2RVChkJx/arcgis/rest/services/World_Topomap_MMI/MapServer",
             "http://tiles4.arcgis.com/tiles/P3ePLMYs2RVChkJx/arcgis/rest/services/World_Topomap_MMI/MapServer"
            ],
            "type": "MapServer",
            "units": "esriMeters"
           },
           "url": "https://tiles.arcgis.com/tiles/P3ePLMYs2RVChkJx/arcgis/rest/services/World_Topomap_MMI/MapServer",
           "visibility": true
          },
          {
           "id": "India_Bnd_G_5793",
           "isReference": true,
           "layerType": "ArcGISTiledMapServiceLayer",
           "opacity": 1,
           "resourceInfo": {
            "access": "SECURE",
            "capabilities": "Map",
            "copyrightText": "Mxd assembled by Corey LaMar",
            "created": null,
            "currentVersion": 10.1,
            "description": "This mxd contains the political boundaries used in StreetMap 5.1 as  political boundaries overlay  Currency: 73m to 577k (StreetMap 4.1 (5.0) 288k to 72k (StreetMap 5.1) Delorme 36k to 1k (StreetMap 5.1 ) Navteq",
            "documentInfo": {
             "AntialiasingMode": "Best",
             "Author": "AGOL Teams Members",
             "Category": "",
             "Comments": "This mxd contains the political boundaries used in StreetMap 5.1 as a starting point for Esri India to create their own political boundaries overlay\n\nCurrency:\n73m to 577k (StreetMap 4.1 (5.0)\n288k to 72k (StreetMap 5.1) Delorme\n36k to 1k (StreetMap 5.1 ) Navteq",
             "Keywords": "Inda Disputed International Boundaries",
             "Subject": "Create 2/2/13 Copies of StMap Int Bnd 73m to1k caching levels",
             "TextAntialiasingMode": "Force",
             "Title": "Int_Bnd_for_Esri_India_Work",
             "author": "cimmy68",
             "category": "",
             "comments": "",
             "credits": "Mxd assembled by Corey LaMar",
             "keywords": "Inda International Boundaries",
             "subject": "Create 2/2/13 Copies of StMap Int Bnd 73m to1k caching levels",
             "title": "India_Bnd_G"
            },
            "fullExtent": {
             "spatialReference": {
              "wkid": 102100
             },
             "xmax": 10843895.843899999,
             "xmin": 7508245.0923000015,
             "ymax": 4451373.3320999965,
             "ymin": 753623.2256000005
            },
            "id": "bc7c3277ec65f602",
            "initialExtent": {
             "spatialReference": {
              "wkid": 102100
             },
             "xmax": 13053038.616388625,
             "xmin": 5299102.319811376,
             "ymax": 4636260.837424996,
             "ymin": 2675256.394233431
            },
            "layers": [
             {
              "defaultVisibility": true,
              "id": 0,
              "maxScale": 0,
              "minScale": 0,
              "name": "India",
              "parentLayerId": -1,
              "subLayerIds": null
             }
            ],
            "mapName": "India Basemap",
            "maxScale": 577790.554289,
            "minScale": 73957190.948944,
            "modified": null,
            "name": "India_Bnd_G",
            "server": "gHHix49exJauUOEM",
            "serviceDescription": "",
            "singleFusedMapCache": true,
            "spatialReference": {
             "wkid": 102100
            },
            "status": "created",
            "supportedImageFormatTypes": "PNG",
            "tables": [],
            "tileInfo": {
             "cols": 256,
             "compressionQuality": 0,
             "dpi": 96,
             "format": "PNG",
             "lods": [
              {
               "level": 0,
               "resolution": 156543.03392800014,
               "scale": 591657527.591555
              },
              {
               "level": 1,
               "resolution": 78271.51696399994,
               "scale": 295828763.795777
              },
              {
               "level": 2,
               "resolution": 39135.75848200009,
               "scale": 147914381.897889
              },
              {
               "level": 3,
               "resolution": 19567.87924099992,
               "scale": 73957190.948944
              },
              {
               "level": 4,
               "resolution": 9783.93962049996,
               "scale": 36978595.474472
              },
              {
               "level": 5,
               "resolution": 4891.96981024998,
               "scale": 18489297.737236
              },
              {
               "level": 6,
               "resolution": 2445.98490512499,
               "scale": 9244648.868618
              },
              {
               "level": 7,
               "resolution": 1222.992452562495,
               "scale": 4622324.434309
              },
              {
               "level": 8,
               "resolution": 611.4962262813797,
               "scale": 2311162.217155
              },
              {
               "level": 9,
               "resolution": 305.74811314055756,
               "scale": 1155581.108577
              },
              {
               "level": 10,
               "resolution": 152.87405657041106,
               "scale": 577790.554289
              },
              {
               "level": 11,
               "resolution": 76.43702828507324,
               "scale": 288895.277144
              },
              {
               "level": 12,
               "resolution": 38.21851414253662,
               "scale": 144447.638572
              },
              {
               "level": 13,
               "resolution": 19.10925707126831,
               "scale": 72223.819286
              },
              {
               "level": 14,
               "resolution": 9.554628535634155,
               "scale": 36111.909643
              },
              {
               "level": 15,
               "resolution": 4.77731426794937,
               "scale": 18055.954822
              },
              {
               "level": 16,
               "resolution": 2.388657133974685,
               "scale": 9027.977411
              },
              {
               "level": 17,
               "resolution": 1.1943285668550503,
               "scale": 4513.988705
              },
              {
               "level": 18,
               "resolution": 0.5971642835598172,
               "scale": 2256.994353
              },
              {
               "level": 19,
               "resolution": 0.29858214164761665,
               "scale": 1128.497176
              }
             ],
             "origin": {
              "x": -20037508.342787,
              "y": 20037508.342787
             },
             "rows": 256,
             "spatialReference": {
              "wkid": 102100,
              "wkt": "PROJCS[\"WGS_1984_Web_Mercator_Auxiliary_Sphere\",GEOGCS[\"GCS_WGS_1984\",DATUM[\"D_WGS_1984\",SPHEROID[\"WGS_1984\",6378137.0,298.257223563]],PRIMEM[\"Greenwich\",0.0],UNIT[\"Degree\",0.0174532925199433]],PROJECTION[\"Mercator_Auxiliary_Sphere\"],PARAMETER[\"False_Easting\",0.0],PARAMETER[\"False_Northing\",0.0],PARAMETER[\"Central_Meridian\",0.0],PARAMETER[\"Standard_Parallel_1\",0.0],PARAMETER[\"Auxiliary_Sphere_Type\",0.0],UNIT[\"Meter\",1.0],AUTHORITY[\"EPSG\",3857]]"
             }
            },
            "tileServers": [
             "https://tiles1.arcgis.com/tiles/gHHix49exJauUOEM/arcgis/rest/services/India_Bnd_G/MapServer",
             "https://tiles2.arcgis.com/tiles/gHHix49exJauUOEM/arcgis/rest/services/India_Bnd_G/MapServer",
             "https://tiles3.arcgis.com/tiles/gHHix49exJauUOEM/arcgis/rest/services/India_Bnd_G/MapServer",
             "https://tiles4.arcgis.com/tiles/gHHix49exJauUOEM/arcgis/rest/services/India_Bnd_G/MapServer"
            ],
            "type": "MapServer",
            "units": "esriMeters"
           },
           "url": "https://tiles.arcgis.com/tiles/gHHix49exJauUOEM/arcgis/rest/services/India_Bnd_G/MapServer",
           "visibility": true
          }
         ],
         "title": "Topographic"
        }
       },
       "_overlay_these_images_on_widget_load": [],
       "_portal_sharing_rest_url": "https://www.arcgis.com/sharing/rest/",
       "_portal_url": "https://www.arcgis.com",
       "_readonly_webmap_from_js": {
        "basemap": {
         "baseMapLayers": [
          {
           "layerType": "ArcGISTiledMapServiceLayer",
           "opacity": 1,
           "resourceInfo": {
            "capabilities": "Map,Tilemap,Query,Data",
            "copyrightText": "Sources: Esri, HERE, DeLorme, Intermap, increment P Corp., GEBCO, USGS, FAO, NPS, NRCAN, GeoBase, IGN, Kadaster NL, Ordnance Survey, Esri Japan, METI, Esri China (Hong Kong), swisstopo, MapmyIndia, © OpenStreetMap contributors, and the GIS User Community",
            "currentVersion": 10.3,
            "description": "This map is designed to be used as a basemap by GIS professionals and as a reference map by anyone. The map includes administrative boundaries, cities, water features, physiographic features, parks, landmarks, highways, roads, railways, and airports overlaid on land cover and shaded relief imagery for added context. The map provides coverage for the world down to a scale of ~1:72k. Coverage is provided down to ~1:4k for the following areas: Australia and New Zealand; India; Europe; Canada; Mexico; the continental United States and Hawaii; South America and Central America; Africa; and most of the Middle East. Coverage down to ~1:1k and ~1:2k is available in select urban areas. This basemap was compiled from a variety of best available sources from several data providers, including the U.S. Geological Survey (USGS), U.S. Environmental Protection Agency (EPA), U.S. National Park Service (NPS), Food and Agriculture Organization of the United Nations (FAO), Department of Natural Resources Canada (NRCAN), GeoBase, Agriculture and Agri-Food Canada, DeLorme, HERE, Esri, OpenStreetMap contributors, and the GIS User Community. For more information on this map, including our terms of use, visit us online at http://goto.arcgisonline.com/maps/World_Topo_Map",
            "documentInfo": {
             "AntialiasingMode": "None",
             "Author": "Esri",
             "Category": "imageryBaseMapsEarthCover (Imagery, basemaps, and land cover)",
             "Comments": "",
             "Keywords": "World,Global,Europe,North America,South America,Southern Africa,Australia,New Zealand,India",
             "Subject": "topographic, topography, administrative boundaries, cities, water features, physiographic features, parks, landmarks, highways, roads, railways, airports, land cover, shaded relief imagery",
             "TextAntialiasingMode": "Force",
             "Title": "World Topographic Map"
            },
            "exportTilesAllowed": false,
            "fullExtent": {
             "spatialReference": {
              "latestWkid": 3857,
              "wkid": 102100
             },
             "xmax": 20037507.067161843,
             "xmin": -20037507.067161843,
             "ymax": 19971868.88040863,
             "ymin": -19971868.880408604
            },
            "initialExtent": {
             "spatialReference": {
              "latestWkid": 3857,
              "wkid": 102100
             },
             "xmax": 28848255.049479112,
             "xmin": -28848255.049479112,
             "ymax": 16430757.376790084,
             "ymin": -2077452.082122866
            },
            "layers": [
             {
              "defaultVisibility": false,
              "id": 0,
              "maxScale": 0,
              "minScale": 0,
              "name": "Citations",
              "parentLayerId": -1,
              "subLayerIds": null
             }
            ],
            "mapName": "Layers",
            "maxImageHeight": 4096,
            "maxImageWidth": 4096,
            "maxRecordCount": 100,
            "maxScale": 70.5310735,
            "minScale": 591657527.591555,
            "serviceDescription": "This map is designed to be used as a basemap by GIS professionals and as a reference map by anyone. The map includes administrative boundaries, cities, water features, physiographic features, parks, landmarks, highways, roads, railways, and airports overlaid on land cover and shaded relief imagery for added context. The map provides coverage for the world down to a scale of ~1:72k. Coverage is provided down to ~1:4k for the following areas: Australia and New Zealand; India; Europe; Canada; Mexico; the continental United States and Hawaii; South America and Central America; Africa; and most of the Middle East. Coverage down to ~1:1k and ~1:2k is available in select urban areas. This basemap was compiled from a variety of best available sources from several data providers, including the U.S. Geological Survey (USGS), U.S. Environmental Protection Agency (EPA), U.S. National Park Service (NPS), Food and Agriculture Organization of the United Nations (FAO), Department of Natural Resources Canada (NRCAN), GeoBase, Agriculture and Agri-Food Canada, DeLorme, HERE, Esri, OpenStreetMap contributors, and the GIS User Community. For more information on this map, including the terms of use, visit us <a href=\"http://goto.arcgisonline.com/maps/World_Topo_Map \" target=\"_new\" >online</a>.",
            "singleFusedMapCache": true,
            "spatialReference": {
             "latestWkid": 3857,
             "wkid": 102100
            },
            "supportedExtensions": "KmlServer",
            "supportedImageFormatTypes": "PNG32,PNG24,PNG,JPG,DIB,TIFF,EMF,PS,PDF,GIF,SVG,SVGZ,BMP",
            "supportedQueryFormats": "JSON, AMF",
            "supportsDynamicLayers": false,
            "tables": [],
            "tileInfo": {
             "cols": 256,
             "compressionQuality": 90,
             "dpi": 96,
             "format": "JPEG",
             "lods": [
              {
               "level": 0,
               "resolution": 156543.03392800014,
               "scale": 591657527.591555
              },
              {
               "level": 1,
               "resolution": 78271.51696399994,
               "scale": 295828763.795777
              },
              {
               "level": 2,
               "resolution": 39135.75848200009,
               "scale": 147914381.897889
              },
              {
               "level": 3,
               "resolution": 19567.87924099992,
               "scale": 73957190.948944
              },
              {
               "level": 4,
               "resolution": 9783.93962049996,
               "scale": 36978595.474472
              },
              {
               "level": 5,
               "resolution": 4891.96981024998,
               "scale": 18489297.737236
              },
              {
               "level": 6,
               "resolution": 2445.98490512499,
               "scale": 9244648.868618
              },
              {
               "level": 7,
               "resolution": 1222.992452562495,
               "scale": 4622324.434309
              },
              {
               "level": 8,
               "resolution": 611.4962262813797,
               "scale": 2311162.217155
              },
              {
               "level": 9,
               "resolution": 305.74811314055756,
               "scale": 1155581.108577
              },
              {
               "level": 10,
               "resolution": 152.87405657041106,
               "scale": 577790.554289
              },
              {
               "level": 11,
               "resolution": 76.43702828507324,
               "scale": 288895.277144
              },
              {
               "level": 12,
               "resolution": 38.21851414253662,
               "scale": 144447.638572
              },
              {
               "level": 13,
               "resolution": 19.10925707126831,
               "scale": 72223.819286
              },
              {
               "level": 14,
               "resolution": 9.554628535634155,
               "scale": 36111.909643
              },
              {
               "level": 15,
               "resolution": 4.77731426794937,
               "scale": 18055.954822
              },
              {
               "level": 16,
               "resolution": 2.388657133974685,
               "scale": 9027.977411
              },
              {
               "level": 17,
               "resolution": 1.1943285668550503,
               "scale": 4513.988705
              },
              {
               "level": 18,
               "resolution": 0.5971642835598172,
               "scale": 2256.994353
              },
              {
               "level": 19,
               "resolution": 0.29858214164761665,
               "scale": 1128.497176
              },
              {
               "level": 20,
               "resolution": 0.14929107082380833,
               "scale": 564.248588
              },
              {
               "level": 21,
               "resolution": 0.07464553541190416,
               "scale": 282.124294
              },
              {
               "level": 22,
               "resolution": 0.03732276770595208,
               "scale": 141.062147
              },
              {
               "level": 23,
               "resolution": 0.01866138385297604,
               "scale": 70.5310735
              }
             ],
             "origin": {
              "x": -20037508.342787,
              "y": 20037508.342787
             },
             "rows": 256,
             "spatialReference": {
              "latestWkid": 3857,
              "wkid": 102100
             }
            },
            "units": "esriMeters"
           },
           "url": "https://services.arcgisonline.com/ArcGIS/rest/services/World_Topo_Map/MapServer",
           "visibility": true
          },
          {
           "id": "Streetmap_MMI_8695",
           "layerType": "ArcGISTiledMapServiceLayer",
           "maxScale": 1128,
           "minScale": 288895,
           "opacity": 1,
           "resourceInfo": {
            "access": "SECURE",
            "capabilities": "Map,TilesOnly",
            "copyrightText": "Sources: Esri, MapmyIndia, DeLorme, METI/NASA",
            "currentVersion": 10.31,
            "description": "<span style='color: rgb(0, 0, 0); font-family: Verdana, sans-serif; line-height: 17.33333396911621px; background-color: rgb(255, 255, 255);'>This India topographic map overlay presents physical features and street-level data for India. This comprehensive topographic map includes highways, major roads, minor roads, one-way arrow indicators, railways, water features, administrative boundaries, cities, parks, landmarks, physical feature labels, spot elevations, and contours overlaid on shaded relief imagery for added context. The map also includes building footprints for selected areas. Coverage is provided down to ~1:4k country-wide with ~1:1k and ~1:2k data available in select urban areas. The street map was developed by Esri using MapmyIndia data layers, including administrative boundaries, from CE Info Systems. Additional data sources from DeLorme basemap layers, and METI/NASA data for shaded relief.</span>",
            "documentInfo": {
             "AntialiasingMode": "Fast",
             "Author": "",
             "Category": "",
             "Comments": "",
             "Keywords": "",
             "Subject": "",
             "TextAntialiasingMode": "Force",
             "Title": "",
             "author": "Esri_Content",
             "category": "",
             "comments": "",
             "credits": "Sources: Esri, MapmyIndia, DeLorme, METI/NASA",
             "keywords": "India, Topomap, highways, roads, transportation, landmarks, parks, basemap, community, community basemap, map, MapmyIndia",
             "subject": "This topographic map overlay presents physical features and street-level data from MapmyIndia for India.",
             "title": "World_Topomap_MMI"
            },
            "exportTilesAllowed": false,
            "fullExtent": {
             "spatialReference": {
              "wkid": 102100,
              "wkt": null
             },
             "xmax": 12523442.714243297,
             "xmin": 7514065.628545973,
             "ymax": 5009377.085753329,
             "ymin": 7.450580596923828e-09
            },
            "id": "94ef359ef51f7205",
            "initialExtent": {
             "spatialReference": {
              "wkid": 102100,
              "wkt": null
             },
             "xmax": 12523442.714243297,
             "xmin": 7514065.628545973,
             "ymax": 5009377.085753329,
             "ymin": 7.450580596923828e-09
            },
            "layers": [
             {
              "defaultVisibility": false,
              "id": 0,
              "maxScale": 0,
              "minScale": 0,
              "name": "world",
              "parentLayerId": -1,
              "subLayerIds": null
             }
            ],
            "mapName": "Layers",
            "maxExportTilesCount": 100000,
            "maxScale": 1128.497176,
            "minScale": 288895.277144,
            "name": "World_Topomap_MMI",
            "resampling": false,
            "server": "P3ePLMYs2RVChkJx",
            "serviceDescription": "",
            "singleFusedMapCache": true,
            "spatialReference": {
             "wkid": 102100,
             "wkt": null
            },
            "status": "created",
            "supportedImageFormatTypes": "JPEG",
            "tables": [],
            "tileInfo": {
             "cols": 256,
             "compressionQuality": 90,
             "dpi": 96,
             "format": "JPEG",
             "lods": [
              {
               "level": 0,
               "resolution": 156543.03392800014,
               "scale": 591657527.591555
              },
              {
               "level": 1,
               "resolution": 78271.51696399994,
               "scale": 295828763.795777
              },
              {
               "level": 2,
               "resolution": 39135.75848200009,
               "scale": 147914381.897889
              },
              {
               "level": 3,
               "resolution": 19567.87924099992,
               "scale": 73957190.948944
              },
              {
               "level": 4,
               "resolution": 9783.93962049996,
               "scale": 36978595.474472
              },
              {
               "level": 5,
               "resolution": 4891.96981024998,
               "scale": 18489297.737236
              },
              {
               "level": 6,
               "resolution": 2445.98490512499,
               "scale": 9244648.868618
              },
              {
               "level": 7,
               "resolution": 1222.992452562495,
               "scale": 4622324.434309
              },
              {
               "level": 8,
               "resolution": 611.4962262813797,
               "scale": 2311162.217155
              },
              {
               "level": 9,
               "resolution": 305.74811314055756,
               "scale": 1155581.108577
              },
              {
               "level": 10,
               "resolution": 152.87405657041106,
               "scale": 577790.554289
              },
              {
               "level": 11,
               "resolution": 76.43702828507324,
               "scale": 288895.277144
              },
              {
               "level": 12,
               "resolution": 38.21851414253662,
               "scale": 144447.638572
              },
              {
               "level": 13,
               "resolution": 19.10925707126831,
               "scale": 72223.819286
              },
              {
               "level": 14,
               "resolution": 9.554628535634155,
               "scale": 36111.909643
              },
              {
               "level": 15,
               "resolution": 4.77731426794937,
               "scale": 18055.954822
              },
              {
               "level": 16,
               "resolution": 2.388657133974685,
               "scale": 9027.977411
              },
              {
               "level": 17,
               "resolution": 1.1943285668550503,
               "scale": 4513.988705
              },
              {
               "level": 18,
               "resolution": 0.5971642835598172,
               "scale": 2256.994353
              },
              {
               "level": 19,
               "resolution": 0.29858214164761665,
               "scale": 1128.497176
              }
             ],
             "origin": {
              "x": -20037508.342787,
              "y": 20037508.342787
             },
             "rows": 256,
             "spatialReference": {
              "wkid": 102100,
              "wkt": "PROJCS[\"WGS_1984_Web_Mercator_Auxiliary_Sphere\",GEOGCS[\"GCS_WGS_1984\",DATUM[\"D_WGS_1984\",SPHEROID[\"WGS_1984\",6378137.0,298.257223563]],PRIMEM[\"Greenwich\",0.0],UNIT[\"Degree\",0.0174532925199433]],PROJECTION[\"Mercator_Auxiliary_Sphere\"],PARAMETER[\"False_Easting\",0.0],PARAMETER[\"False_Northing\",0.0],PARAMETER[\"Central_Meridian\",0.0],PARAMETER[\"Standard_Parallel_1\",0.0],PARAMETER[\"Auxiliary_Sphere_Type\",0.0],UNIT[\"Meter\",1.0],AUTHORITY[\"EPSG\",3857]]"
             },
             "storageFormat": "esriMapCacheStorageModeCompact"
            },
            "tileServers": [
             "http://tiles1.arcgis.com/tiles/P3ePLMYs2RVChkJx/arcgis/rest/services/World_Topomap_MMI/MapServer",
             "http://tiles2.arcgis.com/tiles/P3ePLMYs2RVChkJx/arcgis/rest/services/World_Topomap_MMI/MapServer",
             "http://tiles3.arcgis.com/tiles/P3ePLMYs2RVChkJx/arcgis/rest/services/World_Topomap_MMI/MapServer",
             "http://tiles4.arcgis.com/tiles/P3ePLMYs2RVChkJx/arcgis/rest/services/World_Topomap_MMI/MapServer"
            ],
            "type": "MapServer",
            "units": "esriMeters"
           },
           "url": "https://tiles.arcgis.com/tiles/P3ePLMYs2RVChkJx/arcgis/rest/services/World_Topomap_MMI/MapServer",
           "visibility": true
          },
          {
           "id": "India_Bnd_G_5793",
           "isReference": true,
           "layerType": "ArcGISTiledMapServiceLayer",
           "opacity": 1,
           "resourceInfo": {
            "access": "SECURE",
            "capabilities": "Map",
            "copyrightText": "Mxd assembled by Corey LaMar",
            "created": null,
            "currentVersion": 10.1,
            "description": "This mxd contains the political boundaries used in StreetMap 5.1 as  political boundaries overlay  Currency: 73m to 577k (StreetMap 4.1 (5.0) 288k to 72k (StreetMap 5.1) Delorme 36k to 1k (StreetMap 5.1 ) Navteq",
            "documentInfo": {
             "AntialiasingMode": "Best",
             "Author": "AGOL Teams Members",
             "Category": "",
             "Comments": "This mxd contains the political boundaries used in StreetMap 5.1 as a starting point for Esri India to create their own political boundaries overlay\n\nCurrency:\n73m to 577k (StreetMap 4.1 (5.0)\n288k to 72k (StreetMap 5.1) Delorme\n36k to 1k (StreetMap 5.1 ) Navteq",
             "Keywords": "Inda Disputed International Boundaries",
             "Subject": "Create 2/2/13 Copies of StMap Int Bnd 73m to1k caching levels",
             "TextAntialiasingMode": "Force",
             "Title": "Int_Bnd_for_Esri_India_Work",
             "author": "cimmy68",
             "category": "",
             "comments": "",
             "credits": "Mxd assembled by Corey LaMar",
             "keywords": "Inda International Boundaries",
             "subject": "Create 2/2/13 Copies of StMap Int Bnd 73m to1k caching levels",
             "title": "India_Bnd_G"
            },
            "fullExtent": {
             "spatialReference": {
              "wkid": 102100
             },
             "xmax": 10843895.843899999,
             "xmin": 7508245.0923000015,
             "ymax": 4451373.3320999965,
             "ymin": 753623.2256000005
            },
            "id": "bc7c3277ec65f602",
            "initialExtent": {
             "spatialReference": {
              "wkid": 102100
             },
             "xmax": 13053038.616388625,
             "xmin": 5299102.319811376,
             "ymax": 4636260.837424996,
             "ymin": 2675256.394233431
            },
            "layers": [
             {
              "defaultVisibility": true,
              "id": 0,
              "maxScale": 0,
              "minScale": 0,
              "name": "India",
              "parentLayerId": -1,
              "subLayerIds": null
             }
            ],
            "mapName": "India Basemap",
            "maxScale": 577790.554289,
            "minScale": 73957190.948944,
            "modified": null,
            "name": "India_Bnd_G",
            "server": "gHHix49exJauUOEM",
            "serviceDescription": "",
            "singleFusedMapCache": true,
            "spatialReference": {
             "wkid": 102100
            },
            "status": "created",
            "supportedImageFormatTypes": "PNG",
            "tables": [],
            "tileInfo": {
             "cols": 256,
             "compressionQuality": 0,
             "dpi": 96,
             "format": "PNG",
             "lods": [
              {
               "level": 0,
               "resolution": 156543.03392800014,
               "scale": 591657527.591555
              },
              {
               "level": 1,
               "resolution": 78271.51696399994,
               "scale": 295828763.795777
              },
              {
               "level": 2,
               "resolution": 39135.75848200009,
               "scale": 147914381.897889
              },
              {
               "level": 3,
               "resolution": 19567.87924099992,
               "scale": 73957190.948944
              },
              {
               "level": 4,
               "resolution": 9783.93962049996,
               "scale": 36978595.474472
              },
              {
               "level": 5,
               "resolution": 4891.96981024998,
               "scale": 18489297.737236
              },
              {
               "level": 6,
               "resolution": 2445.98490512499,
               "scale": 9244648.868618
              },
              {
               "level": 7,
               "resolution": 1222.992452562495,
               "scale": 4622324.434309
              },
              {
               "level": 8,
               "resolution": 611.4962262813797,
               "scale": 2311162.217155
              },
              {
               "level": 9,
               "resolution": 305.74811314055756,
               "scale": 1155581.108577
              },
              {
               "level": 10,
               "resolution": 152.87405657041106,
               "scale": 577790.554289
              },
              {
               "level": 11,
               "resolution": 76.43702828507324,
               "scale": 288895.277144
              },
              {
               "level": 12,
               "resolution": 38.21851414253662,
               "scale": 144447.638572
              },
              {
               "level": 13,
               "resolution": 19.10925707126831,
               "scale": 72223.819286
              },
              {
               "level": 14,
               "resolution": 9.554628535634155,
               "scale": 36111.909643
              },
              {
               "level": 15,
               "resolution": 4.77731426794937,
               "scale": 18055.954822
              },
              {
               "level": 16,
               "resolution": 2.388657133974685,
               "scale": 9027.977411
              },
              {
               "level": 17,
               "resolution": 1.1943285668550503,
               "scale": 4513.988705
              },
              {
               "level": 18,
               "resolution": 0.5971642835598172,
               "scale": 2256.994353
              },
              {
               "level": 19,
               "resolution": 0.29858214164761665,
               "scale": 1128.497176
              }
             ],
             "origin": {
              "x": -20037508.342787,
              "y": 20037508.342787
             },
             "rows": 256,
             "spatialReference": {
              "wkid": 102100,
              "wkt": "PROJCS[\"WGS_1984_Web_Mercator_Auxiliary_Sphere\",GEOGCS[\"GCS_WGS_1984\",DATUM[\"D_WGS_1984\",SPHEROID[\"WGS_1984\",6378137.0,298.257223563]],PRIMEM[\"Greenwich\",0.0],UNIT[\"Degree\",0.0174532925199433]],PROJECTION[\"Mercator_Auxiliary_Sphere\"],PARAMETER[\"False_Easting\",0.0],PARAMETER[\"False_Northing\",0.0],PARAMETER[\"Central_Meridian\",0.0],PARAMETER[\"Standard_Parallel_1\",0.0],PARAMETER[\"Auxiliary_Sphere_Type\",0.0],UNIT[\"Meter\",1.0],AUTHORITY[\"EPSG\",3857]]"
             }
            },
            "tileServers": [
             "https://tiles1.arcgis.com/tiles/gHHix49exJauUOEM/arcgis/rest/services/India_Bnd_G/MapServer",
             "https://tiles2.arcgis.com/tiles/gHHix49exJauUOEM/arcgis/rest/services/India_Bnd_G/MapServer",
             "https://tiles3.arcgis.com/tiles/gHHix49exJauUOEM/arcgis/rest/services/India_Bnd_G/MapServer",
             "https://tiles4.arcgis.com/tiles/gHHix49exJauUOEM/arcgis/rest/services/India_Bnd_G/MapServer"
            ],
            "type": "MapServer",
            "units": "esriMeters"
           },
           "url": "https://tiles.arcgis.com/tiles/gHHix49exJauUOEM/arcgis/rest/services/India_Bnd_G/MapServer",
           "visibility": true
          }
         ],
         "title": "Topographic"
        },
        "ground": {
         "layers": [
          {
           "id": "worldElevation",
           "layerType": "ArcGISTiledElevationServiceLayer",
           "listMode": "show",
           "title": "Terrain3D",
           "url": "https://elevation3d.arcgis.com/arcgis/rest/services/WorldElevation3D/Terrain3D/ImageServer",
           "visibility": true
          }
         ],
         "transparency": 0
        },
        "layers": []
       },
       "_username": "None",
       "_uuid": "1e28cd0c-0334-4339-925e-fee787ebac75",
       "jupyter_target": "notebook",
       "layout": "IPY_MODEL_231c290abcd24114acc4ed7a174b7e26",
       "print_service_url": "",
       "tilt": 0
      }
     },
     "4cba459b86554e33896f56af9cb1a0ee": {
      "model_module": "@jupyter-widgets/base",
      "model_module_version": "1.2.0",
      "model_name": "LayoutModel",
      "state": {
       "height": "400px",
       "width": "100%"
      }
     },
     "513bed37210e428aae711ad45b7787c8": {
      "model_module": "@jupyter-widgets/base",
      "model_module_version": "1.2.0",
      "model_name": "LayoutModel",
      "state": {
       "height": "400px",
       "width": "100%"
      }
     },
     "5802081812214dd9b32422774de8873a": {
      "model_module": "@jupyter-widgets/base",
      "model_module_version": "1.2.0",
      "model_name": "LayoutModel",
      "state": {
       "height": "400px",
       "width": "100%"
      }
     },
     "763f95e221af462895d37e4e37907435": {
      "model_module": "arcgis-map-ipywidget",
      "model_module_version": "1.8.2",
      "model_name": "ArcGISMapIPyWidgetModel",
      "state": {
       "_auth_mode": "anonymous",
       "_basemap": "default",
       "_draw_these_graphics_on_widget_load": [],
       "_draw_these_notype_layers_on_widget_load": [],
       "_gallery_basemaps": {
        "default": {
         "baseMapLayers": [
          {
           "layerType": "ArcGISTiledMapServiceLayer",
           "opacity": 1,
           "resourceInfo": {
            "capabilities": "Map,Tilemap,Query,Data",
            "copyrightText": "Sources: Esri, HERE, DeLorme, Intermap, increment P Corp., GEBCO, USGS, FAO, NPS, NRCAN, GeoBase, IGN, Kadaster NL, Ordnance Survey, Esri Japan, METI, Esri China (Hong Kong), swisstopo, MapmyIndia, © OpenStreetMap contributors, and the GIS User Community",
            "currentVersion": 10.3,
            "description": "This map is designed to be used as a basemap by GIS professionals and as a reference map by anyone. The map includes administrative boundaries, cities, water features, physiographic features, parks, landmarks, highways, roads, railways, and airports overlaid on land cover and shaded relief imagery for added context. The map provides coverage for the world down to a scale of ~1:72k. Coverage is provided down to ~1:4k for the following areas: Australia and New Zealand; India; Europe; Canada; Mexico; the continental United States and Hawaii; South America and Central America; Africa; and most of the Middle East. Coverage down to ~1:1k and ~1:2k is available in select urban areas. This basemap was compiled from a variety of best available sources from several data providers, including the U.S. Geological Survey (USGS), U.S. Environmental Protection Agency (EPA), U.S. National Park Service (NPS), Food and Agriculture Organization of the United Nations (FAO), Department of Natural Resources Canada (NRCAN), GeoBase, Agriculture and Agri-Food Canada, DeLorme, HERE, Esri, OpenStreetMap contributors, and the GIS User Community. For more information on this map, including our terms of use, visit us online at http://goto.arcgisonline.com/maps/World_Topo_Map",
            "documentInfo": {
             "AntialiasingMode": "None",
             "Author": "Esri",
             "Category": "imageryBaseMapsEarthCover (Imagery, basemaps, and land cover)",
             "Comments": "",
             "Keywords": "World,Global,Europe,North America,South America,Southern Africa,Australia,New Zealand,India",
             "Subject": "topographic, topography, administrative boundaries, cities, water features, physiographic features, parks, landmarks, highways, roads, railways, airports, land cover, shaded relief imagery",
             "TextAntialiasingMode": "Force",
             "Title": "World Topographic Map"
            },
            "exportTilesAllowed": false,
            "fullExtent": {
             "spatialReference": {
              "latestWkid": 3857,
              "wkid": 102100
             },
             "xmax": 20037507.067161843,
             "xmin": -20037507.067161843,
             "ymax": 19971868.88040863,
             "ymin": -19971868.880408604
            },
            "initialExtent": {
             "spatialReference": {
              "latestWkid": 3857,
              "wkid": 102100
             },
             "xmax": 28848255.049479112,
             "xmin": -28848255.049479112,
             "ymax": 16430757.376790084,
             "ymin": -2077452.082122866
            },
            "layers": [
             {
              "defaultVisibility": false,
              "id": 0,
              "maxScale": 0,
              "minScale": 0,
              "name": "Citations",
              "parentLayerId": -1,
              "subLayerIds": null
             }
            ],
            "mapName": "Layers",
            "maxImageHeight": 4096,
            "maxImageWidth": 4096,
            "maxRecordCount": 100,
            "maxScale": 70.5310735,
            "minScale": 591657527.591555,
            "serviceDescription": "This map is designed to be used as a basemap by GIS professionals and as a reference map by anyone. The map includes administrative boundaries, cities, water features, physiographic features, parks, landmarks, highways, roads, railways, and airports overlaid on land cover and shaded relief imagery for added context. The map provides coverage for the world down to a scale of ~1:72k. Coverage is provided down to ~1:4k for the following areas: Australia and New Zealand; India; Europe; Canada; Mexico; the continental United States and Hawaii; South America and Central America; Africa; and most of the Middle East. Coverage down to ~1:1k and ~1:2k is available in select urban areas. This basemap was compiled from a variety of best available sources from several data providers, including the U.S. Geological Survey (USGS), U.S. Environmental Protection Agency (EPA), U.S. National Park Service (NPS), Food and Agriculture Organization of the United Nations (FAO), Department of Natural Resources Canada (NRCAN), GeoBase, Agriculture and Agri-Food Canada, DeLorme, HERE, Esri, OpenStreetMap contributors, and the GIS User Community. For more information on this map, including the terms of use, visit us <a href=\"http://goto.arcgisonline.com/maps/World_Topo_Map \" target=\"_new\" >online</a>.",
            "singleFusedMapCache": true,
            "spatialReference": {
             "latestWkid": 3857,
             "wkid": 102100
            },
            "supportedExtensions": "KmlServer",
            "supportedImageFormatTypes": "PNG32,PNG24,PNG,JPG,DIB,TIFF,EMF,PS,PDF,GIF,SVG,SVGZ,BMP",
            "supportedQueryFormats": "JSON, AMF",
            "supportsDynamicLayers": false,
            "tables": [],
            "tileInfo": {
             "cols": 256,
             "compressionQuality": 90,
             "dpi": 96,
             "format": "JPEG",
             "lods": [
              {
               "level": 0,
               "resolution": 156543.03392800014,
               "scale": 591657527.591555
              },
              {
               "level": 1,
               "resolution": 78271.51696399994,
               "scale": 295828763.795777
              },
              {
               "level": 2,
               "resolution": 39135.75848200009,
               "scale": 147914381.897889
              },
              {
               "level": 3,
               "resolution": 19567.87924099992,
               "scale": 73957190.948944
              },
              {
               "level": 4,
               "resolution": 9783.93962049996,
               "scale": 36978595.474472
              },
              {
               "level": 5,
               "resolution": 4891.96981024998,
               "scale": 18489297.737236
              },
              {
               "level": 6,
               "resolution": 2445.98490512499,
               "scale": 9244648.868618
              },
              {
               "level": 7,
               "resolution": 1222.992452562495,
               "scale": 4622324.434309
              },
              {
               "level": 8,
               "resolution": 611.4962262813797,
               "scale": 2311162.217155
              },
              {
               "level": 9,
               "resolution": 305.74811314055756,
               "scale": 1155581.108577
              },
              {
               "level": 10,
               "resolution": 152.87405657041106,
               "scale": 577790.554289
              },
              {
               "level": 11,
               "resolution": 76.43702828507324,
               "scale": 288895.277144
              },
              {
               "level": 12,
               "resolution": 38.21851414253662,
               "scale": 144447.638572
              },
              {
               "level": 13,
               "resolution": 19.10925707126831,
               "scale": 72223.819286
              },
              {
               "level": 14,
               "resolution": 9.554628535634155,
               "scale": 36111.909643
              },
              {
               "level": 15,
               "resolution": 4.77731426794937,
               "scale": 18055.954822
              },
              {
               "level": 16,
               "resolution": 2.388657133974685,
               "scale": 9027.977411
              },
              {
               "level": 17,
               "resolution": 1.1943285668550503,
               "scale": 4513.988705
              },
              {
               "level": 18,
               "resolution": 0.5971642835598172,
               "scale": 2256.994353
              },
              {
               "level": 19,
               "resolution": 0.29858214164761665,
               "scale": 1128.497176
              },
              {
               "level": 20,
               "resolution": 0.14929107082380833,
               "scale": 564.248588
              },
              {
               "level": 21,
               "resolution": 0.07464553541190416,
               "scale": 282.124294
              },
              {
               "level": 22,
               "resolution": 0.03732276770595208,
               "scale": 141.062147
              },
              {
               "level": 23,
               "resolution": 0.01866138385297604,
               "scale": 70.5310735
              }
             ],
             "origin": {
              "x": -20037508.342787,
              "y": 20037508.342787
             },
             "rows": 256,
             "spatialReference": {
              "latestWkid": 3857,
              "wkid": 102100
             }
            },
            "units": "esriMeters"
           },
           "url": "https://services.arcgisonline.com/ArcGIS/rest/services/World_Topo_Map/MapServer",
           "visibility": true
          },
          {
           "id": "Streetmap_MMI_8695",
           "layerType": "ArcGISTiledMapServiceLayer",
           "maxScale": 1128,
           "minScale": 288895,
           "opacity": 1,
           "resourceInfo": {
            "access": "SECURE",
            "capabilities": "Map,TilesOnly",
            "copyrightText": "Sources: Esri, MapmyIndia, DeLorme, METI/NASA",
            "currentVersion": 10.31,
            "description": "<span style='color: rgb(0, 0, 0); font-family: Verdana, sans-serif; line-height: 17.33333396911621px; background-color: rgb(255, 255, 255);'>This India topographic map overlay presents physical features and street-level data for India. This comprehensive topographic map includes highways, major roads, minor roads, one-way arrow indicators, railways, water features, administrative boundaries, cities, parks, landmarks, physical feature labels, spot elevations, and contours overlaid on shaded relief imagery for added context. The map also includes building footprints for selected areas. Coverage is provided down to ~1:4k country-wide with ~1:1k and ~1:2k data available in select urban areas. The street map was developed by Esri using MapmyIndia data layers, including administrative boundaries, from CE Info Systems. Additional data sources from DeLorme basemap layers, and METI/NASA data for shaded relief.</span>",
            "documentInfo": {
             "AntialiasingMode": "Fast",
             "Author": "",
             "Category": "",
             "Comments": "",
             "Keywords": "",
             "Subject": "",
             "TextAntialiasingMode": "Force",
             "Title": "",
             "author": "Esri_Content",
             "category": "",
             "comments": "",
             "credits": "Sources: Esri, MapmyIndia, DeLorme, METI/NASA",
             "keywords": "India, Topomap, highways, roads, transportation, landmarks, parks, basemap, community, community basemap, map, MapmyIndia",
             "subject": "This topographic map overlay presents physical features and street-level data from MapmyIndia for India.",
             "title": "World_Topomap_MMI"
            },
            "exportTilesAllowed": false,
            "fullExtent": {
             "spatialReference": {
              "wkid": 102100,
              "wkt": null
             },
             "xmax": 12523442.714243297,
             "xmin": 7514065.628545973,
             "ymax": 5009377.085753329,
             "ymin": 7.450580596923828e-09
            },
            "id": "94ef359ef51f7205",
            "initialExtent": {
             "spatialReference": {
              "wkid": 102100,
              "wkt": null
             },
             "xmax": 12523442.714243297,
             "xmin": 7514065.628545973,
             "ymax": 5009377.085753329,
             "ymin": 7.450580596923828e-09
            },
            "layers": [
             {
              "defaultVisibility": false,
              "id": 0,
              "maxScale": 0,
              "minScale": 0,
              "name": "world",
              "parentLayerId": -1,
              "subLayerIds": null
             }
            ],
            "mapName": "Layers",
            "maxExportTilesCount": 100000,
            "maxScale": 1128.497176,
            "minScale": 288895.277144,
            "name": "World_Topomap_MMI",
            "resampling": false,
            "server": "P3ePLMYs2RVChkJx",
            "serviceDescription": "",
            "singleFusedMapCache": true,
            "spatialReference": {
             "wkid": 102100,
             "wkt": null
            },
            "status": "created",
            "supportedImageFormatTypes": "JPEG",
            "tables": [],
            "tileInfo": {
             "cols": 256,
             "compressionQuality": 90,
             "dpi": 96,
             "format": "JPEG",
             "lods": [
              {
               "level": 0,
               "resolution": 156543.03392800014,
               "scale": 591657527.591555
              },
              {
               "level": 1,
               "resolution": 78271.51696399994,
               "scale": 295828763.795777
              },
              {
               "level": 2,
               "resolution": 39135.75848200009,
               "scale": 147914381.897889
              },
              {
               "level": 3,
               "resolution": 19567.87924099992,
               "scale": 73957190.948944
              },
              {
               "level": 4,
               "resolution": 9783.93962049996,
               "scale": 36978595.474472
              },
              {
               "level": 5,
               "resolution": 4891.96981024998,
               "scale": 18489297.737236
              },
              {
               "level": 6,
               "resolution": 2445.98490512499,
               "scale": 9244648.868618
              },
              {
               "level": 7,
               "resolution": 1222.992452562495,
               "scale": 4622324.434309
              },
              {
               "level": 8,
               "resolution": 611.4962262813797,
               "scale": 2311162.217155
              },
              {
               "level": 9,
               "resolution": 305.74811314055756,
               "scale": 1155581.108577
              },
              {
               "level": 10,
               "resolution": 152.87405657041106,
               "scale": 577790.554289
              },
              {
               "level": 11,
               "resolution": 76.43702828507324,
               "scale": 288895.277144
              },
              {
               "level": 12,
               "resolution": 38.21851414253662,
               "scale": 144447.638572
              },
              {
               "level": 13,
               "resolution": 19.10925707126831,
               "scale": 72223.819286
              },
              {
               "level": 14,
               "resolution": 9.554628535634155,
               "scale": 36111.909643
              },
              {
               "level": 15,
               "resolution": 4.77731426794937,
               "scale": 18055.954822
              },
              {
               "level": 16,
               "resolution": 2.388657133974685,
               "scale": 9027.977411
              },
              {
               "level": 17,
               "resolution": 1.1943285668550503,
               "scale": 4513.988705
              },
              {
               "level": 18,
               "resolution": 0.5971642835598172,
               "scale": 2256.994353
              },
              {
               "level": 19,
               "resolution": 0.29858214164761665,
               "scale": 1128.497176
              }
             ],
             "origin": {
              "x": -20037508.342787,
              "y": 20037508.342787
             },
             "rows": 256,
             "spatialReference": {
              "wkid": 102100,
              "wkt": "PROJCS[\"WGS_1984_Web_Mercator_Auxiliary_Sphere\",GEOGCS[\"GCS_WGS_1984\",DATUM[\"D_WGS_1984\",SPHEROID[\"WGS_1984\",6378137.0,298.257223563]],PRIMEM[\"Greenwich\",0.0],UNIT[\"Degree\",0.0174532925199433]],PROJECTION[\"Mercator_Auxiliary_Sphere\"],PARAMETER[\"False_Easting\",0.0],PARAMETER[\"False_Northing\",0.0],PARAMETER[\"Central_Meridian\",0.0],PARAMETER[\"Standard_Parallel_1\",0.0],PARAMETER[\"Auxiliary_Sphere_Type\",0.0],UNIT[\"Meter\",1.0],AUTHORITY[\"EPSG\",3857]]"
             },
             "storageFormat": "esriMapCacheStorageModeCompact"
            },
            "tileServers": [
             "http://tiles1.arcgis.com/tiles/P3ePLMYs2RVChkJx/arcgis/rest/services/World_Topomap_MMI/MapServer",
             "http://tiles2.arcgis.com/tiles/P3ePLMYs2RVChkJx/arcgis/rest/services/World_Topomap_MMI/MapServer",
             "http://tiles3.arcgis.com/tiles/P3ePLMYs2RVChkJx/arcgis/rest/services/World_Topomap_MMI/MapServer",
             "http://tiles4.arcgis.com/tiles/P3ePLMYs2RVChkJx/arcgis/rest/services/World_Topomap_MMI/MapServer"
            ],
            "type": "MapServer",
            "units": "esriMeters"
           },
           "url": "https://tiles.arcgis.com/tiles/P3ePLMYs2RVChkJx/arcgis/rest/services/World_Topomap_MMI/MapServer",
           "visibility": true
          },
          {
           "id": "India_Bnd_G_5793",
           "isReference": true,
           "layerType": "ArcGISTiledMapServiceLayer",
           "opacity": 1,
           "resourceInfo": {
            "access": "SECURE",
            "capabilities": "Map",
            "copyrightText": "Mxd assembled by Corey LaMar",
            "created": null,
            "currentVersion": 10.1,
            "description": "This mxd contains the political boundaries used in StreetMap 5.1 as  political boundaries overlay  Currency: 73m to 577k (StreetMap 4.1 (5.0) 288k to 72k (StreetMap 5.1) Delorme 36k to 1k (StreetMap 5.1 ) Navteq",
            "documentInfo": {
             "AntialiasingMode": "Best",
             "Author": "AGOL Teams Members",
             "Category": "",
             "Comments": "This mxd contains the political boundaries used in StreetMap 5.1 as a starting point for Esri India to create their own political boundaries overlay\n\nCurrency:\n73m to 577k (StreetMap 4.1 (5.0)\n288k to 72k (StreetMap 5.1) Delorme\n36k to 1k (StreetMap 5.1 ) Navteq",
             "Keywords": "Inda Disputed International Boundaries",
             "Subject": "Create 2/2/13 Copies of StMap Int Bnd 73m to1k caching levels",
             "TextAntialiasingMode": "Force",
             "Title": "Int_Bnd_for_Esri_India_Work",
             "author": "cimmy68",
             "category": "",
             "comments": "",
             "credits": "Mxd assembled by Corey LaMar",
             "keywords": "Inda International Boundaries",
             "subject": "Create 2/2/13 Copies of StMap Int Bnd 73m to1k caching levels",
             "title": "India_Bnd_G"
            },
            "fullExtent": {
             "spatialReference": {
              "wkid": 102100
             },
             "xmax": 10843895.843899999,
             "xmin": 7508245.0923000015,
             "ymax": 4451373.3320999965,
             "ymin": 753623.2256000005
            },
            "id": "bc7c3277ec65f602",
            "initialExtent": {
             "spatialReference": {
              "wkid": 102100
             },
             "xmax": 13053038.616388625,
             "xmin": 5299102.319811376,
             "ymax": 4636260.837424996,
             "ymin": 2675256.394233431
            },
            "layers": [
             {
              "defaultVisibility": true,
              "id": 0,
              "maxScale": 0,
              "minScale": 0,
              "name": "India",
              "parentLayerId": -1,
              "subLayerIds": null
             }
            ],
            "mapName": "India Basemap",
            "maxScale": 577790.554289,
            "minScale": 73957190.948944,
            "modified": null,
            "name": "India_Bnd_G",
            "server": "gHHix49exJauUOEM",
            "serviceDescription": "",
            "singleFusedMapCache": true,
            "spatialReference": {
             "wkid": 102100
            },
            "status": "created",
            "supportedImageFormatTypes": "PNG",
            "tables": [],
            "tileInfo": {
             "cols": 256,
             "compressionQuality": 0,
             "dpi": 96,
             "format": "PNG",
             "lods": [
              {
               "level": 0,
               "resolution": 156543.03392800014,
               "scale": 591657527.591555
              },
              {
               "level": 1,
               "resolution": 78271.51696399994,
               "scale": 295828763.795777
              },
              {
               "level": 2,
               "resolution": 39135.75848200009,
               "scale": 147914381.897889
              },
              {
               "level": 3,
               "resolution": 19567.87924099992,
               "scale": 73957190.948944
              },
              {
               "level": 4,
               "resolution": 9783.93962049996,
               "scale": 36978595.474472
              },
              {
               "level": 5,
               "resolution": 4891.96981024998,
               "scale": 18489297.737236
              },
              {
               "level": 6,
               "resolution": 2445.98490512499,
               "scale": 9244648.868618
              },
              {
               "level": 7,
               "resolution": 1222.992452562495,
               "scale": 4622324.434309
              },
              {
               "level": 8,
               "resolution": 611.4962262813797,
               "scale": 2311162.217155
              },
              {
               "level": 9,
               "resolution": 305.74811314055756,
               "scale": 1155581.108577
              },
              {
               "level": 10,
               "resolution": 152.87405657041106,
               "scale": 577790.554289
              },
              {
               "level": 11,
               "resolution": 76.43702828507324,
               "scale": 288895.277144
              },
              {
               "level": 12,
               "resolution": 38.21851414253662,
               "scale": 144447.638572
              },
              {
               "level": 13,
               "resolution": 19.10925707126831,
               "scale": 72223.819286
              },
              {
               "level": 14,
               "resolution": 9.554628535634155,
               "scale": 36111.909643
              },
              {
               "level": 15,
               "resolution": 4.77731426794937,
               "scale": 18055.954822
              },
              {
               "level": 16,
               "resolution": 2.388657133974685,
               "scale": 9027.977411
              },
              {
               "level": 17,
               "resolution": 1.1943285668550503,
               "scale": 4513.988705
              },
              {
               "level": 18,
               "resolution": 0.5971642835598172,
               "scale": 2256.994353
              },
              {
               "level": 19,
               "resolution": 0.29858214164761665,
               "scale": 1128.497176
              }
             ],
             "origin": {
              "x": -20037508.342787,
              "y": 20037508.342787
             },
             "rows": 256,
             "spatialReference": {
              "wkid": 102100,
              "wkt": "PROJCS[\"WGS_1984_Web_Mercator_Auxiliary_Sphere\",GEOGCS[\"GCS_WGS_1984\",DATUM[\"D_WGS_1984\",SPHEROID[\"WGS_1984\",6378137.0,298.257223563]],PRIMEM[\"Greenwich\",0.0],UNIT[\"Degree\",0.0174532925199433]],PROJECTION[\"Mercator_Auxiliary_Sphere\"],PARAMETER[\"False_Easting\",0.0],PARAMETER[\"False_Northing\",0.0],PARAMETER[\"Central_Meridian\",0.0],PARAMETER[\"Standard_Parallel_1\",0.0],PARAMETER[\"Auxiliary_Sphere_Type\",0.0],UNIT[\"Meter\",1.0],AUTHORITY[\"EPSG\",3857]]"
             }
            },
            "tileServers": [
             "https://tiles1.arcgis.com/tiles/gHHix49exJauUOEM/arcgis/rest/services/India_Bnd_G/MapServer",
             "https://tiles2.arcgis.com/tiles/gHHix49exJauUOEM/arcgis/rest/services/India_Bnd_G/MapServer",
             "https://tiles3.arcgis.com/tiles/gHHix49exJauUOEM/arcgis/rest/services/India_Bnd_G/MapServer",
             "https://tiles4.arcgis.com/tiles/gHHix49exJauUOEM/arcgis/rest/services/India_Bnd_G/MapServer"
            ],
            "type": "MapServer",
            "units": "esriMeters"
           },
           "url": "https://tiles.arcgis.com/tiles/gHHix49exJauUOEM/arcgis/rest/services/India_Bnd_G/MapServer",
           "visibility": true
          }
         ],
         "title": "Topographic"
        }
       },
       "_overlay_these_images_on_widget_load": [],
       "_portal_sharing_rest_url": "https://www.arcgis.com/sharing/rest/",
       "_portal_url": "https://www.arcgis.com",
       "_readonly_webmap_from_js": {
        "basemap": {
         "baseMapLayers": [
          {
           "layerType": "ArcGISTiledMapServiceLayer",
           "opacity": 1,
           "resourceInfo": {
            "capabilities": "Map,Tilemap,Query,Data",
            "copyrightText": "Sources: Esri, HERE, DeLorme, Intermap, increment P Corp., GEBCO, USGS, FAO, NPS, NRCAN, GeoBase, IGN, Kadaster NL, Ordnance Survey, Esri Japan, METI, Esri China (Hong Kong), swisstopo, MapmyIndia, © OpenStreetMap contributors, and the GIS User Community",
            "currentVersion": 10.3,
            "description": "This map is designed to be used as a basemap by GIS professionals and as a reference map by anyone. The map includes administrative boundaries, cities, water features, physiographic features, parks, landmarks, highways, roads, railways, and airports overlaid on land cover and shaded relief imagery for added context. The map provides coverage for the world down to a scale of ~1:72k. Coverage is provided down to ~1:4k for the following areas: Australia and New Zealand; India; Europe; Canada; Mexico; the continental United States and Hawaii; South America and Central America; Africa; and most of the Middle East. Coverage down to ~1:1k and ~1:2k is available in select urban areas. This basemap was compiled from a variety of best available sources from several data providers, including the U.S. Geological Survey (USGS), U.S. Environmental Protection Agency (EPA), U.S. National Park Service (NPS), Food and Agriculture Organization of the United Nations (FAO), Department of Natural Resources Canada (NRCAN), GeoBase, Agriculture and Agri-Food Canada, DeLorme, HERE, Esri, OpenStreetMap contributors, and the GIS User Community. For more information on this map, including our terms of use, visit us online at http://goto.arcgisonline.com/maps/World_Topo_Map",
            "documentInfo": {
             "AntialiasingMode": "None",
             "Author": "Esri",
             "Category": "imageryBaseMapsEarthCover (Imagery, basemaps, and land cover)",
             "Comments": "",
             "Keywords": "World,Global,Europe,North America,South America,Southern Africa,Australia,New Zealand,India",
             "Subject": "topographic, topography, administrative boundaries, cities, water features, physiographic features, parks, landmarks, highways, roads, railways, airports, land cover, shaded relief imagery",
             "TextAntialiasingMode": "Force",
             "Title": "World Topographic Map"
            },
            "exportTilesAllowed": false,
            "fullExtent": {
             "spatialReference": {
              "latestWkid": 3857,
              "wkid": 102100
             },
             "xmax": 20037507.067161843,
             "xmin": -20037507.067161843,
             "ymax": 19971868.88040863,
             "ymin": -19971868.880408604
            },
            "initialExtent": {
             "spatialReference": {
              "latestWkid": 3857,
              "wkid": 102100
             },
             "xmax": 28848255.049479112,
             "xmin": -28848255.049479112,
             "ymax": 16430757.376790084,
             "ymin": -2077452.082122866
            },
            "layers": [
             {
              "defaultVisibility": false,
              "id": 0,
              "maxScale": 0,
              "minScale": 0,
              "name": "Citations",
              "parentLayerId": -1,
              "subLayerIds": null
             }
            ],
            "mapName": "Layers",
            "maxImageHeight": 4096,
            "maxImageWidth": 4096,
            "maxRecordCount": 100,
            "maxScale": 70.5310735,
            "minScale": 591657527.591555,
            "serviceDescription": "This map is designed to be used as a basemap by GIS professionals and as a reference map by anyone. The map includes administrative boundaries, cities, water features, physiographic features, parks, landmarks, highways, roads, railways, and airports overlaid on land cover and shaded relief imagery for added context. The map provides coverage for the world down to a scale of ~1:72k. Coverage is provided down to ~1:4k for the following areas: Australia and New Zealand; India; Europe; Canada; Mexico; the continental United States and Hawaii; South America and Central America; Africa; and most of the Middle East. Coverage down to ~1:1k and ~1:2k is available in select urban areas. This basemap was compiled from a variety of best available sources from several data providers, including the U.S. Geological Survey (USGS), U.S. Environmental Protection Agency (EPA), U.S. National Park Service (NPS), Food and Agriculture Organization of the United Nations (FAO), Department of Natural Resources Canada (NRCAN), GeoBase, Agriculture and Agri-Food Canada, DeLorme, HERE, Esri, OpenStreetMap contributors, and the GIS User Community. For more information on this map, including the terms of use, visit us <a href=\"http://goto.arcgisonline.com/maps/World_Topo_Map \" target=\"_new\" >online</a>.",
            "singleFusedMapCache": true,
            "spatialReference": {
             "latestWkid": 3857,
             "wkid": 102100
            },
            "supportedExtensions": "KmlServer",
            "supportedImageFormatTypes": "PNG32,PNG24,PNG,JPG,DIB,TIFF,EMF,PS,PDF,GIF,SVG,SVGZ,BMP",
            "supportedQueryFormats": "JSON, AMF",
            "supportsDynamicLayers": false,
            "tables": [],
            "tileInfo": {
             "cols": 256,
             "compressionQuality": 90,
             "dpi": 96,
             "format": "JPEG",
             "lods": [
              {
               "level": 0,
               "resolution": 156543.03392800014,
               "scale": 591657527.591555
              },
              {
               "level": 1,
               "resolution": 78271.51696399994,
               "scale": 295828763.795777
              },
              {
               "level": 2,
               "resolution": 39135.75848200009,
               "scale": 147914381.897889
              },
              {
               "level": 3,
               "resolution": 19567.87924099992,
               "scale": 73957190.948944
              },
              {
               "level": 4,
               "resolution": 9783.93962049996,
               "scale": 36978595.474472
              },
              {
               "level": 5,
               "resolution": 4891.96981024998,
               "scale": 18489297.737236
              },
              {
               "level": 6,
               "resolution": 2445.98490512499,
               "scale": 9244648.868618
              },
              {
               "level": 7,
               "resolution": 1222.992452562495,
               "scale": 4622324.434309
              },
              {
               "level": 8,
               "resolution": 611.4962262813797,
               "scale": 2311162.217155
              },
              {
               "level": 9,
               "resolution": 305.74811314055756,
               "scale": 1155581.108577
              },
              {
               "level": 10,
               "resolution": 152.87405657041106,
               "scale": 577790.554289
              },
              {
               "level": 11,
               "resolution": 76.43702828507324,
               "scale": 288895.277144
              },
              {
               "level": 12,
               "resolution": 38.21851414253662,
               "scale": 144447.638572
              },
              {
               "level": 13,
               "resolution": 19.10925707126831,
               "scale": 72223.819286
              },
              {
               "level": 14,
               "resolution": 9.554628535634155,
               "scale": 36111.909643
              },
              {
               "level": 15,
               "resolution": 4.77731426794937,
               "scale": 18055.954822
              },
              {
               "level": 16,
               "resolution": 2.388657133974685,
               "scale": 9027.977411
              },
              {
               "level": 17,
               "resolution": 1.1943285668550503,
               "scale": 4513.988705
              },
              {
               "level": 18,
               "resolution": 0.5971642835598172,
               "scale": 2256.994353
              },
              {
               "level": 19,
               "resolution": 0.29858214164761665,
               "scale": 1128.497176
              },
              {
               "level": 20,
               "resolution": 0.14929107082380833,
               "scale": 564.248588
              },
              {
               "level": 21,
               "resolution": 0.07464553541190416,
               "scale": 282.124294
              },
              {
               "level": 22,
               "resolution": 0.03732276770595208,
               "scale": 141.062147
              },
              {
               "level": 23,
               "resolution": 0.01866138385297604,
               "scale": 70.5310735
              }
             ],
             "origin": {
              "x": -20037508.342787,
              "y": 20037508.342787
             },
             "rows": 256,
             "spatialReference": {
              "latestWkid": 3857,
              "wkid": 102100
             }
            },
            "units": "esriMeters"
           },
           "url": "https://services.arcgisonline.com/ArcGIS/rest/services/World_Topo_Map/MapServer",
           "visibility": true
          },
          {
           "id": "Streetmap_MMI_8695",
           "layerType": "ArcGISTiledMapServiceLayer",
           "maxScale": 1128,
           "minScale": 288895,
           "opacity": 1,
           "resourceInfo": {
            "access": "SECURE",
            "capabilities": "Map,TilesOnly",
            "copyrightText": "Sources: Esri, MapmyIndia, DeLorme, METI/NASA",
            "currentVersion": 10.31,
            "description": "<span style='color: rgb(0, 0, 0); font-family: Verdana, sans-serif; line-height: 17.33333396911621px; background-color: rgb(255, 255, 255);'>This India topographic map overlay presents physical features and street-level data for India. This comprehensive topographic map includes highways, major roads, minor roads, one-way arrow indicators, railways, water features, administrative boundaries, cities, parks, landmarks, physical feature labels, spot elevations, and contours overlaid on shaded relief imagery for added context. The map also includes building footprints for selected areas. Coverage is provided down to ~1:4k country-wide with ~1:1k and ~1:2k data available in select urban areas. The street map was developed by Esri using MapmyIndia data layers, including administrative boundaries, from CE Info Systems. Additional data sources from DeLorme basemap layers, and METI/NASA data for shaded relief.</span>",
            "documentInfo": {
             "AntialiasingMode": "Fast",
             "Author": "",
             "Category": "",
             "Comments": "",
             "Keywords": "",
             "Subject": "",
             "TextAntialiasingMode": "Force",
             "Title": "",
             "author": "Esri_Content",
             "category": "",
             "comments": "",
             "credits": "Sources: Esri, MapmyIndia, DeLorme, METI/NASA",
             "keywords": "India, Topomap, highways, roads, transportation, landmarks, parks, basemap, community, community basemap, map, MapmyIndia",
             "subject": "This topographic map overlay presents physical features and street-level data from MapmyIndia for India.",
             "title": "World_Topomap_MMI"
            },
            "exportTilesAllowed": false,
            "fullExtent": {
             "spatialReference": {
              "wkid": 102100,
              "wkt": null
             },
             "xmax": 12523442.714243297,
             "xmin": 7514065.628545973,
             "ymax": 5009377.085753329,
             "ymin": 7.450580596923828e-09
            },
            "id": "94ef359ef51f7205",
            "initialExtent": {
             "spatialReference": {
              "wkid": 102100,
              "wkt": null
             },
             "xmax": 12523442.714243297,
             "xmin": 7514065.628545973,
             "ymax": 5009377.085753329,
             "ymin": 7.450580596923828e-09
            },
            "layers": [
             {
              "defaultVisibility": false,
              "id": 0,
              "maxScale": 0,
              "minScale": 0,
              "name": "world",
              "parentLayerId": -1,
              "subLayerIds": null
             }
            ],
            "mapName": "Layers",
            "maxExportTilesCount": 100000,
            "maxScale": 1128.497176,
            "minScale": 288895.277144,
            "name": "World_Topomap_MMI",
            "resampling": false,
            "server": "P3ePLMYs2RVChkJx",
            "serviceDescription": "",
            "singleFusedMapCache": true,
            "spatialReference": {
             "wkid": 102100,
             "wkt": null
            },
            "status": "created",
            "supportedImageFormatTypes": "JPEG",
            "tables": [],
            "tileInfo": {
             "cols": 256,
             "compressionQuality": 90,
             "dpi": 96,
             "format": "JPEG",
             "lods": [
              {
               "level": 0,
               "resolution": 156543.03392800014,
               "scale": 591657527.591555
              },
              {
               "level": 1,
               "resolution": 78271.51696399994,
               "scale": 295828763.795777
              },
              {
               "level": 2,
               "resolution": 39135.75848200009,
               "scale": 147914381.897889
              },
              {
               "level": 3,
               "resolution": 19567.87924099992,
               "scale": 73957190.948944
              },
              {
               "level": 4,
               "resolution": 9783.93962049996,
               "scale": 36978595.474472
              },
              {
               "level": 5,
               "resolution": 4891.96981024998,
               "scale": 18489297.737236
              },
              {
               "level": 6,
               "resolution": 2445.98490512499,
               "scale": 9244648.868618
              },
              {
               "level": 7,
               "resolution": 1222.992452562495,
               "scale": 4622324.434309
              },
              {
               "level": 8,
               "resolution": 611.4962262813797,
               "scale": 2311162.217155
              },
              {
               "level": 9,
               "resolution": 305.74811314055756,
               "scale": 1155581.108577
              },
              {
               "level": 10,
               "resolution": 152.87405657041106,
               "scale": 577790.554289
              },
              {
               "level": 11,
               "resolution": 76.43702828507324,
               "scale": 288895.277144
              },
              {
               "level": 12,
               "resolution": 38.21851414253662,
               "scale": 144447.638572
              },
              {
               "level": 13,
               "resolution": 19.10925707126831,
               "scale": 72223.819286
              },
              {
               "level": 14,
               "resolution": 9.554628535634155,
               "scale": 36111.909643
              },
              {
               "level": 15,
               "resolution": 4.77731426794937,
               "scale": 18055.954822
              },
              {
               "level": 16,
               "resolution": 2.388657133974685,
               "scale": 9027.977411
              },
              {
               "level": 17,
               "resolution": 1.1943285668550503,
               "scale": 4513.988705
              },
              {
               "level": 18,
               "resolution": 0.5971642835598172,
               "scale": 2256.994353
              },
              {
               "level": 19,
               "resolution": 0.29858214164761665,
               "scale": 1128.497176
              }
             ],
             "origin": {
              "x": -20037508.342787,
              "y": 20037508.342787
             },
             "rows": 256,
             "spatialReference": {
              "wkid": 102100,
              "wkt": "PROJCS[\"WGS_1984_Web_Mercator_Auxiliary_Sphere\",GEOGCS[\"GCS_WGS_1984\",DATUM[\"D_WGS_1984\",SPHEROID[\"WGS_1984\",6378137.0,298.257223563]],PRIMEM[\"Greenwich\",0.0],UNIT[\"Degree\",0.0174532925199433]],PROJECTION[\"Mercator_Auxiliary_Sphere\"],PARAMETER[\"False_Easting\",0.0],PARAMETER[\"False_Northing\",0.0],PARAMETER[\"Central_Meridian\",0.0],PARAMETER[\"Standard_Parallel_1\",0.0],PARAMETER[\"Auxiliary_Sphere_Type\",0.0],UNIT[\"Meter\",1.0],AUTHORITY[\"EPSG\",3857]]"
             },
             "storageFormat": "esriMapCacheStorageModeCompact"
            },
            "tileServers": [
             "http://tiles1.arcgis.com/tiles/P3ePLMYs2RVChkJx/arcgis/rest/services/World_Topomap_MMI/MapServer",
             "http://tiles2.arcgis.com/tiles/P3ePLMYs2RVChkJx/arcgis/rest/services/World_Topomap_MMI/MapServer",
             "http://tiles3.arcgis.com/tiles/P3ePLMYs2RVChkJx/arcgis/rest/services/World_Topomap_MMI/MapServer",
             "http://tiles4.arcgis.com/tiles/P3ePLMYs2RVChkJx/arcgis/rest/services/World_Topomap_MMI/MapServer"
            ],
            "type": "MapServer",
            "units": "esriMeters"
           },
           "url": "https://tiles.arcgis.com/tiles/P3ePLMYs2RVChkJx/arcgis/rest/services/World_Topomap_MMI/MapServer",
           "visibility": true
          },
          {
           "id": "India_Bnd_G_5793",
           "isReference": true,
           "layerType": "ArcGISTiledMapServiceLayer",
           "opacity": 1,
           "resourceInfo": {
            "access": "SECURE",
            "capabilities": "Map",
            "copyrightText": "Mxd assembled by Corey LaMar",
            "created": null,
            "currentVersion": 10.1,
            "description": "This mxd contains the political boundaries used in StreetMap 5.1 as  political boundaries overlay  Currency: 73m to 577k (StreetMap 4.1 (5.0) 288k to 72k (StreetMap 5.1) Delorme 36k to 1k (StreetMap 5.1 ) Navteq",
            "documentInfo": {
             "AntialiasingMode": "Best",
             "Author": "AGOL Teams Members",
             "Category": "",
             "Comments": "This mxd contains the political boundaries used in StreetMap 5.1 as a starting point for Esri India to create their own political boundaries overlay\n\nCurrency:\n73m to 577k (StreetMap 4.1 (5.0)\n288k to 72k (StreetMap 5.1) Delorme\n36k to 1k (StreetMap 5.1 ) Navteq",
             "Keywords": "Inda Disputed International Boundaries",
             "Subject": "Create 2/2/13 Copies of StMap Int Bnd 73m to1k caching levels",
             "TextAntialiasingMode": "Force",
             "Title": "Int_Bnd_for_Esri_India_Work",
             "author": "cimmy68",
             "category": "",
             "comments": "",
             "credits": "Mxd assembled by Corey LaMar",
             "keywords": "Inda International Boundaries",
             "subject": "Create 2/2/13 Copies of StMap Int Bnd 73m to1k caching levels",
             "title": "India_Bnd_G"
            },
            "fullExtent": {
             "spatialReference": {
              "wkid": 102100
             },
             "xmax": 10843895.843899999,
             "xmin": 7508245.0923000015,
             "ymax": 4451373.3320999965,
             "ymin": 753623.2256000005
            },
            "id": "bc7c3277ec65f602",
            "initialExtent": {
             "spatialReference": {
              "wkid": 102100
             },
             "xmax": 13053038.616388625,
             "xmin": 5299102.319811376,
             "ymax": 4636260.837424996,
             "ymin": 2675256.394233431
            },
            "layers": [
             {
              "defaultVisibility": true,
              "id": 0,
              "maxScale": 0,
              "minScale": 0,
              "name": "India",
              "parentLayerId": -1,
              "subLayerIds": null
             }
            ],
            "mapName": "India Basemap",
            "maxScale": 577790.554289,
            "minScale": 73957190.948944,
            "modified": null,
            "name": "India_Bnd_G",
            "server": "gHHix49exJauUOEM",
            "serviceDescription": "",
            "singleFusedMapCache": true,
            "spatialReference": {
             "wkid": 102100
            },
            "status": "created",
            "supportedImageFormatTypes": "PNG",
            "tables": [],
            "tileInfo": {
             "cols": 256,
             "compressionQuality": 0,
             "dpi": 96,
             "format": "PNG",
             "lods": [
              {
               "level": 0,
               "resolution": 156543.03392800014,
               "scale": 591657527.591555
              },
              {
               "level": 1,
               "resolution": 78271.51696399994,
               "scale": 295828763.795777
              },
              {
               "level": 2,
               "resolution": 39135.75848200009,
               "scale": 147914381.897889
              },
              {
               "level": 3,
               "resolution": 19567.87924099992,
               "scale": 73957190.948944
              },
              {
               "level": 4,
               "resolution": 9783.93962049996,
               "scale": 36978595.474472
              },
              {
               "level": 5,
               "resolution": 4891.96981024998,
               "scale": 18489297.737236
              },
              {
               "level": 6,
               "resolution": 2445.98490512499,
               "scale": 9244648.868618
              },
              {
               "level": 7,
               "resolution": 1222.992452562495,
               "scale": 4622324.434309
              },
              {
               "level": 8,
               "resolution": 611.4962262813797,
               "scale": 2311162.217155
              },
              {
               "level": 9,
               "resolution": 305.74811314055756,
               "scale": 1155581.108577
              },
              {
               "level": 10,
               "resolution": 152.87405657041106,
               "scale": 577790.554289
              },
              {
               "level": 11,
               "resolution": 76.43702828507324,
               "scale": 288895.277144
              },
              {
               "level": 12,
               "resolution": 38.21851414253662,
               "scale": 144447.638572
              },
              {
               "level": 13,
               "resolution": 19.10925707126831,
               "scale": 72223.819286
              },
              {
               "level": 14,
               "resolution": 9.554628535634155,
               "scale": 36111.909643
              },
              {
               "level": 15,
               "resolution": 4.77731426794937,
               "scale": 18055.954822
              },
              {
               "level": 16,
               "resolution": 2.388657133974685,
               "scale": 9027.977411
              },
              {
               "level": 17,
               "resolution": 1.1943285668550503,
               "scale": 4513.988705
              },
              {
               "level": 18,
               "resolution": 0.5971642835598172,
               "scale": 2256.994353
              },
              {
               "level": 19,
               "resolution": 0.29858214164761665,
               "scale": 1128.497176
              }
             ],
             "origin": {
              "x": -20037508.342787,
              "y": 20037508.342787
             },
             "rows": 256,
             "spatialReference": {
              "wkid": 102100,
              "wkt": "PROJCS[\"WGS_1984_Web_Mercator_Auxiliary_Sphere\",GEOGCS[\"GCS_WGS_1984\",DATUM[\"D_WGS_1984\",SPHEROID[\"WGS_1984\",6378137.0,298.257223563]],PRIMEM[\"Greenwich\",0.0],UNIT[\"Degree\",0.0174532925199433]],PROJECTION[\"Mercator_Auxiliary_Sphere\"],PARAMETER[\"False_Easting\",0.0],PARAMETER[\"False_Northing\",0.0],PARAMETER[\"Central_Meridian\",0.0],PARAMETER[\"Standard_Parallel_1\",0.0],PARAMETER[\"Auxiliary_Sphere_Type\",0.0],UNIT[\"Meter\",1.0],AUTHORITY[\"EPSG\",3857]]"
             }
            },
            "tileServers": [
             "https://tiles1.arcgis.com/tiles/gHHix49exJauUOEM/arcgis/rest/services/India_Bnd_G/MapServer",
             "https://tiles2.arcgis.com/tiles/gHHix49exJauUOEM/arcgis/rest/services/India_Bnd_G/MapServer",
             "https://tiles3.arcgis.com/tiles/gHHix49exJauUOEM/arcgis/rest/services/India_Bnd_G/MapServer",
             "https://tiles4.arcgis.com/tiles/gHHix49exJauUOEM/arcgis/rest/services/India_Bnd_G/MapServer"
            ],
            "type": "MapServer",
            "units": "esriMeters"
           },
           "url": "https://tiles.arcgis.com/tiles/gHHix49exJauUOEM/arcgis/rest/services/India_Bnd_G/MapServer",
           "visibility": true
          }
         ],
         "title": "Topographic"
        },
        "ground": {
         "layers": [
          {
           "id": "worldElevation",
           "layerType": "ArcGISTiledElevationServiceLayer",
           "listMode": "show",
           "title": "Terrain3D",
           "url": "https://elevation3d.arcgis.com/arcgis/rest/services/WorldElevation3D/Terrain3D/ImageServer",
           "visibility": true
          }
         ],
         "transparency": 0
        },
        "layers": []
       },
       "_username": "None",
       "_uuid": "975be8ff-6131-4f7c-b755-339096f36969",
       "_webscene": {
        "portalItem": {
         "id": "7c7dc6068f4e49aaaa462d54e48aa1fa"
        }
       },
       "hide_mode_switch": true,
       "jupyter_target": "notebook",
       "layout": "IPY_MODEL_ea05aee7cfbc4c9f817812640b58cab9",
       "mode": "3D",
       "print_service_url": ""
      }
     },
     "8114d91c9e4041e78be7e592c060f9b3": {
      "model_module": "arcgis-map-ipywidget",
      "model_module_version": "1.8.2",
      "model_name": "ArcGISMapIPyWidgetModel",
      "state": {
       "_auth_mode": "anonymous",
       "_basemap": "default",
       "_draw_these_graphics_on_widget_load": [],
       "_draw_these_notype_layers_on_widget_load": [],
       "_gallery_basemaps": {
        "default": {
         "baseMapLayers": [
          {
           "layerType": "ArcGISTiledMapServiceLayer",
           "opacity": 1,
           "resourceInfo": {
            "capabilities": "Map,Tilemap,Query,Data",
            "copyrightText": "Sources: Esri, HERE, DeLorme, Intermap, increment P Corp., GEBCO, USGS, FAO, NPS, NRCAN, GeoBase, IGN, Kadaster NL, Ordnance Survey, Esri Japan, METI, Esri China (Hong Kong), swisstopo, MapmyIndia, © OpenStreetMap contributors, and the GIS User Community",
            "currentVersion": 10.3,
            "description": "This map is designed to be used as a basemap by GIS professionals and as a reference map by anyone. The map includes administrative boundaries, cities, water features, physiographic features, parks, landmarks, highways, roads, railways, and airports overlaid on land cover and shaded relief imagery for added context. The map provides coverage for the world down to a scale of ~1:72k. Coverage is provided down to ~1:4k for the following areas: Australia and New Zealand; India; Europe; Canada; Mexico; the continental United States and Hawaii; South America and Central America; Africa; and most of the Middle East. Coverage down to ~1:1k and ~1:2k is available in select urban areas. This basemap was compiled from a variety of best available sources from several data providers, including the U.S. Geological Survey (USGS), U.S. Environmental Protection Agency (EPA), U.S. National Park Service (NPS), Food and Agriculture Organization of the United Nations (FAO), Department of Natural Resources Canada (NRCAN), GeoBase, Agriculture and Agri-Food Canada, DeLorme, HERE, Esri, OpenStreetMap contributors, and the GIS User Community. For more information on this map, including our terms of use, visit us online at http://goto.arcgisonline.com/maps/World_Topo_Map",
            "documentInfo": {
             "AntialiasingMode": "None",
             "Author": "Esri",
             "Category": "imageryBaseMapsEarthCover (Imagery, basemaps, and land cover)",
             "Comments": "",
             "Keywords": "World,Global,Europe,North America,South America,Southern Africa,Australia,New Zealand,India",
             "Subject": "topographic, topography, administrative boundaries, cities, water features, physiographic features, parks, landmarks, highways, roads, railways, airports, land cover, shaded relief imagery",
             "TextAntialiasingMode": "Force",
             "Title": "World Topographic Map"
            },
            "exportTilesAllowed": false,
            "fullExtent": {
             "spatialReference": {
              "latestWkid": 3857,
              "wkid": 102100
             },
             "xmax": 20037507.067161843,
             "xmin": -20037507.067161843,
             "ymax": 19971868.88040863,
             "ymin": -19971868.880408604
            },
            "initialExtent": {
             "spatialReference": {
              "latestWkid": 3857,
              "wkid": 102100
             },
             "xmax": 28848255.049479112,
             "xmin": -28848255.049479112,
             "ymax": 16430757.376790084,
             "ymin": -2077452.082122866
            },
            "layers": [
             {
              "defaultVisibility": false,
              "id": 0,
              "maxScale": 0,
              "minScale": 0,
              "name": "Citations",
              "parentLayerId": -1,
              "subLayerIds": null
             }
            ],
            "mapName": "Layers",
            "maxImageHeight": 4096,
            "maxImageWidth": 4096,
            "maxRecordCount": 100,
            "maxScale": 70.5310735,
            "minScale": 591657527.591555,
            "serviceDescription": "This map is designed to be used as a basemap by GIS professionals and as a reference map by anyone. The map includes administrative boundaries, cities, water features, physiographic features, parks, landmarks, highways, roads, railways, and airports overlaid on land cover and shaded relief imagery for added context. The map provides coverage for the world down to a scale of ~1:72k. Coverage is provided down to ~1:4k for the following areas: Australia and New Zealand; India; Europe; Canada; Mexico; the continental United States and Hawaii; South America and Central America; Africa; and most of the Middle East. Coverage down to ~1:1k and ~1:2k is available in select urban areas. This basemap was compiled from a variety of best available sources from several data providers, including the U.S. Geological Survey (USGS), U.S. Environmental Protection Agency (EPA), U.S. National Park Service (NPS), Food and Agriculture Organization of the United Nations (FAO), Department of Natural Resources Canada (NRCAN), GeoBase, Agriculture and Agri-Food Canada, DeLorme, HERE, Esri, OpenStreetMap contributors, and the GIS User Community. For more information on this map, including the terms of use, visit us <a href=\"http://goto.arcgisonline.com/maps/World_Topo_Map \" target=\"_new\" >online</a>.",
            "singleFusedMapCache": true,
            "spatialReference": {
             "latestWkid": 3857,
             "wkid": 102100
            },
            "supportedExtensions": "KmlServer",
            "supportedImageFormatTypes": "PNG32,PNG24,PNG,JPG,DIB,TIFF,EMF,PS,PDF,GIF,SVG,SVGZ,BMP",
            "supportedQueryFormats": "JSON, AMF",
            "supportsDynamicLayers": false,
            "tables": [],
            "tileInfo": {
             "cols": 256,
             "compressionQuality": 90,
             "dpi": 96,
             "format": "JPEG",
             "lods": [
              {
               "level": 0,
               "resolution": 156543.03392800014,
               "scale": 591657527.591555
              },
              {
               "level": 1,
               "resolution": 78271.51696399994,
               "scale": 295828763.795777
              },
              {
               "level": 2,
               "resolution": 39135.75848200009,
               "scale": 147914381.897889
              },
              {
               "level": 3,
               "resolution": 19567.87924099992,
               "scale": 73957190.948944
              },
              {
               "level": 4,
               "resolution": 9783.93962049996,
               "scale": 36978595.474472
              },
              {
               "level": 5,
               "resolution": 4891.96981024998,
               "scale": 18489297.737236
              },
              {
               "level": 6,
               "resolution": 2445.98490512499,
               "scale": 9244648.868618
              },
              {
               "level": 7,
               "resolution": 1222.992452562495,
               "scale": 4622324.434309
              },
              {
               "level": 8,
               "resolution": 611.4962262813797,
               "scale": 2311162.217155
              },
              {
               "level": 9,
               "resolution": 305.74811314055756,
               "scale": 1155581.108577
              },
              {
               "level": 10,
               "resolution": 152.87405657041106,
               "scale": 577790.554289
              },
              {
               "level": 11,
               "resolution": 76.43702828507324,
               "scale": 288895.277144
              },
              {
               "level": 12,
               "resolution": 38.21851414253662,
               "scale": 144447.638572
              },
              {
               "level": 13,
               "resolution": 19.10925707126831,
               "scale": 72223.819286
              },
              {
               "level": 14,
               "resolution": 9.554628535634155,
               "scale": 36111.909643
              },
              {
               "level": 15,
               "resolution": 4.77731426794937,
               "scale": 18055.954822
              },
              {
               "level": 16,
               "resolution": 2.388657133974685,
               "scale": 9027.977411
              },
              {
               "level": 17,
               "resolution": 1.1943285668550503,
               "scale": 4513.988705
              },
              {
               "level": 18,
               "resolution": 0.5971642835598172,
               "scale": 2256.994353
              },
              {
               "level": 19,
               "resolution": 0.29858214164761665,
               "scale": 1128.497176
              },
              {
               "level": 20,
               "resolution": 0.14929107082380833,
               "scale": 564.248588
              },
              {
               "level": 21,
               "resolution": 0.07464553541190416,
               "scale": 282.124294
              },
              {
               "level": 22,
               "resolution": 0.03732276770595208,
               "scale": 141.062147
              },
              {
               "level": 23,
               "resolution": 0.01866138385297604,
               "scale": 70.5310735
              }
             ],
             "origin": {
              "x": -20037508.342787,
              "y": 20037508.342787
             },
             "rows": 256,
             "spatialReference": {
              "latestWkid": 3857,
              "wkid": 102100
             }
            },
            "units": "esriMeters"
           },
           "url": "https://services.arcgisonline.com/ArcGIS/rest/services/World_Topo_Map/MapServer",
           "visibility": true
          },
          {
           "id": "Streetmap_MMI_8695",
           "layerType": "ArcGISTiledMapServiceLayer",
           "maxScale": 1128,
           "minScale": 288895,
           "opacity": 1,
           "resourceInfo": {
            "access": "SECURE",
            "capabilities": "Map,TilesOnly",
            "copyrightText": "Sources: Esri, MapmyIndia, DeLorme, METI/NASA",
            "currentVersion": 10.31,
            "description": "<span style='color: rgb(0, 0, 0); font-family: Verdana, sans-serif; line-height: 17.33333396911621px; background-color: rgb(255, 255, 255);'>This India topographic map overlay presents physical features and street-level data for India. This comprehensive topographic map includes highways, major roads, minor roads, one-way arrow indicators, railways, water features, administrative boundaries, cities, parks, landmarks, physical feature labels, spot elevations, and contours overlaid on shaded relief imagery for added context. The map also includes building footprints for selected areas. Coverage is provided down to ~1:4k country-wide with ~1:1k and ~1:2k data available in select urban areas. The street map was developed by Esri using MapmyIndia data layers, including administrative boundaries, from CE Info Systems. Additional data sources from DeLorme basemap layers, and METI/NASA data for shaded relief.</span>",
            "documentInfo": {
             "AntialiasingMode": "Fast",
             "Author": "",
             "Category": "",
             "Comments": "",
             "Keywords": "",
             "Subject": "",
             "TextAntialiasingMode": "Force",
             "Title": "",
             "author": "Esri_Content",
             "category": "",
             "comments": "",
             "credits": "Sources: Esri, MapmyIndia, DeLorme, METI/NASA",
             "keywords": "India, Topomap, highways, roads, transportation, landmarks, parks, basemap, community, community basemap, map, MapmyIndia",
             "subject": "This topographic map overlay presents physical features and street-level data from MapmyIndia for India.",
             "title": "World_Topomap_MMI"
            },
            "exportTilesAllowed": false,
            "fullExtent": {
             "spatialReference": {
              "wkid": 102100,
              "wkt": null
             },
             "xmax": 12523442.714243297,
             "xmin": 7514065.628545973,
             "ymax": 5009377.085753329,
             "ymin": 7.450580596923828e-09
            },
            "id": "94ef359ef51f7205",
            "initialExtent": {
             "spatialReference": {
              "wkid": 102100,
              "wkt": null
             },
             "xmax": 12523442.714243297,
             "xmin": 7514065.628545973,
             "ymax": 5009377.085753329,
             "ymin": 7.450580596923828e-09
            },
            "layers": [
             {
              "defaultVisibility": false,
              "id": 0,
              "maxScale": 0,
              "minScale": 0,
              "name": "world",
              "parentLayerId": -1,
              "subLayerIds": null
             }
            ],
            "mapName": "Layers",
            "maxExportTilesCount": 100000,
            "maxScale": 1128.497176,
            "minScale": 288895.277144,
            "name": "World_Topomap_MMI",
            "resampling": false,
            "server": "P3ePLMYs2RVChkJx",
            "serviceDescription": "",
            "singleFusedMapCache": true,
            "spatialReference": {
             "wkid": 102100,
             "wkt": null
            },
            "status": "created",
            "supportedImageFormatTypes": "JPEG",
            "tables": [],
            "tileInfo": {
             "cols": 256,
             "compressionQuality": 90,
             "dpi": 96,
             "format": "JPEG",
             "lods": [
              {
               "level": 0,
               "resolution": 156543.03392800014,
               "scale": 591657527.591555
              },
              {
               "level": 1,
               "resolution": 78271.51696399994,
               "scale": 295828763.795777
              },
              {
               "level": 2,
               "resolution": 39135.75848200009,
               "scale": 147914381.897889
              },
              {
               "level": 3,
               "resolution": 19567.87924099992,
               "scale": 73957190.948944
              },
              {
               "level": 4,
               "resolution": 9783.93962049996,
               "scale": 36978595.474472
              },
              {
               "level": 5,
               "resolution": 4891.96981024998,
               "scale": 18489297.737236
              },
              {
               "level": 6,
               "resolution": 2445.98490512499,
               "scale": 9244648.868618
              },
              {
               "level": 7,
               "resolution": 1222.992452562495,
               "scale": 4622324.434309
              },
              {
               "level": 8,
               "resolution": 611.4962262813797,
               "scale": 2311162.217155
              },
              {
               "level": 9,
               "resolution": 305.74811314055756,
               "scale": 1155581.108577
              },
              {
               "level": 10,
               "resolution": 152.87405657041106,
               "scale": 577790.554289
              },
              {
               "level": 11,
               "resolution": 76.43702828507324,
               "scale": 288895.277144
              },
              {
               "level": 12,
               "resolution": 38.21851414253662,
               "scale": 144447.638572
              },
              {
               "level": 13,
               "resolution": 19.10925707126831,
               "scale": 72223.819286
              },
              {
               "level": 14,
               "resolution": 9.554628535634155,
               "scale": 36111.909643
              },
              {
               "level": 15,
               "resolution": 4.77731426794937,
               "scale": 18055.954822
              },
              {
               "level": 16,
               "resolution": 2.388657133974685,
               "scale": 9027.977411
              },
              {
               "level": 17,
               "resolution": 1.1943285668550503,
               "scale": 4513.988705
              },
              {
               "level": 18,
               "resolution": 0.5971642835598172,
               "scale": 2256.994353
              },
              {
               "level": 19,
               "resolution": 0.29858214164761665,
               "scale": 1128.497176
              }
             ],
             "origin": {
              "x": -20037508.342787,
              "y": 20037508.342787
             },
             "rows": 256,
             "spatialReference": {
              "wkid": 102100,
              "wkt": "PROJCS[\"WGS_1984_Web_Mercator_Auxiliary_Sphere\",GEOGCS[\"GCS_WGS_1984\",DATUM[\"D_WGS_1984\",SPHEROID[\"WGS_1984\",6378137.0,298.257223563]],PRIMEM[\"Greenwich\",0.0],UNIT[\"Degree\",0.0174532925199433]],PROJECTION[\"Mercator_Auxiliary_Sphere\"],PARAMETER[\"False_Easting\",0.0],PARAMETER[\"False_Northing\",0.0],PARAMETER[\"Central_Meridian\",0.0],PARAMETER[\"Standard_Parallel_1\",0.0],PARAMETER[\"Auxiliary_Sphere_Type\",0.0],UNIT[\"Meter\",1.0],AUTHORITY[\"EPSG\",3857]]"
             },
             "storageFormat": "esriMapCacheStorageModeCompact"
            },
            "tileServers": [
             "http://tiles1.arcgis.com/tiles/P3ePLMYs2RVChkJx/arcgis/rest/services/World_Topomap_MMI/MapServer",
             "http://tiles2.arcgis.com/tiles/P3ePLMYs2RVChkJx/arcgis/rest/services/World_Topomap_MMI/MapServer",
             "http://tiles3.arcgis.com/tiles/P3ePLMYs2RVChkJx/arcgis/rest/services/World_Topomap_MMI/MapServer",
             "http://tiles4.arcgis.com/tiles/P3ePLMYs2RVChkJx/arcgis/rest/services/World_Topomap_MMI/MapServer"
            ],
            "type": "MapServer",
            "units": "esriMeters"
           },
           "url": "https://tiles.arcgis.com/tiles/P3ePLMYs2RVChkJx/arcgis/rest/services/World_Topomap_MMI/MapServer",
           "visibility": true
          },
          {
           "id": "India_Bnd_G_5793",
           "isReference": true,
           "layerType": "ArcGISTiledMapServiceLayer",
           "opacity": 1,
           "resourceInfo": {
            "access": "SECURE",
            "capabilities": "Map",
            "copyrightText": "Mxd assembled by Corey LaMar",
            "created": null,
            "currentVersion": 10.1,
            "description": "This mxd contains the political boundaries used in StreetMap 5.1 as  political boundaries overlay  Currency: 73m to 577k (StreetMap 4.1 (5.0) 288k to 72k (StreetMap 5.1) Delorme 36k to 1k (StreetMap 5.1 ) Navteq",
            "documentInfo": {
             "AntialiasingMode": "Best",
             "Author": "AGOL Teams Members",
             "Category": "",
             "Comments": "This mxd contains the political boundaries used in StreetMap 5.1 as a starting point for Esri India to create their own political boundaries overlay\n\nCurrency:\n73m to 577k (StreetMap 4.1 (5.0)\n288k to 72k (StreetMap 5.1) Delorme\n36k to 1k (StreetMap 5.1 ) Navteq",
             "Keywords": "Inda Disputed International Boundaries",
             "Subject": "Create 2/2/13 Copies of StMap Int Bnd 73m to1k caching levels",
             "TextAntialiasingMode": "Force",
             "Title": "Int_Bnd_for_Esri_India_Work",
             "author": "cimmy68",
             "category": "",
             "comments": "",
             "credits": "Mxd assembled by Corey LaMar",
             "keywords": "Inda International Boundaries",
             "subject": "Create 2/2/13 Copies of StMap Int Bnd 73m to1k caching levels",
             "title": "India_Bnd_G"
            },
            "fullExtent": {
             "spatialReference": {
              "wkid": 102100
             },
             "xmax": 10843895.843899999,
             "xmin": 7508245.0923000015,
             "ymax": 4451373.3320999965,
             "ymin": 753623.2256000005
            },
            "id": "bc7c3277ec65f602",
            "initialExtent": {
             "spatialReference": {
              "wkid": 102100
             },
             "xmax": 13053038.616388625,
             "xmin": 5299102.319811376,
             "ymax": 4636260.837424996,
             "ymin": 2675256.394233431
            },
            "layers": [
             {
              "defaultVisibility": true,
              "id": 0,
              "maxScale": 0,
              "minScale": 0,
              "name": "India",
              "parentLayerId": -1,
              "subLayerIds": null
             }
            ],
            "mapName": "India Basemap",
            "maxScale": 577790.554289,
            "minScale": 73957190.948944,
            "modified": null,
            "name": "India_Bnd_G",
            "server": "gHHix49exJauUOEM",
            "serviceDescription": "",
            "singleFusedMapCache": true,
            "spatialReference": {
             "wkid": 102100
            },
            "status": "created",
            "supportedImageFormatTypes": "PNG",
            "tables": [],
            "tileInfo": {
             "cols": 256,
             "compressionQuality": 0,
             "dpi": 96,
             "format": "PNG",
             "lods": [
              {
               "level": 0,
               "resolution": 156543.03392800014,
               "scale": 591657527.591555
              },
              {
               "level": 1,
               "resolution": 78271.51696399994,
               "scale": 295828763.795777
              },
              {
               "level": 2,
               "resolution": 39135.75848200009,
               "scale": 147914381.897889
              },
              {
               "level": 3,
               "resolution": 19567.87924099992,
               "scale": 73957190.948944
              },
              {
               "level": 4,
               "resolution": 9783.93962049996,
               "scale": 36978595.474472
              },
              {
               "level": 5,
               "resolution": 4891.96981024998,
               "scale": 18489297.737236
              },
              {
               "level": 6,
               "resolution": 2445.98490512499,
               "scale": 9244648.868618
              },
              {
               "level": 7,
               "resolution": 1222.992452562495,
               "scale": 4622324.434309
              },
              {
               "level": 8,
               "resolution": 611.4962262813797,
               "scale": 2311162.217155
              },
              {
               "level": 9,
               "resolution": 305.74811314055756,
               "scale": 1155581.108577
              },
              {
               "level": 10,
               "resolution": 152.87405657041106,
               "scale": 577790.554289
              },
              {
               "level": 11,
               "resolution": 76.43702828507324,
               "scale": 288895.277144
              },
              {
               "level": 12,
               "resolution": 38.21851414253662,
               "scale": 144447.638572
              },
              {
               "level": 13,
               "resolution": 19.10925707126831,
               "scale": 72223.819286
              },
              {
               "level": 14,
               "resolution": 9.554628535634155,
               "scale": 36111.909643
              },
              {
               "level": 15,
               "resolution": 4.77731426794937,
               "scale": 18055.954822
              },
              {
               "level": 16,
               "resolution": 2.388657133974685,
               "scale": 9027.977411
              },
              {
               "level": 17,
               "resolution": 1.1943285668550503,
               "scale": 4513.988705
              },
              {
               "level": 18,
               "resolution": 0.5971642835598172,
               "scale": 2256.994353
              },
              {
               "level": 19,
               "resolution": 0.29858214164761665,
               "scale": 1128.497176
              }
             ],
             "origin": {
              "x": -20037508.342787,
              "y": 20037508.342787
             },
             "rows": 256,
             "spatialReference": {
              "wkid": 102100,
              "wkt": "PROJCS[\"WGS_1984_Web_Mercator_Auxiliary_Sphere\",GEOGCS[\"GCS_WGS_1984\",DATUM[\"D_WGS_1984\",SPHEROID[\"WGS_1984\",6378137.0,298.257223563]],PRIMEM[\"Greenwich\",0.0],UNIT[\"Degree\",0.0174532925199433]],PROJECTION[\"Mercator_Auxiliary_Sphere\"],PARAMETER[\"False_Easting\",0.0],PARAMETER[\"False_Northing\",0.0],PARAMETER[\"Central_Meridian\",0.0],PARAMETER[\"Standard_Parallel_1\",0.0],PARAMETER[\"Auxiliary_Sphere_Type\",0.0],UNIT[\"Meter\",1.0],AUTHORITY[\"EPSG\",3857]]"
             }
            },
            "tileServers": [
             "https://tiles1.arcgis.com/tiles/gHHix49exJauUOEM/arcgis/rest/services/India_Bnd_G/MapServer",
             "https://tiles2.arcgis.com/tiles/gHHix49exJauUOEM/arcgis/rest/services/India_Bnd_G/MapServer",
             "https://tiles3.arcgis.com/tiles/gHHix49exJauUOEM/arcgis/rest/services/India_Bnd_G/MapServer",
             "https://tiles4.arcgis.com/tiles/gHHix49exJauUOEM/arcgis/rest/services/India_Bnd_G/MapServer"
            ],
            "type": "MapServer",
            "units": "esriMeters"
           },
           "url": "https://tiles.arcgis.com/tiles/gHHix49exJauUOEM/arcgis/rest/services/India_Bnd_G/MapServer",
           "visibility": true
          }
         ],
         "title": "Topographic"
        }
       },
       "_overlay_these_images_on_widget_load": [],
       "_portal_sharing_rest_url": "https://www.arcgis.com/sharing/rest/",
       "_portal_url": "https://www.arcgis.com",
       "_username": "None",
       "_uuid": "2288b9bb-4ecf-46c9-bb75-c9ce115cdddf",
       "layout": "IPY_MODEL_4cba459b86554e33896f56af9cb1a0ee",
       "print_service_url": ""
      }
     },
     "89c6b609542a4ef3b91dda33cc95ef14": {
      "model_module": "arcgis-map-ipywidget",
      "model_module_version": "1.8.2",
      "model_name": "ArcGISMapIPyWidgetModel",
      "state": {
       "_auth_mode": "tokenBased",
       "_basemap": "default",
       "_draw_these_graphics_on_widget_load": [],
       "_draw_these_notype_layers_on_widget_load": [],
       "_gallery_basemaps": {
        "default": {
         "baseMapLayers": [
          {
           "layerType": "ArcGISTiledMapServiceLayer",
           "resourceInfo": {
            "capabilities": "Map,Tilemap,Query,Data",
            "currentVersion": 10.3,
            "exportTilesAllowed": false,
            "fullExtent": {
             "spatialReference": {
              "latestWkid": 3857,
              "wkid": 102100
             },
             "xmax": 20037507.067161843,
             "xmin": -20037507.067161843,
             "ymax": 19971868.88040863,
             "ymin": -19971868.880408604
            },
            "initialExtent": {
             "spatialReference": {
              "latestWkid": 3857,
              "wkid": 102100
             },
             "xmax": 28848255.049479112,
             "xmin": -28848255.049479112,
             "ymax": 16430757.376790084,
             "ymin": -2077452.082122866
            },
            "layers": [
             {
              "defaultVisibility": false,
              "id": 0,
              "maxScale": 0,
              "minScale": 0,
              "name": "Citations",
              "parentLayerId": -1,
              "subLayerIds": null
             }
            ],
            "mapName": "Layers",
            "maxImageHeight": 4096,
            "maxImageWidth": 4096,
            "maxRecordCount": 100,
            "maxScale": 70.5310735,
            "minScale": 591657527.591555,
            "singleFusedMapCache": true,
            "spatialReference": {
             "latestWkid": 3857,
             "wkid": 102100
            },
            "supportedExtensions": "KmlServer",
            "supportedImageFormatTypes": "PNG32,PNG24,PNG,JPG,DIB,TIFF,EMF,PS,PDF,GIF,SVG,SVGZ,BMP",
            "supportedQueryFormats": "JSON, AMF",
            "supportsDynamicLayers": false,
            "tables": [],
            "tileInfo": {
             "cols": 256,
             "compressionQuality": 90,
             "dpi": 96,
             "format": "JPEG",
             "lods": [
              {
               "level": 0,
               "resolution": 156543.03392800014,
               "scale": 591657527.591555
              },
              {
               "level": 1,
               "resolution": 78271.51696399994,
               "scale": 295828763.795777
              },
              {
               "level": 2,
               "resolution": 39135.75848200009,
               "scale": 147914381.897889
              },
              {
               "level": 3,
               "resolution": 19567.87924099992,
               "scale": 73957190.948944
              },
              {
               "level": 4,
               "resolution": 9783.93962049996,
               "scale": 36978595.474472
              },
              {
               "level": 5,
               "resolution": 4891.96981024998,
               "scale": 18489297.737236
              },
              {
               "level": 6,
               "resolution": 2445.98490512499,
               "scale": 9244648.868618
              },
              {
               "level": 7,
               "resolution": 1222.992452562495,
               "scale": 4622324.434309
              },
              {
               "level": 8,
               "resolution": 611.4962262813797,
               "scale": 2311162.217155
              },
              {
               "level": 9,
               "resolution": 305.74811314055756,
               "scale": 1155581.108577
              },
              {
               "level": 10,
               "resolution": 152.87405657041106,
               "scale": 577790.554289
              },
              {
               "level": 11,
               "resolution": 76.43702828507324,
               "scale": 288895.277144
              },
              {
               "level": 12,
               "resolution": 38.21851414253662,
               "scale": 144447.638572
              },
              {
               "level": 13,
               "resolution": 19.10925707126831,
               "scale": 72223.819286
              },
              {
               "level": 14,
               "resolution": 9.554628535634155,
               "scale": 36111.909643
              },
              {
               "level": 15,
               "resolution": 4.77731426794937,
               "scale": 18055.954822
              },
              {
               "level": 16,
               "resolution": 2.388657133974685,
               "scale": 9027.977411
              },
              {
               "level": 17,
               "resolution": 1.1943285668550503,
               "scale": 4513.988705
              },
              {
               "level": 18,
               "resolution": 0.5971642835598172,
               "scale": 2256.994353
              },
              {
               "level": 19,
               "resolution": 0.29858214164761665,
               "scale": 1128.497176
              },
              {
               "level": 20,
               "resolution": 0.14929107082380833,
               "scale": 564.248588
              },
              {
               "level": 21,
               "resolution": 0.07464553541190416,
               "scale": 282.124294
              },
              {
               "level": 22,
               "resolution": 0.03732276770595208,
               "scale": 141.062147
              },
              {
               "level": 23,
               "resolution": 0.01866138385297604,
               "scale": 70.5310735
              }
             ],
             "origin": {
              "x": -20037508.342787,
              "y": 20037508.342787
             },
             "rows": 256,
             "spatialReference": {
              "latestWkid": 3857,
              "wkid": 102100
             }
            },
            "units": "esriMeters"
           },
           "url": "https://services.arcgisonline.com/ArcGIS/rest/services/World_Topo_Map/MapServer"
          }
         ],
         "title": "Topographic"
        }
       },
       "_overlay_these_images_on_widget_load": [],
       "_portal_sharing_rest_url": "https://UCSDOnline.maps.arcgis.com/sharing/rest/",
       "_portal_url": "https://UCSDOnline.maps.arcgis.com",
       "_readonly_webmap_from_js": {
        "basemap": {
         "baseMapLayers": [
          {
           "layerType": "ArcGISTiledMapServiceLayer",
           "resourceInfo": {
            "capabilities": "Map,Tilemap,Query,Data",
            "currentVersion": 10.3,
            "exportTilesAllowed": false,
            "fullExtent": {
             "spatialReference": {
              "latestWkid": 3857,
              "wkid": 102100
             },
             "xmax": 20037507.067161843,
             "xmin": -20037507.067161843,
             "ymax": 19971868.88040863,
             "ymin": -19971868.880408604
            },
            "initialExtent": {
             "spatialReference": {
              "latestWkid": 3857,
              "wkid": 102100
             },
             "xmax": 28848255.049479112,
             "xmin": -28848255.049479112,
             "ymax": 16430757.376790084,
             "ymin": -2077452.082122866
            },
            "layers": [
             {
              "defaultVisibility": false,
              "id": 0,
              "maxScale": 0,
              "minScale": 0,
              "name": "Citations",
              "parentLayerId": -1,
              "subLayerIds": null
             }
            ],
            "mapName": "Layers",
            "maxImageHeight": 4096,
            "maxImageWidth": 4096,
            "maxRecordCount": 100,
            "maxScale": 70.5310735,
            "minScale": 591657527.591555,
            "singleFusedMapCache": true,
            "spatialReference": {
             "latestWkid": 3857,
             "wkid": 102100
            },
            "supportedExtensions": "KmlServer",
            "supportedImageFormatTypes": "PNG32,PNG24,PNG,JPG,DIB,TIFF,EMF,PS,PDF,GIF,SVG,SVGZ,BMP",
            "supportedQueryFormats": "JSON, AMF",
            "supportsDynamicLayers": false,
            "tables": [],
            "tileInfo": {
             "cols": 256,
             "compressionQuality": 90,
             "dpi": 96,
             "format": "JPEG",
             "lods": [
              {
               "level": 0,
               "resolution": 156543.03392800014,
               "scale": 591657527.591555
              },
              {
               "level": 1,
               "resolution": 78271.51696399994,
               "scale": 295828763.795777
              },
              {
               "level": 2,
               "resolution": 39135.75848200009,
               "scale": 147914381.897889
              },
              {
               "level": 3,
               "resolution": 19567.87924099992,
               "scale": 73957190.948944
              },
              {
               "level": 4,
               "resolution": 9783.93962049996,
               "scale": 36978595.474472
              },
              {
               "level": 5,
               "resolution": 4891.96981024998,
               "scale": 18489297.737236
              },
              {
               "level": 6,
               "resolution": 2445.98490512499,
               "scale": 9244648.868618
              },
              {
               "level": 7,
               "resolution": 1222.992452562495,
               "scale": 4622324.434309
              },
              {
               "level": 8,
               "resolution": 611.4962262813797,
               "scale": 2311162.217155
              },
              {
               "level": 9,
               "resolution": 305.74811314055756,
               "scale": 1155581.108577
              },
              {
               "level": 10,
               "resolution": 152.87405657041106,
               "scale": 577790.554289
              },
              {
               "level": 11,
               "resolution": 76.43702828507324,
               "scale": 288895.277144
              },
              {
               "level": 12,
               "resolution": 38.21851414253662,
               "scale": 144447.638572
              },
              {
               "level": 13,
               "resolution": 19.10925707126831,
               "scale": 72223.819286
              },
              {
               "level": 14,
               "resolution": 9.554628535634155,
               "scale": 36111.909643
              },
              {
               "level": 15,
               "resolution": 4.77731426794937,
               "scale": 18055.954822
              },
              {
               "level": 16,
               "resolution": 2.388657133974685,
               "scale": 9027.977411
              },
              {
               "level": 17,
               "resolution": 1.1943285668550503,
               "scale": 4513.988705
              },
              {
               "level": 18,
               "resolution": 0.5971642835598172,
               "scale": 2256.994353
              },
              {
               "level": 19,
               "resolution": 0.29858214164761665,
               "scale": 1128.497176
              },
              {
               "level": 20,
               "resolution": 0.14929107082380833,
               "scale": 564.248588
              },
              {
               "level": 21,
               "resolution": 0.07464553541190416,
               "scale": 282.124294
              },
              {
               "level": 22,
               "resolution": 0.03732276770595208,
               "scale": 141.062147
              },
              {
               "level": 23,
               "resolution": 0.01866138385297604,
               "scale": 70.5310735
              }
             ],
             "origin": {
              "x": -20037508.342787,
              "y": 20037508.342787
             },
             "rows": 256,
             "spatialReference": {
              "latestWkid": 3857,
              "wkid": 102100
             }
            },
            "units": "esriMeters"
           },
           "url": "https://services.arcgisonline.com/ArcGIS/rest/services/World_Topo_Map/MapServer"
          }
         ],
         "title": "Topographic"
        },
        "ground": {
         "layers": [
          {
           "id": "worldElevation",
           "layerType": "ArcGISTiledElevationServiceLayer",
           "listMode": "show",
           "title": "Terrain3D",
           "url": "https://elevation3d.arcgis.com/arcgis/rest/services/WorldElevation3D/Terrain3D/ImageServer",
           "visibility": true
          }
         ],
         "transparency": 0
        },
        "layers": []
       },
       "_username": "krganapa_UCSDOnline",
       "_uuid": "64baeac4-3c1b-4a98-8ab5-a47664390e8c",
       "jupyter_target": "notebook",
       "layout": "IPY_MODEL_e4e6a282b33945f3b3e54cb50881dea0",
       "print_service_url": "",
       "tilt": 0
      }
     },
     "900d9a97214f4e198a66cb5d8f5d0af9": {
      "model_module": "arcgis-map-ipywidget",
      "model_module_version": "1.6.0",
      "model_name": "ArcGISMapIPyWidgetModel",
      "state": {
       "_auth_mode": "anonymous",
       "_basemap": "default",
       "_draw_these_graphics_on_widget_load": [],
       "_draw_these_notype_layers_on_widget_load": [],
       "_gallery_basemaps": {
        "default": {
         "baseMapLayers": [
          {
           "layerType": "ArcGISTiledMapServiceLayer",
           "opacity": 1,
           "resourceInfo": {
            "capabilities": "Map,Tilemap,Query,Data",
            "copyrightText": "Sources: Esri, HERE, DeLorme, Intermap, increment P Corp., GEBCO, USGS, FAO, NPS, NRCAN, GeoBase, IGN, Kadaster NL, Ordnance Survey, Esri Japan, METI, Esri China (Hong Kong), swisstopo, MapmyIndia, © OpenStreetMap contributors, and the GIS User Community",
            "currentVersion": 10.3,
            "description": "This map is designed to be used as a basemap by GIS professionals and as a reference map by anyone. The map includes administrative boundaries, cities, water features, physiographic features, parks, landmarks, highways, roads, railways, and airports overlaid on land cover and shaded relief imagery for added context. The map provides coverage for the world down to a scale of ~1:72k. Coverage is provided down to ~1:4k for the following areas: Australia and New Zealand; India; Europe; Canada; Mexico; the continental United States and Hawaii; South America and Central America; Africa; and most of the Middle East. Coverage down to ~1:1k and ~1:2k is available in select urban areas. This basemap was compiled from a variety of best available sources from several data providers, including the U.S. Geological Survey (USGS), U.S. Environmental Protection Agency (EPA), U.S. National Park Service (NPS), Food and Agriculture Organization of the United Nations (FAO), Department of Natural Resources Canada (NRCAN), GeoBase, Agriculture and Agri-Food Canada, DeLorme, HERE, Esri, OpenStreetMap contributors, and the GIS User Community. For more information on this map, including our terms of use, visit us online at http://goto.arcgisonline.com/maps/World_Topo_Map",
            "documentInfo": {
             "AntialiasingMode": "None",
             "Author": "Esri",
             "Category": "imageryBaseMapsEarthCover (Imagery, basemaps, and land cover)",
             "Comments": "",
             "Keywords": "World,Global,Europe,North America,South America,Southern Africa,Australia,New Zealand,India",
             "Subject": "topographic, topography, administrative boundaries, cities, water features, physiographic features, parks, landmarks, highways, roads, railways, airports, land cover, shaded relief imagery",
             "TextAntialiasingMode": "Force",
             "Title": "World Topographic Map"
            },
            "exportTilesAllowed": false,
            "fullExtent": {
             "spatialReference": {
              "latestWkid": 3857,
              "wkid": 102100
             },
             "xmax": 20037507.067161843,
             "xmin": -20037507.067161843,
             "ymax": 19971868.88040863,
             "ymin": -19971868.880408604
            },
            "initialExtent": {
             "spatialReference": {
              "latestWkid": 3857,
              "wkid": 102100
             },
             "xmax": 28848255.049479112,
             "xmin": -28848255.049479112,
             "ymax": 16430757.376790084,
             "ymin": -2077452.082122866
            },
            "layers": [
             {
              "defaultVisibility": false,
              "id": 0,
              "maxScale": 0,
              "minScale": 0,
              "name": "Citations",
              "parentLayerId": -1,
              "subLayerIds": null
             }
            ],
            "mapName": "Layers",
            "maxImageHeight": 4096,
            "maxImageWidth": 4096,
            "maxRecordCount": 100,
            "maxScale": 70.5310735,
            "minScale": 591657527.591555,
            "serviceDescription": "This map is designed to be used as a basemap by GIS professionals and as a reference map by anyone. The map includes administrative boundaries, cities, water features, physiographic features, parks, landmarks, highways, roads, railways, and airports overlaid on land cover and shaded relief imagery for added context. The map provides coverage for the world down to a scale of ~1:72k. Coverage is provided down to ~1:4k for the following areas: Australia and New Zealand; India; Europe; Canada; Mexico; the continental United States and Hawaii; South America and Central America; Africa; and most of the Middle East. Coverage down to ~1:1k and ~1:2k is available in select urban areas. This basemap was compiled from a variety of best available sources from several data providers, including the U.S. Geological Survey (USGS), U.S. Environmental Protection Agency (EPA), U.S. National Park Service (NPS), Food and Agriculture Organization of the United Nations (FAO), Department of Natural Resources Canada (NRCAN), GeoBase, Agriculture and Agri-Food Canada, DeLorme, HERE, Esri, OpenStreetMap contributors, and the GIS User Community. For more information on this map, including the terms of use, visit us <a href=\"http://goto.arcgisonline.com/maps/World_Topo_Map \" target=\"_new\" >online</a>.",
            "singleFusedMapCache": true,
            "spatialReference": {
             "latestWkid": 3857,
             "wkid": 102100
            },
            "supportedExtensions": "KmlServer",
            "supportedImageFormatTypes": "PNG32,PNG24,PNG,JPG,DIB,TIFF,EMF,PS,PDF,GIF,SVG,SVGZ,BMP",
            "supportedQueryFormats": "JSON, AMF",
            "supportsDynamicLayers": false,
            "tables": [],
            "tileInfo": {
             "cols": 256,
             "compressionQuality": 90,
             "dpi": 96,
             "format": "JPEG",
             "lods": [
              {
               "level": 0,
               "resolution": 156543.03392800014,
               "scale": 591657527.591555
              },
              {
               "level": 1,
               "resolution": 78271.51696399994,
               "scale": 295828763.795777
              },
              {
               "level": 2,
               "resolution": 39135.75848200009,
               "scale": 147914381.897889
              },
              {
               "level": 3,
               "resolution": 19567.87924099992,
               "scale": 73957190.948944
              },
              {
               "level": 4,
               "resolution": 9783.93962049996,
               "scale": 36978595.474472
              },
              {
               "level": 5,
               "resolution": 4891.96981024998,
               "scale": 18489297.737236
              },
              {
               "level": 6,
               "resolution": 2445.98490512499,
               "scale": 9244648.868618
              },
              {
               "level": 7,
               "resolution": 1222.992452562495,
               "scale": 4622324.434309
              },
              {
               "level": 8,
               "resolution": 611.4962262813797,
               "scale": 2311162.217155
              },
              {
               "level": 9,
               "resolution": 305.74811314055756,
               "scale": 1155581.108577
              },
              {
               "level": 10,
               "resolution": 152.87405657041106,
               "scale": 577790.554289
              },
              {
               "level": 11,
               "resolution": 76.43702828507324,
               "scale": 288895.277144
              },
              {
               "level": 12,
               "resolution": 38.21851414253662,
               "scale": 144447.638572
              },
              {
               "level": 13,
               "resolution": 19.10925707126831,
               "scale": 72223.819286
              },
              {
               "level": 14,
               "resolution": 9.554628535634155,
               "scale": 36111.909643
              },
              {
               "level": 15,
               "resolution": 4.77731426794937,
               "scale": 18055.954822
              },
              {
               "level": 16,
               "resolution": 2.388657133974685,
               "scale": 9027.977411
              },
              {
               "level": 17,
               "resolution": 1.1943285668550503,
               "scale": 4513.988705
              },
              {
               "level": 18,
               "resolution": 0.5971642835598172,
               "scale": 2256.994353
              },
              {
               "level": 19,
               "resolution": 0.29858214164761665,
               "scale": 1128.497176
              },
              {
               "level": 20,
               "resolution": 0.14929107082380833,
               "scale": 564.248588
              },
              {
               "level": 21,
               "resolution": 0.07464553541190416,
               "scale": 282.124294
              },
              {
               "level": 22,
               "resolution": 0.03732276770595208,
               "scale": 141.062147
              },
              {
               "level": 23,
               "resolution": 0.01866138385297604,
               "scale": 70.5310735
              }
             ],
             "origin": {
              "x": -20037508.342787,
              "y": 20037508.342787
             },
             "rows": 256,
             "spatialReference": {
              "latestWkid": 3857,
              "wkid": 102100
             }
            },
            "units": "esriMeters"
           },
           "url": "https://services.arcgisonline.com/ArcGIS/rest/services/World_Topo_Map/MapServer",
           "visibility": true
          },
          {
           "id": "Streetmap_MMI_8695",
           "layerType": "ArcGISTiledMapServiceLayer",
           "maxScale": 1128,
           "minScale": 288895,
           "opacity": 1,
           "resourceInfo": {
            "access": "SECURE",
            "capabilities": "Map,TilesOnly",
            "copyrightText": "Sources: Esri, MapmyIndia, DeLorme, METI/NASA",
            "currentVersion": 10.31,
            "description": "<span style='color: rgb(0, 0, 0); font-family: Verdana, sans-serif; line-height: 17.33333396911621px; background-color: rgb(255, 255, 255);'>This India topographic map overlay presents physical features and street-level data for India. This comprehensive topographic map includes highways, major roads, minor roads, one-way arrow indicators, railways, water features, administrative boundaries, cities, parks, landmarks, physical feature labels, spot elevations, and contours overlaid on shaded relief imagery for added context. The map also includes building footprints for selected areas. Coverage is provided down to ~1:4k country-wide with ~1:1k and ~1:2k data available in select urban areas. The street map was developed by Esri using MapmyIndia data layers, including administrative boundaries, from CE Info Systems. Additional data sources from DeLorme basemap layers, and METI/NASA data for shaded relief.</span>",
            "documentInfo": {
             "AntialiasingMode": "Fast",
             "Author": "",
             "Category": "",
             "Comments": "",
             "Keywords": "",
             "Subject": "",
             "TextAntialiasingMode": "Force",
             "Title": "",
             "author": "Esri_Content",
             "category": "",
             "comments": "",
             "credits": "Sources: Esri, MapmyIndia, DeLorme, METI/NASA",
             "keywords": "India, Topomap, highways, roads, transportation, landmarks, parks, basemap, community, community basemap, map, MapmyIndia",
             "subject": "This topographic map overlay presents physical features and street-level data from MapmyIndia for India.",
             "title": "World_Topomap_MMI"
            },
            "exportTilesAllowed": false,
            "fullExtent": {
             "spatialReference": {
              "wkid": 102100,
              "wkt": null
             },
             "xmax": 12523442.714243297,
             "xmin": 7514065.628545973,
             "ymax": 5009377.085753329,
             "ymin": 7.450580596923828e-09
            },
            "id": "94ef359ef51f7205",
            "initialExtent": {
             "spatialReference": {
              "wkid": 102100,
              "wkt": null
             },
             "xmax": 12523442.714243297,
             "xmin": 7514065.628545973,
             "ymax": 5009377.085753329,
             "ymin": 7.450580596923828e-09
            },
            "layers": [
             {
              "defaultVisibility": false,
              "id": 0,
              "maxScale": 0,
              "minScale": 0,
              "name": "world",
              "parentLayerId": -1,
              "subLayerIds": null
             }
            ],
            "mapName": "Layers",
            "maxExportTilesCount": 100000,
            "maxScale": 1128.497176,
            "minScale": 288895.277144,
            "name": "World_Topomap_MMI",
            "resampling": false,
            "server": "P3ePLMYs2RVChkJx",
            "serviceDescription": "",
            "singleFusedMapCache": true,
            "spatialReference": {
             "wkid": 102100,
             "wkt": null
            },
            "status": "created",
            "supportedImageFormatTypes": "JPEG",
            "tables": [],
            "tileInfo": {
             "cols": 256,
             "compressionQuality": 90,
             "dpi": 96,
             "format": "JPEG",
             "lods": [
              {
               "level": 0,
               "resolution": 156543.03392800014,
               "scale": 591657527.591555
              },
              {
               "level": 1,
               "resolution": 78271.51696399994,
               "scale": 295828763.795777
              },
              {
               "level": 2,
               "resolution": 39135.75848200009,
               "scale": 147914381.897889
              },
              {
               "level": 3,
               "resolution": 19567.87924099992,
               "scale": 73957190.948944
              },
              {
               "level": 4,
               "resolution": 9783.93962049996,
               "scale": 36978595.474472
              },
              {
               "level": 5,
               "resolution": 4891.96981024998,
               "scale": 18489297.737236
              },
              {
               "level": 6,
               "resolution": 2445.98490512499,
               "scale": 9244648.868618
              },
              {
               "level": 7,
               "resolution": 1222.992452562495,
               "scale": 4622324.434309
              },
              {
               "level": 8,
               "resolution": 611.4962262813797,
               "scale": 2311162.217155
              },
              {
               "level": 9,
               "resolution": 305.74811314055756,
               "scale": 1155581.108577
              },
              {
               "level": 10,
               "resolution": 152.87405657041106,
               "scale": 577790.554289
              },
              {
               "level": 11,
               "resolution": 76.43702828507324,
               "scale": 288895.277144
              },
              {
               "level": 12,
               "resolution": 38.21851414253662,
               "scale": 144447.638572
              },
              {
               "level": 13,
               "resolution": 19.10925707126831,
               "scale": 72223.819286
              },
              {
               "level": 14,
               "resolution": 9.554628535634155,
               "scale": 36111.909643
              },
              {
               "level": 15,
               "resolution": 4.77731426794937,
               "scale": 18055.954822
              },
              {
               "level": 16,
               "resolution": 2.388657133974685,
               "scale": 9027.977411
              },
              {
               "level": 17,
               "resolution": 1.1943285668550503,
               "scale": 4513.988705
              },
              {
               "level": 18,
               "resolution": 0.5971642835598172,
               "scale": 2256.994353
              },
              {
               "level": 19,
               "resolution": 0.29858214164761665,
               "scale": 1128.497176
              }
             ],
             "origin": {
              "x": -20037508.342787,
              "y": 20037508.342787
             },
             "rows": 256,
             "spatialReference": {
              "wkid": 102100,
              "wkt": "PROJCS[\"WGS_1984_Web_Mercator_Auxiliary_Sphere\",GEOGCS[\"GCS_WGS_1984\",DATUM[\"D_WGS_1984\",SPHEROID[\"WGS_1984\",6378137.0,298.257223563]],PRIMEM[\"Greenwich\",0.0],UNIT[\"Degree\",0.0174532925199433]],PROJECTION[\"Mercator_Auxiliary_Sphere\"],PARAMETER[\"False_Easting\",0.0],PARAMETER[\"False_Northing\",0.0],PARAMETER[\"Central_Meridian\",0.0],PARAMETER[\"Standard_Parallel_1\",0.0],PARAMETER[\"Auxiliary_Sphere_Type\",0.0],UNIT[\"Meter\",1.0],AUTHORITY[\"EPSG\",3857]]"
             },
             "storageFormat": "esriMapCacheStorageModeCompact"
            },
            "tileServers": [
             "http://tiles1.arcgis.com/tiles/P3ePLMYs2RVChkJx/arcgis/rest/services/World_Topomap_MMI/MapServer",
             "http://tiles2.arcgis.com/tiles/P3ePLMYs2RVChkJx/arcgis/rest/services/World_Topomap_MMI/MapServer",
             "http://tiles3.arcgis.com/tiles/P3ePLMYs2RVChkJx/arcgis/rest/services/World_Topomap_MMI/MapServer",
             "http://tiles4.arcgis.com/tiles/P3ePLMYs2RVChkJx/arcgis/rest/services/World_Topomap_MMI/MapServer"
            ],
            "type": "MapServer",
            "units": "esriMeters"
           },
           "url": "https://tiles.arcgis.com/tiles/P3ePLMYs2RVChkJx/arcgis/rest/services/World_Topomap_MMI/MapServer",
           "visibility": true
          },
          {
           "id": "India_Bnd_G_5793",
           "isReference": true,
           "layerType": "ArcGISTiledMapServiceLayer",
           "opacity": 1,
           "resourceInfo": {
            "access": "SECURE",
            "capabilities": "Map",
            "copyrightText": "Mxd assembled by Corey LaMar",
            "created": null,
            "currentVersion": 10.1,
            "description": "This mxd contains the political boundaries used in StreetMap 5.1 as  political boundaries overlay  Currency: 73m to 577k (StreetMap 4.1 (5.0) 288k to 72k (StreetMap 5.1) Delorme 36k to 1k (StreetMap 5.1 ) Navteq",
            "documentInfo": {
             "AntialiasingMode": "Best",
             "Author": "AGOL Teams Members",
             "Category": "",
             "Comments": "This mxd contains the political boundaries used in StreetMap 5.1 as a starting point for Esri India to create their own political boundaries overlay\n\nCurrency:\n73m to 577k (StreetMap 4.1 (5.0)\n288k to 72k (StreetMap 5.1) Delorme\n36k to 1k (StreetMap 5.1 ) Navteq",
             "Keywords": "Inda Disputed International Boundaries",
             "Subject": "Create 2/2/13 Copies of StMap Int Bnd 73m to1k caching levels",
             "TextAntialiasingMode": "Force",
             "Title": "Int_Bnd_for_Esri_India_Work",
             "author": "cimmy68",
             "category": "",
             "comments": "",
             "credits": "Mxd assembled by Corey LaMar",
             "keywords": "Inda International Boundaries",
             "subject": "Create 2/2/13 Copies of StMap Int Bnd 73m to1k caching levels",
             "title": "India_Bnd_G"
            },
            "fullExtent": {
             "spatialReference": {
              "wkid": 102100
             },
             "xmax": 10843895.843899999,
             "xmin": 7508245.0923000015,
             "ymax": 4451373.3320999965,
             "ymin": 753623.2256000005
            },
            "id": "bc7c3277ec65f602",
            "initialExtent": {
             "spatialReference": {
              "wkid": 102100
             },
             "xmax": 13053038.616388625,
             "xmin": 5299102.319811376,
             "ymax": 4636260.837424996,
             "ymin": 2675256.394233431
            },
            "layers": [
             {
              "defaultVisibility": true,
              "id": 0,
              "maxScale": 0,
              "minScale": 0,
              "name": "India",
              "parentLayerId": -1,
              "subLayerIds": null
             }
            ],
            "mapName": "India Basemap",
            "maxScale": 577790.554289,
            "minScale": 73957190.948944,
            "modified": null,
            "name": "India_Bnd_G",
            "server": "gHHix49exJauUOEM",
            "serviceDescription": "",
            "singleFusedMapCache": true,
            "spatialReference": {
             "wkid": 102100
            },
            "status": "created",
            "supportedImageFormatTypes": "PNG",
            "tables": [],
            "tileInfo": {
             "cols": 256,
             "compressionQuality": 0,
             "dpi": 96,
             "format": "PNG",
             "lods": [
              {
               "level": 0,
               "resolution": 156543.03392800014,
               "scale": 591657527.591555
              },
              {
               "level": 1,
               "resolution": 78271.51696399994,
               "scale": 295828763.795777
              },
              {
               "level": 2,
               "resolution": 39135.75848200009,
               "scale": 147914381.897889
              },
              {
               "level": 3,
               "resolution": 19567.87924099992,
               "scale": 73957190.948944
              },
              {
               "level": 4,
               "resolution": 9783.93962049996,
               "scale": 36978595.474472
              },
              {
               "level": 5,
               "resolution": 4891.96981024998,
               "scale": 18489297.737236
              },
              {
               "level": 6,
               "resolution": 2445.98490512499,
               "scale": 9244648.868618
              },
              {
               "level": 7,
               "resolution": 1222.992452562495,
               "scale": 4622324.434309
              },
              {
               "level": 8,
               "resolution": 611.4962262813797,
               "scale": 2311162.217155
              },
              {
               "level": 9,
               "resolution": 305.74811314055756,
               "scale": 1155581.108577
              },
              {
               "level": 10,
               "resolution": 152.87405657041106,
               "scale": 577790.554289
              },
              {
               "level": 11,
               "resolution": 76.43702828507324,
               "scale": 288895.277144
              },
              {
               "level": 12,
               "resolution": 38.21851414253662,
               "scale": 144447.638572
              },
              {
               "level": 13,
               "resolution": 19.10925707126831,
               "scale": 72223.819286
              },
              {
               "level": 14,
               "resolution": 9.554628535634155,
               "scale": 36111.909643
              },
              {
               "level": 15,
               "resolution": 4.77731426794937,
               "scale": 18055.954822
              },
              {
               "level": 16,
               "resolution": 2.388657133974685,
               "scale": 9027.977411
              },
              {
               "level": 17,
               "resolution": 1.1943285668550503,
               "scale": 4513.988705
              },
              {
               "level": 18,
               "resolution": 0.5971642835598172,
               "scale": 2256.994353
              },
              {
               "level": 19,
               "resolution": 0.29858214164761665,
               "scale": 1128.497176
              }
             ],
             "origin": {
              "x": -20037508.342787,
              "y": 20037508.342787
             },
             "rows": 256,
             "spatialReference": {
              "wkid": 102100,
              "wkt": "PROJCS[\"WGS_1984_Web_Mercator_Auxiliary_Sphere\",GEOGCS[\"GCS_WGS_1984\",DATUM[\"D_WGS_1984\",SPHEROID[\"WGS_1984\",6378137.0,298.257223563]],PRIMEM[\"Greenwich\",0.0],UNIT[\"Degree\",0.0174532925199433]],PROJECTION[\"Mercator_Auxiliary_Sphere\"],PARAMETER[\"False_Easting\",0.0],PARAMETER[\"False_Northing\",0.0],PARAMETER[\"Central_Meridian\",0.0],PARAMETER[\"Standard_Parallel_1\",0.0],PARAMETER[\"Auxiliary_Sphere_Type\",0.0],UNIT[\"Meter\",1.0],AUTHORITY[\"EPSG\",3857]]"
             }
            },
            "tileServers": [
             "https://tiles1.arcgis.com/tiles/gHHix49exJauUOEM/arcgis/rest/services/India_Bnd_G/MapServer",
             "https://tiles2.arcgis.com/tiles/gHHix49exJauUOEM/arcgis/rest/services/India_Bnd_G/MapServer",
             "https://tiles3.arcgis.com/tiles/gHHix49exJauUOEM/arcgis/rest/services/India_Bnd_G/MapServer",
             "https://tiles4.arcgis.com/tiles/gHHix49exJauUOEM/arcgis/rest/services/India_Bnd_G/MapServer"
            ],
            "type": "MapServer",
            "units": "esriMeters"
           },
           "url": "https://tiles.arcgis.com/tiles/gHHix49exJauUOEM/arcgis/rest/services/India_Bnd_G/MapServer",
           "visibility": true
          }
         ],
         "title": "Topographic"
        }
       },
       "_model_module_version": "1.6.0",
       "_portal_sharing_rest_url": "https://www.arcgis.com/sharing/rest/",
       "_portal_url": "https://www.arcgis.com",
       "_readonly_webmap_from_js": {
        "basemap": {
         "baseMapLayers": [
          {
           "layerType": "ArcGISTiledMapServiceLayer",
           "opacity": 1,
           "resourceInfo": {
            "capabilities": "Map,Tilemap,Query,Data",
            "copyrightText": "Sources: Esri, HERE, DeLorme, Intermap, increment P Corp., GEBCO, USGS, FAO, NPS, NRCAN, GeoBase, IGN, Kadaster NL, Ordnance Survey, Esri Japan, METI, Esri China (Hong Kong), swisstopo, MapmyIndia, © OpenStreetMap contributors, and the GIS User Community",
            "currentVersion": 10.3,
            "description": "This map is designed to be used as a basemap by GIS professionals and as a reference map by anyone. The map includes administrative boundaries, cities, water features, physiographic features, parks, landmarks, highways, roads, railways, and airports overlaid on land cover and shaded relief imagery for added context. The map provides coverage for the world down to a scale of ~1:72k. Coverage is provided down to ~1:4k for the following areas: Australia and New Zealand; India; Europe; Canada; Mexico; the continental United States and Hawaii; South America and Central America; Africa; and most of the Middle East. Coverage down to ~1:1k and ~1:2k is available in select urban areas. This basemap was compiled from a variety of best available sources from several data providers, including the U.S. Geological Survey (USGS), U.S. Environmental Protection Agency (EPA), U.S. National Park Service (NPS), Food and Agriculture Organization of the United Nations (FAO), Department of Natural Resources Canada (NRCAN), GeoBase, Agriculture and Agri-Food Canada, DeLorme, HERE, Esri, OpenStreetMap contributors, and the GIS User Community. For more information on this map, including our terms of use, visit us online at http://goto.arcgisonline.com/maps/World_Topo_Map",
            "documentInfo": {
             "AntialiasingMode": "None",
             "Author": "Esri",
             "Category": "imageryBaseMapsEarthCover (Imagery, basemaps, and land cover)",
             "Comments": "",
             "Keywords": "World,Global,Europe,North America,South America,Southern Africa,Australia,New Zealand,India",
             "Subject": "topographic, topography, administrative boundaries, cities, water features, physiographic features, parks, landmarks, highways, roads, railways, airports, land cover, shaded relief imagery",
             "TextAntialiasingMode": "Force",
             "Title": "World Topographic Map"
            },
            "exportTilesAllowed": false,
            "fullExtent": {
             "spatialReference": {
              "latestWkid": 3857,
              "wkid": 102100
             },
             "xmax": 20037507.067161843,
             "xmin": -20037507.067161843,
             "ymax": 19971868.88040863,
             "ymin": -19971868.880408604
            },
            "initialExtent": {
             "spatialReference": {
              "latestWkid": 3857,
              "wkid": 102100
             },
             "xmax": 28848255.049479112,
             "xmin": -28848255.049479112,
             "ymax": 16430757.376790084,
             "ymin": -2077452.082122866
            },
            "layers": [
             {
              "defaultVisibility": false,
              "id": 0,
              "maxScale": 0,
              "minScale": 0,
              "name": "Citations",
              "parentLayerId": -1,
              "subLayerIds": null
             }
            ],
            "mapName": "Layers",
            "maxImageHeight": 4096,
            "maxImageWidth": 4096,
            "maxRecordCount": 100,
            "maxScale": 70.5310735,
            "minScale": 591657527.591555,
            "serviceDescription": "This map is designed to be used as a basemap by GIS professionals and as a reference map by anyone. The map includes administrative boundaries, cities, water features, physiographic features, parks, landmarks, highways, roads, railways, and airports overlaid on land cover and shaded relief imagery for added context. The map provides coverage for the world down to a scale of ~1:72k. Coverage is provided down to ~1:4k for the following areas: Australia and New Zealand; India; Europe; Canada; Mexico; the continental United States and Hawaii; South America and Central America; Africa; and most of the Middle East. Coverage down to ~1:1k and ~1:2k is available in select urban areas. This basemap was compiled from a variety of best available sources from several data providers, including the U.S. Geological Survey (USGS), U.S. Environmental Protection Agency (EPA), U.S. National Park Service (NPS), Food and Agriculture Organization of the United Nations (FAO), Department of Natural Resources Canada (NRCAN), GeoBase, Agriculture and Agri-Food Canada, DeLorme, HERE, Esri, OpenStreetMap contributors, and the GIS User Community. For more information on this map, including the terms of use, visit us <a href=\"http://goto.arcgisonline.com/maps/World_Topo_Map \" target=\"_new\" >online</a>.",
            "singleFusedMapCache": true,
            "spatialReference": {
             "latestWkid": 3857,
             "wkid": 102100
            },
            "supportedExtensions": "KmlServer",
            "supportedImageFormatTypes": "PNG32,PNG24,PNG,JPG,DIB,TIFF,EMF,PS,PDF,GIF,SVG,SVGZ,BMP",
            "supportedQueryFormats": "JSON, AMF",
            "supportsDynamicLayers": false,
            "tables": [],
            "tileInfo": {
             "cols": 256,
             "compressionQuality": 90,
             "dpi": 96,
             "format": "JPEG",
             "lods": [
              {
               "level": 0,
               "resolution": 156543.03392800014,
               "scale": 591657527.591555
              },
              {
               "level": 1,
               "resolution": 78271.51696399994,
               "scale": 295828763.795777
              },
              {
               "level": 2,
               "resolution": 39135.75848200009,
               "scale": 147914381.897889
              },
              {
               "level": 3,
               "resolution": 19567.87924099992,
               "scale": 73957190.948944
              },
              {
               "level": 4,
               "resolution": 9783.93962049996,
               "scale": 36978595.474472
              },
              {
               "level": 5,
               "resolution": 4891.96981024998,
               "scale": 18489297.737236
              },
              {
               "level": 6,
               "resolution": 2445.98490512499,
               "scale": 9244648.868618
              },
              {
               "level": 7,
               "resolution": 1222.992452562495,
               "scale": 4622324.434309
              },
              {
               "level": 8,
               "resolution": 611.4962262813797,
               "scale": 2311162.217155
              },
              {
               "level": 9,
               "resolution": 305.74811314055756,
               "scale": 1155581.108577
              },
              {
               "level": 10,
               "resolution": 152.87405657041106,
               "scale": 577790.554289
              },
              {
               "level": 11,
               "resolution": 76.43702828507324,
               "scale": 288895.277144
              },
              {
               "level": 12,
               "resolution": 38.21851414253662,
               "scale": 144447.638572
              },
              {
               "level": 13,
               "resolution": 19.10925707126831,
               "scale": 72223.819286
              },
              {
               "level": 14,
               "resolution": 9.554628535634155,
               "scale": 36111.909643
              },
              {
               "level": 15,
               "resolution": 4.77731426794937,
               "scale": 18055.954822
              },
              {
               "level": 16,
               "resolution": 2.388657133974685,
               "scale": 9027.977411
              },
              {
               "level": 17,
               "resolution": 1.1943285668550503,
               "scale": 4513.988705
              },
              {
               "level": 18,
               "resolution": 0.5971642835598172,
               "scale": 2256.994353
              },
              {
               "level": 19,
               "resolution": 0.29858214164761665,
               "scale": 1128.497176
              },
              {
               "level": 20,
               "resolution": 0.14929107082380833,
               "scale": 564.248588
              },
              {
               "level": 21,
               "resolution": 0.07464553541190416,
               "scale": 282.124294
              },
              {
               "level": 22,
               "resolution": 0.03732276770595208,
               "scale": 141.062147
              },
              {
               "level": 23,
               "resolution": 0.01866138385297604,
               "scale": 70.5310735
              }
             ],
             "origin": {
              "x": -20037508.342787,
              "y": 20037508.342787
             },
             "rows": 256,
             "spatialReference": {
              "latestWkid": 3857,
              "wkid": 102100
             }
            },
            "units": "esriMeters"
           },
           "url": "https://services.arcgisonline.com/ArcGIS/rest/services/World_Topo_Map/MapServer",
           "visibility": true
          },
          {
           "id": "Streetmap_MMI_8695",
           "layerType": "ArcGISTiledMapServiceLayer",
           "maxScale": 1128,
           "minScale": 288895,
           "opacity": 1,
           "resourceInfo": {
            "access": "SECURE",
            "capabilities": "Map,TilesOnly",
            "copyrightText": "Sources: Esri, MapmyIndia, DeLorme, METI/NASA",
            "currentVersion": 10.31,
            "description": "<span style='color: rgb(0, 0, 0); font-family: Verdana, sans-serif; line-height: 17.33333396911621px; background-color: rgb(255, 255, 255);'>This India topographic map overlay presents physical features and street-level data for India. This comprehensive topographic map includes highways, major roads, minor roads, one-way arrow indicators, railways, water features, administrative boundaries, cities, parks, landmarks, physical feature labels, spot elevations, and contours overlaid on shaded relief imagery for added context. The map also includes building footprints for selected areas. Coverage is provided down to ~1:4k country-wide with ~1:1k and ~1:2k data available in select urban areas. The street map was developed by Esri using MapmyIndia data layers, including administrative boundaries, from CE Info Systems. Additional data sources from DeLorme basemap layers, and METI/NASA data for shaded relief.</span>",
            "documentInfo": {
             "AntialiasingMode": "Fast",
             "Author": "",
             "Category": "",
             "Comments": "",
             "Keywords": "",
             "Subject": "",
             "TextAntialiasingMode": "Force",
             "Title": "",
             "author": "Esri_Content",
             "category": "",
             "comments": "",
             "credits": "Sources: Esri, MapmyIndia, DeLorme, METI/NASA",
             "keywords": "India, Topomap, highways, roads, transportation, landmarks, parks, basemap, community, community basemap, map, MapmyIndia",
             "subject": "This topographic map overlay presents physical features and street-level data from MapmyIndia for India.",
             "title": "World_Topomap_MMI"
            },
            "exportTilesAllowed": false,
            "fullExtent": {
             "spatialReference": {
              "wkid": 102100,
              "wkt": null
             },
             "xmax": 12523442.714243297,
             "xmin": 7514065.628545973,
             "ymax": 5009377.085753329,
             "ymin": 7.450580596923828e-09
            },
            "id": "94ef359ef51f7205",
            "initialExtent": {
             "spatialReference": {
              "wkid": 102100,
              "wkt": null
             },
             "xmax": 12523442.714243297,
             "xmin": 7514065.628545973,
             "ymax": 5009377.085753329,
             "ymin": 7.450580596923828e-09
            },
            "layers": [
             {
              "defaultVisibility": false,
              "id": 0,
              "maxScale": 0,
              "minScale": 0,
              "name": "world",
              "parentLayerId": -1,
              "subLayerIds": null
             }
            ],
            "mapName": "Layers",
            "maxExportTilesCount": 100000,
            "maxScale": 1128.497176,
            "minScale": 288895.277144,
            "name": "World_Topomap_MMI",
            "resampling": false,
            "server": "P3ePLMYs2RVChkJx",
            "serviceDescription": "",
            "singleFusedMapCache": true,
            "spatialReference": {
             "wkid": 102100,
             "wkt": null
            },
            "status": "created",
            "supportedImageFormatTypes": "JPEG",
            "tables": [],
            "tileInfo": {
             "cols": 256,
             "compressionQuality": 90,
             "dpi": 96,
             "format": "JPEG",
             "lods": [
              {
               "level": 0,
               "resolution": 156543.03392800014,
               "scale": 591657527.591555
              },
              {
               "level": 1,
               "resolution": 78271.51696399994,
               "scale": 295828763.795777
              },
              {
               "level": 2,
               "resolution": 39135.75848200009,
               "scale": 147914381.897889
              },
              {
               "level": 3,
               "resolution": 19567.87924099992,
               "scale": 73957190.948944
              },
              {
               "level": 4,
               "resolution": 9783.93962049996,
               "scale": 36978595.474472
              },
              {
               "level": 5,
               "resolution": 4891.96981024998,
               "scale": 18489297.737236
              },
              {
               "level": 6,
               "resolution": 2445.98490512499,
               "scale": 9244648.868618
              },
              {
               "level": 7,
               "resolution": 1222.992452562495,
               "scale": 4622324.434309
              },
              {
               "level": 8,
               "resolution": 611.4962262813797,
               "scale": 2311162.217155
              },
              {
               "level": 9,
               "resolution": 305.74811314055756,
               "scale": 1155581.108577
              },
              {
               "level": 10,
               "resolution": 152.87405657041106,
               "scale": 577790.554289
              },
              {
               "level": 11,
               "resolution": 76.43702828507324,
               "scale": 288895.277144
              },
              {
               "level": 12,
               "resolution": 38.21851414253662,
               "scale": 144447.638572
              },
              {
               "level": 13,
               "resolution": 19.10925707126831,
               "scale": 72223.819286
              },
              {
               "level": 14,
               "resolution": 9.554628535634155,
               "scale": 36111.909643
              },
              {
               "level": 15,
               "resolution": 4.77731426794937,
               "scale": 18055.954822
              },
              {
               "level": 16,
               "resolution": 2.388657133974685,
               "scale": 9027.977411
              },
              {
               "level": 17,
               "resolution": 1.1943285668550503,
               "scale": 4513.988705
              },
              {
               "level": 18,
               "resolution": 0.5971642835598172,
               "scale": 2256.994353
              },
              {
               "level": 19,
               "resolution": 0.29858214164761665,
               "scale": 1128.497176
              }
             ],
             "origin": {
              "x": -20037508.342787,
              "y": 20037508.342787
             },
             "rows": 256,
             "spatialReference": {
              "wkid": 102100,
              "wkt": "PROJCS[\"WGS_1984_Web_Mercator_Auxiliary_Sphere\",GEOGCS[\"GCS_WGS_1984\",DATUM[\"D_WGS_1984\",SPHEROID[\"WGS_1984\",6378137.0,298.257223563]],PRIMEM[\"Greenwich\",0.0],UNIT[\"Degree\",0.0174532925199433]],PROJECTION[\"Mercator_Auxiliary_Sphere\"],PARAMETER[\"False_Easting\",0.0],PARAMETER[\"False_Northing\",0.0],PARAMETER[\"Central_Meridian\",0.0],PARAMETER[\"Standard_Parallel_1\",0.0],PARAMETER[\"Auxiliary_Sphere_Type\",0.0],UNIT[\"Meter\",1.0],AUTHORITY[\"EPSG\",3857]]"
             },
             "storageFormat": "esriMapCacheStorageModeCompact"
            },
            "tileServers": [
             "http://tiles1.arcgis.com/tiles/P3ePLMYs2RVChkJx/arcgis/rest/services/World_Topomap_MMI/MapServer",
             "http://tiles2.arcgis.com/tiles/P3ePLMYs2RVChkJx/arcgis/rest/services/World_Topomap_MMI/MapServer",
             "http://tiles3.arcgis.com/tiles/P3ePLMYs2RVChkJx/arcgis/rest/services/World_Topomap_MMI/MapServer",
             "http://tiles4.arcgis.com/tiles/P3ePLMYs2RVChkJx/arcgis/rest/services/World_Topomap_MMI/MapServer"
            ],
            "type": "MapServer",
            "units": "esriMeters"
           },
           "url": "https://tiles.arcgis.com/tiles/P3ePLMYs2RVChkJx/arcgis/rest/services/World_Topomap_MMI/MapServer",
           "visibility": true
          },
          {
           "id": "India_Bnd_G_5793",
           "isReference": true,
           "layerType": "ArcGISTiledMapServiceLayer",
           "opacity": 1,
           "resourceInfo": {
            "access": "SECURE",
            "capabilities": "Map",
            "copyrightText": "Mxd assembled by Corey LaMar",
            "created": null,
            "currentVersion": 10.1,
            "description": "This mxd contains the political boundaries used in StreetMap 5.1 as  political boundaries overlay  Currency: 73m to 577k (StreetMap 4.1 (5.0) 288k to 72k (StreetMap 5.1) Delorme 36k to 1k (StreetMap 5.1 ) Navteq",
            "documentInfo": {
             "AntialiasingMode": "Best",
             "Author": "AGOL Teams Members",
             "Category": "",
             "Comments": "This mxd contains the political boundaries used in StreetMap 5.1 as a starting point for Esri India to create their own political boundaries overlay\n\nCurrency:\n73m to 577k (StreetMap 4.1 (5.0)\n288k to 72k (StreetMap 5.1) Delorme\n36k to 1k (StreetMap 5.1 ) Navteq",
             "Keywords": "Inda Disputed International Boundaries",
             "Subject": "Create 2/2/13 Copies of StMap Int Bnd 73m to1k caching levels",
             "TextAntialiasingMode": "Force",
             "Title": "Int_Bnd_for_Esri_India_Work",
             "author": "cimmy68",
             "category": "",
             "comments": "",
             "credits": "Mxd assembled by Corey LaMar",
             "keywords": "Inda International Boundaries",
             "subject": "Create 2/2/13 Copies of StMap Int Bnd 73m to1k caching levels",
             "title": "India_Bnd_G"
            },
            "fullExtent": {
             "spatialReference": {
              "wkid": 102100
             },
             "xmax": 10843895.843899999,
             "xmin": 7508245.0923000015,
             "ymax": 4451373.3320999965,
             "ymin": 753623.2256000005
            },
            "id": "bc7c3277ec65f602",
            "initialExtent": {
             "spatialReference": {
              "wkid": 102100
             },
             "xmax": 13053038.616388625,
             "xmin": 5299102.319811376,
             "ymax": 4636260.837424996,
             "ymin": 2675256.394233431
            },
            "layers": [
             {
              "defaultVisibility": true,
              "id": 0,
              "maxScale": 0,
              "minScale": 0,
              "name": "India",
              "parentLayerId": -1,
              "subLayerIds": null
             }
            ],
            "mapName": "India Basemap",
            "maxScale": 577790.554289,
            "minScale": 73957190.948944,
            "modified": null,
            "name": "India_Bnd_G",
            "server": "gHHix49exJauUOEM",
            "serviceDescription": "",
            "singleFusedMapCache": true,
            "spatialReference": {
             "wkid": 102100
            },
            "status": "created",
            "supportedImageFormatTypes": "PNG",
            "tables": [],
            "tileInfo": {
             "cols": 256,
             "compressionQuality": 0,
             "dpi": 96,
             "format": "PNG",
             "lods": [
              {
               "level": 0,
               "resolution": 156543.03392800014,
               "scale": 591657527.591555
              },
              {
               "level": 1,
               "resolution": 78271.51696399994,
               "scale": 295828763.795777
              },
              {
               "level": 2,
               "resolution": 39135.75848200009,
               "scale": 147914381.897889
              },
              {
               "level": 3,
               "resolution": 19567.87924099992,
               "scale": 73957190.948944
              },
              {
               "level": 4,
               "resolution": 9783.93962049996,
               "scale": 36978595.474472
              },
              {
               "level": 5,
               "resolution": 4891.96981024998,
               "scale": 18489297.737236
              },
              {
               "level": 6,
               "resolution": 2445.98490512499,
               "scale": 9244648.868618
              },
              {
               "level": 7,
               "resolution": 1222.992452562495,
               "scale": 4622324.434309
              },
              {
               "level": 8,
               "resolution": 611.4962262813797,
               "scale": 2311162.217155
              },
              {
               "level": 9,
               "resolution": 305.74811314055756,
               "scale": 1155581.108577
              },
              {
               "level": 10,
               "resolution": 152.87405657041106,
               "scale": 577790.554289
              },
              {
               "level": 11,
               "resolution": 76.43702828507324,
               "scale": 288895.277144
              },
              {
               "level": 12,
               "resolution": 38.21851414253662,
               "scale": 144447.638572
              },
              {
               "level": 13,
               "resolution": 19.10925707126831,
               "scale": 72223.819286
              },
              {
               "level": 14,
               "resolution": 9.554628535634155,
               "scale": 36111.909643
              },
              {
               "level": 15,
               "resolution": 4.77731426794937,
               "scale": 18055.954822
              },
              {
               "level": 16,
               "resolution": 2.388657133974685,
               "scale": 9027.977411
              },
              {
               "level": 17,
               "resolution": 1.1943285668550503,
               "scale": 4513.988705
              },
              {
               "level": 18,
               "resolution": 0.5971642835598172,
               "scale": 2256.994353
              },
              {
               "level": 19,
               "resolution": 0.29858214164761665,
               "scale": 1128.497176
              }
             ],
             "origin": {
              "x": -20037508.342787,
              "y": 20037508.342787
             },
             "rows": 256,
             "spatialReference": {
              "wkid": 102100,
              "wkt": "PROJCS[\"WGS_1984_Web_Mercator_Auxiliary_Sphere\",GEOGCS[\"GCS_WGS_1984\",DATUM[\"D_WGS_1984\",SPHEROID[\"WGS_1984\",6378137.0,298.257223563]],PRIMEM[\"Greenwich\",0.0],UNIT[\"Degree\",0.0174532925199433]],PROJECTION[\"Mercator_Auxiliary_Sphere\"],PARAMETER[\"False_Easting\",0.0],PARAMETER[\"False_Northing\",0.0],PARAMETER[\"Central_Meridian\",0.0],PARAMETER[\"Standard_Parallel_1\",0.0],PARAMETER[\"Auxiliary_Sphere_Type\",0.0],UNIT[\"Meter\",1.0],AUTHORITY[\"EPSG\",3857]]"
             }
            },
            "tileServers": [
             "https://tiles1.arcgis.com/tiles/gHHix49exJauUOEM/arcgis/rest/services/India_Bnd_G/MapServer",
             "https://tiles2.arcgis.com/tiles/gHHix49exJauUOEM/arcgis/rest/services/India_Bnd_G/MapServer",
             "https://tiles3.arcgis.com/tiles/gHHix49exJauUOEM/arcgis/rest/services/India_Bnd_G/MapServer",
             "https://tiles4.arcgis.com/tiles/gHHix49exJauUOEM/arcgis/rest/services/India_Bnd_G/MapServer"
            ],
            "type": "MapServer",
            "units": "esriMeters"
           },
           "url": "https://tiles.arcgis.com/tiles/gHHix49exJauUOEM/arcgis/rest/services/India_Bnd_G/MapServer",
           "visibility": true
          }
         ],
         "title": "Topographic"
        },
        "ground": {
         "layers": [
          {
           "id": "worldElevation",
           "layerType": "ArcGISTiledElevationServiceLayer",
           "listMode": "show",
           "title": "Terrain3D",
           "url": "https://elevation3d.arcgis.com/arcgis/rest/services/WorldElevation3D/Terrain3D/ImageServer",
           "visibility": true
          }
         ],
         "transparency": 0
        },
        "layers": []
       },
       "_username": "None",
       "_uuid": "691ad0fd-b50c-42a6-84e3-f324f452527a",
       "_view_module_version": "1.6.0",
       "_webscene": {
        "portalItem": {
         "id": "855778cea58c4a14957a35ff1028d68c"
        }
       },
       "heading": 0,
       "hide_mode_switch": true,
       "jupyter_target": "notebook",
       "layout": "IPY_MODEL_0a4ee91d543e4032bb4c5609dc543208",
       "mode": "3D",
       "print_service_url": "",
       "rotation": 0,
       "tilt": 0,
       "zoom": -1
      }
     },
     "9fbf9c7877fa4754b73586e07d24f58e": {
      "model_module": "arcgis-map-ipywidget",
      "model_module_version": "1.6.0",
      "model_name": "ArcGISMapIPyWidgetModel",
      "state": {
       "_auth_mode": "anonymous",
       "_basemap": "default",
       "_draw_these_graphics_on_widget_load": [],
       "_draw_these_notype_layers_on_widget_load": [],
       "_gallery_basemaps": {
        "default": {
         "baseMapLayers": [
          {
           "layerType": "ArcGISTiledMapServiceLayer",
           "opacity": 1,
           "resourceInfo": {
            "capabilities": "Map,Tilemap,Query,Data",
            "copyrightText": "Sources: Esri, HERE, DeLorme, Intermap, increment P Corp., GEBCO, USGS, FAO, NPS, NRCAN, GeoBase, IGN, Kadaster NL, Ordnance Survey, Esri Japan, METI, Esri China (Hong Kong), swisstopo, MapmyIndia, © OpenStreetMap contributors, and the GIS User Community",
            "currentVersion": 10.3,
            "description": "This map is designed to be used as a basemap by GIS professionals and as a reference map by anyone. The map includes administrative boundaries, cities, water features, physiographic features, parks, landmarks, highways, roads, railways, and airports overlaid on land cover and shaded relief imagery for added context. The map provides coverage for the world down to a scale of ~1:72k. Coverage is provided down to ~1:4k for the following areas: Australia and New Zealand; India; Europe; Canada; Mexico; the continental United States and Hawaii; South America and Central America; Africa; and most of the Middle East. Coverage down to ~1:1k and ~1:2k is available in select urban areas. This basemap was compiled from a variety of best available sources from several data providers, including the U.S. Geological Survey (USGS), U.S. Environmental Protection Agency (EPA), U.S. National Park Service (NPS), Food and Agriculture Organization of the United Nations (FAO), Department of Natural Resources Canada (NRCAN), GeoBase, Agriculture and Agri-Food Canada, DeLorme, HERE, Esri, OpenStreetMap contributors, and the GIS User Community. For more information on this map, including our terms of use, visit us online at http://goto.arcgisonline.com/maps/World_Topo_Map",
            "documentInfo": {
             "AntialiasingMode": "None",
             "Author": "Esri",
             "Category": "imageryBaseMapsEarthCover (Imagery, basemaps, and land cover)",
             "Comments": "",
             "Keywords": "World,Global,Europe,North America,South America,Southern Africa,Australia,New Zealand,India",
             "Subject": "topographic, topography, administrative boundaries, cities, water features, physiographic features, parks, landmarks, highways, roads, railways, airports, land cover, shaded relief imagery",
             "TextAntialiasingMode": "Force",
             "Title": "World Topographic Map"
            },
            "exportTilesAllowed": false,
            "fullExtent": {
             "spatialReference": {
              "latestWkid": 3857,
              "wkid": 102100
             },
             "xmax": 20037507.067161843,
             "xmin": -20037507.067161843,
             "ymax": 19971868.88040863,
             "ymin": -19971868.880408604
            },
            "initialExtent": {
             "spatialReference": {
              "latestWkid": 3857,
              "wkid": 102100
             },
             "xmax": 28848255.049479112,
             "xmin": -28848255.049479112,
             "ymax": 16430757.376790084,
             "ymin": -2077452.082122866
            },
            "layers": [
             {
              "defaultVisibility": false,
              "id": 0,
              "maxScale": 0,
              "minScale": 0,
              "name": "Citations",
              "parentLayerId": -1,
              "subLayerIds": null
             }
            ],
            "mapName": "Layers",
            "maxImageHeight": 4096,
            "maxImageWidth": 4096,
            "maxRecordCount": 100,
            "maxScale": 70.5310735,
            "minScale": 591657527.591555,
            "serviceDescription": "This map is designed to be used as a basemap by GIS professionals and as a reference map by anyone. The map includes administrative boundaries, cities, water features, physiographic features, parks, landmarks, highways, roads, railways, and airports overlaid on land cover and shaded relief imagery for added context. The map provides coverage for the world down to a scale of ~1:72k. Coverage is provided down to ~1:4k for the following areas: Australia and New Zealand; India; Europe; Canada; Mexico; the continental United States and Hawaii; South America and Central America; Africa; and most of the Middle East. Coverage down to ~1:1k and ~1:2k is available in select urban areas. This basemap was compiled from a variety of best available sources from several data providers, including the U.S. Geological Survey (USGS), U.S. Environmental Protection Agency (EPA), U.S. National Park Service (NPS), Food and Agriculture Organization of the United Nations (FAO), Department of Natural Resources Canada (NRCAN), GeoBase, Agriculture and Agri-Food Canada, DeLorme, HERE, Esri, OpenStreetMap contributors, and the GIS User Community. For more information on this map, including the terms of use, visit us <a href=\"http://goto.arcgisonline.com/maps/World_Topo_Map \" target=\"_new\" >online</a>.",
            "singleFusedMapCache": true,
            "spatialReference": {
             "latestWkid": 3857,
             "wkid": 102100
            },
            "supportedExtensions": "KmlServer",
            "supportedImageFormatTypes": "PNG32,PNG24,PNG,JPG,DIB,TIFF,EMF,PS,PDF,GIF,SVG,SVGZ,BMP",
            "supportedQueryFormats": "JSON, AMF",
            "supportsDynamicLayers": false,
            "tables": [],
            "tileInfo": {
             "cols": 256,
             "compressionQuality": 90,
             "dpi": 96,
             "format": "JPEG",
             "lods": [
              {
               "level": 0,
               "resolution": 156543.03392800014,
               "scale": 591657527.591555
              },
              {
               "level": 1,
               "resolution": 78271.51696399994,
               "scale": 295828763.795777
              },
              {
               "level": 2,
               "resolution": 39135.75848200009,
               "scale": 147914381.897889
              },
              {
               "level": 3,
               "resolution": 19567.87924099992,
               "scale": 73957190.948944
              },
              {
               "level": 4,
               "resolution": 9783.93962049996,
               "scale": 36978595.474472
              },
              {
               "level": 5,
               "resolution": 4891.96981024998,
               "scale": 18489297.737236
              },
              {
               "level": 6,
               "resolution": 2445.98490512499,
               "scale": 9244648.868618
              },
              {
               "level": 7,
               "resolution": 1222.992452562495,
               "scale": 4622324.434309
              },
              {
               "level": 8,
               "resolution": 611.4962262813797,
               "scale": 2311162.217155
              },
              {
               "level": 9,
               "resolution": 305.74811314055756,
               "scale": 1155581.108577
              },
              {
               "level": 10,
               "resolution": 152.87405657041106,
               "scale": 577790.554289
              },
              {
               "level": 11,
               "resolution": 76.43702828507324,
               "scale": 288895.277144
              },
              {
               "level": 12,
               "resolution": 38.21851414253662,
               "scale": 144447.638572
              },
              {
               "level": 13,
               "resolution": 19.10925707126831,
               "scale": 72223.819286
              },
              {
               "level": 14,
               "resolution": 9.554628535634155,
               "scale": 36111.909643
              },
              {
               "level": 15,
               "resolution": 4.77731426794937,
               "scale": 18055.954822
              },
              {
               "level": 16,
               "resolution": 2.388657133974685,
               "scale": 9027.977411
              },
              {
               "level": 17,
               "resolution": 1.1943285668550503,
               "scale": 4513.988705
              },
              {
               "level": 18,
               "resolution": 0.5971642835598172,
               "scale": 2256.994353
              },
              {
               "level": 19,
               "resolution": 0.29858214164761665,
               "scale": 1128.497176
              },
              {
               "level": 20,
               "resolution": 0.14929107082380833,
               "scale": 564.248588
              },
              {
               "level": 21,
               "resolution": 0.07464553541190416,
               "scale": 282.124294
              },
              {
               "level": 22,
               "resolution": 0.03732276770595208,
               "scale": 141.062147
              },
              {
               "level": 23,
               "resolution": 0.01866138385297604,
               "scale": 70.5310735
              }
             ],
             "origin": {
              "x": -20037508.342787,
              "y": 20037508.342787
             },
             "rows": 256,
             "spatialReference": {
              "latestWkid": 3857,
              "wkid": 102100
             }
            },
            "units": "esriMeters"
           },
           "url": "https://services.arcgisonline.com/ArcGIS/rest/services/World_Topo_Map/MapServer",
           "visibility": true
          },
          {
           "id": "Streetmap_MMI_8695",
           "layerType": "ArcGISTiledMapServiceLayer",
           "maxScale": 1128,
           "minScale": 288895,
           "opacity": 1,
           "resourceInfo": {
            "access": "SECURE",
            "capabilities": "Map,TilesOnly",
            "copyrightText": "Sources: Esri, MapmyIndia, DeLorme, METI/NASA",
            "currentVersion": 10.31,
            "description": "<span style='color: rgb(0, 0, 0); font-family: Verdana, sans-serif; line-height: 17.33333396911621px; background-color: rgb(255, 255, 255);'>This India topographic map overlay presents physical features and street-level data for India. This comprehensive topographic map includes highways, major roads, minor roads, one-way arrow indicators, railways, water features, administrative boundaries, cities, parks, landmarks, physical feature labels, spot elevations, and contours overlaid on shaded relief imagery for added context. The map also includes building footprints for selected areas. Coverage is provided down to ~1:4k country-wide with ~1:1k and ~1:2k data available in select urban areas. The street map was developed by Esri using MapmyIndia data layers, including administrative boundaries, from CE Info Systems. Additional data sources from DeLorme basemap layers, and METI/NASA data for shaded relief.</span>",
            "documentInfo": {
             "AntialiasingMode": "Fast",
             "Author": "",
             "Category": "",
             "Comments": "",
             "Keywords": "",
             "Subject": "",
             "TextAntialiasingMode": "Force",
             "Title": "",
             "author": "Esri_Content",
             "category": "",
             "comments": "",
             "credits": "Sources: Esri, MapmyIndia, DeLorme, METI/NASA",
             "keywords": "India, Topomap, highways, roads, transportation, landmarks, parks, basemap, community, community basemap, map, MapmyIndia",
             "subject": "This topographic map overlay presents physical features and street-level data from MapmyIndia for India.",
             "title": "World_Topomap_MMI"
            },
            "exportTilesAllowed": false,
            "fullExtent": {
             "spatialReference": {
              "wkid": 102100,
              "wkt": null
             },
             "xmax": 12523442.714243297,
             "xmin": 7514065.628545973,
             "ymax": 5009377.085753329,
             "ymin": 7.450580596923828e-09
            },
            "id": "94ef359ef51f7205",
            "initialExtent": {
             "spatialReference": {
              "wkid": 102100,
              "wkt": null
             },
             "xmax": 12523442.714243297,
             "xmin": 7514065.628545973,
             "ymax": 5009377.085753329,
             "ymin": 7.450580596923828e-09
            },
            "layers": [
             {
              "defaultVisibility": false,
              "id": 0,
              "maxScale": 0,
              "minScale": 0,
              "name": "world",
              "parentLayerId": -1,
              "subLayerIds": null
             }
            ],
            "mapName": "Layers",
            "maxExportTilesCount": 100000,
            "maxScale": 1128.497176,
            "minScale": 288895.277144,
            "name": "World_Topomap_MMI",
            "resampling": false,
            "server": "P3ePLMYs2RVChkJx",
            "serviceDescription": "",
            "singleFusedMapCache": true,
            "spatialReference": {
             "wkid": 102100,
             "wkt": null
            },
            "status": "created",
            "supportedImageFormatTypes": "JPEG",
            "tables": [],
            "tileInfo": {
             "cols": 256,
             "compressionQuality": 90,
             "dpi": 96,
             "format": "JPEG",
             "lods": [
              {
               "level": 0,
               "resolution": 156543.03392800014,
               "scale": 591657527.591555
              },
              {
               "level": 1,
               "resolution": 78271.51696399994,
               "scale": 295828763.795777
              },
              {
               "level": 2,
               "resolution": 39135.75848200009,
               "scale": 147914381.897889
              },
              {
               "level": 3,
               "resolution": 19567.87924099992,
               "scale": 73957190.948944
              },
              {
               "level": 4,
               "resolution": 9783.93962049996,
               "scale": 36978595.474472
              },
              {
               "level": 5,
               "resolution": 4891.96981024998,
               "scale": 18489297.737236
              },
              {
               "level": 6,
               "resolution": 2445.98490512499,
               "scale": 9244648.868618
              },
              {
               "level": 7,
               "resolution": 1222.992452562495,
               "scale": 4622324.434309
              },
              {
               "level": 8,
               "resolution": 611.4962262813797,
               "scale": 2311162.217155
              },
              {
               "level": 9,
               "resolution": 305.74811314055756,
               "scale": 1155581.108577
              },
              {
               "level": 10,
               "resolution": 152.87405657041106,
               "scale": 577790.554289
              },
              {
               "level": 11,
               "resolution": 76.43702828507324,
               "scale": 288895.277144
              },
              {
               "level": 12,
               "resolution": 38.21851414253662,
               "scale": 144447.638572
              },
              {
               "level": 13,
               "resolution": 19.10925707126831,
               "scale": 72223.819286
              },
              {
               "level": 14,
               "resolution": 9.554628535634155,
               "scale": 36111.909643
              },
              {
               "level": 15,
               "resolution": 4.77731426794937,
               "scale": 18055.954822
              },
              {
               "level": 16,
               "resolution": 2.388657133974685,
               "scale": 9027.977411
              },
              {
               "level": 17,
               "resolution": 1.1943285668550503,
               "scale": 4513.988705
              },
              {
               "level": 18,
               "resolution": 0.5971642835598172,
               "scale": 2256.994353
              },
              {
               "level": 19,
               "resolution": 0.29858214164761665,
               "scale": 1128.497176
              }
             ],
             "origin": {
              "x": -20037508.342787,
              "y": 20037508.342787
             },
             "rows": 256,
             "spatialReference": {
              "wkid": 102100,
              "wkt": "PROJCS[\"WGS_1984_Web_Mercator_Auxiliary_Sphere\",GEOGCS[\"GCS_WGS_1984\",DATUM[\"D_WGS_1984\",SPHEROID[\"WGS_1984\",6378137.0,298.257223563]],PRIMEM[\"Greenwich\",0.0],UNIT[\"Degree\",0.0174532925199433]],PROJECTION[\"Mercator_Auxiliary_Sphere\"],PARAMETER[\"False_Easting\",0.0],PARAMETER[\"False_Northing\",0.0],PARAMETER[\"Central_Meridian\",0.0],PARAMETER[\"Standard_Parallel_1\",0.0],PARAMETER[\"Auxiliary_Sphere_Type\",0.0],UNIT[\"Meter\",1.0],AUTHORITY[\"EPSG\",3857]]"
             },
             "storageFormat": "esriMapCacheStorageModeCompact"
            },
            "tileServers": [
             "http://tiles1.arcgis.com/tiles/P3ePLMYs2RVChkJx/arcgis/rest/services/World_Topomap_MMI/MapServer",
             "http://tiles2.arcgis.com/tiles/P3ePLMYs2RVChkJx/arcgis/rest/services/World_Topomap_MMI/MapServer",
             "http://tiles3.arcgis.com/tiles/P3ePLMYs2RVChkJx/arcgis/rest/services/World_Topomap_MMI/MapServer",
             "http://tiles4.arcgis.com/tiles/P3ePLMYs2RVChkJx/arcgis/rest/services/World_Topomap_MMI/MapServer"
            ],
            "type": "MapServer",
            "units": "esriMeters"
           },
           "url": "https://tiles.arcgis.com/tiles/P3ePLMYs2RVChkJx/arcgis/rest/services/World_Topomap_MMI/MapServer",
           "visibility": true
          },
          {
           "id": "India_Bnd_G_5793",
           "isReference": true,
           "layerType": "ArcGISTiledMapServiceLayer",
           "opacity": 1,
           "resourceInfo": {
            "access": "SECURE",
            "capabilities": "Map",
            "copyrightText": "Mxd assembled by Corey LaMar",
            "created": null,
            "currentVersion": 10.1,
            "description": "This mxd contains the political boundaries used in StreetMap 5.1 as  political boundaries overlay  Currency: 73m to 577k (StreetMap 4.1 (5.0) 288k to 72k (StreetMap 5.1) Delorme 36k to 1k (StreetMap 5.1 ) Navteq",
            "documentInfo": {
             "AntialiasingMode": "Best",
             "Author": "AGOL Teams Members",
             "Category": "",
             "Comments": "This mxd contains the political boundaries used in StreetMap 5.1 as a starting point for Esri India to create their own political boundaries overlay\n\nCurrency:\n73m to 577k (StreetMap 4.1 (5.0)\n288k to 72k (StreetMap 5.1) Delorme\n36k to 1k (StreetMap 5.1 ) Navteq",
             "Keywords": "Inda Disputed International Boundaries",
             "Subject": "Create 2/2/13 Copies of StMap Int Bnd 73m to1k caching levels",
             "TextAntialiasingMode": "Force",
             "Title": "Int_Bnd_for_Esri_India_Work",
             "author": "cimmy68",
             "category": "",
             "comments": "",
             "credits": "Mxd assembled by Corey LaMar",
             "keywords": "Inda International Boundaries",
             "subject": "Create 2/2/13 Copies of StMap Int Bnd 73m to1k caching levels",
             "title": "India_Bnd_G"
            },
            "fullExtent": {
             "spatialReference": {
              "wkid": 102100
             },
             "xmax": 10843895.843899999,
             "xmin": 7508245.0923000015,
             "ymax": 4451373.3320999965,
             "ymin": 753623.2256000005
            },
            "id": "bc7c3277ec65f602",
            "initialExtent": {
             "spatialReference": {
              "wkid": 102100
             },
             "xmax": 13053038.616388625,
             "xmin": 5299102.319811376,
             "ymax": 4636260.837424996,
             "ymin": 2675256.394233431
            },
            "layers": [
             {
              "defaultVisibility": true,
              "id": 0,
              "maxScale": 0,
              "minScale": 0,
              "name": "India",
              "parentLayerId": -1,
              "subLayerIds": null
             }
            ],
            "mapName": "India Basemap",
            "maxScale": 577790.554289,
            "minScale": 73957190.948944,
            "modified": null,
            "name": "India_Bnd_G",
            "server": "gHHix49exJauUOEM",
            "serviceDescription": "",
            "singleFusedMapCache": true,
            "spatialReference": {
             "wkid": 102100
            },
            "status": "created",
            "supportedImageFormatTypes": "PNG",
            "tables": [],
            "tileInfo": {
             "cols": 256,
             "compressionQuality": 0,
             "dpi": 96,
             "format": "PNG",
             "lods": [
              {
               "level": 0,
               "resolution": 156543.03392800014,
               "scale": 591657527.591555
              },
              {
               "level": 1,
               "resolution": 78271.51696399994,
               "scale": 295828763.795777
              },
              {
               "level": 2,
               "resolution": 39135.75848200009,
               "scale": 147914381.897889
              },
              {
               "level": 3,
               "resolution": 19567.87924099992,
               "scale": 73957190.948944
              },
              {
               "level": 4,
               "resolution": 9783.93962049996,
               "scale": 36978595.474472
              },
              {
               "level": 5,
               "resolution": 4891.96981024998,
               "scale": 18489297.737236
              },
              {
               "level": 6,
               "resolution": 2445.98490512499,
               "scale": 9244648.868618
              },
              {
               "level": 7,
               "resolution": 1222.992452562495,
               "scale": 4622324.434309
              },
              {
               "level": 8,
               "resolution": 611.4962262813797,
               "scale": 2311162.217155
              },
              {
               "level": 9,
               "resolution": 305.74811314055756,
               "scale": 1155581.108577
              },
              {
               "level": 10,
               "resolution": 152.87405657041106,
               "scale": 577790.554289
              },
              {
               "level": 11,
               "resolution": 76.43702828507324,
               "scale": 288895.277144
              },
              {
               "level": 12,
               "resolution": 38.21851414253662,
               "scale": 144447.638572
              },
              {
               "level": 13,
               "resolution": 19.10925707126831,
               "scale": 72223.819286
              },
              {
               "level": 14,
               "resolution": 9.554628535634155,
               "scale": 36111.909643
              },
              {
               "level": 15,
               "resolution": 4.77731426794937,
               "scale": 18055.954822
              },
              {
               "level": 16,
               "resolution": 2.388657133974685,
               "scale": 9027.977411
              },
              {
               "level": 17,
               "resolution": 1.1943285668550503,
               "scale": 4513.988705
              },
              {
               "level": 18,
               "resolution": 0.5971642835598172,
               "scale": 2256.994353
              },
              {
               "level": 19,
               "resolution": 0.29858214164761665,
               "scale": 1128.497176
              }
             ],
             "origin": {
              "x": -20037508.342787,
              "y": 20037508.342787
             },
             "rows": 256,
             "spatialReference": {
              "wkid": 102100,
              "wkt": "PROJCS[\"WGS_1984_Web_Mercator_Auxiliary_Sphere\",GEOGCS[\"GCS_WGS_1984\",DATUM[\"D_WGS_1984\",SPHEROID[\"WGS_1984\",6378137.0,298.257223563]],PRIMEM[\"Greenwich\",0.0],UNIT[\"Degree\",0.0174532925199433]],PROJECTION[\"Mercator_Auxiliary_Sphere\"],PARAMETER[\"False_Easting\",0.0],PARAMETER[\"False_Northing\",0.0],PARAMETER[\"Central_Meridian\",0.0],PARAMETER[\"Standard_Parallel_1\",0.0],PARAMETER[\"Auxiliary_Sphere_Type\",0.0],UNIT[\"Meter\",1.0],AUTHORITY[\"EPSG\",3857]]"
             }
            },
            "tileServers": [
             "https://tiles1.arcgis.com/tiles/gHHix49exJauUOEM/arcgis/rest/services/India_Bnd_G/MapServer",
             "https://tiles2.arcgis.com/tiles/gHHix49exJauUOEM/arcgis/rest/services/India_Bnd_G/MapServer",
             "https://tiles3.arcgis.com/tiles/gHHix49exJauUOEM/arcgis/rest/services/India_Bnd_G/MapServer",
             "https://tiles4.arcgis.com/tiles/gHHix49exJauUOEM/arcgis/rest/services/India_Bnd_G/MapServer"
            ],
            "type": "MapServer",
            "units": "esriMeters"
           },
           "url": "https://tiles.arcgis.com/tiles/gHHix49exJauUOEM/arcgis/rest/services/India_Bnd_G/MapServer",
           "visibility": true
          }
         ],
         "title": "Topographic"
        }
       },
       "_model_module_version": "1.6.0",
       "_portal_sharing_rest_url": "https://www.arcgis.com/sharing/rest/",
       "_portal_url": "https://www.arcgis.com",
       "_readonly_webmap_from_js": {
        "basemap": {
         "baseMapLayers": [
          {
           "layerType": "ArcGISTiledMapServiceLayer",
           "opacity": 1,
           "resourceInfo": {
            "capabilities": "Map,Tilemap,Query,Data",
            "copyrightText": "Sources: Esri, HERE, DeLorme, Intermap, increment P Corp., GEBCO, USGS, FAO, NPS, NRCAN, GeoBase, IGN, Kadaster NL, Ordnance Survey, Esri Japan, METI, Esri China (Hong Kong), swisstopo, MapmyIndia, © OpenStreetMap contributors, and the GIS User Community",
            "currentVersion": 10.3,
            "description": "This map is designed to be used as a basemap by GIS professionals and as a reference map by anyone. The map includes administrative boundaries, cities, water features, physiographic features, parks, landmarks, highways, roads, railways, and airports overlaid on land cover and shaded relief imagery for added context. The map provides coverage for the world down to a scale of ~1:72k. Coverage is provided down to ~1:4k for the following areas: Australia and New Zealand; India; Europe; Canada; Mexico; the continental United States and Hawaii; South America and Central America; Africa; and most of the Middle East. Coverage down to ~1:1k and ~1:2k is available in select urban areas. This basemap was compiled from a variety of best available sources from several data providers, including the U.S. Geological Survey (USGS), U.S. Environmental Protection Agency (EPA), U.S. National Park Service (NPS), Food and Agriculture Organization of the United Nations (FAO), Department of Natural Resources Canada (NRCAN), GeoBase, Agriculture and Agri-Food Canada, DeLorme, HERE, Esri, OpenStreetMap contributors, and the GIS User Community. For more information on this map, including our terms of use, visit us online at http://goto.arcgisonline.com/maps/World_Topo_Map",
            "documentInfo": {
             "AntialiasingMode": "None",
             "Author": "Esri",
             "Category": "imageryBaseMapsEarthCover (Imagery, basemaps, and land cover)",
             "Comments": "",
             "Keywords": "World,Global,Europe,North America,South America,Southern Africa,Australia,New Zealand,India",
             "Subject": "topographic, topography, administrative boundaries, cities, water features, physiographic features, parks, landmarks, highways, roads, railways, airports, land cover, shaded relief imagery",
             "TextAntialiasingMode": "Force",
             "Title": "World Topographic Map"
            },
            "exportTilesAllowed": false,
            "fullExtent": {
             "spatialReference": {
              "latestWkid": 3857,
              "wkid": 102100
             },
             "xmax": 20037507.067161843,
             "xmin": -20037507.067161843,
             "ymax": 19971868.88040863,
             "ymin": -19971868.880408604
            },
            "initialExtent": {
             "spatialReference": {
              "latestWkid": 3857,
              "wkid": 102100
             },
             "xmax": 28848255.049479112,
             "xmin": -28848255.049479112,
             "ymax": 16430757.376790084,
             "ymin": -2077452.082122866
            },
            "layers": [
             {
              "defaultVisibility": false,
              "id": 0,
              "maxScale": 0,
              "minScale": 0,
              "name": "Citations",
              "parentLayerId": -1,
              "subLayerIds": null
             }
            ],
            "mapName": "Layers",
            "maxImageHeight": 4096,
            "maxImageWidth": 4096,
            "maxRecordCount": 100,
            "maxScale": 70.5310735,
            "minScale": 591657527.591555,
            "serviceDescription": "This map is designed to be used as a basemap by GIS professionals and as a reference map by anyone. The map includes administrative boundaries, cities, water features, physiographic features, parks, landmarks, highways, roads, railways, and airports overlaid on land cover and shaded relief imagery for added context. The map provides coverage for the world down to a scale of ~1:72k. Coverage is provided down to ~1:4k for the following areas: Australia and New Zealand; India; Europe; Canada; Mexico; the continental United States and Hawaii; South America and Central America; Africa; and most of the Middle East. Coverage down to ~1:1k and ~1:2k is available in select urban areas. This basemap was compiled from a variety of best available sources from several data providers, including the U.S. Geological Survey (USGS), U.S. Environmental Protection Agency (EPA), U.S. National Park Service (NPS), Food and Agriculture Organization of the United Nations (FAO), Department of Natural Resources Canada (NRCAN), GeoBase, Agriculture and Agri-Food Canada, DeLorme, HERE, Esri, OpenStreetMap contributors, and the GIS User Community. For more information on this map, including the terms of use, visit us <a href=\"http://goto.arcgisonline.com/maps/World_Topo_Map \" target=\"_new\" >online</a>.",
            "singleFusedMapCache": true,
            "spatialReference": {
             "latestWkid": 3857,
             "wkid": 102100
            },
            "supportedExtensions": "KmlServer",
            "supportedImageFormatTypes": "PNG32,PNG24,PNG,JPG,DIB,TIFF,EMF,PS,PDF,GIF,SVG,SVGZ,BMP",
            "supportedQueryFormats": "JSON, AMF",
            "supportsDynamicLayers": false,
            "tables": [],
            "tileInfo": {
             "cols": 256,
             "compressionQuality": 90,
             "dpi": 96,
             "format": "JPEG",
             "lods": [
              {
               "level": 0,
               "resolution": 156543.03392800014,
               "scale": 591657527.591555
              },
              {
               "level": 1,
               "resolution": 78271.51696399994,
               "scale": 295828763.795777
              },
              {
               "level": 2,
               "resolution": 39135.75848200009,
               "scale": 147914381.897889
              },
              {
               "level": 3,
               "resolution": 19567.87924099992,
               "scale": 73957190.948944
              },
              {
               "level": 4,
               "resolution": 9783.93962049996,
               "scale": 36978595.474472
              },
              {
               "level": 5,
               "resolution": 4891.96981024998,
               "scale": 18489297.737236
              },
              {
               "level": 6,
               "resolution": 2445.98490512499,
               "scale": 9244648.868618
              },
              {
               "level": 7,
               "resolution": 1222.992452562495,
               "scale": 4622324.434309
              },
              {
               "level": 8,
               "resolution": 611.4962262813797,
               "scale": 2311162.217155
              },
              {
               "level": 9,
               "resolution": 305.74811314055756,
               "scale": 1155581.108577
              },
              {
               "level": 10,
               "resolution": 152.87405657041106,
               "scale": 577790.554289
              },
              {
               "level": 11,
               "resolution": 76.43702828507324,
               "scale": 288895.277144
              },
              {
               "level": 12,
               "resolution": 38.21851414253662,
               "scale": 144447.638572
              },
              {
               "level": 13,
               "resolution": 19.10925707126831,
               "scale": 72223.819286
              },
              {
               "level": 14,
               "resolution": 9.554628535634155,
               "scale": 36111.909643
              },
              {
               "level": 15,
               "resolution": 4.77731426794937,
               "scale": 18055.954822
              },
              {
               "level": 16,
               "resolution": 2.388657133974685,
               "scale": 9027.977411
              },
              {
               "level": 17,
               "resolution": 1.1943285668550503,
               "scale": 4513.988705
              },
              {
               "level": 18,
               "resolution": 0.5971642835598172,
               "scale": 2256.994353
              },
              {
               "level": 19,
               "resolution": 0.29858214164761665,
               "scale": 1128.497176
              },
              {
               "level": 20,
               "resolution": 0.14929107082380833,
               "scale": 564.248588
              },
              {
               "level": 21,
               "resolution": 0.07464553541190416,
               "scale": 282.124294
              },
              {
               "level": 22,
               "resolution": 0.03732276770595208,
               "scale": 141.062147
              },
              {
               "level": 23,
               "resolution": 0.01866138385297604,
               "scale": 70.5310735
              }
             ],
             "origin": {
              "x": -20037508.342787,
              "y": 20037508.342787
             },
             "rows": 256,
             "spatialReference": {
              "latestWkid": 3857,
              "wkid": 102100
             }
            },
            "units": "esriMeters"
           },
           "url": "https://services.arcgisonline.com/ArcGIS/rest/services/World_Topo_Map/MapServer",
           "visibility": true
          },
          {
           "id": "Streetmap_MMI_8695",
           "layerType": "ArcGISTiledMapServiceLayer",
           "maxScale": 1128,
           "minScale": 288895,
           "opacity": 1,
           "resourceInfo": {
            "access": "SECURE",
            "capabilities": "Map,TilesOnly",
            "copyrightText": "Sources: Esri, MapmyIndia, DeLorme, METI/NASA",
            "currentVersion": 10.31,
            "description": "<span style='color: rgb(0, 0, 0); font-family: Verdana, sans-serif; line-height: 17.33333396911621px; background-color: rgb(255, 255, 255);'>This India topographic map overlay presents physical features and street-level data for India. This comprehensive topographic map includes highways, major roads, minor roads, one-way arrow indicators, railways, water features, administrative boundaries, cities, parks, landmarks, physical feature labels, spot elevations, and contours overlaid on shaded relief imagery for added context. The map also includes building footprints for selected areas. Coverage is provided down to ~1:4k country-wide with ~1:1k and ~1:2k data available in select urban areas. The street map was developed by Esri using MapmyIndia data layers, including administrative boundaries, from CE Info Systems. Additional data sources from DeLorme basemap layers, and METI/NASA data for shaded relief.</span>",
            "documentInfo": {
             "AntialiasingMode": "Fast",
             "Author": "",
             "Category": "",
             "Comments": "",
             "Keywords": "",
             "Subject": "",
             "TextAntialiasingMode": "Force",
             "Title": "",
             "author": "Esri_Content",
             "category": "",
             "comments": "",
             "credits": "Sources: Esri, MapmyIndia, DeLorme, METI/NASA",
             "keywords": "India, Topomap, highways, roads, transportation, landmarks, parks, basemap, community, community basemap, map, MapmyIndia",
             "subject": "This topographic map overlay presents physical features and street-level data from MapmyIndia for India.",
             "title": "World_Topomap_MMI"
            },
            "exportTilesAllowed": false,
            "fullExtent": {
             "spatialReference": {
              "wkid": 102100,
              "wkt": null
             },
             "xmax": 12523442.714243297,
             "xmin": 7514065.628545973,
             "ymax": 5009377.085753329,
             "ymin": 7.450580596923828e-09
            },
            "id": "94ef359ef51f7205",
            "initialExtent": {
             "spatialReference": {
              "wkid": 102100,
              "wkt": null
             },
             "xmax": 12523442.714243297,
             "xmin": 7514065.628545973,
             "ymax": 5009377.085753329,
             "ymin": 7.450580596923828e-09
            },
            "layers": [
             {
              "defaultVisibility": false,
              "id": 0,
              "maxScale": 0,
              "minScale": 0,
              "name": "world",
              "parentLayerId": -1,
              "subLayerIds": null
             }
            ],
            "mapName": "Layers",
            "maxExportTilesCount": 100000,
            "maxScale": 1128.497176,
            "minScale": 288895.277144,
            "name": "World_Topomap_MMI",
            "resampling": false,
            "server": "P3ePLMYs2RVChkJx",
            "serviceDescription": "",
            "singleFusedMapCache": true,
            "spatialReference": {
             "wkid": 102100,
             "wkt": null
            },
            "status": "created",
            "supportedImageFormatTypes": "JPEG",
            "tables": [],
            "tileInfo": {
             "cols": 256,
             "compressionQuality": 90,
             "dpi": 96,
             "format": "JPEG",
             "lods": [
              {
               "level": 0,
               "resolution": 156543.03392800014,
               "scale": 591657527.591555
              },
              {
               "level": 1,
               "resolution": 78271.51696399994,
               "scale": 295828763.795777
              },
              {
               "level": 2,
               "resolution": 39135.75848200009,
               "scale": 147914381.897889
              },
              {
               "level": 3,
               "resolution": 19567.87924099992,
               "scale": 73957190.948944
              },
              {
               "level": 4,
               "resolution": 9783.93962049996,
               "scale": 36978595.474472
              },
              {
               "level": 5,
               "resolution": 4891.96981024998,
               "scale": 18489297.737236
              },
              {
               "level": 6,
               "resolution": 2445.98490512499,
               "scale": 9244648.868618
              },
              {
               "level": 7,
               "resolution": 1222.992452562495,
               "scale": 4622324.434309
              },
              {
               "level": 8,
               "resolution": 611.4962262813797,
               "scale": 2311162.217155
              },
              {
               "level": 9,
               "resolution": 305.74811314055756,
               "scale": 1155581.108577
              },
              {
               "level": 10,
               "resolution": 152.87405657041106,
               "scale": 577790.554289
              },
              {
               "level": 11,
               "resolution": 76.43702828507324,
               "scale": 288895.277144
              },
              {
               "level": 12,
               "resolution": 38.21851414253662,
               "scale": 144447.638572
              },
              {
               "level": 13,
               "resolution": 19.10925707126831,
               "scale": 72223.819286
              },
              {
               "level": 14,
               "resolution": 9.554628535634155,
               "scale": 36111.909643
              },
              {
               "level": 15,
               "resolution": 4.77731426794937,
               "scale": 18055.954822
              },
              {
               "level": 16,
               "resolution": 2.388657133974685,
               "scale": 9027.977411
              },
              {
               "level": 17,
               "resolution": 1.1943285668550503,
               "scale": 4513.988705
              },
              {
               "level": 18,
               "resolution": 0.5971642835598172,
               "scale": 2256.994353
              },
              {
               "level": 19,
               "resolution": 0.29858214164761665,
               "scale": 1128.497176
              }
             ],
             "origin": {
              "x": -20037508.342787,
              "y": 20037508.342787
             },
             "rows": 256,
             "spatialReference": {
              "wkid": 102100,
              "wkt": "PROJCS[\"WGS_1984_Web_Mercator_Auxiliary_Sphere\",GEOGCS[\"GCS_WGS_1984\",DATUM[\"D_WGS_1984\",SPHEROID[\"WGS_1984\",6378137.0,298.257223563]],PRIMEM[\"Greenwich\",0.0],UNIT[\"Degree\",0.0174532925199433]],PROJECTION[\"Mercator_Auxiliary_Sphere\"],PARAMETER[\"False_Easting\",0.0],PARAMETER[\"False_Northing\",0.0],PARAMETER[\"Central_Meridian\",0.0],PARAMETER[\"Standard_Parallel_1\",0.0],PARAMETER[\"Auxiliary_Sphere_Type\",0.0],UNIT[\"Meter\",1.0],AUTHORITY[\"EPSG\",3857]]"
             },
             "storageFormat": "esriMapCacheStorageModeCompact"
            },
            "tileServers": [
             "http://tiles1.arcgis.com/tiles/P3ePLMYs2RVChkJx/arcgis/rest/services/World_Topomap_MMI/MapServer",
             "http://tiles2.arcgis.com/tiles/P3ePLMYs2RVChkJx/arcgis/rest/services/World_Topomap_MMI/MapServer",
             "http://tiles3.arcgis.com/tiles/P3ePLMYs2RVChkJx/arcgis/rest/services/World_Topomap_MMI/MapServer",
             "http://tiles4.arcgis.com/tiles/P3ePLMYs2RVChkJx/arcgis/rest/services/World_Topomap_MMI/MapServer"
            ],
            "type": "MapServer",
            "units": "esriMeters"
           },
           "url": "https://tiles.arcgis.com/tiles/P3ePLMYs2RVChkJx/arcgis/rest/services/World_Topomap_MMI/MapServer",
           "visibility": true
          },
          {
           "id": "India_Bnd_G_5793",
           "isReference": true,
           "layerType": "ArcGISTiledMapServiceLayer",
           "opacity": 1,
           "resourceInfo": {
            "access": "SECURE",
            "capabilities": "Map",
            "copyrightText": "Mxd assembled by Corey LaMar",
            "created": null,
            "currentVersion": 10.1,
            "description": "This mxd contains the political boundaries used in StreetMap 5.1 as  political boundaries overlay  Currency: 73m to 577k (StreetMap 4.1 (5.0) 288k to 72k (StreetMap 5.1) Delorme 36k to 1k (StreetMap 5.1 ) Navteq",
            "documentInfo": {
             "AntialiasingMode": "Best",
             "Author": "AGOL Teams Members",
             "Category": "",
             "Comments": "This mxd contains the political boundaries used in StreetMap 5.1 as a starting point for Esri India to create their own political boundaries overlay\n\nCurrency:\n73m to 577k (StreetMap 4.1 (5.0)\n288k to 72k (StreetMap 5.1) Delorme\n36k to 1k (StreetMap 5.1 ) Navteq",
             "Keywords": "Inda Disputed International Boundaries",
             "Subject": "Create 2/2/13 Copies of StMap Int Bnd 73m to1k caching levels",
             "TextAntialiasingMode": "Force",
             "Title": "Int_Bnd_for_Esri_India_Work",
             "author": "cimmy68",
             "category": "",
             "comments": "",
             "credits": "Mxd assembled by Corey LaMar",
             "keywords": "Inda International Boundaries",
             "subject": "Create 2/2/13 Copies of StMap Int Bnd 73m to1k caching levels",
             "title": "India_Bnd_G"
            },
            "fullExtent": {
             "spatialReference": {
              "wkid": 102100
             },
             "xmax": 10843895.843899999,
             "xmin": 7508245.0923000015,
             "ymax": 4451373.3320999965,
             "ymin": 753623.2256000005
            },
            "id": "bc7c3277ec65f602",
            "initialExtent": {
             "spatialReference": {
              "wkid": 102100
             },
             "xmax": 13053038.616388625,
             "xmin": 5299102.319811376,
             "ymax": 4636260.837424996,
             "ymin": 2675256.394233431
            },
            "layers": [
             {
              "defaultVisibility": true,
              "id": 0,
              "maxScale": 0,
              "minScale": 0,
              "name": "India",
              "parentLayerId": -1,
              "subLayerIds": null
             }
            ],
            "mapName": "India Basemap",
            "maxScale": 577790.554289,
            "minScale": 73957190.948944,
            "modified": null,
            "name": "India_Bnd_G",
            "server": "gHHix49exJauUOEM",
            "serviceDescription": "",
            "singleFusedMapCache": true,
            "spatialReference": {
             "wkid": 102100
            },
            "status": "created",
            "supportedImageFormatTypes": "PNG",
            "tables": [],
            "tileInfo": {
             "cols": 256,
             "compressionQuality": 0,
             "dpi": 96,
             "format": "PNG",
             "lods": [
              {
               "level": 0,
               "resolution": 156543.03392800014,
               "scale": 591657527.591555
              },
              {
               "level": 1,
               "resolution": 78271.51696399994,
               "scale": 295828763.795777
              },
              {
               "level": 2,
               "resolution": 39135.75848200009,
               "scale": 147914381.897889
              },
              {
               "level": 3,
               "resolution": 19567.87924099992,
               "scale": 73957190.948944
              },
              {
               "level": 4,
               "resolution": 9783.93962049996,
               "scale": 36978595.474472
              },
              {
               "level": 5,
               "resolution": 4891.96981024998,
               "scale": 18489297.737236
              },
              {
               "level": 6,
               "resolution": 2445.98490512499,
               "scale": 9244648.868618
              },
              {
               "level": 7,
               "resolution": 1222.992452562495,
               "scale": 4622324.434309
              },
              {
               "level": 8,
               "resolution": 611.4962262813797,
               "scale": 2311162.217155
              },
              {
               "level": 9,
               "resolution": 305.74811314055756,
               "scale": 1155581.108577
              },
              {
               "level": 10,
               "resolution": 152.87405657041106,
               "scale": 577790.554289
              },
              {
               "level": 11,
               "resolution": 76.43702828507324,
               "scale": 288895.277144
              },
              {
               "level": 12,
               "resolution": 38.21851414253662,
               "scale": 144447.638572
              },
              {
               "level": 13,
               "resolution": 19.10925707126831,
               "scale": 72223.819286
              },
              {
               "level": 14,
               "resolution": 9.554628535634155,
               "scale": 36111.909643
              },
              {
               "level": 15,
               "resolution": 4.77731426794937,
               "scale": 18055.954822
              },
              {
               "level": 16,
               "resolution": 2.388657133974685,
               "scale": 9027.977411
              },
              {
               "level": 17,
               "resolution": 1.1943285668550503,
               "scale": 4513.988705
              },
              {
               "level": 18,
               "resolution": 0.5971642835598172,
               "scale": 2256.994353
              },
              {
               "level": 19,
               "resolution": 0.29858214164761665,
               "scale": 1128.497176
              }
             ],
             "origin": {
              "x": -20037508.342787,
              "y": 20037508.342787
             },
             "rows": 256,
             "spatialReference": {
              "wkid": 102100,
              "wkt": "PROJCS[\"WGS_1984_Web_Mercator_Auxiliary_Sphere\",GEOGCS[\"GCS_WGS_1984\",DATUM[\"D_WGS_1984\",SPHEROID[\"WGS_1984\",6378137.0,298.257223563]],PRIMEM[\"Greenwich\",0.0],UNIT[\"Degree\",0.0174532925199433]],PROJECTION[\"Mercator_Auxiliary_Sphere\"],PARAMETER[\"False_Easting\",0.0],PARAMETER[\"False_Northing\",0.0],PARAMETER[\"Central_Meridian\",0.0],PARAMETER[\"Standard_Parallel_1\",0.0],PARAMETER[\"Auxiliary_Sphere_Type\",0.0],UNIT[\"Meter\",1.0],AUTHORITY[\"EPSG\",3857]]"
             }
            },
            "tileServers": [
             "https://tiles1.arcgis.com/tiles/gHHix49exJauUOEM/arcgis/rest/services/India_Bnd_G/MapServer",
             "https://tiles2.arcgis.com/tiles/gHHix49exJauUOEM/arcgis/rest/services/India_Bnd_G/MapServer",
             "https://tiles3.arcgis.com/tiles/gHHix49exJauUOEM/arcgis/rest/services/India_Bnd_G/MapServer",
             "https://tiles4.arcgis.com/tiles/gHHix49exJauUOEM/arcgis/rest/services/India_Bnd_G/MapServer"
            ],
            "type": "MapServer",
            "units": "esriMeters"
           },
           "url": "https://tiles.arcgis.com/tiles/gHHix49exJauUOEM/arcgis/rest/services/India_Bnd_G/MapServer",
           "visibility": true
          }
         ],
         "title": "Topographic"
        },
        "ground": {
         "layers": [
          {
           "id": "worldElevation",
           "layerType": "ArcGISTiledElevationServiceLayer",
           "listMode": "show",
           "title": "Terrain3D",
           "url": "https://elevation3d.arcgis.com/arcgis/rest/services/WorldElevation3D/Terrain3D/ImageServer",
           "visibility": true
          }
         ],
         "transparency": 0
        },
        "layers": []
       },
       "_username": "None",
       "_uuid": "891663d5-acd8-480e-8076-5ceb53891303",
       "_view_module_version": "1.6.0",
       "_webscene": {
        "portalItem": {
         "id": "855778cea58c4a14957a35ff1028d68c"
        }
       },
       "heading": 0,
       "hide_mode_switch": true,
       "jupyter_target": "notebook",
       "layout": "IPY_MODEL_cb08c0a044b6456bb38e5cf2faf3f93e",
       "mode": "3D",
       "print_service_url": "",
       "rotation": 0,
       "tilt": 0,
       "zoom": -1
      }
     },
     "b81ba72c99ca4cacad8fb7ea0d38fa1f": {
      "model_module": "arcgis-map-ipywidget",
      "model_module_version": "1.8.2",
      "model_name": "ArcGISMapIPyWidgetModel",
      "state": {
       "_auth_mode": "tokenBased",
       "_basemap": "default",
       "_draw_these_graphics_on_widget_load": [],
       "_draw_these_notype_layers_on_widget_load": [],
       "_gallery_basemaps": {
        "default": {
         "baseMapLayers": [
          {
           "layerType": "ArcGISTiledMapServiceLayer",
           "resourceInfo": {
            "capabilities": "Map,Tilemap,Query,Data",
            "currentVersion": 10.3,
            "exportTilesAllowed": false,
            "fullExtent": {
             "spatialReference": {
              "latestWkid": 3857,
              "wkid": 102100
             },
             "xmax": 20037507.067161843,
             "xmin": -20037507.067161843,
             "ymax": 19971868.88040863,
             "ymin": -19971868.880408604
            },
            "initialExtent": {
             "spatialReference": {
              "latestWkid": 3857,
              "wkid": 102100
             },
             "xmax": 28848255.049479112,
             "xmin": -28848255.049479112,
             "ymax": 16430757.376790084,
             "ymin": -2077452.082122866
            },
            "layers": [
             {
              "defaultVisibility": false,
              "id": 0,
              "maxScale": 0,
              "minScale": 0,
              "name": "Citations",
              "parentLayerId": -1,
              "subLayerIds": null
             }
            ],
            "mapName": "Layers",
            "maxImageHeight": 4096,
            "maxImageWidth": 4096,
            "maxRecordCount": 100,
            "maxScale": 70.5310735,
            "minScale": 591657527.591555,
            "singleFusedMapCache": true,
            "spatialReference": {
             "latestWkid": 3857,
             "wkid": 102100
            },
            "supportedExtensions": "KmlServer",
            "supportedImageFormatTypes": "PNG32,PNG24,PNG,JPG,DIB,TIFF,EMF,PS,PDF,GIF,SVG,SVGZ,BMP",
            "supportedQueryFormats": "JSON, AMF",
            "supportsDynamicLayers": false,
            "tables": [],
            "tileInfo": {
             "cols": 256,
             "compressionQuality": 90,
             "dpi": 96,
             "format": "JPEG",
             "lods": [
              {
               "level": 0,
               "resolution": 156543.03392800014,
               "scale": 591657527.591555
              },
              {
               "level": 1,
               "resolution": 78271.51696399994,
               "scale": 295828763.795777
              },
              {
               "level": 2,
               "resolution": 39135.75848200009,
               "scale": 147914381.897889
              },
              {
               "level": 3,
               "resolution": 19567.87924099992,
               "scale": 73957190.948944
              },
              {
               "level": 4,
               "resolution": 9783.93962049996,
               "scale": 36978595.474472
              },
              {
               "level": 5,
               "resolution": 4891.96981024998,
               "scale": 18489297.737236
              },
              {
               "level": 6,
               "resolution": 2445.98490512499,
               "scale": 9244648.868618
              },
              {
               "level": 7,
               "resolution": 1222.992452562495,
               "scale": 4622324.434309
              },
              {
               "level": 8,
               "resolution": 611.4962262813797,
               "scale": 2311162.217155
              },
              {
               "level": 9,
               "resolution": 305.74811314055756,
               "scale": 1155581.108577
              },
              {
               "level": 10,
               "resolution": 152.87405657041106,
               "scale": 577790.554289
              },
              {
               "level": 11,
               "resolution": 76.43702828507324,
               "scale": 288895.277144
              },
              {
               "level": 12,
               "resolution": 38.21851414253662,
               "scale": 144447.638572
              },
              {
               "level": 13,
               "resolution": 19.10925707126831,
               "scale": 72223.819286
              },
              {
               "level": 14,
               "resolution": 9.554628535634155,
               "scale": 36111.909643
              },
              {
               "level": 15,
               "resolution": 4.77731426794937,
               "scale": 18055.954822
              },
              {
               "level": 16,
               "resolution": 2.388657133974685,
               "scale": 9027.977411
              },
              {
               "level": 17,
               "resolution": 1.1943285668550503,
               "scale": 4513.988705
              },
              {
               "level": 18,
               "resolution": 0.5971642835598172,
               "scale": 2256.994353
              },
              {
               "level": 19,
               "resolution": 0.29858214164761665,
               "scale": 1128.497176
              },
              {
               "level": 20,
               "resolution": 0.14929107082380833,
               "scale": 564.248588
              },
              {
               "level": 21,
               "resolution": 0.07464553541190416,
               "scale": 282.124294
              },
              {
               "level": 22,
               "resolution": 0.03732276770595208,
               "scale": 141.062147
              },
              {
               "level": 23,
               "resolution": 0.01866138385297604,
               "scale": 70.5310735
              }
             ],
             "origin": {
              "x": -20037508.342787,
              "y": 20037508.342787
             },
             "rows": 256,
             "spatialReference": {
              "latestWkid": 3857,
              "wkid": 102100
             }
            },
            "units": "esriMeters"
           },
           "url": "https://services.arcgisonline.com/ArcGIS/rest/services/World_Topo_Map/MapServer"
          }
         ],
         "title": "Topographic"
        }
       },
       "_overlay_these_images_on_widget_load": [],
       "_portal_sharing_rest_url": "https://UCSDOnline.maps.arcgis.com/sharing/rest/",
       "_portal_url": "https://UCSDOnline.maps.arcgis.com",
       "_readonly_webmap_from_js": {
        "basemap": {
         "baseMapLayers": [
          {
           "layerType": "ArcGISTiledMapServiceLayer",
           "resourceInfo": {
            "capabilities": "Map,Tilemap,Query,Data",
            "currentVersion": 10.3,
            "exportTilesAllowed": false,
            "fullExtent": {
             "spatialReference": {
              "latestWkid": 3857,
              "wkid": 102100
             },
             "xmax": 20037507.067161843,
             "xmin": -20037507.067161843,
             "ymax": 19971868.88040863,
             "ymin": -19971868.880408604
            },
            "initialExtent": {
             "spatialReference": {
              "latestWkid": 3857,
              "wkid": 102100
             },
             "xmax": 28848255.049479112,
             "xmin": -28848255.049479112,
             "ymax": 16430757.376790084,
             "ymin": -2077452.082122866
            },
            "layers": [
             {
              "defaultVisibility": false,
              "id": 0,
              "maxScale": 0,
              "minScale": 0,
              "name": "Citations",
              "parentLayerId": -1,
              "subLayerIds": null
             }
            ],
            "mapName": "Layers",
            "maxImageHeight": 4096,
            "maxImageWidth": 4096,
            "maxRecordCount": 100,
            "maxScale": 70.5310735,
            "minScale": 591657527.591555,
            "singleFusedMapCache": true,
            "spatialReference": {
             "latestWkid": 3857,
             "wkid": 102100
            },
            "supportedExtensions": "KmlServer",
            "supportedImageFormatTypes": "PNG32,PNG24,PNG,JPG,DIB,TIFF,EMF,PS,PDF,GIF,SVG,SVGZ,BMP",
            "supportedQueryFormats": "JSON, AMF",
            "supportsDynamicLayers": false,
            "tables": [],
            "tileInfo": {
             "cols": 256,
             "compressionQuality": 90,
             "dpi": 96,
             "format": "JPEG",
             "lods": [
              {
               "level": 0,
               "resolution": 156543.03392800014,
               "scale": 591657527.591555
              },
              {
               "level": 1,
               "resolution": 78271.51696399994,
               "scale": 295828763.795777
              },
              {
               "level": 2,
               "resolution": 39135.75848200009,
               "scale": 147914381.897889
              },
              {
               "level": 3,
               "resolution": 19567.87924099992,
               "scale": 73957190.948944
              },
              {
               "level": 4,
               "resolution": 9783.93962049996,
               "scale": 36978595.474472
              },
              {
               "level": 5,
               "resolution": 4891.96981024998,
               "scale": 18489297.737236
              },
              {
               "level": 6,
               "resolution": 2445.98490512499,
               "scale": 9244648.868618
              },
              {
               "level": 7,
               "resolution": 1222.992452562495,
               "scale": 4622324.434309
              },
              {
               "level": 8,
               "resolution": 611.4962262813797,
               "scale": 2311162.217155
              },
              {
               "level": 9,
               "resolution": 305.74811314055756,
               "scale": 1155581.108577
              },
              {
               "level": 10,
               "resolution": 152.87405657041106,
               "scale": 577790.554289
              },
              {
               "level": 11,
               "resolution": 76.43702828507324,
               "scale": 288895.277144
              },
              {
               "level": 12,
               "resolution": 38.21851414253662,
               "scale": 144447.638572
              },
              {
               "level": 13,
               "resolution": 19.10925707126831,
               "scale": 72223.819286
              },
              {
               "level": 14,
               "resolution": 9.554628535634155,
               "scale": 36111.909643
              },
              {
               "level": 15,
               "resolution": 4.77731426794937,
               "scale": 18055.954822
              },
              {
               "level": 16,
               "resolution": 2.388657133974685,
               "scale": 9027.977411
              },
              {
               "level": 17,
               "resolution": 1.1943285668550503,
               "scale": 4513.988705
              },
              {
               "level": 18,
               "resolution": 0.5971642835598172,
               "scale": 2256.994353
              },
              {
               "level": 19,
               "resolution": 0.29858214164761665,
               "scale": 1128.497176
              },
              {
               "level": 20,
               "resolution": 0.14929107082380833,
               "scale": 564.248588
              },
              {
               "level": 21,
               "resolution": 0.07464553541190416,
               "scale": 282.124294
              },
              {
               "level": 22,
               "resolution": 0.03732276770595208,
               "scale": 141.062147
              },
              {
               "level": 23,
               "resolution": 0.01866138385297604,
               "scale": 70.5310735
              }
             ],
             "origin": {
              "x": -20037508.342787,
              "y": 20037508.342787
             },
             "rows": 256,
             "spatialReference": {
              "latestWkid": 3857,
              "wkid": 102100
             }
            },
            "units": "esriMeters"
           },
           "url": "https://services.arcgisonline.com/ArcGIS/rest/services/World_Topo_Map/MapServer"
          }
         ],
         "title": "Topographic"
        },
        "ground": {
         "layers": [
          {
           "id": "worldElevation",
           "layerType": "ArcGISTiledElevationServiceLayer",
           "listMode": "show",
           "title": "Terrain3D",
           "url": "https://elevation3d.arcgis.com/arcgis/rest/services/WorldElevation3D/Terrain3D/ImageServer",
           "visibility": true
          }
         ],
         "transparency": 0
        },
        "layers": []
       },
       "_username": "krganapa_UCSDOnline",
       "_uuid": "fc6f86ce-9c22-4e1b-af28-0d5138e5c309",
       "jupyter_target": "notebook",
       "layout": "IPY_MODEL_513bed37210e428aae711ad45b7787c8",
       "print_service_url": "",
       "tilt": 0
      }
     },
     "bca9c8676a94452c82c18b7cf86912cc": {
      "model_module": "arcgis-map-ipywidget",
      "model_module_version": "1.8.2",
      "model_name": "ArcGISMapIPyWidgetModel",
      "state": {
       "_auth_mode": "tokenBased",
       "_basemap": "default",
       "_draw_these_graphics_on_widget_load": [],
       "_draw_these_notype_layers_on_widget_load": [],
       "_gallery_basemaps": {
        "default": {
         "baseMapLayers": [
          {
           "layerType": "ArcGISTiledMapServiceLayer",
           "resourceInfo": {
            "capabilities": "Map,Tilemap,Query,Data",
            "currentVersion": 10.3,
            "exportTilesAllowed": false,
            "fullExtent": {
             "spatialReference": {
              "latestWkid": 3857,
              "wkid": 102100
             },
             "xmax": 20037507.067161843,
             "xmin": -20037507.067161843,
             "ymax": 19971868.88040863,
             "ymin": -19971868.880408604
            },
            "initialExtent": {
             "spatialReference": {
              "latestWkid": 3857,
              "wkid": 102100
             },
             "xmax": 28848255.049479112,
             "xmin": -28848255.049479112,
             "ymax": 16430757.376790084,
             "ymin": -2077452.082122866
            },
            "layers": [
             {
              "defaultVisibility": false,
              "id": 0,
              "maxScale": 0,
              "minScale": 0,
              "name": "Citations",
              "parentLayerId": -1,
              "subLayerIds": null
             }
            ],
            "mapName": "Layers",
            "maxImageHeight": 4096,
            "maxImageWidth": 4096,
            "maxRecordCount": 100,
            "maxScale": 70.5310735,
            "minScale": 591657527.591555,
            "singleFusedMapCache": true,
            "spatialReference": {
             "latestWkid": 3857,
             "wkid": 102100
            },
            "supportedExtensions": "KmlServer",
            "supportedImageFormatTypes": "PNG32,PNG24,PNG,JPG,DIB,TIFF,EMF,PS,PDF,GIF,SVG,SVGZ,BMP",
            "supportedQueryFormats": "JSON, AMF",
            "supportsDynamicLayers": false,
            "tables": [],
            "tileInfo": {
             "cols": 256,
             "compressionQuality": 90,
             "dpi": 96,
             "format": "JPEG",
             "lods": [
              {
               "level": 0,
               "resolution": 156543.03392800014,
               "scale": 591657527.591555
              },
              {
               "level": 1,
               "resolution": 78271.51696399994,
               "scale": 295828763.795777
              },
              {
               "level": 2,
               "resolution": 39135.75848200009,
               "scale": 147914381.897889
              },
              {
               "level": 3,
               "resolution": 19567.87924099992,
               "scale": 73957190.948944
              },
              {
               "level": 4,
               "resolution": 9783.93962049996,
               "scale": 36978595.474472
              },
              {
               "level": 5,
               "resolution": 4891.96981024998,
               "scale": 18489297.737236
              },
              {
               "level": 6,
               "resolution": 2445.98490512499,
               "scale": 9244648.868618
              },
              {
               "level": 7,
               "resolution": 1222.992452562495,
               "scale": 4622324.434309
              },
              {
               "level": 8,
               "resolution": 611.4962262813797,
               "scale": 2311162.217155
              },
              {
               "level": 9,
               "resolution": 305.74811314055756,
               "scale": 1155581.108577
              },
              {
               "level": 10,
               "resolution": 152.87405657041106,
               "scale": 577790.554289
              },
              {
               "level": 11,
               "resolution": 76.43702828507324,
               "scale": 288895.277144
              },
              {
               "level": 12,
               "resolution": 38.21851414253662,
               "scale": 144447.638572
              },
              {
               "level": 13,
               "resolution": 19.10925707126831,
               "scale": 72223.819286
              },
              {
               "level": 14,
               "resolution": 9.554628535634155,
               "scale": 36111.909643
              },
              {
               "level": 15,
               "resolution": 4.77731426794937,
               "scale": 18055.954822
              },
              {
               "level": 16,
               "resolution": 2.388657133974685,
               "scale": 9027.977411
              },
              {
               "level": 17,
               "resolution": 1.1943285668550503,
               "scale": 4513.988705
              },
              {
               "level": 18,
               "resolution": 0.5971642835598172,
               "scale": 2256.994353
              },
              {
               "level": 19,
               "resolution": 0.29858214164761665,
               "scale": 1128.497176
              },
              {
               "level": 20,
               "resolution": 0.14929107082380833,
               "scale": 564.248588
              },
              {
               "level": 21,
               "resolution": 0.07464553541190416,
               "scale": 282.124294
              },
              {
               "level": 22,
               "resolution": 0.03732276770595208,
               "scale": 141.062147
              },
              {
               "level": 23,
               "resolution": 0.01866138385297604,
               "scale": 70.5310735
              }
             ],
             "origin": {
              "x": -20037508.342787,
              "y": 20037508.342787
             },
             "rows": 256,
             "spatialReference": {
              "latestWkid": 3857,
              "wkid": 102100
             }
            },
            "units": "esriMeters"
           },
           "url": "https://services.arcgisonline.com/ArcGIS/rest/services/World_Topo_Map/MapServer"
          }
         ],
         "title": "Topographic"
        }
       },
       "_overlay_these_images_on_widget_load": [],
       "_portal_sharing_rest_url": "https://UCSDOnline.maps.arcgis.com/sharing/rest/",
       "_portal_url": "https://UCSDOnline.maps.arcgis.com",
       "_readonly_webmap_from_js": {
        "basemap": {
         "baseMapLayers": [
          {
           "layerType": "ArcGISTiledMapServiceLayer",
           "resourceInfo": {
            "capabilities": "Map,Tilemap,Query,Data",
            "currentVersion": 10.3,
            "exportTilesAllowed": false,
            "fullExtent": {
             "spatialReference": {
              "latestWkid": 3857,
              "wkid": 102100
             },
             "xmax": 20037507.067161843,
             "xmin": -20037507.067161843,
             "ymax": 19971868.88040863,
             "ymin": -19971868.880408604
            },
            "initialExtent": {
             "spatialReference": {
              "latestWkid": 3857,
              "wkid": 102100
             },
             "xmax": 28848255.049479112,
             "xmin": -28848255.049479112,
             "ymax": 16430757.376790084,
             "ymin": -2077452.082122866
            },
            "layers": [
             {
              "defaultVisibility": false,
              "id": 0,
              "maxScale": 0,
              "minScale": 0,
              "name": "Citations",
              "parentLayerId": -1,
              "subLayerIds": null
             }
            ],
            "mapName": "Layers",
            "maxImageHeight": 4096,
            "maxImageWidth": 4096,
            "maxRecordCount": 100,
            "maxScale": 70.5310735,
            "minScale": 591657527.591555,
            "singleFusedMapCache": true,
            "spatialReference": {
             "latestWkid": 3857,
             "wkid": 102100
            },
            "supportedExtensions": "KmlServer",
            "supportedImageFormatTypes": "PNG32,PNG24,PNG,JPG,DIB,TIFF,EMF,PS,PDF,GIF,SVG,SVGZ,BMP",
            "supportedQueryFormats": "JSON, AMF",
            "supportsDynamicLayers": false,
            "tables": [],
            "tileInfo": {
             "cols": 256,
             "compressionQuality": 90,
             "dpi": 96,
             "format": "JPEG",
             "lods": [
              {
               "level": 0,
               "resolution": 156543.03392800014,
               "scale": 591657527.591555
              },
              {
               "level": 1,
               "resolution": 78271.51696399994,
               "scale": 295828763.795777
              },
              {
               "level": 2,
               "resolution": 39135.75848200009,
               "scale": 147914381.897889
              },
              {
               "level": 3,
               "resolution": 19567.87924099992,
               "scale": 73957190.948944
              },
              {
               "level": 4,
               "resolution": 9783.93962049996,
               "scale": 36978595.474472
              },
              {
               "level": 5,
               "resolution": 4891.96981024998,
               "scale": 18489297.737236
              },
              {
               "level": 6,
               "resolution": 2445.98490512499,
               "scale": 9244648.868618
              },
              {
               "level": 7,
               "resolution": 1222.992452562495,
               "scale": 4622324.434309
              },
              {
               "level": 8,
               "resolution": 611.4962262813797,
               "scale": 2311162.217155
              },
              {
               "level": 9,
               "resolution": 305.74811314055756,
               "scale": 1155581.108577
              },
              {
               "level": 10,
               "resolution": 152.87405657041106,
               "scale": 577790.554289
              },
              {
               "level": 11,
               "resolution": 76.43702828507324,
               "scale": 288895.277144
              },
              {
               "level": 12,
               "resolution": 38.21851414253662,
               "scale": 144447.638572
              },
              {
               "level": 13,
               "resolution": 19.10925707126831,
               "scale": 72223.819286
              },
              {
               "level": 14,
               "resolution": 9.554628535634155,
               "scale": 36111.909643
              },
              {
               "level": 15,
               "resolution": 4.77731426794937,
               "scale": 18055.954822
              },
              {
               "level": 16,
               "resolution": 2.388657133974685,
               "scale": 9027.977411
              },
              {
               "level": 17,
               "resolution": 1.1943285668550503,
               "scale": 4513.988705
              },
              {
               "level": 18,
               "resolution": 0.5971642835598172,
               "scale": 2256.994353
              },
              {
               "level": 19,
               "resolution": 0.29858214164761665,
               "scale": 1128.497176
              },
              {
               "level": 20,
               "resolution": 0.14929107082380833,
               "scale": 564.248588
              },
              {
               "level": 21,
               "resolution": 0.07464553541190416,
               "scale": 282.124294
              },
              {
               "level": 22,
               "resolution": 0.03732276770595208,
               "scale": 141.062147
              },
              {
               "level": 23,
               "resolution": 0.01866138385297604,
               "scale": 70.5310735
              }
             ],
             "origin": {
              "x": -20037508.342787,
              "y": 20037508.342787
             },
             "rows": 256,
             "spatialReference": {
              "latestWkid": 3857,
              "wkid": 102100
             }
            },
            "units": "esriMeters"
           },
           "url": "https://services.arcgisonline.com/ArcGIS/rest/services/World_Topo_Map/MapServer"
          }
         ],
         "title": "Topographic"
        },
        "ground": {
         "layers": [
          {
           "id": "worldElevation",
           "layerType": "ArcGISTiledElevationServiceLayer",
           "listMode": "show",
           "title": "Terrain3D",
           "url": "https://elevation3d.arcgis.com/arcgis/rest/services/WorldElevation3D/Terrain3D/ImageServer",
           "visibility": true
          }
         ],
         "transparency": 0
        },
        "layers": []
       },
       "_username": "krganapa_UCSDOnline",
       "_uuid": "12e4067e-7b34-4d71-bcf0-e09562efb791",
       "jupyter_target": "notebook",
       "layout": "IPY_MODEL_01d50042f4954355b85f61bc0680eee7",
       "print_service_url": "",
       "tilt": 0
      }
     },
     "bf2e83fbdcb84bfe9fca639032fe3efd": {
      "model_module": "@jupyter-widgets/base",
      "model_module_version": "1.2.0",
      "model_name": "LayoutModel",
      "state": {
       "height": "400px",
       "width": "100%"
      }
     },
     "bf5cb0cf9ee740ed91f513f9e231af96": {
      "model_module": "arcgis-map-ipywidget",
      "model_module_version": "1.8.2",
      "model_name": "ArcGISMapIPyWidgetModel",
      "state": {
       "_auth_mode": "tokenBased",
       "_basemap": "default",
       "_draw_these_graphics_on_widget_load": [],
       "_draw_these_notype_layers_on_widget_load": [],
       "_gallery_basemaps": {
        "default": {
         "baseMapLayers": [
          {
           "layerType": "ArcGISTiledMapServiceLayer",
           "resourceInfo": {
            "capabilities": "Map,Tilemap,Query,Data",
            "currentVersion": 10.3,
            "exportTilesAllowed": false,
            "fullExtent": {
             "spatialReference": {
              "latestWkid": 3857,
              "wkid": 102100
             },
             "xmax": 20037507.067161843,
             "xmin": -20037507.067161843,
             "ymax": 19971868.88040863,
             "ymin": -19971868.880408604
            },
            "initialExtent": {
             "spatialReference": {
              "latestWkid": 3857,
              "wkid": 102100
             },
             "xmax": 28848255.049479112,
             "xmin": -28848255.049479112,
             "ymax": 16430757.376790084,
             "ymin": -2077452.082122866
            },
            "layers": [
             {
              "defaultVisibility": false,
              "id": 0,
              "maxScale": 0,
              "minScale": 0,
              "name": "Citations",
              "parentLayerId": -1,
              "subLayerIds": null
             }
            ],
            "mapName": "Layers",
            "maxImageHeight": 4096,
            "maxImageWidth": 4096,
            "maxRecordCount": 100,
            "maxScale": 70.5310735,
            "minScale": 591657527.591555,
            "singleFusedMapCache": true,
            "spatialReference": {
             "latestWkid": 3857,
             "wkid": 102100
            },
            "supportedExtensions": "KmlServer",
            "supportedImageFormatTypes": "PNG32,PNG24,PNG,JPG,DIB,TIFF,EMF,PS,PDF,GIF,SVG,SVGZ,BMP",
            "supportedQueryFormats": "JSON, AMF",
            "supportsDynamicLayers": false,
            "tables": [],
            "tileInfo": {
             "cols": 256,
             "compressionQuality": 90,
             "dpi": 96,
             "format": "JPEG",
             "lods": [
              {
               "level": 0,
               "resolution": 156543.03392800014,
               "scale": 591657527.591555
              },
              {
               "level": 1,
               "resolution": 78271.51696399994,
               "scale": 295828763.795777
              },
              {
               "level": 2,
               "resolution": 39135.75848200009,
               "scale": 147914381.897889
              },
              {
               "level": 3,
               "resolution": 19567.87924099992,
               "scale": 73957190.948944
              },
              {
               "level": 4,
               "resolution": 9783.93962049996,
               "scale": 36978595.474472
              },
              {
               "level": 5,
               "resolution": 4891.96981024998,
               "scale": 18489297.737236
              },
              {
               "level": 6,
               "resolution": 2445.98490512499,
               "scale": 9244648.868618
              },
              {
               "level": 7,
               "resolution": 1222.992452562495,
               "scale": 4622324.434309
              },
              {
               "level": 8,
               "resolution": 611.4962262813797,
               "scale": 2311162.217155
              },
              {
               "level": 9,
               "resolution": 305.74811314055756,
               "scale": 1155581.108577
              },
              {
               "level": 10,
               "resolution": 152.87405657041106,
               "scale": 577790.554289
              },
              {
               "level": 11,
               "resolution": 76.43702828507324,
               "scale": 288895.277144
              },
              {
               "level": 12,
               "resolution": 38.21851414253662,
               "scale": 144447.638572
              },
              {
               "level": 13,
               "resolution": 19.10925707126831,
               "scale": 72223.819286
              },
              {
               "level": 14,
               "resolution": 9.554628535634155,
               "scale": 36111.909643
              },
              {
               "level": 15,
               "resolution": 4.77731426794937,
               "scale": 18055.954822
              },
              {
               "level": 16,
               "resolution": 2.388657133974685,
               "scale": 9027.977411
              },
              {
               "level": 17,
               "resolution": 1.1943285668550503,
               "scale": 4513.988705
              },
              {
               "level": 18,
               "resolution": 0.5971642835598172,
               "scale": 2256.994353
              },
              {
               "level": 19,
               "resolution": 0.29858214164761665,
               "scale": 1128.497176
              },
              {
               "level": 20,
               "resolution": 0.14929107082380833,
               "scale": 564.248588
              },
              {
               "level": 21,
               "resolution": 0.07464553541190416,
               "scale": 282.124294
              },
              {
               "level": 22,
               "resolution": 0.03732276770595208,
               "scale": 141.062147
              },
              {
               "level": 23,
               "resolution": 0.01866138385297604,
               "scale": 70.5310735
              }
             ],
             "origin": {
              "x": -20037508.342787,
              "y": 20037508.342787
             },
             "rows": 256,
             "spatialReference": {
              "latestWkid": 3857,
              "wkid": 102100
             }
            },
            "units": "esriMeters"
           },
           "url": "https://services.arcgisonline.com/ArcGIS/rest/services/World_Topo_Map/MapServer"
          }
         ],
         "title": "Topographic"
        }
       },
       "_overlay_these_images_on_widget_load": [],
       "_portal_sharing_rest_url": "https://UCSDOnline.maps.arcgis.com/sharing/rest/",
       "_portal_url": "https://UCSDOnline.maps.arcgis.com",
       "_readonly_webmap_from_js": {
        "basemap": {
         "baseMapLayers": [
          {
           "layerType": "ArcGISTiledMapServiceLayer",
           "resourceInfo": {
            "capabilities": "Map,Tilemap,Query,Data",
            "currentVersion": 10.3,
            "exportTilesAllowed": false,
            "fullExtent": {
             "spatialReference": {
              "latestWkid": 3857,
              "wkid": 102100
             },
             "xmax": 20037507.067161843,
             "xmin": -20037507.067161843,
             "ymax": 19971868.88040863,
             "ymin": -19971868.880408604
            },
            "initialExtent": {
             "spatialReference": {
              "latestWkid": 3857,
              "wkid": 102100
             },
             "xmax": 28848255.049479112,
             "xmin": -28848255.049479112,
             "ymax": 16430757.376790084,
             "ymin": -2077452.082122866
            },
            "layers": [
             {
              "defaultVisibility": false,
              "id": 0,
              "maxScale": 0,
              "minScale": 0,
              "name": "Citations",
              "parentLayerId": -1,
              "subLayerIds": null
             }
            ],
            "mapName": "Layers",
            "maxImageHeight": 4096,
            "maxImageWidth": 4096,
            "maxRecordCount": 100,
            "maxScale": 70.5310735,
            "minScale": 591657527.591555,
            "singleFusedMapCache": true,
            "spatialReference": {
             "latestWkid": 3857,
             "wkid": 102100
            },
            "supportedExtensions": "KmlServer",
            "supportedImageFormatTypes": "PNG32,PNG24,PNG,JPG,DIB,TIFF,EMF,PS,PDF,GIF,SVG,SVGZ,BMP",
            "supportedQueryFormats": "JSON, AMF",
            "supportsDynamicLayers": false,
            "tables": [],
            "tileInfo": {
             "cols": 256,
             "compressionQuality": 90,
             "dpi": 96,
             "format": "JPEG",
             "lods": [
              {
               "level": 0,
               "resolution": 156543.03392800014,
               "scale": 591657527.591555
              },
              {
               "level": 1,
               "resolution": 78271.51696399994,
               "scale": 295828763.795777
              },
              {
               "level": 2,
               "resolution": 39135.75848200009,
               "scale": 147914381.897889
              },
              {
               "level": 3,
               "resolution": 19567.87924099992,
               "scale": 73957190.948944
              },
              {
               "level": 4,
               "resolution": 9783.93962049996,
               "scale": 36978595.474472
              },
              {
               "level": 5,
               "resolution": 4891.96981024998,
               "scale": 18489297.737236
              },
              {
               "level": 6,
               "resolution": 2445.98490512499,
               "scale": 9244648.868618
              },
              {
               "level": 7,
               "resolution": 1222.992452562495,
               "scale": 4622324.434309
              },
              {
               "level": 8,
               "resolution": 611.4962262813797,
               "scale": 2311162.217155
              },
              {
               "level": 9,
               "resolution": 305.74811314055756,
               "scale": 1155581.108577
              },
              {
               "level": 10,
               "resolution": 152.87405657041106,
               "scale": 577790.554289
              },
              {
               "level": 11,
               "resolution": 76.43702828507324,
               "scale": 288895.277144
              },
              {
               "level": 12,
               "resolution": 38.21851414253662,
               "scale": 144447.638572
              },
              {
               "level": 13,
               "resolution": 19.10925707126831,
               "scale": 72223.819286
              },
              {
               "level": 14,
               "resolution": 9.554628535634155,
               "scale": 36111.909643
              },
              {
               "level": 15,
               "resolution": 4.77731426794937,
               "scale": 18055.954822
              },
              {
               "level": 16,
               "resolution": 2.388657133974685,
               "scale": 9027.977411
              },
              {
               "level": 17,
               "resolution": 1.1943285668550503,
               "scale": 4513.988705
              },
              {
               "level": 18,
               "resolution": 0.5971642835598172,
               "scale": 2256.994353
              },
              {
               "level": 19,
               "resolution": 0.29858214164761665,
               "scale": 1128.497176
              },
              {
               "level": 20,
               "resolution": 0.14929107082380833,
               "scale": 564.248588
              },
              {
               "level": 21,
               "resolution": 0.07464553541190416,
               "scale": 282.124294
              },
              {
               "level": 22,
               "resolution": 0.03732276770595208,
               "scale": 141.062147
              },
              {
               "level": 23,
               "resolution": 0.01866138385297604,
               "scale": 70.5310735
              }
             ],
             "origin": {
              "x": -20037508.342787,
              "y": 20037508.342787
             },
             "rows": 256,
             "spatialReference": {
              "latestWkid": 3857,
              "wkid": 102100
             }
            },
            "units": "esriMeters"
           },
           "url": "https://services.arcgisonline.com/ArcGIS/rest/services/World_Topo_Map/MapServer"
          }
         ],
         "title": "Topographic"
        },
        "ground": {
         "layers": [
          {
           "id": "worldElevation",
           "layerType": "ArcGISTiledElevationServiceLayer",
           "listMode": "show",
           "title": "Terrain3D",
           "url": "https://elevation3d.arcgis.com/arcgis/rest/services/WorldElevation3D/Terrain3D/ImageServer",
           "visibility": true
          }
         ],
         "transparency": 0
        },
        "layers": []
       },
       "_username": "krganapa_UCSDOnline",
       "_uuid": "781eb60f-94ab-4223-b22a-599ddb18da7e",
       "jupyter_target": "notebook",
       "layout": "IPY_MODEL_2213e3ae50b24228bc53edaf754b5d44",
       "print_service_url": "",
       "tilt": 0
      }
     },
     "caa4b50a271a4da7a4a2739e45f3b638": {
      "model_module": "arcgis-map-ipywidget",
      "model_module_version": "1.8.2",
      "model_name": "ArcGISMapIPyWidgetModel",
      "state": {
       "_auth_mode": "anonymous",
       "_basemap": "default",
       "_draw_these_graphics_on_widget_load": [],
       "_draw_these_notype_layers_on_widget_load": [],
       "_gallery_basemaps": {
        "default": {
         "baseMapLayers": [
          {
           "layerType": "ArcGISTiledMapServiceLayer",
           "opacity": 1,
           "resourceInfo": {
            "capabilities": "Map,Tilemap,Query,Data",
            "copyrightText": "Sources: Esri, HERE, DeLorme, Intermap, increment P Corp., GEBCO, USGS, FAO, NPS, NRCAN, GeoBase, IGN, Kadaster NL, Ordnance Survey, Esri Japan, METI, Esri China (Hong Kong), swisstopo, MapmyIndia, © OpenStreetMap contributors, and the GIS User Community",
            "currentVersion": 10.3,
            "description": "This map is designed to be used as a basemap by GIS professionals and as a reference map by anyone. The map includes administrative boundaries, cities, water features, physiographic features, parks, landmarks, highways, roads, railways, and airports overlaid on land cover and shaded relief imagery for added context. The map provides coverage for the world down to a scale of ~1:72k. Coverage is provided down to ~1:4k for the following areas: Australia and New Zealand; India; Europe; Canada; Mexico; the continental United States and Hawaii; South America and Central America; Africa; and most of the Middle East. Coverage down to ~1:1k and ~1:2k is available in select urban areas. This basemap was compiled from a variety of best available sources from several data providers, including the U.S. Geological Survey (USGS), U.S. Environmental Protection Agency (EPA), U.S. National Park Service (NPS), Food and Agriculture Organization of the United Nations (FAO), Department of Natural Resources Canada (NRCAN), GeoBase, Agriculture and Agri-Food Canada, DeLorme, HERE, Esri, OpenStreetMap contributors, and the GIS User Community. For more information on this map, including our terms of use, visit us online at http://goto.arcgisonline.com/maps/World_Topo_Map",
            "documentInfo": {
             "AntialiasingMode": "None",
             "Author": "Esri",
             "Category": "imageryBaseMapsEarthCover (Imagery, basemaps, and land cover)",
             "Comments": "",
             "Keywords": "World,Global,Europe,North America,South America,Southern Africa,Australia,New Zealand,India",
             "Subject": "topographic, topography, administrative boundaries, cities, water features, physiographic features, parks, landmarks, highways, roads, railways, airports, land cover, shaded relief imagery",
             "TextAntialiasingMode": "Force",
             "Title": "World Topographic Map"
            },
            "exportTilesAllowed": false,
            "fullExtent": {
             "spatialReference": {
              "latestWkid": 3857,
              "wkid": 102100
             },
             "xmax": 20037507.067161843,
             "xmin": -20037507.067161843,
             "ymax": 19971868.88040863,
             "ymin": -19971868.880408604
            },
            "initialExtent": {
             "spatialReference": {
              "latestWkid": 3857,
              "wkid": 102100
             },
             "xmax": 28848255.049479112,
             "xmin": -28848255.049479112,
             "ymax": 16430757.376790084,
             "ymin": -2077452.082122866
            },
            "layers": [
             {
              "defaultVisibility": false,
              "id": 0,
              "maxScale": 0,
              "minScale": 0,
              "name": "Citations",
              "parentLayerId": -1,
              "subLayerIds": null
             }
            ],
            "mapName": "Layers",
            "maxImageHeight": 4096,
            "maxImageWidth": 4096,
            "maxRecordCount": 100,
            "maxScale": 70.5310735,
            "minScale": 591657527.591555,
            "serviceDescription": "This map is designed to be used as a basemap by GIS professionals and as a reference map by anyone. The map includes administrative boundaries, cities, water features, physiographic features, parks, landmarks, highways, roads, railways, and airports overlaid on land cover and shaded relief imagery for added context. The map provides coverage for the world down to a scale of ~1:72k. Coverage is provided down to ~1:4k for the following areas: Australia and New Zealand; India; Europe; Canada; Mexico; the continental United States and Hawaii; South America and Central America; Africa; and most of the Middle East. Coverage down to ~1:1k and ~1:2k is available in select urban areas. This basemap was compiled from a variety of best available sources from several data providers, including the U.S. Geological Survey (USGS), U.S. Environmental Protection Agency (EPA), U.S. National Park Service (NPS), Food and Agriculture Organization of the United Nations (FAO), Department of Natural Resources Canada (NRCAN), GeoBase, Agriculture and Agri-Food Canada, DeLorme, HERE, Esri, OpenStreetMap contributors, and the GIS User Community. For more information on this map, including the terms of use, visit us <a href=\"http://goto.arcgisonline.com/maps/World_Topo_Map \" target=\"_new\" >online</a>.",
            "singleFusedMapCache": true,
            "spatialReference": {
             "latestWkid": 3857,
             "wkid": 102100
            },
            "supportedExtensions": "KmlServer",
            "supportedImageFormatTypes": "PNG32,PNG24,PNG,JPG,DIB,TIFF,EMF,PS,PDF,GIF,SVG,SVGZ,BMP",
            "supportedQueryFormats": "JSON, AMF",
            "supportsDynamicLayers": false,
            "tables": [],
            "tileInfo": {
             "cols": 256,
             "compressionQuality": 90,
             "dpi": 96,
             "format": "JPEG",
             "lods": [
              {
               "level": 0,
               "resolution": 156543.03392800014,
               "scale": 591657527.591555
              },
              {
               "level": 1,
               "resolution": 78271.51696399994,
               "scale": 295828763.795777
              },
              {
               "level": 2,
               "resolution": 39135.75848200009,
               "scale": 147914381.897889
              },
              {
               "level": 3,
               "resolution": 19567.87924099992,
               "scale": 73957190.948944
              },
              {
               "level": 4,
               "resolution": 9783.93962049996,
               "scale": 36978595.474472
              },
              {
               "level": 5,
               "resolution": 4891.96981024998,
               "scale": 18489297.737236
              },
              {
               "level": 6,
               "resolution": 2445.98490512499,
               "scale": 9244648.868618
              },
              {
               "level": 7,
               "resolution": 1222.992452562495,
               "scale": 4622324.434309
              },
              {
               "level": 8,
               "resolution": 611.4962262813797,
               "scale": 2311162.217155
              },
              {
               "level": 9,
               "resolution": 305.74811314055756,
               "scale": 1155581.108577
              },
              {
               "level": 10,
               "resolution": 152.87405657041106,
               "scale": 577790.554289
              },
              {
               "level": 11,
               "resolution": 76.43702828507324,
               "scale": 288895.277144
              },
              {
               "level": 12,
               "resolution": 38.21851414253662,
               "scale": 144447.638572
              },
              {
               "level": 13,
               "resolution": 19.10925707126831,
               "scale": 72223.819286
              },
              {
               "level": 14,
               "resolution": 9.554628535634155,
               "scale": 36111.909643
              },
              {
               "level": 15,
               "resolution": 4.77731426794937,
               "scale": 18055.954822
              },
              {
               "level": 16,
               "resolution": 2.388657133974685,
               "scale": 9027.977411
              },
              {
               "level": 17,
               "resolution": 1.1943285668550503,
               "scale": 4513.988705
              },
              {
               "level": 18,
               "resolution": 0.5971642835598172,
               "scale": 2256.994353
              },
              {
               "level": 19,
               "resolution": 0.29858214164761665,
               "scale": 1128.497176
              },
              {
               "level": 20,
               "resolution": 0.14929107082380833,
               "scale": 564.248588
              },
              {
               "level": 21,
               "resolution": 0.07464553541190416,
               "scale": 282.124294
              },
              {
               "level": 22,
               "resolution": 0.03732276770595208,
               "scale": 141.062147
              },
              {
               "level": 23,
               "resolution": 0.01866138385297604,
               "scale": 70.5310735
              }
             ],
             "origin": {
              "x": -20037508.342787,
              "y": 20037508.342787
             },
             "rows": 256,
             "spatialReference": {
              "latestWkid": 3857,
              "wkid": 102100
             }
            },
            "units": "esriMeters"
           },
           "url": "https://services.arcgisonline.com/ArcGIS/rest/services/World_Topo_Map/MapServer",
           "visibility": true
          },
          {
           "id": "Streetmap_MMI_8695",
           "layerType": "ArcGISTiledMapServiceLayer",
           "maxScale": 1128,
           "minScale": 288895,
           "opacity": 1,
           "resourceInfo": {
            "access": "SECURE",
            "capabilities": "Map,TilesOnly",
            "copyrightText": "Sources: Esri, MapmyIndia, DeLorme, METI/NASA",
            "currentVersion": 10.31,
            "description": "<span style='color: rgb(0, 0, 0); font-family: Verdana, sans-serif; line-height: 17.33333396911621px; background-color: rgb(255, 255, 255);'>This India topographic map overlay presents physical features and street-level data for India. This comprehensive topographic map includes highways, major roads, minor roads, one-way arrow indicators, railways, water features, administrative boundaries, cities, parks, landmarks, physical feature labels, spot elevations, and contours overlaid on shaded relief imagery for added context. The map also includes building footprints for selected areas. Coverage is provided down to ~1:4k country-wide with ~1:1k and ~1:2k data available in select urban areas. The street map was developed by Esri using MapmyIndia data layers, including administrative boundaries, from CE Info Systems. Additional data sources from DeLorme basemap layers, and METI/NASA data for shaded relief.</span>",
            "documentInfo": {
             "AntialiasingMode": "Fast",
             "Author": "",
             "Category": "",
             "Comments": "",
             "Keywords": "",
             "Subject": "",
             "TextAntialiasingMode": "Force",
             "Title": "",
             "author": "Esri_Content",
             "category": "",
             "comments": "",
             "credits": "Sources: Esri, MapmyIndia, DeLorme, METI/NASA",
             "keywords": "India, Topomap, highways, roads, transportation, landmarks, parks, basemap, community, community basemap, map, MapmyIndia",
             "subject": "This topographic map overlay presents physical features and street-level data from MapmyIndia for India.",
             "title": "World_Topomap_MMI"
            },
            "exportTilesAllowed": false,
            "fullExtent": {
             "spatialReference": {
              "wkid": 102100,
              "wkt": null
             },
             "xmax": 12523442.714243297,
             "xmin": 7514065.628545973,
             "ymax": 5009377.085753329,
             "ymin": 7.450580596923828e-09
            },
            "id": "94ef359ef51f7205",
            "initialExtent": {
             "spatialReference": {
              "wkid": 102100,
              "wkt": null
             },
             "xmax": 12523442.714243297,
             "xmin": 7514065.628545973,
             "ymax": 5009377.085753329,
             "ymin": 7.450580596923828e-09
            },
            "layers": [
             {
              "defaultVisibility": false,
              "id": 0,
              "maxScale": 0,
              "minScale": 0,
              "name": "world",
              "parentLayerId": -1,
              "subLayerIds": null
             }
            ],
            "mapName": "Layers",
            "maxExportTilesCount": 100000,
            "maxScale": 1128.497176,
            "minScale": 288895.277144,
            "name": "World_Topomap_MMI",
            "resampling": false,
            "server": "P3ePLMYs2RVChkJx",
            "serviceDescription": "",
            "singleFusedMapCache": true,
            "spatialReference": {
             "wkid": 102100,
             "wkt": null
            },
            "status": "created",
            "supportedImageFormatTypes": "JPEG",
            "tables": [],
            "tileInfo": {
             "cols": 256,
             "compressionQuality": 90,
             "dpi": 96,
             "format": "JPEG",
             "lods": [
              {
               "level": 0,
               "resolution": 156543.03392800014,
               "scale": 591657527.591555
              },
              {
               "level": 1,
               "resolution": 78271.51696399994,
               "scale": 295828763.795777
              },
              {
               "level": 2,
               "resolution": 39135.75848200009,
               "scale": 147914381.897889
              },
              {
               "level": 3,
               "resolution": 19567.87924099992,
               "scale": 73957190.948944
              },
              {
               "level": 4,
               "resolution": 9783.93962049996,
               "scale": 36978595.474472
              },
              {
               "level": 5,
               "resolution": 4891.96981024998,
               "scale": 18489297.737236
              },
              {
               "level": 6,
               "resolution": 2445.98490512499,
               "scale": 9244648.868618
              },
              {
               "level": 7,
               "resolution": 1222.992452562495,
               "scale": 4622324.434309
              },
              {
               "level": 8,
               "resolution": 611.4962262813797,
               "scale": 2311162.217155
              },
              {
               "level": 9,
               "resolution": 305.74811314055756,
               "scale": 1155581.108577
              },
              {
               "level": 10,
               "resolution": 152.87405657041106,
               "scale": 577790.554289
              },
              {
               "level": 11,
               "resolution": 76.43702828507324,
               "scale": 288895.277144
              },
              {
               "level": 12,
               "resolution": 38.21851414253662,
               "scale": 144447.638572
              },
              {
               "level": 13,
               "resolution": 19.10925707126831,
               "scale": 72223.819286
              },
              {
               "level": 14,
               "resolution": 9.554628535634155,
               "scale": 36111.909643
              },
              {
               "level": 15,
               "resolution": 4.77731426794937,
               "scale": 18055.954822
              },
              {
               "level": 16,
               "resolution": 2.388657133974685,
               "scale": 9027.977411
              },
              {
               "level": 17,
               "resolution": 1.1943285668550503,
               "scale": 4513.988705
              },
              {
               "level": 18,
               "resolution": 0.5971642835598172,
               "scale": 2256.994353
              },
              {
               "level": 19,
               "resolution": 0.29858214164761665,
               "scale": 1128.497176
              }
             ],
             "origin": {
              "x": -20037508.342787,
              "y": 20037508.342787
             },
             "rows": 256,
             "spatialReference": {
              "wkid": 102100,
              "wkt": "PROJCS[\"WGS_1984_Web_Mercator_Auxiliary_Sphere\",GEOGCS[\"GCS_WGS_1984\",DATUM[\"D_WGS_1984\",SPHEROID[\"WGS_1984\",6378137.0,298.257223563]],PRIMEM[\"Greenwich\",0.0],UNIT[\"Degree\",0.0174532925199433]],PROJECTION[\"Mercator_Auxiliary_Sphere\"],PARAMETER[\"False_Easting\",0.0],PARAMETER[\"False_Northing\",0.0],PARAMETER[\"Central_Meridian\",0.0],PARAMETER[\"Standard_Parallel_1\",0.0],PARAMETER[\"Auxiliary_Sphere_Type\",0.0],UNIT[\"Meter\",1.0],AUTHORITY[\"EPSG\",3857]]"
             },
             "storageFormat": "esriMapCacheStorageModeCompact"
            },
            "tileServers": [
             "http://tiles1.arcgis.com/tiles/P3ePLMYs2RVChkJx/arcgis/rest/services/World_Topomap_MMI/MapServer",
             "http://tiles2.arcgis.com/tiles/P3ePLMYs2RVChkJx/arcgis/rest/services/World_Topomap_MMI/MapServer",
             "http://tiles3.arcgis.com/tiles/P3ePLMYs2RVChkJx/arcgis/rest/services/World_Topomap_MMI/MapServer",
             "http://tiles4.arcgis.com/tiles/P3ePLMYs2RVChkJx/arcgis/rest/services/World_Topomap_MMI/MapServer"
            ],
            "type": "MapServer",
            "units": "esriMeters"
           },
           "url": "https://tiles.arcgis.com/tiles/P3ePLMYs2RVChkJx/arcgis/rest/services/World_Topomap_MMI/MapServer",
           "visibility": true
          },
          {
           "id": "India_Bnd_G_5793",
           "isReference": true,
           "layerType": "ArcGISTiledMapServiceLayer",
           "opacity": 1,
           "resourceInfo": {
            "access": "SECURE",
            "capabilities": "Map",
            "copyrightText": "Mxd assembled by Corey LaMar",
            "created": null,
            "currentVersion": 10.1,
            "description": "This mxd contains the political boundaries used in StreetMap 5.1 as  political boundaries overlay  Currency: 73m to 577k (StreetMap 4.1 (5.0) 288k to 72k (StreetMap 5.1) Delorme 36k to 1k (StreetMap 5.1 ) Navteq",
            "documentInfo": {
             "AntialiasingMode": "Best",
             "Author": "AGOL Teams Members",
             "Category": "",
             "Comments": "This mxd contains the political boundaries used in StreetMap 5.1 as a starting point for Esri India to create their own political boundaries overlay\n\nCurrency:\n73m to 577k (StreetMap 4.1 (5.0)\n288k to 72k (StreetMap 5.1) Delorme\n36k to 1k (StreetMap 5.1 ) Navteq",
             "Keywords": "Inda Disputed International Boundaries",
             "Subject": "Create 2/2/13 Copies of StMap Int Bnd 73m to1k caching levels",
             "TextAntialiasingMode": "Force",
             "Title": "Int_Bnd_for_Esri_India_Work",
             "author": "cimmy68",
             "category": "",
             "comments": "",
             "credits": "Mxd assembled by Corey LaMar",
             "keywords": "Inda International Boundaries",
             "subject": "Create 2/2/13 Copies of StMap Int Bnd 73m to1k caching levels",
             "title": "India_Bnd_G"
            },
            "fullExtent": {
             "spatialReference": {
              "wkid": 102100
             },
             "xmax": 10843895.843899999,
             "xmin": 7508245.0923000015,
             "ymax": 4451373.3320999965,
             "ymin": 753623.2256000005
            },
            "id": "bc7c3277ec65f602",
            "initialExtent": {
             "spatialReference": {
              "wkid": 102100
             },
             "xmax": 13053038.616388625,
             "xmin": 5299102.319811376,
             "ymax": 4636260.837424996,
             "ymin": 2675256.394233431
            },
            "layers": [
             {
              "defaultVisibility": true,
              "id": 0,
              "maxScale": 0,
              "minScale": 0,
              "name": "India",
              "parentLayerId": -1,
              "subLayerIds": null
             }
            ],
            "mapName": "India Basemap",
            "maxScale": 577790.554289,
            "minScale": 73957190.948944,
            "modified": null,
            "name": "India_Bnd_G",
            "server": "gHHix49exJauUOEM",
            "serviceDescription": "",
            "singleFusedMapCache": true,
            "spatialReference": {
             "wkid": 102100
            },
            "status": "created",
            "supportedImageFormatTypes": "PNG",
            "tables": [],
            "tileInfo": {
             "cols": 256,
             "compressionQuality": 0,
             "dpi": 96,
             "format": "PNG",
             "lods": [
              {
               "level": 0,
               "resolution": 156543.03392800014,
               "scale": 591657527.591555
              },
              {
               "level": 1,
               "resolution": 78271.51696399994,
               "scale": 295828763.795777
              },
              {
               "level": 2,
               "resolution": 39135.75848200009,
               "scale": 147914381.897889
              },
              {
               "level": 3,
               "resolution": 19567.87924099992,
               "scale": 73957190.948944
              },
              {
               "level": 4,
               "resolution": 9783.93962049996,
               "scale": 36978595.474472
              },
              {
               "level": 5,
               "resolution": 4891.96981024998,
               "scale": 18489297.737236
              },
              {
               "level": 6,
               "resolution": 2445.98490512499,
               "scale": 9244648.868618
              },
              {
               "level": 7,
               "resolution": 1222.992452562495,
               "scale": 4622324.434309
              },
              {
               "level": 8,
               "resolution": 611.4962262813797,
               "scale": 2311162.217155
              },
              {
               "level": 9,
               "resolution": 305.74811314055756,
               "scale": 1155581.108577
              },
              {
               "level": 10,
               "resolution": 152.87405657041106,
               "scale": 577790.554289
              },
              {
               "level": 11,
               "resolution": 76.43702828507324,
               "scale": 288895.277144
              },
              {
               "level": 12,
               "resolution": 38.21851414253662,
               "scale": 144447.638572
              },
              {
               "level": 13,
               "resolution": 19.10925707126831,
               "scale": 72223.819286
              },
              {
               "level": 14,
               "resolution": 9.554628535634155,
               "scale": 36111.909643
              },
              {
               "level": 15,
               "resolution": 4.77731426794937,
               "scale": 18055.954822
              },
              {
               "level": 16,
               "resolution": 2.388657133974685,
               "scale": 9027.977411
              },
              {
               "level": 17,
               "resolution": 1.1943285668550503,
               "scale": 4513.988705
              },
              {
               "level": 18,
               "resolution": 0.5971642835598172,
               "scale": 2256.994353
              },
              {
               "level": 19,
               "resolution": 0.29858214164761665,
               "scale": 1128.497176
              }
             ],
             "origin": {
              "x": -20037508.342787,
              "y": 20037508.342787
             },
             "rows": 256,
             "spatialReference": {
              "wkid": 102100,
              "wkt": "PROJCS[\"WGS_1984_Web_Mercator_Auxiliary_Sphere\",GEOGCS[\"GCS_WGS_1984\",DATUM[\"D_WGS_1984\",SPHEROID[\"WGS_1984\",6378137.0,298.257223563]],PRIMEM[\"Greenwich\",0.0],UNIT[\"Degree\",0.0174532925199433]],PROJECTION[\"Mercator_Auxiliary_Sphere\"],PARAMETER[\"False_Easting\",0.0],PARAMETER[\"False_Northing\",0.0],PARAMETER[\"Central_Meridian\",0.0],PARAMETER[\"Standard_Parallel_1\",0.0],PARAMETER[\"Auxiliary_Sphere_Type\",0.0],UNIT[\"Meter\",1.0],AUTHORITY[\"EPSG\",3857]]"
             }
            },
            "tileServers": [
             "https://tiles1.arcgis.com/tiles/gHHix49exJauUOEM/arcgis/rest/services/India_Bnd_G/MapServer",
             "https://tiles2.arcgis.com/tiles/gHHix49exJauUOEM/arcgis/rest/services/India_Bnd_G/MapServer",
             "https://tiles3.arcgis.com/tiles/gHHix49exJauUOEM/arcgis/rest/services/India_Bnd_G/MapServer",
             "https://tiles4.arcgis.com/tiles/gHHix49exJauUOEM/arcgis/rest/services/India_Bnd_G/MapServer"
            ],
            "type": "MapServer",
            "units": "esriMeters"
           },
           "url": "https://tiles.arcgis.com/tiles/gHHix49exJauUOEM/arcgis/rest/services/India_Bnd_G/MapServer",
           "visibility": true
          }
         ],
         "title": "Topographic"
        }
       },
       "_overlay_these_images_on_widget_load": [],
       "_portal_sharing_rest_url": "https://www.arcgis.com/sharing/rest/",
       "_portal_url": "https://www.arcgis.com",
       "_readonly_webmap_from_js": {
        "basemap": {
         "baseMapLayers": [
          {
           "layerType": "ArcGISTiledMapServiceLayer",
           "opacity": 1,
           "resourceInfo": {
            "capabilities": "Map,Tilemap,Query,Data",
            "copyrightText": "Sources: Esri, HERE, DeLorme, Intermap, increment P Corp., GEBCO, USGS, FAO, NPS, NRCAN, GeoBase, IGN, Kadaster NL, Ordnance Survey, Esri Japan, METI, Esri China (Hong Kong), swisstopo, MapmyIndia, © OpenStreetMap contributors, and the GIS User Community",
            "currentVersion": 10.3,
            "description": "This map is designed to be used as a basemap by GIS professionals and as a reference map by anyone. The map includes administrative boundaries, cities, water features, physiographic features, parks, landmarks, highways, roads, railways, and airports overlaid on land cover and shaded relief imagery for added context. The map provides coverage for the world down to a scale of ~1:72k. Coverage is provided down to ~1:4k for the following areas: Australia and New Zealand; India; Europe; Canada; Mexico; the continental United States and Hawaii; South America and Central America; Africa; and most of the Middle East. Coverage down to ~1:1k and ~1:2k is available in select urban areas. This basemap was compiled from a variety of best available sources from several data providers, including the U.S. Geological Survey (USGS), U.S. Environmental Protection Agency (EPA), U.S. National Park Service (NPS), Food and Agriculture Organization of the United Nations (FAO), Department of Natural Resources Canada (NRCAN), GeoBase, Agriculture and Agri-Food Canada, DeLorme, HERE, Esri, OpenStreetMap contributors, and the GIS User Community. For more information on this map, including our terms of use, visit us online at http://goto.arcgisonline.com/maps/World_Topo_Map",
            "documentInfo": {
             "AntialiasingMode": "None",
             "Author": "Esri",
             "Category": "imageryBaseMapsEarthCover (Imagery, basemaps, and land cover)",
             "Comments": "",
             "Keywords": "World,Global,Europe,North America,South America,Southern Africa,Australia,New Zealand,India",
             "Subject": "topographic, topography, administrative boundaries, cities, water features, physiographic features, parks, landmarks, highways, roads, railways, airports, land cover, shaded relief imagery",
             "TextAntialiasingMode": "Force",
             "Title": "World Topographic Map"
            },
            "exportTilesAllowed": false,
            "fullExtent": {
             "spatialReference": {
              "latestWkid": 3857,
              "wkid": 102100
             },
             "xmax": 20037507.067161843,
             "xmin": -20037507.067161843,
             "ymax": 19971868.88040863,
             "ymin": -19971868.880408604
            },
            "initialExtent": {
             "spatialReference": {
              "latestWkid": 3857,
              "wkid": 102100
             },
             "xmax": 28848255.049479112,
             "xmin": -28848255.049479112,
             "ymax": 16430757.376790084,
             "ymin": -2077452.082122866
            },
            "layers": [
             {
              "defaultVisibility": false,
              "id": 0,
              "maxScale": 0,
              "minScale": 0,
              "name": "Citations",
              "parentLayerId": -1,
              "subLayerIds": null
             }
            ],
            "mapName": "Layers",
            "maxImageHeight": 4096,
            "maxImageWidth": 4096,
            "maxRecordCount": 100,
            "maxScale": 70.5310735,
            "minScale": 591657527.591555,
            "serviceDescription": "This map is designed to be used as a basemap by GIS professionals and as a reference map by anyone. The map includes administrative boundaries, cities, water features, physiographic features, parks, landmarks, highways, roads, railways, and airports overlaid on land cover and shaded relief imagery for added context. The map provides coverage for the world down to a scale of ~1:72k. Coverage is provided down to ~1:4k for the following areas: Australia and New Zealand; India; Europe; Canada; Mexico; the continental United States and Hawaii; South America and Central America; Africa; and most of the Middle East. Coverage down to ~1:1k and ~1:2k is available in select urban areas. This basemap was compiled from a variety of best available sources from several data providers, including the U.S. Geological Survey (USGS), U.S. Environmental Protection Agency (EPA), U.S. National Park Service (NPS), Food and Agriculture Organization of the United Nations (FAO), Department of Natural Resources Canada (NRCAN), GeoBase, Agriculture and Agri-Food Canada, DeLorme, HERE, Esri, OpenStreetMap contributors, and the GIS User Community. For more information on this map, including the terms of use, visit us <a href=\"http://goto.arcgisonline.com/maps/World_Topo_Map \" target=\"_new\" >online</a>.",
            "singleFusedMapCache": true,
            "spatialReference": {
             "latestWkid": 3857,
             "wkid": 102100
            },
            "supportedExtensions": "KmlServer",
            "supportedImageFormatTypes": "PNG32,PNG24,PNG,JPG,DIB,TIFF,EMF,PS,PDF,GIF,SVG,SVGZ,BMP",
            "supportedQueryFormats": "JSON, AMF",
            "supportsDynamicLayers": false,
            "tables": [],
            "tileInfo": {
             "cols": 256,
             "compressionQuality": 90,
             "dpi": 96,
             "format": "JPEG",
             "lods": [
              {
               "level": 0,
               "resolution": 156543.03392800014,
               "scale": 591657527.591555
              },
              {
               "level": 1,
               "resolution": 78271.51696399994,
               "scale": 295828763.795777
              },
              {
               "level": 2,
               "resolution": 39135.75848200009,
               "scale": 147914381.897889
              },
              {
               "level": 3,
               "resolution": 19567.87924099992,
               "scale": 73957190.948944
              },
              {
               "level": 4,
               "resolution": 9783.93962049996,
               "scale": 36978595.474472
              },
              {
               "level": 5,
               "resolution": 4891.96981024998,
               "scale": 18489297.737236
              },
              {
               "level": 6,
               "resolution": 2445.98490512499,
               "scale": 9244648.868618
              },
              {
               "level": 7,
               "resolution": 1222.992452562495,
               "scale": 4622324.434309
              },
              {
               "level": 8,
               "resolution": 611.4962262813797,
               "scale": 2311162.217155
              },
              {
               "level": 9,
               "resolution": 305.74811314055756,
               "scale": 1155581.108577
              },
              {
               "level": 10,
               "resolution": 152.87405657041106,
               "scale": 577790.554289
              },
              {
               "level": 11,
               "resolution": 76.43702828507324,
               "scale": 288895.277144
              },
              {
               "level": 12,
               "resolution": 38.21851414253662,
               "scale": 144447.638572
              },
              {
               "level": 13,
               "resolution": 19.10925707126831,
               "scale": 72223.819286
              },
              {
               "level": 14,
               "resolution": 9.554628535634155,
               "scale": 36111.909643
              },
              {
               "level": 15,
               "resolution": 4.77731426794937,
               "scale": 18055.954822
              },
              {
               "level": 16,
               "resolution": 2.388657133974685,
               "scale": 9027.977411
              },
              {
               "level": 17,
               "resolution": 1.1943285668550503,
               "scale": 4513.988705
              },
              {
               "level": 18,
               "resolution": 0.5971642835598172,
               "scale": 2256.994353
              },
              {
               "level": 19,
               "resolution": 0.29858214164761665,
               "scale": 1128.497176
              },
              {
               "level": 20,
               "resolution": 0.14929107082380833,
               "scale": 564.248588
              },
              {
               "level": 21,
               "resolution": 0.07464553541190416,
               "scale": 282.124294
              },
              {
               "level": 22,
               "resolution": 0.03732276770595208,
               "scale": 141.062147
              },
              {
               "level": 23,
               "resolution": 0.01866138385297604,
               "scale": 70.5310735
              }
             ],
             "origin": {
              "x": -20037508.342787,
              "y": 20037508.342787
             },
             "rows": 256,
             "spatialReference": {
              "latestWkid": 3857,
              "wkid": 102100
             }
            },
            "units": "esriMeters"
           },
           "url": "https://services.arcgisonline.com/ArcGIS/rest/services/World_Topo_Map/MapServer",
           "visibility": true
          },
          {
           "id": "Streetmap_MMI_8695",
           "layerType": "ArcGISTiledMapServiceLayer",
           "maxScale": 1128,
           "minScale": 288895,
           "opacity": 1,
           "resourceInfo": {
            "access": "SECURE",
            "capabilities": "Map,TilesOnly",
            "copyrightText": "Sources: Esri, MapmyIndia, DeLorme, METI/NASA",
            "currentVersion": 10.31,
            "description": "<span style='color: rgb(0, 0, 0); font-family: Verdana, sans-serif; line-height: 17.33333396911621px; background-color: rgb(255, 255, 255);'>This India topographic map overlay presents physical features and street-level data for India. This comprehensive topographic map includes highways, major roads, minor roads, one-way arrow indicators, railways, water features, administrative boundaries, cities, parks, landmarks, physical feature labels, spot elevations, and contours overlaid on shaded relief imagery for added context. The map also includes building footprints for selected areas. Coverage is provided down to ~1:4k country-wide with ~1:1k and ~1:2k data available in select urban areas. The street map was developed by Esri using MapmyIndia data layers, including administrative boundaries, from CE Info Systems. Additional data sources from DeLorme basemap layers, and METI/NASA data for shaded relief.</span>",
            "documentInfo": {
             "AntialiasingMode": "Fast",
             "Author": "",
             "Category": "",
             "Comments": "",
             "Keywords": "",
             "Subject": "",
             "TextAntialiasingMode": "Force",
             "Title": "",
             "author": "Esri_Content",
             "category": "",
             "comments": "",
             "credits": "Sources: Esri, MapmyIndia, DeLorme, METI/NASA",
             "keywords": "India, Topomap, highways, roads, transportation, landmarks, parks, basemap, community, community basemap, map, MapmyIndia",
             "subject": "This topographic map overlay presents physical features and street-level data from MapmyIndia for India.",
             "title": "World_Topomap_MMI"
            },
            "exportTilesAllowed": false,
            "fullExtent": {
             "spatialReference": {
              "wkid": 102100,
              "wkt": null
             },
             "xmax": 12523442.714243297,
             "xmin": 7514065.628545973,
             "ymax": 5009377.085753329,
             "ymin": 7.450580596923828e-09
            },
            "id": "94ef359ef51f7205",
            "initialExtent": {
             "spatialReference": {
              "wkid": 102100,
              "wkt": null
             },
             "xmax": 12523442.714243297,
             "xmin": 7514065.628545973,
             "ymax": 5009377.085753329,
             "ymin": 7.450580596923828e-09
            },
            "layers": [
             {
              "defaultVisibility": false,
              "id": 0,
              "maxScale": 0,
              "minScale": 0,
              "name": "world",
              "parentLayerId": -1,
              "subLayerIds": null
             }
            ],
            "mapName": "Layers",
            "maxExportTilesCount": 100000,
            "maxScale": 1128.497176,
            "minScale": 288895.277144,
            "name": "World_Topomap_MMI",
            "resampling": false,
            "server": "P3ePLMYs2RVChkJx",
            "serviceDescription": "",
            "singleFusedMapCache": true,
            "spatialReference": {
             "wkid": 102100,
             "wkt": null
            },
            "status": "created",
            "supportedImageFormatTypes": "JPEG",
            "tables": [],
            "tileInfo": {
             "cols": 256,
             "compressionQuality": 90,
             "dpi": 96,
             "format": "JPEG",
             "lods": [
              {
               "level": 0,
               "resolution": 156543.03392800014,
               "scale": 591657527.591555
              },
              {
               "level": 1,
               "resolution": 78271.51696399994,
               "scale": 295828763.795777
              },
              {
               "level": 2,
               "resolution": 39135.75848200009,
               "scale": 147914381.897889
              },
              {
               "level": 3,
               "resolution": 19567.87924099992,
               "scale": 73957190.948944
              },
              {
               "level": 4,
               "resolution": 9783.93962049996,
               "scale": 36978595.474472
              },
              {
               "level": 5,
               "resolution": 4891.96981024998,
               "scale": 18489297.737236
              },
              {
               "level": 6,
               "resolution": 2445.98490512499,
               "scale": 9244648.868618
              },
              {
               "level": 7,
               "resolution": 1222.992452562495,
               "scale": 4622324.434309
              },
              {
               "level": 8,
               "resolution": 611.4962262813797,
               "scale": 2311162.217155
              },
              {
               "level": 9,
               "resolution": 305.74811314055756,
               "scale": 1155581.108577
              },
              {
               "level": 10,
               "resolution": 152.87405657041106,
               "scale": 577790.554289
              },
              {
               "level": 11,
               "resolution": 76.43702828507324,
               "scale": 288895.277144
              },
              {
               "level": 12,
               "resolution": 38.21851414253662,
               "scale": 144447.638572
              },
              {
               "level": 13,
               "resolution": 19.10925707126831,
               "scale": 72223.819286
              },
              {
               "level": 14,
               "resolution": 9.554628535634155,
               "scale": 36111.909643
              },
              {
               "level": 15,
               "resolution": 4.77731426794937,
               "scale": 18055.954822
              },
              {
               "level": 16,
               "resolution": 2.388657133974685,
               "scale": 9027.977411
              },
              {
               "level": 17,
               "resolution": 1.1943285668550503,
               "scale": 4513.988705
              },
              {
               "level": 18,
               "resolution": 0.5971642835598172,
               "scale": 2256.994353
              },
              {
               "level": 19,
               "resolution": 0.29858214164761665,
               "scale": 1128.497176
              }
             ],
             "origin": {
              "x": -20037508.342787,
              "y": 20037508.342787
             },
             "rows": 256,
             "spatialReference": {
              "wkid": 102100,
              "wkt": "PROJCS[\"WGS_1984_Web_Mercator_Auxiliary_Sphere\",GEOGCS[\"GCS_WGS_1984\",DATUM[\"D_WGS_1984\",SPHEROID[\"WGS_1984\",6378137.0,298.257223563]],PRIMEM[\"Greenwich\",0.0],UNIT[\"Degree\",0.0174532925199433]],PROJECTION[\"Mercator_Auxiliary_Sphere\"],PARAMETER[\"False_Easting\",0.0],PARAMETER[\"False_Northing\",0.0],PARAMETER[\"Central_Meridian\",0.0],PARAMETER[\"Standard_Parallel_1\",0.0],PARAMETER[\"Auxiliary_Sphere_Type\",0.0],UNIT[\"Meter\",1.0],AUTHORITY[\"EPSG\",3857]]"
             },
             "storageFormat": "esriMapCacheStorageModeCompact"
            },
            "tileServers": [
             "http://tiles1.arcgis.com/tiles/P3ePLMYs2RVChkJx/arcgis/rest/services/World_Topomap_MMI/MapServer",
             "http://tiles2.arcgis.com/tiles/P3ePLMYs2RVChkJx/arcgis/rest/services/World_Topomap_MMI/MapServer",
             "http://tiles3.arcgis.com/tiles/P3ePLMYs2RVChkJx/arcgis/rest/services/World_Topomap_MMI/MapServer",
             "http://tiles4.arcgis.com/tiles/P3ePLMYs2RVChkJx/arcgis/rest/services/World_Topomap_MMI/MapServer"
            ],
            "type": "MapServer",
            "units": "esriMeters"
           },
           "url": "https://tiles.arcgis.com/tiles/P3ePLMYs2RVChkJx/arcgis/rest/services/World_Topomap_MMI/MapServer",
           "visibility": true
          },
          {
           "id": "India_Bnd_G_5793",
           "isReference": true,
           "layerType": "ArcGISTiledMapServiceLayer",
           "opacity": 1,
           "resourceInfo": {
            "access": "SECURE",
            "capabilities": "Map",
            "copyrightText": "Mxd assembled by Corey LaMar",
            "created": null,
            "currentVersion": 10.1,
            "description": "This mxd contains the political boundaries used in StreetMap 5.1 as  political boundaries overlay  Currency: 73m to 577k (StreetMap 4.1 (5.0) 288k to 72k (StreetMap 5.1) Delorme 36k to 1k (StreetMap 5.1 ) Navteq",
            "documentInfo": {
             "AntialiasingMode": "Best",
             "Author": "AGOL Teams Members",
             "Category": "",
             "Comments": "This mxd contains the political boundaries used in StreetMap 5.1 as a starting point for Esri India to create their own political boundaries overlay\n\nCurrency:\n73m to 577k (StreetMap 4.1 (5.0)\n288k to 72k (StreetMap 5.1) Delorme\n36k to 1k (StreetMap 5.1 ) Navteq",
             "Keywords": "Inda Disputed International Boundaries",
             "Subject": "Create 2/2/13 Copies of StMap Int Bnd 73m to1k caching levels",
             "TextAntialiasingMode": "Force",
             "Title": "Int_Bnd_for_Esri_India_Work",
             "author": "cimmy68",
             "category": "",
             "comments": "",
             "credits": "Mxd assembled by Corey LaMar",
             "keywords": "Inda International Boundaries",
             "subject": "Create 2/2/13 Copies of StMap Int Bnd 73m to1k caching levels",
             "title": "India_Bnd_G"
            },
            "fullExtent": {
             "spatialReference": {
              "wkid": 102100
             },
             "xmax": 10843895.843899999,
             "xmin": 7508245.0923000015,
             "ymax": 4451373.3320999965,
             "ymin": 753623.2256000005
            },
            "id": "bc7c3277ec65f602",
            "initialExtent": {
             "spatialReference": {
              "wkid": 102100
             },
             "xmax": 13053038.616388625,
             "xmin": 5299102.319811376,
             "ymax": 4636260.837424996,
             "ymin": 2675256.394233431
            },
            "layers": [
             {
              "defaultVisibility": true,
              "id": 0,
              "maxScale": 0,
              "minScale": 0,
              "name": "India",
              "parentLayerId": -1,
              "subLayerIds": null
             }
            ],
            "mapName": "India Basemap",
            "maxScale": 577790.554289,
            "minScale": 73957190.948944,
            "modified": null,
            "name": "India_Bnd_G",
            "server": "gHHix49exJauUOEM",
            "serviceDescription": "",
            "singleFusedMapCache": true,
            "spatialReference": {
             "wkid": 102100
            },
            "status": "created",
            "supportedImageFormatTypes": "PNG",
            "tables": [],
            "tileInfo": {
             "cols": 256,
             "compressionQuality": 0,
             "dpi": 96,
             "format": "PNG",
             "lods": [
              {
               "level": 0,
               "resolution": 156543.03392800014,
               "scale": 591657527.591555
              },
              {
               "level": 1,
               "resolution": 78271.51696399994,
               "scale": 295828763.795777
              },
              {
               "level": 2,
               "resolution": 39135.75848200009,
               "scale": 147914381.897889
              },
              {
               "level": 3,
               "resolution": 19567.87924099992,
               "scale": 73957190.948944
              },
              {
               "level": 4,
               "resolution": 9783.93962049996,
               "scale": 36978595.474472
              },
              {
               "level": 5,
               "resolution": 4891.96981024998,
               "scale": 18489297.737236
              },
              {
               "level": 6,
               "resolution": 2445.98490512499,
               "scale": 9244648.868618
              },
              {
               "level": 7,
               "resolution": 1222.992452562495,
               "scale": 4622324.434309
              },
              {
               "level": 8,
               "resolution": 611.4962262813797,
               "scale": 2311162.217155
              },
              {
               "level": 9,
               "resolution": 305.74811314055756,
               "scale": 1155581.108577
              },
              {
               "level": 10,
               "resolution": 152.87405657041106,
               "scale": 577790.554289
              },
              {
               "level": 11,
               "resolution": 76.43702828507324,
               "scale": 288895.277144
              },
              {
               "level": 12,
               "resolution": 38.21851414253662,
               "scale": 144447.638572
              },
              {
               "level": 13,
               "resolution": 19.10925707126831,
               "scale": 72223.819286
              },
              {
               "level": 14,
               "resolution": 9.554628535634155,
               "scale": 36111.909643
              },
              {
               "level": 15,
               "resolution": 4.77731426794937,
               "scale": 18055.954822
              },
              {
               "level": 16,
               "resolution": 2.388657133974685,
               "scale": 9027.977411
              },
              {
               "level": 17,
               "resolution": 1.1943285668550503,
               "scale": 4513.988705
              },
              {
               "level": 18,
               "resolution": 0.5971642835598172,
               "scale": 2256.994353
              },
              {
               "level": 19,
               "resolution": 0.29858214164761665,
               "scale": 1128.497176
              }
             ],
             "origin": {
              "x": -20037508.342787,
              "y": 20037508.342787
             },
             "rows": 256,
             "spatialReference": {
              "wkid": 102100,
              "wkt": "PROJCS[\"WGS_1984_Web_Mercator_Auxiliary_Sphere\",GEOGCS[\"GCS_WGS_1984\",DATUM[\"D_WGS_1984\",SPHEROID[\"WGS_1984\",6378137.0,298.257223563]],PRIMEM[\"Greenwich\",0.0],UNIT[\"Degree\",0.0174532925199433]],PROJECTION[\"Mercator_Auxiliary_Sphere\"],PARAMETER[\"False_Easting\",0.0],PARAMETER[\"False_Northing\",0.0],PARAMETER[\"Central_Meridian\",0.0],PARAMETER[\"Standard_Parallel_1\",0.0],PARAMETER[\"Auxiliary_Sphere_Type\",0.0],UNIT[\"Meter\",1.0],AUTHORITY[\"EPSG\",3857]]"
             }
            },
            "tileServers": [
             "https://tiles1.arcgis.com/tiles/gHHix49exJauUOEM/arcgis/rest/services/India_Bnd_G/MapServer",
             "https://tiles2.arcgis.com/tiles/gHHix49exJauUOEM/arcgis/rest/services/India_Bnd_G/MapServer",
             "https://tiles3.arcgis.com/tiles/gHHix49exJauUOEM/arcgis/rest/services/India_Bnd_G/MapServer",
             "https://tiles4.arcgis.com/tiles/gHHix49exJauUOEM/arcgis/rest/services/India_Bnd_G/MapServer"
            ],
            "type": "MapServer",
            "units": "esriMeters"
           },
           "url": "https://tiles.arcgis.com/tiles/gHHix49exJauUOEM/arcgis/rest/services/India_Bnd_G/MapServer",
           "visibility": true
          }
         ],
         "title": "Topographic"
        },
        "ground": {
         "layers": [
          {
           "id": "worldElevation",
           "layerType": "ArcGISTiledElevationServiceLayer",
           "listMode": "show",
           "title": "Terrain3D",
           "url": "https://elevation3d.arcgis.com/arcgis/rest/services/WorldElevation3D/Terrain3D/ImageServer",
           "visibility": true
          }
         ],
         "transparency": 0
        },
        "layers": []
       },
       "_username": "None",
       "_uuid": "e331d875-2594-4183-8bc1-3443d40fd712",
       "_webscene": {
        "portalItem": {
         "id": "7c7dc6068f4e49aaaa462d54e48aa1fa"
        }
       },
       "hide_mode_switch": true,
       "jupyter_target": "notebook",
       "layout": "IPY_MODEL_17905d1b6f684a6c8ae6d092cef419de",
       "mode": "3D",
       "print_service_url": ""
      }
     },
     "cb08c0a044b6456bb38e5cf2faf3f93e": {
      "model_module": "@jupyter-widgets/base",
      "model_module_version": "1.2.0",
      "model_name": "LayoutModel",
      "state": {
       "height": "400px",
       "width": "100%"
      }
     },
     "e20bde02cc6b46c3baf89e72b24f6538": {
      "model_module": "arcgis-map-ipywidget",
      "model_module_version": "1.8.2",
      "model_name": "ArcGISMapIPyWidgetModel",
      "state": {
       "_auth_mode": "anonymous",
       "_basemap": "default",
       "_draw_these_graphics_on_widget_load": [],
       "_draw_these_notype_layers_on_widget_load": [],
       "_gallery_basemaps": {
        "default": {
         "baseMapLayers": [
          {
           "layerType": "ArcGISTiledMapServiceLayer",
           "opacity": 1,
           "resourceInfo": {
            "capabilities": "Map,Tilemap,Query,Data",
            "copyrightText": "Sources: Esri, HERE, DeLorme, Intermap, increment P Corp., GEBCO, USGS, FAO, NPS, NRCAN, GeoBase, IGN, Kadaster NL, Ordnance Survey, Esri Japan, METI, Esri China (Hong Kong), swisstopo, MapmyIndia, © OpenStreetMap contributors, and the GIS User Community",
            "currentVersion": 10.3,
            "description": "This map is designed to be used as a basemap by GIS professionals and as a reference map by anyone. The map includes administrative boundaries, cities, water features, physiographic features, parks, landmarks, highways, roads, railways, and airports overlaid on land cover and shaded relief imagery for added context. The map provides coverage for the world down to a scale of ~1:72k. Coverage is provided down to ~1:4k for the following areas: Australia and New Zealand; India; Europe; Canada; Mexico; the continental United States and Hawaii; South America and Central America; Africa; and most of the Middle East. Coverage down to ~1:1k and ~1:2k is available in select urban areas. This basemap was compiled from a variety of best available sources from several data providers, including the U.S. Geological Survey (USGS), U.S. Environmental Protection Agency (EPA), U.S. National Park Service (NPS), Food and Agriculture Organization of the United Nations (FAO), Department of Natural Resources Canada (NRCAN), GeoBase, Agriculture and Agri-Food Canada, DeLorme, HERE, Esri, OpenStreetMap contributors, and the GIS User Community. For more information on this map, including our terms of use, visit us online at http://goto.arcgisonline.com/maps/World_Topo_Map",
            "documentInfo": {
             "AntialiasingMode": "None",
             "Author": "Esri",
             "Category": "imageryBaseMapsEarthCover (Imagery, basemaps, and land cover)",
             "Comments": "",
             "Keywords": "World,Global,Europe,North America,South America,Southern Africa,Australia,New Zealand,India",
             "Subject": "topographic, topography, administrative boundaries, cities, water features, physiographic features, parks, landmarks, highways, roads, railways, airports, land cover, shaded relief imagery",
             "TextAntialiasingMode": "Force",
             "Title": "World Topographic Map"
            },
            "exportTilesAllowed": false,
            "fullExtent": {
             "spatialReference": {
              "latestWkid": 3857,
              "wkid": 102100
             },
             "xmax": 20037507.067161843,
             "xmin": -20037507.067161843,
             "ymax": 19971868.88040863,
             "ymin": -19971868.880408604
            },
            "initialExtent": {
             "spatialReference": {
              "latestWkid": 3857,
              "wkid": 102100
             },
             "xmax": 28848255.049479112,
             "xmin": -28848255.049479112,
             "ymax": 16430757.376790084,
             "ymin": -2077452.082122866
            },
            "layers": [
             {
              "defaultVisibility": false,
              "id": 0,
              "maxScale": 0,
              "minScale": 0,
              "name": "Citations",
              "parentLayerId": -1,
              "subLayerIds": null
             }
            ],
            "mapName": "Layers",
            "maxImageHeight": 4096,
            "maxImageWidth": 4096,
            "maxRecordCount": 100,
            "maxScale": 70.5310735,
            "minScale": 591657527.591555,
            "serviceDescription": "This map is designed to be used as a basemap by GIS professionals and as a reference map by anyone. The map includes administrative boundaries, cities, water features, physiographic features, parks, landmarks, highways, roads, railways, and airports overlaid on land cover and shaded relief imagery for added context. The map provides coverage for the world down to a scale of ~1:72k. Coverage is provided down to ~1:4k for the following areas: Australia and New Zealand; India; Europe; Canada; Mexico; the continental United States and Hawaii; South America and Central America; Africa; and most of the Middle East. Coverage down to ~1:1k and ~1:2k is available in select urban areas. This basemap was compiled from a variety of best available sources from several data providers, including the U.S. Geological Survey (USGS), U.S. Environmental Protection Agency (EPA), U.S. National Park Service (NPS), Food and Agriculture Organization of the United Nations (FAO), Department of Natural Resources Canada (NRCAN), GeoBase, Agriculture and Agri-Food Canada, DeLorme, HERE, Esri, OpenStreetMap contributors, and the GIS User Community. For more information on this map, including the terms of use, visit us <a href=\"http://goto.arcgisonline.com/maps/World_Topo_Map \" target=\"_new\" >online</a>.",
            "singleFusedMapCache": true,
            "spatialReference": {
             "latestWkid": 3857,
             "wkid": 102100
            },
            "supportedExtensions": "KmlServer",
            "supportedImageFormatTypes": "PNG32,PNG24,PNG,JPG,DIB,TIFF,EMF,PS,PDF,GIF,SVG,SVGZ,BMP",
            "supportedQueryFormats": "JSON, AMF",
            "supportsDynamicLayers": false,
            "tables": [],
            "tileInfo": {
             "cols": 256,
             "compressionQuality": 90,
             "dpi": 96,
             "format": "JPEG",
             "lods": [
              {
               "level": 0,
               "resolution": 156543.03392800014,
               "scale": 591657527.591555
              },
              {
               "level": 1,
               "resolution": 78271.51696399994,
               "scale": 295828763.795777
              },
              {
               "level": 2,
               "resolution": 39135.75848200009,
               "scale": 147914381.897889
              },
              {
               "level": 3,
               "resolution": 19567.87924099992,
               "scale": 73957190.948944
              },
              {
               "level": 4,
               "resolution": 9783.93962049996,
               "scale": 36978595.474472
              },
              {
               "level": 5,
               "resolution": 4891.96981024998,
               "scale": 18489297.737236
              },
              {
               "level": 6,
               "resolution": 2445.98490512499,
               "scale": 9244648.868618
              },
              {
               "level": 7,
               "resolution": 1222.992452562495,
               "scale": 4622324.434309
              },
              {
               "level": 8,
               "resolution": 611.4962262813797,
               "scale": 2311162.217155
              },
              {
               "level": 9,
               "resolution": 305.74811314055756,
               "scale": 1155581.108577
              },
              {
               "level": 10,
               "resolution": 152.87405657041106,
               "scale": 577790.554289
              },
              {
               "level": 11,
               "resolution": 76.43702828507324,
               "scale": 288895.277144
              },
              {
               "level": 12,
               "resolution": 38.21851414253662,
               "scale": 144447.638572
              },
              {
               "level": 13,
               "resolution": 19.10925707126831,
               "scale": 72223.819286
              },
              {
               "level": 14,
               "resolution": 9.554628535634155,
               "scale": 36111.909643
              },
              {
               "level": 15,
               "resolution": 4.77731426794937,
               "scale": 18055.954822
              },
              {
               "level": 16,
               "resolution": 2.388657133974685,
               "scale": 9027.977411
              },
              {
               "level": 17,
               "resolution": 1.1943285668550503,
               "scale": 4513.988705
              },
              {
               "level": 18,
               "resolution": 0.5971642835598172,
               "scale": 2256.994353
              },
              {
               "level": 19,
               "resolution": 0.29858214164761665,
               "scale": 1128.497176
              },
              {
               "level": 20,
               "resolution": 0.14929107082380833,
               "scale": 564.248588
              },
              {
               "level": 21,
               "resolution": 0.07464553541190416,
               "scale": 282.124294
              },
              {
               "level": 22,
               "resolution": 0.03732276770595208,
               "scale": 141.062147
              },
              {
               "level": 23,
               "resolution": 0.01866138385297604,
               "scale": 70.5310735
              }
             ],
             "origin": {
              "x": -20037508.342787,
              "y": 20037508.342787
             },
             "rows": 256,
             "spatialReference": {
              "latestWkid": 3857,
              "wkid": 102100
             }
            },
            "units": "esriMeters"
           },
           "url": "https://services.arcgisonline.com/ArcGIS/rest/services/World_Topo_Map/MapServer",
           "visibility": true
          },
          {
           "id": "Streetmap_MMI_8695",
           "layerType": "ArcGISTiledMapServiceLayer",
           "maxScale": 1128,
           "minScale": 288895,
           "opacity": 1,
           "resourceInfo": {
            "access": "SECURE",
            "capabilities": "Map,TilesOnly",
            "copyrightText": "Sources: Esri, MapmyIndia, DeLorme, METI/NASA",
            "currentVersion": 10.31,
            "description": "<span style='color: rgb(0, 0, 0); font-family: Verdana, sans-serif; line-height: 17.33333396911621px; background-color: rgb(255, 255, 255);'>This India topographic map overlay presents physical features and street-level data for India. This comprehensive topographic map includes highways, major roads, minor roads, one-way arrow indicators, railways, water features, administrative boundaries, cities, parks, landmarks, physical feature labels, spot elevations, and contours overlaid on shaded relief imagery for added context. The map also includes building footprints for selected areas. Coverage is provided down to ~1:4k country-wide with ~1:1k and ~1:2k data available in select urban areas. The street map was developed by Esri using MapmyIndia data layers, including administrative boundaries, from CE Info Systems. Additional data sources from DeLorme basemap layers, and METI/NASA data for shaded relief.</span>",
            "documentInfo": {
             "AntialiasingMode": "Fast",
             "Author": "",
             "Category": "",
             "Comments": "",
             "Keywords": "",
             "Subject": "",
             "TextAntialiasingMode": "Force",
             "Title": "",
             "author": "Esri_Content",
             "category": "",
             "comments": "",
             "credits": "Sources: Esri, MapmyIndia, DeLorme, METI/NASA",
             "keywords": "India, Topomap, highways, roads, transportation, landmarks, parks, basemap, community, community basemap, map, MapmyIndia",
             "subject": "This topographic map overlay presents physical features and street-level data from MapmyIndia for India.",
             "title": "World_Topomap_MMI"
            },
            "exportTilesAllowed": false,
            "fullExtent": {
             "spatialReference": {
              "wkid": 102100,
              "wkt": null
             },
             "xmax": 12523442.714243297,
             "xmin": 7514065.628545973,
             "ymax": 5009377.085753329,
             "ymin": 7.450580596923828e-09
            },
            "id": "94ef359ef51f7205",
            "initialExtent": {
             "spatialReference": {
              "wkid": 102100,
              "wkt": null
             },
             "xmax": 12523442.714243297,
             "xmin": 7514065.628545973,
             "ymax": 5009377.085753329,
             "ymin": 7.450580596923828e-09
            },
            "layers": [
             {
              "defaultVisibility": false,
              "id": 0,
              "maxScale": 0,
              "minScale": 0,
              "name": "world",
              "parentLayerId": -1,
              "subLayerIds": null
             }
            ],
            "mapName": "Layers",
            "maxExportTilesCount": 100000,
            "maxScale": 1128.497176,
            "minScale": 288895.277144,
            "name": "World_Topomap_MMI",
            "resampling": false,
            "server": "P3ePLMYs2RVChkJx",
            "serviceDescription": "",
            "singleFusedMapCache": true,
            "spatialReference": {
             "wkid": 102100,
             "wkt": null
            },
            "status": "created",
            "supportedImageFormatTypes": "JPEG",
            "tables": [],
            "tileInfo": {
             "cols": 256,
             "compressionQuality": 90,
             "dpi": 96,
             "format": "JPEG",
             "lods": [
              {
               "level": 0,
               "resolution": 156543.03392800014,
               "scale": 591657527.591555
              },
              {
               "level": 1,
               "resolution": 78271.51696399994,
               "scale": 295828763.795777
              },
              {
               "level": 2,
               "resolution": 39135.75848200009,
               "scale": 147914381.897889
              },
              {
               "level": 3,
               "resolution": 19567.87924099992,
               "scale": 73957190.948944
              },
              {
               "level": 4,
               "resolution": 9783.93962049996,
               "scale": 36978595.474472
              },
              {
               "level": 5,
               "resolution": 4891.96981024998,
               "scale": 18489297.737236
              },
              {
               "level": 6,
               "resolution": 2445.98490512499,
               "scale": 9244648.868618
              },
              {
               "level": 7,
               "resolution": 1222.992452562495,
               "scale": 4622324.434309
              },
              {
               "level": 8,
               "resolution": 611.4962262813797,
               "scale": 2311162.217155
              },
              {
               "level": 9,
               "resolution": 305.74811314055756,
               "scale": 1155581.108577
              },
              {
               "level": 10,
               "resolution": 152.87405657041106,
               "scale": 577790.554289
              },
              {
               "level": 11,
               "resolution": 76.43702828507324,
               "scale": 288895.277144
              },
              {
               "level": 12,
               "resolution": 38.21851414253662,
               "scale": 144447.638572
              },
              {
               "level": 13,
               "resolution": 19.10925707126831,
               "scale": 72223.819286
              },
              {
               "level": 14,
               "resolution": 9.554628535634155,
               "scale": 36111.909643
              },
              {
               "level": 15,
               "resolution": 4.77731426794937,
               "scale": 18055.954822
              },
              {
               "level": 16,
               "resolution": 2.388657133974685,
               "scale": 9027.977411
              },
              {
               "level": 17,
               "resolution": 1.1943285668550503,
               "scale": 4513.988705
              },
              {
               "level": 18,
               "resolution": 0.5971642835598172,
               "scale": 2256.994353
              },
              {
               "level": 19,
               "resolution": 0.29858214164761665,
               "scale": 1128.497176
              }
             ],
             "origin": {
              "x": -20037508.342787,
              "y": 20037508.342787
             },
             "rows": 256,
             "spatialReference": {
              "wkid": 102100,
              "wkt": "PROJCS[\"WGS_1984_Web_Mercator_Auxiliary_Sphere\",GEOGCS[\"GCS_WGS_1984\",DATUM[\"D_WGS_1984\",SPHEROID[\"WGS_1984\",6378137.0,298.257223563]],PRIMEM[\"Greenwich\",0.0],UNIT[\"Degree\",0.0174532925199433]],PROJECTION[\"Mercator_Auxiliary_Sphere\"],PARAMETER[\"False_Easting\",0.0],PARAMETER[\"False_Northing\",0.0],PARAMETER[\"Central_Meridian\",0.0],PARAMETER[\"Standard_Parallel_1\",0.0],PARAMETER[\"Auxiliary_Sphere_Type\",0.0],UNIT[\"Meter\",1.0],AUTHORITY[\"EPSG\",3857]]"
             },
             "storageFormat": "esriMapCacheStorageModeCompact"
            },
            "tileServers": [
             "http://tiles1.arcgis.com/tiles/P3ePLMYs2RVChkJx/arcgis/rest/services/World_Topomap_MMI/MapServer",
             "http://tiles2.arcgis.com/tiles/P3ePLMYs2RVChkJx/arcgis/rest/services/World_Topomap_MMI/MapServer",
             "http://tiles3.arcgis.com/tiles/P3ePLMYs2RVChkJx/arcgis/rest/services/World_Topomap_MMI/MapServer",
             "http://tiles4.arcgis.com/tiles/P3ePLMYs2RVChkJx/arcgis/rest/services/World_Topomap_MMI/MapServer"
            ],
            "type": "MapServer",
            "units": "esriMeters"
           },
           "url": "https://tiles.arcgis.com/tiles/P3ePLMYs2RVChkJx/arcgis/rest/services/World_Topomap_MMI/MapServer",
           "visibility": true
          },
          {
           "id": "India_Bnd_G_5793",
           "isReference": true,
           "layerType": "ArcGISTiledMapServiceLayer",
           "opacity": 1,
           "resourceInfo": {
            "access": "SECURE",
            "capabilities": "Map",
            "copyrightText": "Mxd assembled by Corey LaMar",
            "created": null,
            "currentVersion": 10.1,
            "description": "This mxd contains the political boundaries used in StreetMap 5.1 as  political boundaries overlay  Currency: 73m to 577k (StreetMap 4.1 (5.0) 288k to 72k (StreetMap 5.1) Delorme 36k to 1k (StreetMap 5.1 ) Navteq",
            "documentInfo": {
             "AntialiasingMode": "Best",
             "Author": "AGOL Teams Members",
             "Category": "",
             "Comments": "This mxd contains the political boundaries used in StreetMap 5.1 as a starting point for Esri India to create their own political boundaries overlay\n\nCurrency:\n73m to 577k (StreetMap 4.1 (5.0)\n288k to 72k (StreetMap 5.1) Delorme\n36k to 1k (StreetMap 5.1 ) Navteq",
             "Keywords": "Inda Disputed International Boundaries",
             "Subject": "Create 2/2/13 Copies of StMap Int Bnd 73m to1k caching levels",
             "TextAntialiasingMode": "Force",
             "Title": "Int_Bnd_for_Esri_India_Work",
             "author": "cimmy68",
             "category": "",
             "comments": "",
             "credits": "Mxd assembled by Corey LaMar",
             "keywords": "Inda International Boundaries",
             "subject": "Create 2/2/13 Copies of StMap Int Bnd 73m to1k caching levels",
             "title": "India_Bnd_G"
            },
            "fullExtent": {
             "spatialReference": {
              "wkid": 102100
             },
             "xmax": 10843895.843899999,
             "xmin": 7508245.0923000015,
             "ymax": 4451373.3320999965,
             "ymin": 753623.2256000005
            },
            "id": "bc7c3277ec65f602",
            "initialExtent": {
             "spatialReference": {
              "wkid": 102100
             },
             "xmax": 13053038.616388625,
             "xmin": 5299102.319811376,
             "ymax": 4636260.837424996,
             "ymin": 2675256.394233431
            },
            "layers": [
             {
              "defaultVisibility": true,
              "id": 0,
              "maxScale": 0,
              "minScale": 0,
              "name": "India",
              "parentLayerId": -1,
              "subLayerIds": null
             }
            ],
            "mapName": "India Basemap",
            "maxScale": 577790.554289,
            "minScale": 73957190.948944,
            "modified": null,
            "name": "India_Bnd_G",
            "server": "gHHix49exJauUOEM",
            "serviceDescription": "",
            "singleFusedMapCache": true,
            "spatialReference": {
             "wkid": 102100
            },
            "status": "created",
            "supportedImageFormatTypes": "PNG",
            "tables": [],
            "tileInfo": {
             "cols": 256,
             "compressionQuality": 0,
             "dpi": 96,
             "format": "PNG",
             "lods": [
              {
               "level": 0,
               "resolution": 156543.03392800014,
               "scale": 591657527.591555
              },
              {
               "level": 1,
               "resolution": 78271.51696399994,
               "scale": 295828763.795777
              },
              {
               "level": 2,
               "resolution": 39135.75848200009,
               "scale": 147914381.897889
              },
              {
               "level": 3,
               "resolution": 19567.87924099992,
               "scale": 73957190.948944
              },
              {
               "level": 4,
               "resolution": 9783.93962049996,
               "scale": 36978595.474472
              },
              {
               "level": 5,
               "resolution": 4891.96981024998,
               "scale": 18489297.737236
              },
              {
               "level": 6,
               "resolution": 2445.98490512499,
               "scale": 9244648.868618
              },
              {
               "level": 7,
               "resolution": 1222.992452562495,
               "scale": 4622324.434309
              },
              {
               "level": 8,
               "resolution": 611.4962262813797,
               "scale": 2311162.217155
              },
              {
               "level": 9,
               "resolution": 305.74811314055756,
               "scale": 1155581.108577
              },
              {
               "level": 10,
               "resolution": 152.87405657041106,
               "scale": 577790.554289
              },
              {
               "level": 11,
               "resolution": 76.43702828507324,
               "scale": 288895.277144
              },
              {
               "level": 12,
               "resolution": 38.21851414253662,
               "scale": 144447.638572
              },
              {
               "level": 13,
               "resolution": 19.10925707126831,
               "scale": 72223.819286
              },
              {
               "level": 14,
               "resolution": 9.554628535634155,
               "scale": 36111.909643
              },
              {
               "level": 15,
               "resolution": 4.77731426794937,
               "scale": 18055.954822
              },
              {
               "level": 16,
               "resolution": 2.388657133974685,
               "scale": 9027.977411
              },
              {
               "level": 17,
               "resolution": 1.1943285668550503,
               "scale": 4513.988705
              },
              {
               "level": 18,
               "resolution": 0.5971642835598172,
               "scale": 2256.994353
              },
              {
               "level": 19,
               "resolution": 0.29858214164761665,
               "scale": 1128.497176
              }
             ],
             "origin": {
              "x": -20037508.342787,
              "y": 20037508.342787
             },
             "rows": 256,
             "spatialReference": {
              "wkid": 102100,
              "wkt": "PROJCS[\"WGS_1984_Web_Mercator_Auxiliary_Sphere\",GEOGCS[\"GCS_WGS_1984\",DATUM[\"D_WGS_1984\",SPHEROID[\"WGS_1984\",6378137.0,298.257223563]],PRIMEM[\"Greenwich\",0.0],UNIT[\"Degree\",0.0174532925199433]],PROJECTION[\"Mercator_Auxiliary_Sphere\"],PARAMETER[\"False_Easting\",0.0],PARAMETER[\"False_Northing\",0.0],PARAMETER[\"Central_Meridian\",0.0],PARAMETER[\"Standard_Parallel_1\",0.0],PARAMETER[\"Auxiliary_Sphere_Type\",0.0],UNIT[\"Meter\",1.0],AUTHORITY[\"EPSG\",3857]]"
             }
            },
            "tileServers": [
             "https://tiles1.arcgis.com/tiles/gHHix49exJauUOEM/arcgis/rest/services/India_Bnd_G/MapServer",
             "https://tiles2.arcgis.com/tiles/gHHix49exJauUOEM/arcgis/rest/services/India_Bnd_G/MapServer",
             "https://tiles3.arcgis.com/tiles/gHHix49exJauUOEM/arcgis/rest/services/India_Bnd_G/MapServer",
             "https://tiles4.arcgis.com/tiles/gHHix49exJauUOEM/arcgis/rest/services/India_Bnd_G/MapServer"
            ],
            "type": "MapServer",
            "units": "esriMeters"
           },
           "url": "https://tiles.arcgis.com/tiles/gHHix49exJauUOEM/arcgis/rest/services/India_Bnd_G/MapServer",
           "visibility": true
          }
         ],
         "title": "Topographic"
        }
       },
       "_overlay_these_images_on_widget_load": [],
       "_portal_sharing_rest_url": "https://www.arcgis.com/sharing/rest/",
       "_portal_url": "https://www.arcgis.com",
       "_readonly_webmap_from_js": {
        "basemap": {
         "baseMapLayers": [
          {
           "layerType": "ArcGISTiledMapServiceLayer",
           "opacity": 1,
           "resourceInfo": {
            "capabilities": "Map,Tilemap,Query,Data",
            "copyrightText": "Sources: Esri, HERE, DeLorme, Intermap, increment P Corp., GEBCO, USGS, FAO, NPS, NRCAN, GeoBase, IGN, Kadaster NL, Ordnance Survey, Esri Japan, METI, Esri China (Hong Kong), swisstopo, MapmyIndia, © OpenStreetMap contributors, and the GIS User Community",
            "currentVersion": 10.3,
            "description": "This map is designed to be used as a basemap by GIS professionals and as a reference map by anyone. The map includes administrative boundaries, cities, water features, physiographic features, parks, landmarks, highways, roads, railways, and airports overlaid on land cover and shaded relief imagery for added context. The map provides coverage for the world down to a scale of ~1:72k. Coverage is provided down to ~1:4k for the following areas: Australia and New Zealand; India; Europe; Canada; Mexico; the continental United States and Hawaii; South America and Central America; Africa; and most of the Middle East. Coverage down to ~1:1k and ~1:2k is available in select urban areas. This basemap was compiled from a variety of best available sources from several data providers, including the U.S. Geological Survey (USGS), U.S. Environmental Protection Agency (EPA), U.S. National Park Service (NPS), Food and Agriculture Organization of the United Nations (FAO), Department of Natural Resources Canada (NRCAN), GeoBase, Agriculture and Agri-Food Canada, DeLorme, HERE, Esri, OpenStreetMap contributors, and the GIS User Community. For more information on this map, including our terms of use, visit us online at http://goto.arcgisonline.com/maps/World_Topo_Map",
            "documentInfo": {
             "AntialiasingMode": "None",
             "Author": "Esri",
             "Category": "imageryBaseMapsEarthCover (Imagery, basemaps, and land cover)",
             "Comments": "",
             "Keywords": "World,Global,Europe,North America,South America,Southern Africa,Australia,New Zealand,India",
             "Subject": "topographic, topography, administrative boundaries, cities, water features, physiographic features, parks, landmarks, highways, roads, railways, airports, land cover, shaded relief imagery",
             "TextAntialiasingMode": "Force",
             "Title": "World Topographic Map"
            },
            "exportTilesAllowed": false,
            "fullExtent": {
             "spatialReference": {
              "latestWkid": 3857,
              "wkid": 102100
             },
             "xmax": 20037507.067161843,
             "xmin": -20037507.067161843,
             "ymax": 19971868.88040863,
             "ymin": -19971868.880408604
            },
            "initialExtent": {
             "spatialReference": {
              "latestWkid": 3857,
              "wkid": 102100
             },
             "xmax": 28848255.049479112,
             "xmin": -28848255.049479112,
             "ymax": 16430757.376790084,
             "ymin": -2077452.082122866
            },
            "layers": [
             {
              "defaultVisibility": false,
              "id": 0,
              "maxScale": 0,
              "minScale": 0,
              "name": "Citations",
              "parentLayerId": -1,
              "subLayerIds": null
             }
            ],
            "mapName": "Layers",
            "maxImageHeight": 4096,
            "maxImageWidth": 4096,
            "maxRecordCount": 100,
            "maxScale": 70.5310735,
            "minScale": 591657527.591555,
            "serviceDescription": "This map is designed to be used as a basemap by GIS professionals and as a reference map by anyone. The map includes administrative boundaries, cities, water features, physiographic features, parks, landmarks, highways, roads, railways, and airports overlaid on land cover and shaded relief imagery for added context. The map provides coverage for the world down to a scale of ~1:72k. Coverage is provided down to ~1:4k for the following areas: Australia and New Zealand; India; Europe; Canada; Mexico; the continental United States and Hawaii; South America and Central America; Africa; and most of the Middle East. Coverage down to ~1:1k and ~1:2k is available in select urban areas. This basemap was compiled from a variety of best available sources from several data providers, including the U.S. Geological Survey (USGS), U.S. Environmental Protection Agency (EPA), U.S. National Park Service (NPS), Food and Agriculture Organization of the United Nations (FAO), Department of Natural Resources Canada (NRCAN), GeoBase, Agriculture and Agri-Food Canada, DeLorme, HERE, Esri, OpenStreetMap contributors, and the GIS User Community. For more information on this map, including the terms of use, visit us <a href=\"http://goto.arcgisonline.com/maps/World_Topo_Map \" target=\"_new\" >online</a>.",
            "singleFusedMapCache": true,
            "spatialReference": {
             "latestWkid": 3857,
             "wkid": 102100
            },
            "supportedExtensions": "KmlServer",
            "supportedImageFormatTypes": "PNG32,PNG24,PNG,JPG,DIB,TIFF,EMF,PS,PDF,GIF,SVG,SVGZ,BMP",
            "supportedQueryFormats": "JSON, AMF",
            "supportsDynamicLayers": false,
            "tables": [],
            "tileInfo": {
             "cols": 256,
             "compressionQuality": 90,
             "dpi": 96,
             "format": "JPEG",
             "lods": [
              {
               "level": 0,
               "resolution": 156543.03392800014,
               "scale": 591657527.591555
              },
              {
               "level": 1,
               "resolution": 78271.51696399994,
               "scale": 295828763.795777
              },
              {
               "level": 2,
               "resolution": 39135.75848200009,
               "scale": 147914381.897889
              },
              {
               "level": 3,
               "resolution": 19567.87924099992,
               "scale": 73957190.948944
              },
              {
               "level": 4,
               "resolution": 9783.93962049996,
               "scale": 36978595.474472
              },
              {
               "level": 5,
               "resolution": 4891.96981024998,
               "scale": 18489297.737236
              },
              {
               "level": 6,
               "resolution": 2445.98490512499,
               "scale": 9244648.868618
              },
              {
               "level": 7,
               "resolution": 1222.992452562495,
               "scale": 4622324.434309
              },
              {
               "level": 8,
               "resolution": 611.4962262813797,
               "scale": 2311162.217155
              },
              {
               "level": 9,
               "resolution": 305.74811314055756,
               "scale": 1155581.108577
              },
              {
               "level": 10,
               "resolution": 152.87405657041106,
               "scale": 577790.554289
              },
              {
               "level": 11,
               "resolution": 76.43702828507324,
               "scale": 288895.277144
              },
              {
               "level": 12,
               "resolution": 38.21851414253662,
               "scale": 144447.638572
              },
              {
               "level": 13,
               "resolution": 19.10925707126831,
               "scale": 72223.819286
              },
              {
               "level": 14,
               "resolution": 9.554628535634155,
               "scale": 36111.909643
              },
              {
               "level": 15,
               "resolution": 4.77731426794937,
               "scale": 18055.954822
              },
              {
               "level": 16,
               "resolution": 2.388657133974685,
               "scale": 9027.977411
              },
              {
               "level": 17,
               "resolution": 1.1943285668550503,
               "scale": 4513.988705
              },
              {
               "level": 18,
               "resolution": 0.5971642835598172,
               "scale": 2256.994353
              },
              {
               "level": 19,
               "resolution": 0.29858214164761665,
               "scale": 1128.497176
              },
              {
               "level": 20,
               "resolution": 0.14929107082380833,
               "scale": 564.248588
              },
              {
               "level": 21,
               "resolution": 0.07464553541190416,
               "scale": 282.124294
              },
              {
               "level": 22,
               "resolution": 0.03732276770595208,
               "scale": 141.062147
              },
              {
               "level": 23,
               "resolution": 0.01866138385297604,
               "scale": 70.5310735
              }
             ],
             "origin": {
              "x": -20037508.342787,
              "y": 20037508.342787
             },
             "rows": 256,
             "spatialReference": {
              "latestWkid": 3857,
              "wkid": 102100
             }
            },
            "units": "esriMeters"
           },
           "url": "https://services.arcgisonline.com/ArcGIS/rest/services/World_Topo_Map/MapServer",
           "visibility": true
          },
          {
           "id": "Streetmap_MMI_8695",
           "layerType": "ArcGISTiledMapServiceLayer",
           "maxScale": 1128,
           "minScale": 288895,
           "opacity": 1,
           "resourceInfo": {
            "access": "SECURE",
            "capabilities": "Map,TilesOnly",
            "copyrightText": "Sources: Esri, MapmyIndia, DeLorme, METI/NASA",
            "currentVersion": 10.31,
            "description": "<span style='color: rgb(0, 0, 0); font-family: Verdana, sans-serif; line-height: 17.33333396911621px; background-color: rgb(255, 255, 255);'>This India topographic map overlay presents physical features and street-level data for India. This comprehensive topographic map includes highways, major roads, minor roads, one-way arrow indicators, railways, water features, administrative boundaries, cities, parks, landmarks, physical feature labels, spot elevations, and contours overlaid on shaded relief imagery for added context. The map also includes building footprints for selected areas. Coverage is provided down to ~1:4k country-wide with ~1:1k and ~1:2k data available in select urban areas. The street map was developed by Esri using MapmyIndia data layers, including administrative boundaries, from CE Info Systems. Additional data sources from DeLorme basemap layers, and METI/NASA data for shaded relief.</span>",
            "documentInfo": {
             "AntialiasingMode": "Fast",
             "Author": "",
             "Category": "",
             "Comments": "",
             "Keywords": "",
             "Subject": "",
             "TextAntialiasingMode": "Force",
             "Title": "",
             "author": "Esri_Content",
             "category": "",
             "comments": "",
             "credits": "Sources: Esri, MapmyIndia, DeLorme, METI/NASA",
             "keywords": "India, Topomap, highways, roads, transportation, landmarks, parks, basemap, community, community basemap, map, MapmyIndia",
             "subject": "This topographic map overlay presents physical features and street-level data from MapmyIndia for India.",
             "title": "World_Topomap_MMI"
            },
            "exportTilesAllowed": false,
            "fullExtent": {
             "spatialReference": {
              "wkid": 102100,
              "wkt": null
             },
             "xmax": 12523442.714243297,
             "xmin": 7514065.628545973,
             "ymax": 5009377.085753329,
             "ymin": 7.450580596923828e-09
            },
            "id": "94ef359ef51f7205",
            "initialExtent": {
             "spatialReference": {
              "wkid": 102100,
              "wkt": null
             },
             "xmax": 12523442.714243297,
             "xmin": 7514065.628545973,
             "ymax": 5009377.085753329,
             "ymin": 7.450580596923828e-09
            },
            "layers": [
             {
              "defaultVisibility": false,
              "id": 0,
              "maxScale": 0,
              "minScale": 0,
              "name": "world",
              "parentLayerId": -1,
              "subLayerIds": null
             }
            ],
            "mapName": "Layers",
            "maxExportTilesCount": 100000,
            "maxScale": 1128.497176,
            "minScale": 288895.277144,
            "name": "World_Topomap_MMI",
            "resampling": false,
            "server": "P3ePLMYs2RVChkJx",
            "serviceDescription": "",
            "singleFusedMapCache": true,
            "spatialReference": {
             "wkid": 102100,
             "wkt": null
            },
            "status": "created",
            "supportedImageFormatTypes": "JPEG",
            "tables": [],
            "tileInfo": {
             "cols": 256,
             "compressionQuality": 90,
             "dpi": 96,
             "format": "JPEG",
             "lods": [
              {
               "level": 0,
               "resolution": 156543.03392800014,
               "scale": 591657527.591555
              },
              {
               "level": 1,
               "resolution": 78271.51696399994,
               "scale": 295828763.795777
              },
              {
               "level": 2,
               "resolution": 39135.75848200009,
               "scale": 147914381.897889
              },
              {
               "level": 3,
               "resolution": 19567.87924099992,
               "scale": 73957190.948944
              },
              {
               "level": 4,
               "resolution": 9783.93962049996,
               "scale": 36978595.474472
              },
              {
               "level": 5,
               "resolution": 4891.96981024998,
               "scale": 18489297.737236
              },
              {
               "level": 6,
               "resolution": 2445.98490512499,
               "scale": 9244648.868618
              },
              {
               "level": 7,
               "resolution": 1222.992452562495,
               "scale": 4622324.434309
              },
              {
               "level": 8,
               "resolution": 611.4962262813797,
               "scale": 2311162.217155
              },
              {
               "level": 9,
               "resolution": 305.74811314055756,
               "scale": 1155581.108577
              },
              {
               "level": 10,
               "resolution": 152.87405657041106,
               "scale": 577790.554289
              },
              {
               "level": 11,
               "resolution": 76.43702828507324,
               "scale": 288895.277144
              },
              {
               "level": 12,
               "resolution": 38.21851414253662,
               "scale": 144447.638572
              },
              {
               "level": 13,
               "resolution": 19.10925707126831,
               "scale": 72223.819286
              },
              {
               "level": 14,
               "resolution": 9.554628535634155,
               "scale": 36111.909643
              },
              {
               "level": 15,
               "resolution": 4.77731426794937,
               "scale": 18055.954822
              },
              {
               "level": 16,
               "resolution": 2.388657133974685,
               "scale": 9027.977411
              },
              {
               "level": 17,
               "resolution": 1.1943285668550503,
               "scale": 4513.988705
              },
              {
               "level": 18,
               "resolution": 0.5971642835598172,
               "scale": 2256.994353
              },
              {
               "level": 19,
               "resolution": 0.29858214164761665,
               "scale": 1128.497176
              }
             ],
             "origin": {
              "x": -20037508.342787,
              "y": 20037508.342787
             },
             "rows": 256,
             "spatialReference": {
              "wkid": 102100,
              "wkt": "PROJCS[\"WGS_1984_Web_Mercator_Auxiliary_Sphere\",GEOGCS[\"GCS_WGS_1984\",DATUM[\"D_WGS_1984\",SPHEROID[\"WGS_1984\",6378137.0,298.257223563]],PRIMEM[\"Greenwich\",0.0],UNIT[\"Degree\",0.0174532925199433]],PROJECTION[\"Mercator_Auxiliary_Sphere\"],PARAMETER[\"False_Easting\",0.0],PARAMETER[\"False_Northing\",0.0],PARAMETER[\"Central_Meridian\",0.0],PARAMETER[\"Standard_Parallel_1\",0.0],PARAMETER[\"Auxiliary_Sphere_Type\",0.0],UNIT[\"Meter\",1.0],AUTHORITY[\"EPSG\",3857]]"
             },
             "storageFormat": "esriMapCacheStorageModeCompact"
            },
            "tileServers": [
             "http://tiles1.arcgis.com/tiles/P3ePLMYs2RVChkJx/arcgis/rest/services/World_Topomap_MMI/MapServer",
             "http://tiles2.arcgis.com/tiles/P3ePLMYs2RVChkJx/arcgis/rest/services/World_Topomap_MMI/MapServer",
             "http://tiles3.arcgis.com/tiles/P3ePLMYs2RVChkJx/arcgis/rest/services/World_Topomap_MMI/MapServer",
             "http://tiles4.arcgis.com/tiles/P3ePLMYs2RVChkJx/arcgis/rest/services/World_Topomap_MMI/MapServer"
            ],
            "type": "MapServer",
            "units": "esriMeters"
           },
           "url": "https://tiles.arcgis.com/tiles/P3ePLMYs2RVChkJx/arcgis/rest/services/World_Topomap_MMI/MapServer",
           "visibility": true
          },
          {
           "id": "India_Bnd_G_5793",
           "isReference": true,
           "layerType": "ArcGISTiledMapServiceLayer",
           "opacity": 1,
           "resourceInfo": {
            "access": "SECURE",
            "capabilities": "Map",
            "copyrightText": "Mxd assembled by Corey LaMar",
            "created": null,
            "currentVersion": 10.1,
            "description": "This mxd contains the political boundaries used in StreetMap 5.1 as  political boundaries overlay  Currency: 73m to 577k (StreetMap 4.1 (5.0) 288k to 72k (StreetMap 5.1) Delorme 36k to 1k (StreetMap 5.1 ) Navteq",
            "documentInfo": {
             "AntialiasingMode": "Best",
             "Author": "AGOL Teams Members",
             "Category": "",
             "Comments": "This mxd contains the political boundaries used in StreetMap 5.1 as a starting point for Esri India to create their own political boundaries overlay\n\nCurrency:\n73m to 577k (StreetMap 4.1 (5.0)\n288k to 72k (StreetMap 5.1) Delorme\n36k to 1k (StreetMap 5.1 ) Navteq",
             "Keywords": "Inda Disputed International Boundaries",
             "Subject": "Create 2/2/13 Copies of StMap Int Bnd 73m to1k caching levels",
             "TextAntialiasingMode": "Force",
             "Title": "Int_Bnd_for_Esri_India_Work",
             "author": "cimmy68",
             "category": "",
             "comments": "",
             "credits": "Mxd assembled by Corey LaMar",
             "keywords": "Inda International Boundaries",
             "subject": "Create 2/2/13 Copies of StMap Int Bnd 73m to1k caching levels",
             "title": "India_Bnd_G"
            },
            "fullExtent": {
             "spatialReference": {
              "wkid": 102100
             },
             "xmax": 10843895.843899999,
             "xmin": 7508245.0923000015,
             "ymax": 4451373.3320999965,
             "ymin": 753623.2256000005
            },
            "id": "bc7c3277ec65f602",
            "initialExtent": {
             "spatialReference": {
              "wkid": 102100
             },
             "xmax": 13053038.616388625,
             "xmin": 5299102.319811376,
             "ymax": 4636260.837424996,
             "ymin": 2675256.394233431
            },
            "layers": [
             {
              "defaultVisibility": true,
              "id": 0,
              "maxScale": 0,
              "minScale": 0,
              "name": "India",
              "parentLayerId": -1,
              "subLayerIds": null
             }
            ],
            "mapName": "India Basemap",
            "maxScale": 577790.554289,
            "minScale": 73957190.948944,
            "modified": null,
            "name": "India_Bnd_G",
            "server": "gHHix49exJauUOEM",
            "serviceDescription": "",
            "singleFusedMapCache": true,
            "spatialReference": {
             "wkid": 102100
            },
            "status": "created",
            "supportedImageFormatTypes": "PNG",
            "tables": [],
            "tileInfo": {
             "cols": 256,
             "compressionQuality": 0,
             "dpi": 96,
             "format": "PNG",
             "lods": [
              {
               "level": 0,
               "resolution": 156543.03392800014,
               "scale": 591657527.591555
              },
              {
               "level": 1,
               "resolution": 78271.51696399994,
               "scale": 295828763.795777
              },
              {
               "level": 2,
               "resolution": 39135.75848200009,
               "scale": 147914381.897889
              },
              {
               "level": 3,
               "resolution": 19567.87924099992,
               "scale": 73957190.948944
              },
              {
               "level": 4,
               "resolution": 9783.93962049996,
               "scale": 36978595.474472
              },
              {
               "level": 5,
               "resolution": 4891.96981024998,
               "scale": 18489297.737236
              },
              {
               "level": 6,
               "resolution": 2445.98490512499,
               "scale": 9244648.868618
              },
              {
               "level": 7,
               "resolution": 1222.992452562495,
               "scale": 4622324.434309
              },
              {
               "level": 8,
               "resolution": 611.4962262813797,
               "scale": 2311162.217155
              },
              {
               "level": 9,
               "resolution": 305.74811314055756,
               "scale": 1155581.108577
              },
              {
               "level": 10,
               "resolution": 152.87405657041106,
               "scale": 577790.554289
              },
              {
               "level": 11,
               "resolution": 76.43702828507324,
               "scale": 288895.277144
              },
              {
               "level": 12,
               "resolution": 38.21851414253662,
               "scale": 144447.638572
              },
              {
               "level": 13,
               "resolution": 19.10925707126831,
               "scale": 72223.819286
              },
              {
               "level": 14,
               "resolution": 9.554628535634155,
               "scale": 36111.909643
              },
              {
               "level": 15,
               "resolution": 4.77731426794937,
               "scale": 18055.954822
              },
              {
               "level": 16,
               "resolution": 2.388657133974685,
               "scale": 9027.977411
              },
              {
               "level": 17,
               "resolution": 1.1943285668550503,
               "scale": 4513.988705
              },
              {
               "level": 18,
               "resolution": 0.5971642835598172,
               "scale": 2256.994353
              },
              {
               "level": 19,
               "resolution": 0.29858214164761665,
               "scale": 1128.497176
              }
             ],
             "origin": {
              "x": -20037508.342787,
              "y": 20037508.342787
             },
             "rows": 256,
             "spatialReference": {
              "wkid": 102100,
              "wkt": "PROJCS[\"WGS_1984_Web_Mercator_Auxiliary_Sphere\",GEOGCS[\"GCS_WGS_1984\",DATUM[\"D_WGS_1984\",SPHEROID[\"WGS_1984\",6378137.0,298.257223563]],PRIMEM[\"Greenwich\",0.0],UNIT[\"Degree\",0.0174532925199433]],PROJECTION[\"Mercator_Auxiliary_Sphere\"],PARAMETER[\"False_Easting\",0.0],PARAMETER[\"False_Northing\",0.0],PARAMETER[\"Central_Meridian\",0.0],PARAMETER[\"Standard_Parallel_1\",0.0],PARAMETER[\"Auxiliary_Sphere_Type\",0.0],UNIT[\"Meter\",1.0],AUTHORITY[\"EPSG\",3857]]"
             }
            },
            "tileServers": [
             "https://tiles1.arcgis.com/tiles/gHHix49exJauUOEM/arcgis/rest/services/India_Bnd_G/MapServer",
             "https://tiles2.arcgis.com/tiles/gHHix49exJauUOEM/arcgis/rest/services/India_Bnd_G/MapServer",
             "https://tiles3.arcgis.com/tiles/gHHix49exJauUOEM/arcgis/rest/services/India_Bnd_G/MapServer",
             "https://tiles4.arcgis.com/tiles/gHHix49exJauUOEM/arcgis/rest/services/India_Bnd_G/MapServer"
            ],
            "type": "MapServer",
            "units": "esriMeters"
           },
           "url": "https://tiles.arcgis.com/tiles/gHHix49exJauUOEM/arcgis/rest/services/India_Bnd_G/MapServer",
           "visibility": true
          }
         ],
         "title": "Topographic"
        },
        "ground": {
         "layers": [
          {
           "id": "worldElevation",
           "layerType": "ArcGISTiledElevationServiceLayer",
           "listMode": "show",
           "title": "Terrain3D",
           "url": "https://elevation3d.arcgis.com/arcgis/rest/services/WorldElevation3D/Terrain3D/ImageServer",
           "visibility": true
          }
         ],
         "transparency": 0
        },
        "layers": []
       },
       "_username": "None",
       "_uuid": "c8f09efe-b58e-4c23-8792-f2344cb1e63a",
       "jupyter_target": "notebook",
       "layout": "IPY_MODEL_5802081812214dd9b32422774de8873a",
       "print_service_url": "",
       "tilt": 0
      }
     },
     "e4e6a282b33945f3b3e54cb50881dea0": {
      "model_module": "@jupyter-widgets/base",
      "model_module_version": "1.2.0",
      "model_name": "LayoutModel",
      "state": {
       "height": "400px",
       "width": "100%"
      }
     },
     "ea05aee7cfbc4c9f817812640b58cab9": {
      "model_module": "@jupyter-widgets/base",
      "model_module_version": "1.2.0",
      "model_name": "LayoutModel",
      "state": {
       "height": "400px",
       "width": "100%"
      }
     },
     "f0ac318b15f1473ca8b847f81e715f56": {
      "model_module": "@jupyter-widgets/base",
      "model_module_version": "1.2.0",
      "model_name": "LayoutModel",
      "state": {
       "height": "400px",
       "width": "100%"
      }
     }
    },
    "version_major": 2,
    "version_minor": 0
   }
  }
 },
 "nbformat": 4,
 "nbformat_minor": 2
}
