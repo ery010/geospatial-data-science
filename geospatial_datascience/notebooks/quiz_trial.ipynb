{
 "cells": [
  {
   "cell_type": "markdown",
   "metadata": {},
   "source": [
    "# Practice Quiz 1\n",
    "*Instructions: Check the Appropriate Options*"
   ]
  },
  {
   "cell_type": "code",
   "execution_count": 1,
   "metadata": {
    "tags": [
     "hide-input"
    ]
   },
   "outputs": [
    {
     "data": {
      "application/vnd.jupyter.widget-view+json": {
       "model_id": "928db94cb1744437949526d6454b1ce9",
       "version_major": 2,
       "version_minor": 0
      },
      "text/plain": [
       "Label(value='1. ______ is the statistic used to quantify the degree of spatial autocorrelation in spatial stat…"
      ]
     },
     "metadata": {},
     "output_type": "display_data"
    },
    {
     "data": {
      "application/vnd.jupyter.widget-view+json": {
       "model_id": "bf9b5785b04c419a8e55969f665f93d0",
       "version_major": 2,
       "version_minor": 0
      },
      "text/plain": [
       "RadioButtons(index=3, layout=Layout(width='max-content'), options=(\"Moran's I\", 'R-value', 'Autocorrelation R'…"
      ]
     },
     "metadata": {},
     "output_type": "display_data"
    },
    {
     "data": {
      "application/vnd.jupyter.widget-view+json": {
       "model_id": "3fea1175f50440e4bcbcecca7baaab0a",
       "version_major": 2,
       "version_minor": 0
      },
      "text/plain": [
       "Label(value='2. Which of the following is the full form of EPSG?')"
      ]
     },
     "metadata": {},
     "output_type": "display_data"
    },
    {
     "data": {
      "application/vnd.jupyter.widget-view+json": {
       "model_id": "17f3b915a5f54a6a968a5dcdc08e87ab",
       "version_major": 2,
       "version_minor": 0
      },
      "text/plain": [
       "RadioButtons(index=3, layout=Layout(width='max-content'), options=('European Spatial Group', 'European Petrole…"
      ]
     },
     "metadata": {},
     "output_type": "display_data"
    },
    {
     "data": {
      "application/vnd.jupyter.widget-view+json": {
       "model_id": "e2f2f5183a794976b005bd2b27128b1f",
       "version_major": 2,
       "version_minor": 0
      },
      "text/plain": [
       "Label(value='3. Which of the following are valid components of shapefiles?')"
      ]
     },
     "metadata": {},
     "output_type": "display_data"
    },
    {
     "data": {
      "application/vnd.jupyter.widget-view+json": {
       "model_id": "26b7c0b2d88448828453290d3616351b",
       "version_major": 2,
       "version_minor": 0
      },
      "text/plain": [
       "Checkbox(value=False, description='.shp', indent=False)"
      ]
     },
     "metadata": {},
     "output_type": "display_data"
    },
    {
     "data": {
      "application/vnd.jupyter.widget-view+json": {
       "model_id": "f48e036eae774941ba22771c02549c19",
       "version_major": 2,
       "version_minor": 0
      },
      "text/plain": [
       "Checkbox(value=False, description='.shx', indent=False)"
      ]
     },
     "metadata": {},
     "output_type": "display_data"
    },
    {
     "data": {
      "application/vnd.jupyter.widget-view+json": {
       "model_id": "34619e81d83b4f6cb5297d0e46aab569",
       "version_major": 2,
       "version_minor": 0
      },
      "text/plain": [
       "Checkbox(value=False, description='.dbf', indent=False)"
      ]
     },
     "metadata": {},
     "output_type": "display_data"
    },
    {
     "data": {
      "application/vnd.jupyter.widget-view+json": {
       "model_id": "9c6ff314723d42d8ac90ed3637f7e4f6",
       "version_major": 2,
       "version_minor": 0
      },
      "text/plain": [
       "Checkbox(value=False, description='.prj', indent=False)"
      ]
     },
     "metadata": {},
     "output_type": "display_data"
    },
    {
     "data": {
      "application/vnd.jupyter.widget-view+json": {
       "model_id": "c5d1ff80bb664f4c82adfe91f24cbc26",
       "version_major": 2,
       "version_minor": 0
      },
      "text/plain": [
       "Checkbox(value=False, description='All of the Above', indent=False, layout=Layout(width='max-content'))"
      ]
     },
     "metadata": {},
     "output_type": "display_data"
    },
    {
     "data": {
      "application/vnd.jupyter.widget-view+json": {
       "model_id": "a13293fc7c8949e7a5e591576cd33972",
       "version_major": 2,
       "version_minor": 0
      },
      "text/plain": [
       "Button(button_style='info', description='Evaluate', icon='check', style=ButtonStyle(), tooltip='Evaluate')"
      ]
     },
     "metadata": {},
     "output_type": "display_data"
    },
    {
     "data": {
      "application/vnd.jupyter.widget-view+json": {
       "model_id": "359f7bfe31a64de9b71b81f0fedc709a",
       "version_major": 2,
       "version_minor": 0
      },
      "text/plain": [
       "Button(button_style='warning', description='Reset', icon='repeat', style=ButtonStyle(), tooltip='Reset')"
      ]
     },
     "metadata": {},
     "output_type": "display_data"
    },
    {
     "data": {
      "application/vnd.jupyter.widget-view+json": {
       "model_id": "0f7ea10d3ff446ddabb269e793e90a50",
       "version_major": 2,
       "version_minor": 0
      },
      "text/plain": [
       "Output()"
      ]
     },
     "metadata": {},
     "output_type": "display_data"
    }
   ],
   "source": [
    "from IPython.display import HTML\n",
    "import random\n",
    "\n",
    "def hide_toggle(for_next=False):\n",
    "    this_cell = \"\"\"$('div.cell.code_cell.rendered.selected')\"\"\"\n",
    "    next_cell = this_cell + '.next()'\n",
    "\n",
    "    toggle_text = ''  # text shown on toggle link\n",
    "    target_cell = this_cell  # target cell to control with toggle\n",
    "    js_hide_current = ''  # bit of JS to permanently hide code in current cell (only when toggling next cell)\n",
    "\n",
    "    if for_next:\n",
    "        target_cell = next_cell\n",
    "        toggle_text += ' next cell'\n",
    "        js_hide_current = this_cell + '.find(\"div.input\").hide();'\n",
    "\n",
    "    js_f_name = 'code_toggle_{}'.format(str(random.randint(1,2**64)))\n",
    "\n",
    "    html = \"\"\"\n",
    "        <script>\n",
    "            function {f_name}() {{\n",
    "                {cell_selector}.find('div.input').toggle();\n",
    "            }}\n",
    "\n",
    "            {js_hide_current}\n",
    "        </script>\n",
    "\n",
    "        <a href=\"javascript:{f_name}()\">{toggle_text}</a>\n",
    "    \"\"\".format(\n",
    "        f_name=js_f_name,\n",
    "        cell_selector=target_cell,\n",
    "        js_hide_current=js_hide_current, \n",
    "        toggle_text=toggle_text\n",
    "    )\n",
    "\n",
    "    return HTML(html)\n",
    "\n",
    "import ipywidgets as widgets\n",
    "from IPython.display import display, Markdown\n",
    "\n",
    "question1 = widgets.Label('1. ______ is the statistic used to quantify the degree of spatial autocorrelation in spatial statistics.')\n",
    "radio1 = widgets.RadioButtons(\n",
    "    options=[\"Moran's I\", 'R-value', 'Autocorrelation R', 'None of the Above'],\n",
    "    layout={'width': 'max-content'}, # If the items' names are long,\n",
    "    disabled=False,\n",
    "    value = 'None of the Above'\n",
    ")\n",
    "\n",
    "\n",
    "question2 = widgets.Label('2. Which of the following is the full form of EPSG?')\n",
    "radio2 = widgets.RadioButtons(\n",
    "    options=[\"European Spatial Group\", 'European Petroleum Survey Group', 'Earth Position Survery Group', 'None of the Above'],\n",
    "    layout={'width': 'max-content'}, # If the items' names are long,\n",
    "    disabled=False,\n",
    "    value = 'None of the Above'\n",
    ")\n",
    "\n",
    "\n",
    "question3 = widgets.Label('3. Which of the following are valid components of shapefiles?')\n",
    "shp = widgets.Checkbox(\n",
    "    value=False,\n",
    "    description='.shp',\n",
    "    disabled=False,\n",
    "    indent=False\n",
    ")\n",
    "shx = widgets.Checkbox(\n",
    "    value=False,\n",
    "    description='.shx',\n",
    "    disabled=False,\n",
    "    indent=False\n",
    ")\n",
    "dbf = widgets.Checkbox(\n",
    "    value=False,\n",
    "    description='.dbf',\n",
    "    disabled=False,\n",
    "    indent=False\n",
    ")\n",
    "prj = widgets.Checkbox(\n",
    "    value=False,\n",
    "    description='.prj',\n",
    "    disabled=False,\n",
    "    indent=False\n",
    ")\n",
    "\n",
    "all_above_q3 = widgets.Checkbox(\n",
    "    value=False,\n",
    "    description='All of the Above',\n",
    "    disabled=False,\n",
    "    indent=False, \n",
    "    layout={'width': 'max-content'},\n",
    ")\n",
    "\n",
    "output = widgets.Output()\n",
    "evaluate = widgets.Button(\n",
    "    description='Evaluate',\n",
    "    disabled=False,\n",
    "    button_style='info', # 'success', 'info', 'warning', 'danger' or ''\n",
    "    tooltip='Evaluate',\n",
    "    icon='check', # (FontAwesome names without the `fa-` prefix), \n",
    ")\n",
    "reset = widgets.Button(\n",
    "    description='Reset',\n",
    "    disabled=False,\n",
    "    button_style='warning', # 'success', 'info', 'warning', 'danger' or ''\n",
    "    tooltip='Reset',\n",
    "    icon='repeat', # (FontAwesome names without the `fa-` prefix), \n",
    ")\n",
    "\n",
    "def reset_btn(b):\n",
    "    radio1.disabled = False\n",
    "    radio2.disabled = False\n",
    "    shp.disabled = False\n",
    "    shx.disabled = False\n",
    "    dbf.disabled = False\n",
    "    prj.disabled = False\n",
    "    all_above_q3.disabled = False\n",
    "    output.clear_output()\n",
    "\n",
    "def eval_quiz(b):\n",
    "    output.clear_output()\n",
    "    results = 'RESULTS\\n\\n'\n",
    "    cond_chk = False\n",
    "    with output:\n",
    "        radio1.disabled = True\n",
    "        radio2.disabled = True\n",
    "        shp.disabled = True\n",
    "        shx.disabled = True\n",
    "        dbf.disabled = True\n",
    "        prj.disabled = True\n",
    "        all_above_q3.disabled = True\n",
    "        \n",
    "        \n",
    "        output.clear_output()\n",
    "        if radio1.value == \"Moran's I\":\n",
    "            results +='Question 1: ✔\\n'\n",
    "        else:\n",
    "            results +=\"Question 1: ✘ (Moran's I)\\n\"\n",
    "            \n",
    "            \n",
    "        if radio2.value == \"European Petroleum Survey Group\":\n",
    "            results +='Question 2: ✔\\n'\n",
    "        else:\n",
    "            results +=\"Question 2: ✘ (European Petroleum Survey Group)\\n\"\n",
    "            \n",
    "        if shp.value == True and shx.value == True and dbf.value == True and prj.value == True:\n",
    "            cond_chk = True\n",
    "            results +='Question 3: ✔\\n'\n",
    "            \n",
    "        elif all_above_q3.value == True and not cond_chk:\n",
    "            results +='Question 3: ✔\\n'\n",
    "        \n",
    "        else:\n",
    "            results +='Question 3: ✘ (All of the Above)\\n'\n",
    "            \n",
    "            \n",
    "            \n",
    "        \n",
    "            \n",
    "    print(results)\n",
    "        \n",
    "        \n",
    "evaluate.on_click(eval_quiz)\n",
    "reset.on_click(reset_btn)\n",
    "\n",
    "display(question1)\n",
    "display(radio1)\n",
    "\n",
    "display(question2)\n",
    "display(radio2)\n",
    "\n",
    "display(question3)\n",
    "display(shp)\n",
    "display(shx)\n",
    "display(dbf)\n",
    "display(prj)\n",
    "display(all_above_q3)\n",
    "\n",
    "display(evaluate)\n",
    "display(reset)\n",
    "display(output)\n",
    "\n",
    "#hide_toggle()"
   ]
  },
  {
   "cell_type": "code",
   "execution_count": null,
   "metadata": {},
   "outputs": [],
   "source": []
  },
  {
   "cell_type": "code",
   "execution_count": null,
   "metadata": {},
   "outputs": [],
   "source": []
  }
 ],
 "metadata": {
  "celltoolbar": "Tags",
  "kernelspec": {
   "display_name": "Python 3",
   "language": "python",
   "name": "python3"
  },
  "language_info": {
   "codemirror_mode": {
    "name": "ipython",
    "version": 3
   },
   "file_extension": ".py",
   "mimetype": "text/x-python",
   "name": "python",
   "nbconvert_exporter": "python",
   "pygments_lexer": "ipython3",
   "version": "3.7.3"
  },
  "toc": {
   "base_numbering": 1,
   "nav_menu": {},
   "number_sections": false,
   "sideBar": false,
   "skip_h1_title": false,
   "title_cell": "Table of Contents",
   "title_sidebar": "Contents",
   "toc_cell": false,
   "toc_position": {},
   "toc_section_display": false,
   "toc_window_display": false
  }
 },
 "nbformat": 4,
 "nbformat_minor": 4
}
