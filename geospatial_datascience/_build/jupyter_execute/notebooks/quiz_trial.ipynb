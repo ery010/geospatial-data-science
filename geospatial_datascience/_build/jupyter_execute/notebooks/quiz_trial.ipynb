{
 "cells": [
  {
   "cell_type": "markdown",
   "metadata": {},
   "source": [
    "# Practice Quiz 1\n",
    "*Instructions: Check the Appropriate Options*"
   ]
  },
  {
   "cell_type": "code",
   "execution_count": 1,
   "metadata": {
    "tags": [
     "hide-input"
    ]
   },
   "outputs": [
    {
     "data": {
      "text/html": [
       "<iframe src=\"https://docs.google.com/forms/d/e/1FAIpQLSfrfEqG9KNjtxx7C0SqMZqb2asJ_csrNfvp4DAZ8AwVw00YKg/viewform?embedded=true\" width=\"640\" height=\"775\" frameborder=\"0\" marginheight=\"0\" marginwidth=\"0\">Loading…</iframe>"
      ],
      "text/plain": [
       "<IPython.core.display.HTML object>"
      ]
     },
     "metadata": {},
     "output_type": "display_data"
    }
   ],
   "source": [
    "from IPython.display import HTML\n",
    "import random\n",
    "import warnings\n",
    "warnings. filterwarnings('ignore')\n",
    "display(HTML('<iframe src=\"https://docs.google.com/forms/d/e/1FAIpQLSfrfEqG9KNjtxx7C0SqMZqb2asJ_csrNfvp4DAZ8AwVw00YKg/viewform?embedded=true\" width=\"640\" height=\"775\" frameborder=\"0\" marginheight=\"0\" marginwidth=\"0\">Loading…</iframe>'))"
   ]
  }
 ],
 "metadata": {
  "celltoolbar": "Tags",
  "kernelspec": {
   "display_name": "Python 3",
   "language": "python",
   "name": "python3"
  },
  "language_info": {
   "codemirror_mode": {
    "name": "ipython",
    "version": 3
   },
   "file_extension": ".py",
   "mimetype": "text/x-python",
   "name": "python",
   "nbconvert_exporter": "python",
   "pygments_lexer": "ipython3",
   "version": "3.7.3"
  },
  "toc": {
   "base_numbering": 1,
   "nav_menu": {},
   "number_sections": false,
   "sideBar": false,
   "skip_h1_title": false,
   "title_cell": "Table of Contents",
   "title_sidebar": "Contents",
   "toc_cell": false,
   "toc_position": {},
   "toc_section_display": false,
   "toc_window_display": false
  }
 },
 "nbformat": 4,
 "nbformat_minor": 4
}