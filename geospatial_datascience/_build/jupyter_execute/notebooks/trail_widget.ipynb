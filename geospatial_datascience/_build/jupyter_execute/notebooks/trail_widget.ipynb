{
 "cells": [
  {
   "cell_type": "markdown",
   "metadata": {},
   "source": [
    "# Widget Trial"
   ]
  },
  {
   "cell_type": "code",
   "execution_count": 1,
   "metadata": {
    "execution": {
     "iopub.execute_input": "2020-08-03T15:34:08.353969Z",
     "iopub.status.busy": "2020-08-03T15:34:08.353147Z",
     "iopub.status.idle": "2020-08-03T15:34:16.494815Z",
     "shell.execute_reply": "2020-08-03T15:34:16.494265Z"
    }
   },
   "outputs": [
    {
     "name": "stderr",
     "output_type": "stream",
     "text": [
      "//miniconda3/lib/python3.7/site-packages/arcgis/features/_data/geodataset/utils.py:16: FutureWarning: The pandas.datetime class is deprecated and will be removed from pandas in a future version. Import from datetime module instead.\n",
      "  pd.datetime,\n"
     ]
    },
    {
     "data": {
      "text/plain": [
       "[<Item title:\"Copy of LA Parks and Trails Scene (unstyled) by Emilio Weber\" type:Web Scene owner:ejweber_wesleyan>,\n",
       " <Item title:\"Mizzy Lake Trails Scene\" type:Web Scene owner:zaslavsd_McMaster>,\n",
       " <Item title:\"Garibaldi Lake Trail\" type:Web Scene owner:j-Louis>,\n",
       " <Item title:\"Senderos La Sagra\" type:Web Scene owner:chartadigital>,\n",
       " <Item title:\"LA Trails and Trailheads\" type:Web Scene owner:esri_devlabs>,\n",
       " <Item title:\"Pirate Lanes and Ship Trails\" type:Web Scene owner:DUppal_IBI>,\n",
       " <Item title:\"Laurel_Falls_Scene_Closeup_map\" type:Web Scene owner:welkerpd>,\n",
       " <Item title:\"LA Parks and Trails Scene (styled)\" type:Web Scene owner:esri_devlabs>,\n",
       " <Item title:\"Copia de LA Parks and Trails Scene (unstyled) de esri_devlabs\" type:Web Scene owner:viviana.rojas>,\n",
       " <Item title:\"树木\" type:Web Scene owner:wuzhongyuan>]"
      ]
     },
     "execution_count": 1,
     "metadata": {},
     "output_type": "execute_result"
    }
   ],
   "source": [
    "from arcgis.gis import GIS\n",
    "\n",
    "#Create a map widget like you have done many times before\n",
    "gis = GIS()\n",
    "\n",
    "webscene_search = gis.content.search(query=\"LA Trails *\", item_type=\"Web Scene\")\n",
    "webscene_search"
   ]
  },
  {
   "cell_type": "code",
   "execution_count": 2,
   "metadata": {
    "execution": {
     "iopub.execute_input": "2020-08-03T15:34:16.498511Z",
     "iopub.status.busy": "2020-08-03T15:34:16.497982Z",
     "iopub.status.idle": "2020-08-03T15:34:16.500874Z",
     "shell.execute_reply": "2020-08-03T15:34:16.500417Z"
    }
   },
   "outputs": [
    {
     "data": {
      "text/html": [
       "<div class=\"item_container\" style=\"height: auto; overflow: hidden; border: 1px solid #cfcfcf; border-radius: 2px; background: #f6fafa; line-height: 1.21429em; padding: 10px;\">\n",
       "                    <div class=\"item_left\" style=\"width: 210px; float: left;\">\n",
       "                       <a href='https://www.arcgis.com/home/item.html?id=855778cea58c4a14957a35ff1028d68c' target='_blank'>\n",
       "                        <img src='https://www.arcgis.com/sharing/rest//content/items/855778cea58c4a14957a35ff1028d68c/info/thumbnail/thumbnail.jpeg' class=\"itemThumbnail\">\n",
       "                       </a>\n",
       "                    </div>\n",
       "\n",
       "                    <div class=\"item_right\"     style=\"float: none; width: auto; overflow: hidden;\">\n",
       "                        <a href='https://www.arcgis.com/home/item.html?id=855778cea58c4a14957a35ff1028d68c' target='_blank'><b>Garibaldi Lake Trail</b>\n",
       "                        </a>\n",
       "                        <br/><img src='https://www.arcgis.com/home/js/jsapi/esri/css/images/item_type_icons/websceneglobal16.png' style=\"vertical-align:middle;\">Web Scene by j-Louis\n",
       "                        <br/>Last Modified: December 10, 2018\n",
       "                        <br/>0 comments, 349 views\n",
       "                    </div>\n",
       "                </div>\n"
      ],
      "text/plain": [
       "<Item title:\"Garibaldi Lake Trail\" type:Web Scene owner:j-Louis>"
      ]
     },
     "execution_count": 2,
     "metadata": {},
     "output_type": "execute_result"
    }
   ],
   "source": [
    "webscene_item = webscene_search[2]\n",
    "webscene_item"
   ]
  },
  {
   "cell_type": "code",
   "execution_count": 3,
   "metadata": {
    "execution": {
     "iopub.execute_input": "2020-08-03T15:34:16.503944Z",
     "iopub.status.busy": "2020-08-03T15:34:16.503461Z",
     "iopub.status.idle": "2020-08-03T15:34:18.749151Z",
     "shell.execute_reply": "2020-08-03T15:34:18.749588Z"
    }
   },
   "outputs": [
    {
     "data": {
      "application/vnd.jupyter.widget-view+json": {
       "model_id": "815a98bb210f4c05b1a3499c7bfc277e",
       "version_major": 2,
       "version_minor": 0
      },
      "text/plain": [
       "MapView(hide_mode_switch=True, layout=Layout(height='400px', width='100%'), mode='3D')"
      ]
     },
     "metadata": {},
     "output_type": "display_data"
    },
    {
     "data": {
      "text/html": [
       "<div class=\"map-static-img-preview-09436577-2308-4ef7-a86d-9848d6f5af6e\"><img src=\"\"></img></div>"
      ],
      "text/plain": [
       "<IPython.core.display.HTML object>"
      ]
     },
     "metadata": {},
     "output_type": "display_data"
    }
   ],
   "source": [
    "from arcgis.mapping import WebScene\n",
    "la_trails = WebScene(webscene_item)\n",
    "la_trails"
   ]
  },
  {
   "cell_type": "code",
   "execution_count": null,
   "metadata": {},
   "outputs": [],
   "source": []
  },
  {
   "cell_type": "code",
   "execution_count": null,
   "metadata": {},
   "outputs": [],
   "source": []
  },
  {
   "cell_type": "code",
   "execution_count": null,
   "metadata": {},
   "outputs": [],
   "source": []
  }
 ],
 "metadata": {
  "kernelspec": {
   "display_name": "Python 3",
   "language": "python",
   "name": "python3"
  },
  "language_info": {
   "codemirror_mode": {
    "name": "ipython",
    "version": 3
   },
   "file_extension": ".py",
   "mimetype": "text/x-python",
   "name": "python",
   "nbconvert_exporter": "python",
   "pygments_lexer": "ipython3",
   "version": "3.7.3"
  },
  "widgets": {
   "application/vnd.jupyter.widget-state+json": {
    "state": {
     "815a98bb210f4c05b1a3499c7bfc277e": {
      "model_module": "arcgis-map-ipywidget",
      "model_module_version": "1.6.0",
      "model_name": "ArcGISMapIPyWidgetModel",
      "state": {
       "_add_this_graphic": {},
       "_add_this_notype_layer": {},
       "_auth_mode": "anonymous",
       "_basemap": "default",
       "_cell_output_screenshot_callback_resp": "",
       "_center": {},
       "_center_long_lat": [],
       "_custom_msg": "",
       "_dom_classes": [],
       "_draw_these_graphics_on_widget_load": [],
       "_draw_these_notype_layers_on_widget_load": [],
       "_extent": {},
       "_file_output_screenshot_callback_resp": "",
       "_gallery_basemaps": {
        "default": {
         "baseMapLayers": [
          {
           "layerType": "ArcGISTiledMapServiceLayer",
           "opacity": 1,
           "resourceInfo": {
            "capabilities": "Map,Tilemap,Query,Data",
            "copyrightText": "Sources: Esri, HERE, DeLorme, Intermap, increment P Corp., GEBCO, USGS, FAO, NPS, NRCAN, GeoBase, IGN, Kadaster NL, Ordnance Survey, Esri Japan, METI, Esri China (Hong Kong), swisstopo, MapmyIndia, © OpenStreetMap contributors, and the GIS User Community",
            "currentVersion": 10.3,
            "description": "This map is designed to be used as a basemap by GIS professionals and as a reference map by anyone. The map includes administrative boundaries, cities, water features, physiographic features, parks, landmarks, highways, roads, railways, and airports overlaid on land cover and shaded relief imagery for added context. The map provides coverage for the world down to a scale of ~1:72k. Coverage is provided down to ~1:4k for the following areas: Australia and New Zealand; India; Europe; Canada; Mexico; the continental United States and Hawaii; South America and Central America; Africa; and most of the Middle East. Coverage down to ~1:1k and ~1:2k is available in select urban areas. This basemap was compiled from a variety of best available sources from several data providers, including the U.S. Geological Survey (USGS), U.S. Environmental Protection Agency (EPA), U.S. National Park Service (NPS), Food and Agriculture Organization of the United Nations (FAO), Department of Natural Resources Canada (NRCAN), GeoBase, Agriculture and Agri-Food Canada, DeLorme, HERE, Esri, OpenStreetMap contributors, and the GIS User Community. For more information on this map, including our terms of use, visit us online at http://goto.arcgisonline.com/maps/World_Topo_Map",
            "documentInfo": {
             "AntialiasingMode": "None",
             "Author": "Esri",
             "Category": "imageryBaseMapsEarthCover (Imagery, basemaps, and land cover)",
             "Comments": "",
             "Keywords": "World,Global,Europe,North America,South America,Southern Africa,Australia,New Zealand,India",
             "Subject": "topographic, topography, administrative boundaries, cities, water features, physiographic features, parks, landmarks, highways, roads, railways, airports, land cover, shaded relief imagery",
             "TextAntialiasingMode": "Force",
             "Title": "World Topographic Map"
            },
            "exportTilesAllowed": false,
            "fullExtent": {
             "spatialReference": {
              "latestWkid": 3857,
              "wkid": 102100
             },
             "xmax": 20037507.067161843,
             "xmin": -20037507.067161843,
             "ymax": 19971868.88040863,
             "ymin": -19971868.880408604
            },
            "initialExtent": {
             "spatialReference": {
              "latestWkid": 3857,
              "wkid": 102100
             },
             "xmax": 28848255.049479112,
             "xmin": -28848255.049479112,
             "ymax": 16430757.376790084,
             "ymin": -2077452.082122866
            },
            "layers": [
             {
              "defaultVisibility": false,
              "id": 0,
              "maxScale": 0,
              "minScale": 0,
              "name": "Citations",
              "parentLayerId": -1,
              "subLayerIds": null
             }
            ],
            "mapName": "Layers",
            "maxImageHeight": 4096,
            "maxImageWidth": 4096,
            "maxRecordCount": 100,
            "maxScale": 70.5310735,
            "minScale": 591657527.591555,
            "serviceDescription": "This map is designed to be used as a basemap by GIS professionals and as a reference map by anyone. The map includes administrative boundaries, cities, water features, physiographic features, parks, landmarks, highways, roads, railways, and airports overlaid on land cover and shaded relief imagery for added context. The map provides coverage for the world down to a scale of ~1:72k. Coverage is provided down to ~1:4k for the following areas: Australia and New Zealand; India; Europe; Canada; Mexico; the continental United States and Hawaii; South America and Central America; Africa; and most of the Middle East. Coverage down to ~1:1k and ~1:2k is available in select urban areas. This basemap was compiled from a variety of best available sources from several data providers, including the U.S. Geological Survey (USGS), U.S. Environmental Protection Agency (EPA), U.S. National Park Service (NPS), Food and Agriculture Organization of the United Nations (FAO), Department of Natural Resources Canada (NRCAN), GeoBase, Agriculture and Agri-Food Canada, DeLorme, HERE, Esri, OpenStreetMap contributors, and the GIS User Community. For more information on this map, including the terms of use, visit us <a href=\"http://goto.arcgisonline.com/maps/World_Topo_Map \" target=\"_new\" >online</a>.",
            "singleFusedMapCache": true,
            "spatialReference": {
             "latestWkid": 3857,
             "wkid": 102100
            },
            "supportedExtensions": "KmlServer",
            "supportedImageFormatTypes": "PNG32,PNG24,PNG,JPG,DIB,TIFF,EMF,PS,PDF,GIF,SVG,SVGZ,BMP",
            "supportedQueryFormats": "JSON, AMF",
            "supportsDynamicLayers": false,
            "tables": [],
            "tileInfo": {
             "cols": 256,
             "compressionQuality": 90,
             "dpi": 96,
             "format": "JPEG",
             "lods": [
              {
               "level": 0,
               "resolution": 156543.03392800014,
               "scale": 591657527.591555
              },
              {
               "level": 1,
               "resolution": 78271.51696399994,
               "scale": 295828763.795777
              },
              {
               "level": 2,
               "resolution": 39135.75848200009,
               "scale": 147914381.897889
              },
              {
               "level": 3,
               "resolution": 19567.87924099992,
               "scale": 73957190.948944
              },
              {
               "level": 4,
               "resolution": 9783.93962049996,
               "scale": 36978595.474472
              },
              {
               "level": 5,
               "resolution": 4891.96981024998,
               "scale": 18489297.737236
              },
              {
               "level": 6,
               "resolution": 2445.98490512499,
               "scale": 9244648.868618
              },
              {
               "level": 7,
               "resolution": 1222.992452562495,
               "scale": 4622324.434309
              },
              {
               "level": 8,
               "resolution": 611.4962262813797,
               "scale": 2311162.217155
              },
              {
               "level": 9,
               "resolution": 305.74811314055756,
               "scale": 1155581.108577
              },
              {
               "level": 10,
               "resolution": 152.87405657041106,
               "scale": 577790.554289
              },
              {
               "level": 11,
               "resolution": 76.43702828507324,
               "scale": 288895.277144
              },
              {
               "level": 12,
               "resolution": 38.21851414253662,
               "scale": 144447.638572
              },
              {
               "level": 13,
               "resolution": 19.10925707126831,
               "scale": 72223.819286
              },
              {
               "level": 14,
               "resolution": 9.554628535634155,
               "scale": 36111.909643
              },
              {
               "level": 15,
               "resolution": 4.77731426794937,
               "scale": 18055.954822
              },
              {
               "level": 16,
               "resolution": 2.388657133974685,
               "scale": 9027.977411
              },
              {
               "level": 17,
               "resolution": 1.1943285668550503,
               "scale": 4513.988705
              },
              {
               "level": 18,
               "resolution": 0.5971642835598172,
               "scale": 2256.994353
              },
              {
               "level": 19,
               "resolution": 0.29858214164761665,
               "scale": 1128.497176
              },
              {
               "level": 20,
               "resolution": 0.14929107082380833,
               "scale": 564.248588
              },
              {
               "level": 21,
               "resolution": 0.07464553541190416,
               "scale": 282.124294
              },
              {
               "level": 22,
               "resolution": 0.03732276770595208,
               "scale": 141.062147
              },
              {
               "level": 23,
               "resolution": 0.01866138385297604,
               "scale": 70.5310735
              }
             ],
             "origin": {
              "x": -20037508.342787,
              "y": 20037508.342787
             },
             "rows": 256,
             "spatialReference": {
              "latestWkid": 3857,
              "wkid": 102100
             }
            },
            "units": "esriMeters"
           },
           "url": "https://services.arcgisonline.com/ArcGIS/rest/services/World_Topo_Map/MapServer",
           "visibility": true
          },
          {
           "id": "Streetmap_MMI_8695",
           "layerType": "ArcGISTiledMapServiceLayer",
           "maxScale": 1128,
           "minScale": 288895,
           "opacity": 1,
           "resourceInfo": {
            "access": "SECURE",
            "capabilities": "Map,TilesOnly",
            "copyrightText": "Sources: Esri, MapmyIndia, DeLorme, METI/NASA",
            "currentVersion": 10.31,
            "description": "<span style='color: rgb(0, 0, 0); font-family: Verdana, sans-serif; line-height: 17.33333396911621px; background-color: rgb(255, 255, 255);'>This India topographic map overlay presents physical features and street-level data for India. This comprehensive topographic map includes highways, major roads, minor roads, one-way arrow indicators, railways, water features, administrative boundaries, cities, parks, landmarks, physical feature labels, spot elevations, and contours overlaid on shaded relief imagery for added context. The map also includes building footprints for selected areas. Coverage is provided down to ~1:4k country-wide with ~1:1k and ~1:2k data available in select urban areas. The street map was developed by Esri using MapmyIndia data layers, including administrative boundaries, from CE Info Systems. Additional data sources from DeLorme basemap layers, and METI/NASA data for shaded relief.</span>",
            "documentInfo": {
             "AntialiasingMode": "Fast",
             "Author": "",
             "Category": "",
             "Comments": "",
             "Keywords": "",
             "Subject": "",
             "TextAntialiasingMode": "Force",
             "Title": "",
             "author": "Esri_Content",
             "category": "",
             "comments": "",
             "credits": "Sources: Esri, MapmyIndia, DeLorme, METI/NASA",
             "keywords": "India, Topomap, highways, roads, transportation, landmarks, parks, basemap, community, community basemap, map, MapmyIndia",
             "subject": "This topographic map overlay presents physical features and street-level data from MapmyIndia for India.",
             "title": "World_Topomap_MMI"
            },
            "exportTilesAllowed": false,
            "fullExtent": {
             "spatialReference": {
              "wkid": 102100,
              "wkt": null
             },
             "xmax": 12523442.714243297,
             "xmin": 7514065.628545973,
             "ymax": 5009377.085753329,
             "ymin": 7.450580596923828e-09
            },
            "id": "94ef359ef51f7205",
            "initialExtent": {
             "spatialReference": {
              "wkid": 102100,
              "wkt": null
             },
             "xmax": 12523442.714243297,
             "xmin": 7514065.628545973,
             "ymax": 5009377.085753329,
             "ymin": 7.450580596923828e-09
            },
            "layers": [
             {
              "defaultVisibility": false,
              "id": 0,
              "maxScale": 0,
              "minScale": 0,
              "name": "world",
              "parentLayerId": -1,
              "subLayerIds": null
             }
            ],
            "mapName": "Layers",
            "maxExportTilesCount": 100000,
            "maxScale": 1128.497176,
            "minScale": 288895.277144,
            "name": "World_Topomap_MMI",
            "resampling": false,
            "server": "P3ePLMYs2RVChkJx",
            "serviceDescription": "",
            "singleFusedMapCache": true,
            "spatialReference": {
             "wkid": 102100,
             "wkt": null
            },
            "status": "created",
            "supportedImageFormatTypes": "JPEG",
            "tables": [],
            "tileInfo": {
             "cols": 256,
             "compressionQuality": 90,
             "dpi": 96,
             "format": "JPEG",
             "lods": [
              {
               "level": 0,
               "resolution": 156543.03392800014,
               "scale": 591657527.591555
              },
              {
               "level": 1,
               "resolution": 78271.51696399994,
               "scale": 295828763.795777
              },
              {
               "level": 2,
               "resolution": 39135.75848200009,
               "scale": 147914381.897889
              },
              {
               "level": 3,
               "resolution": 19567.87924099992,
               "scale": 73957190.948944
              },
              {
               "level": 4,
               "resolution": 9783.93962049996,
               "scale": 36978595.474472
              },
              {
               "level": 5,
               "resolution": 4891.96981024998,
               "scale": 18489297.737236
              },
              {
               "level": 6,
               "resolution": 2445.98490512499,
               "scale": 9244648.868618
              },
              {
               "level": 7,
               "resolution": 1222.992452562495,
               "scale": 4622324.434309
              },
              {
               "level": 8,
               "resolution": 611.4962262813797,
               "scale": 2311162.217155
              },
              {
               "level": 9,
               "resolution": 305.74811314055756,
               "scale": 1155581.108577
              },
              {
               "level": 10,
               "resolution": 152.87405657041106,
               "scale": 577790.554289
              },
              {
               "level": 11,
               "resolution": 76.43702828507324,
               "scale": 288895.277144
              },
              {
               "level": 12,
               "resolution": 38.21851414253662,
               "scale": 144447.638572
              },
              {
               "level": 13,
               "resolution": 19.10925707126831,
               "scale": 72223.819286
              },
              {
               "level": 14,
               "resolution": 9.554628535634155,
               "scale": 36111.909643
              },
              {
               "level": 15,
               "resolution": 4.77731426794937,
               "scale": 18055.954822
              },
              {
               "level": 16,
               "resolution": 2.388657133974685,
               "scale": 9027.977411
              },
              {
               "level": 17,
               "resolution": 1.1943285668550503,
               "scale": 4513.988705
              },
              {
               "level": 18,
               "resolution": 0.5971642835598172,
               "scale": 2256.994353
              },
              {
               "level": 19,
               "resolution": 0.29858214164761665,
               "scale": 1128.497176
              }
             ],
             "origin": {
              "x": -20037508.342787,
              "y": 20037508.342787
             },
             "rows": 256,
             "spatialReference": {
              "wkid": 102100,
              "wkt": "PROJCS[\"WGS_1984_Web_Mercator_Auxiliary_Sphere\",GEOGCS[\"GCS_WGS_1984\",DATUM[\"D_WGS_1984\",SPHEROID[\"WGS_1984\",6378137.0,298.257223563]],PRIMEM[\"Greenwich\",0.0],UNIT[\"Degree\",0.0174532925199433]],PROJECTION[\"Mercator_Auxiliary_Sphere\"],PARAMETER[\"False_Easting\",0.0],PARAMETER[\"False_Northing\",0.0],PARAMETER[\"Central_Meridian\",0.0],PARAMETER[\"Standard_Parallel_1\",0.0],PARAMETER[\"Auxiliary_Sphere_Type\",0.0],UNIT[\"Meter\",1.0],AUTHORITY[\"EPSG\",3857]]"
             },
             "storageFormat": "esriMapCacheStorageModeCompact"
            },
            "tileServers": [
             "http://tiles1.arcgis.com/tiles/P3ePLMYs2RVChkJx/arcgis/rest/services/World_Topomap_MMI/MapServer",
             "http://tiles2.arcgis.com/tiles/P3ePLMYs2RVChkJx/arcgis/rest/services/World_Topomap_MMI/MapServer",
             "http://tiles3.arcgis.com/tiles/P3ePLMYs2RVChkJx/arcgis/rest/services/World_Topomap_MMI/MapServer",
             "http://tiles4.arcgis.com/tiles/P3ePLMYs2RVChkJx/arcgis/rest/services/World_Topomap_MMI/MapServer"
            ],
            "type": "MapServer",
            "units": "esriMeters"
           },
           "url": "https://tiles.arcgis.com/tiles/P3ePLMYs2RVChkJx/arcgis/rest/services/World_Topomap_MMI/MapServer",
           "visibility": true
          },
          {
           "id": "India_Bnd_G_5793",
           "isReference": true,
           "layerType": "ArcGISTiledMapServiceLayer",
           "opacity": 1,
           "resourceInfo": {
            "access": "SECURE",
            "capabilities": "Map",
            "copyrightText": "Mxd assembled by Corey LaMar",
            "created": null,
            "currentVersion": 10.1,
            "description": "This mxd contains the political boundaries used in StreetMap 5.1 as  political boundaries overlay  Currency: 73m to 577k (StreetMap 4.1 (5.0) 288k to 72k (StreetMap 5.1) Delorme 36k to 1k (StreetMap 5.1 ) Navteq",
            "documentInfo": {
             "AntialiasingMode": "Best",
             "Author": "AGOL Teams Members",
             "Category": "",
             "Comments": "This mxd contains the political boundaries used in StreetMap 5.1 as a starting point for Esri India to create their own political boundaries overlay\n\nCurrency:\n73m to 577k (StreetMap 4.1 (5.0)\n288k to 72k (StreetMap 5.1) Delorme\n36k to 1k (StreetMap 5.1 ) Navteq",
             "Keywords": "Inda Disputed International Boundaries",
             "Subject": "Create 2/2/13 Copies of StMap Int Bnd 73m to1k caching levels",
             "TextAntialiasingMode": "Force",
             "Title": "Int_Bnd_for_Esri_India_Work",
             "author": "cimmy68",
             "category": "",
             "comments": "",
             "credits": "Mxd assembled by Corey LaMar",
             "keywords": "Inda International Boundaries",
             "subject": "Create 2/2/13 Copies of StMap Int Bnd 73m to1k caching levels",
             "title": "India_Bnd_G"
            },
            "fullExtent": {
             "spatialReference": {
              "wkid": 102100
             },
             "xmax": 10843895.843899999,
             "xmin": 7508245.0923000015,
             "ymax": 4451373.3320999965,
             "ymin": 753623.2256000005
            },
            "id": "bc7c3277ec65f602",
            "initialExtent": {
             "spatialReference": {
              "wkid": 102100
             },
             "xmax": 13053038.616388625,
             "xmin": 5299102.319811376,
             "ymax": 4636260.837424996,
             "ymin": 2675256.394233431
            },
            "layers": [
             {
              "defaultVisibility": true,
              "id": 0,
              "maxScale": 0,
              "minScale": 0,
              "name": "India",
              "parentLayerId": -1,
              "subLayerIds": null
             }
            ],
            "mapName": "India Basemap",
            "maxScale": 577790.554289,
            "minScale": 73957190.948944,
            "modified": null,
            "name": "India_Bnd_G",
            "server": "gHHix49exJauUOEM",
            "serviceDescription": "",
            "singleFusedMapCache": true,
            "spatialReference": {
             "wkid": 102100
            },
            "status": "created",
            "supportedImageFormatTypes": "PNG",
            "tables": [],
            "tileInfo": {
             "cols": 256,
             "compressionQuality": 0,
             "dpi": 96,
             "format": "PNG",
             "lods": [
              {
               "level": 0,
               "resolution": 156543.03392800014,
               "scale": 591657527.591555
              },
              {
               "level": 1,
               "resolution": 78271.51696399994,
               "scale": 295828763.795777
              },
              {
               "level": 2,
               "resolution": 39135.75848200009,
               "scale": 147914381.897889
              },
              {
               "level": 3,
               "resolution": 19567.87924099992,
               "scale": 73957190.948944
              },
              {
               "level": 4,
               "resolution": 9783.93962049996,
               "scale": 36978595.474472
              },
              {
               "level": 5,
               "resolution": 4891.96981024998,
               "scale": 18489297.737236
              },
              {
               "level": 6,
               "resolution": 2445.98490512499,
               "scale": 9244648.868618
              },
              {
               "level": 7,
               "resolution": 1222.992452562495,
               "scale": 4622324.434309
              },
              {
               "level": 8,
               "resolution": 611.4962262813797,
               "scale": 2311162.217155
              },
              {
               "level": 9,
               "resolution": 305.74811314055756,
               "scale": 1155581.108577
              },
              {
               "level": 10,
               "resolution": 152.87405657041106,
               "scale": 577790.554289
              },
              {
               "level": 11,
               "resolution": 76.43702828507324,
               "scale": 288895.277144
              },
              {
               "level": 12,
               "resolution": 38.21851414253662,
               "scale": 144447.638572
              },
              {
               "level": 13,
               "resolution": 19.10925707126831,
               "scale": 72223.819286
              },
              {
               "level": 14,
               "resolution": 9.554628535634155,
               "scale": 36111.909643
              },
              {
               "level": 15,
               "resolution": 4.77731426794937,
               "scale": 18055.954822
              },
              {
               "level": 16,
               "resolution": 2.388657133974685,
               "scale": 9027.977411
              },
              {
               "level": 17,
               "resolution": 1.1943285668550503,
               "scale": 4513.988705
              },
              {
               "level": 18,
               "resolution": 0.5971642835598172,
               "scale": 2256.994353
              },
              {
               "level": 19,
               "resolution": 0.29858214164761665,
               "scale": 1128.497176
              }
             ],
             "origin": {
              "x": -20037508.342787,
              "y": 20037508.342787
             },
             "rows": 256,
             "spatialReference": {
              "wkid": 102100,
              "wkt": "PROJCS[\"WGS_1984_Web_Mercator_Auxiliary_Sphere\",GEOGCS[\"GCS_WGS_1984\",DATUM[\"D_WGS_1984\",SPHEROID[\"WGS_1984\",6378137.0,298.257223563]],PRIMEM[\"Greenwich\",0.0],UNIT[\"Degree\",0.0174532925199433]],PROJECTION[\"Mercator_Auxiliary_Sphere\"],PARAMETER[\"False_Easting\",0.0],PARAMETER[\"False_Northing\",0.0],PARAMETER[\"Central_Meridian\",0.0],PARAMETER[\"Standard_Parallel_1\",0.0],PARAMETER[\"Auxiliary_Sphere_Type\",0.0],UNIT[\"Meter\",1.0],AUTHORITY[\"EPSG\",3857]]"
             }
            },
            "tileServers": [
             "https://tiles1.arcgis.com/tiles/gHHix49exJauUOEM/arcgis/rest/services/India_Bnd_G/MapServer",
             "https://tiles2.arcgis.com/tiles/gHHix49exJauUOEM/arcgis/rest/services/India_Bnd_G/MapServer",
             "https://tiles3.arcgis.com/tiles/gHHix49exJauUOEM/arcgis/rest/services/India_Bnd_G/MapServer",
             "https://tiles4.arcgis.com/tiles/gHHix49exJauUOEM/arcgis/rest/services/India_Bnd_G/MapServer"
            ],
            "type": "MapServer",
            "units": "esriMeters"
           },
           "url": "https://tiles.arcgis.com/tiles/gHHix49exJauUOEM/arcgis/rest/services/India_Bnd_G/MapServer",
           "visibility": true
          }
         ],
         "title": "Topographic"
        }
       },
       "_js_cdn_override": "",
       "_layers_to_remove": [],
       "_model_module": "arcgis-map-ipywidget",
       "_model_module_version": "1.6.0",
       "_model_name": "ArcGISMapIPyWidgetModel",
       "_portal_sharing_rest_url": "https://www.arcgis.com/sharing/rest/",
       "_portal_token": "",
       "_portal_url": "https://www.arcgis.com",
       "_preview_screenshot_callback_resp": "",
       "_readonly_center": {},
       "_readonly_extent": {},
       "_readonly_webmap_from_js": {},
       "_trigger_interactive_draw_mode_for": "",
       "_trigger_new_jlab_window_with_args": {},
       "_trigger_print_js_debug_info": "",
       "_trigger_screenshot_with_args": {},
       "_trigger_webscene_save_to_this_portal_id": "",
       "_username": "None",
       "_uuid": "09436577-2308-4ef7-a86d-9848d6f5af6e",
       "_view_count": null,
       "_view_module": "arcgis-map-ipywidget",
       "_view_module_version": "1.6.0",
       "_view_name": "ArcGISMapIPyWidgetView",
       "_webmap": {},
       "_webscene": {
        "portalItem": {
         "id": "855778cea58c4a14957a35ff1028d68c"
        }
       },
       "heading": 0.0,
       "hide_mode_switch": true,
       "jupyter_target": "",
       "layout": "IPY_MODEL_f8c45707103a4dc49cbdd4aa11ccd325",
       "legend": false,
       "mode": "3D",
       "print_service_url": "",
       "ready": false,
       "rotation": 0.0,
       "tab_mode": "auto",
       "tilt": 0.0,
       "zoom": -1.0
      }
     },
     "f8c45707103a4dc49cbdd4aa11ccd325": {
      "model_module": "@jupyter-widgets/base",
      "model_module_version": "1.2.0",
      "model_name": "LayoutModel",
      "state": {
       "_model_module": "@jupyter-widgets/base",
       "_model_module_version": "1.2.0",
       "_model_name": "LayoutModel",
       "_view_count": null,
       "_view_module": "@jupyter-widgets/base",
       "_view_module_version": "1.2.0",
       "_view_name": "LayoutView",
       "align_content": null,
       "align_items": null,
       "align_self": null,
       "border": null,
       "bottom": null,
       "display": null,
       "flex": null,
       "flex_flow": null,
       "grid_area": null,
       "grid_auto_columns": null,
       "grid_auto_flow": null,
       "grid_auto_rows": null,
       "grid_column": null,
       "grid_gap": null,
       "grid_row": null,
       "grid_template_areas": null,
       "grid_template_columns": null,
       "grid_template_rows": null,
       "height": "400px",
       "justify_content": null,
       "justify_items": null,
       "left": null,
       "margin": null,
       "max_height": null,
       "max_width": null,
       "min_height": null,
       "min_width": null,
       "object_fit": null,
       "object_position": null,
       "order": null,
       "overflow": null,
       "overflow_x": null,
       "overflow_y": null,
       "padding": null,
       "right": null,
       "top": null,
       "visibility": null,
       "width": "100%"
      }
     }
    },
    "version_major": 2,
    "version_minor": 0
   }
  }
 },
 "nbformat": 4,
 "nbformat_minor": 2
}